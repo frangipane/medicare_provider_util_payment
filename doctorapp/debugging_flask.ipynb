{
 "cells": [
  {
   "cell_type": "code",
   "execution_count": 1,
   "metadata": {
    "collapsed": false
   },
   "outputs": [],
   "source": [
    "import pandas as pd\n",
    "import psycopg2\n",
    "from sqlalchemy import create_engine\n",
    "\n",
    "user = 'cathy'\n",
    "host = 'localhost'\n",
    "#dbname = 'birth_db'\n",
    "dbname = 'doctordb'\n",
    "db = create_engine('postgresql://%s%s/%s' % (user,host,dbname))\n",
    "con = None\n",
    "con = psycopg2.connect(database = dbname, user=user)"
   ]
  },
  {
   "cell_type": "code",
   "execution_count": 2,
   "metadata": {
    "collapsed": true
   },
   "outputs": [],
   "source": [
    "sql_query = \"\"\"\n",
    "SELECT npi, name, recommended_by_doctors \n",
    "FROM doctor_ratings \n",
    "WHERE recommended_by_doctors <> ''\n",
    "LIMIT 10;\n",
    "\"\"\"\n",
    "query_results = pd.read_sql_query(sql_query,con)"
   ]
  },
  {
   "cell_type": "code",
   "execution_count": 4,
   "metadata": {
    "collapsed": false
   },
   "outputs": [],
   "source": [
    "doctors = []\n",
    "for i in range(0, query_results.shape[0]):\n",
    "    doctors.append(dict(npi=query_results.loc[i,'npi'],\n",
    "                        name=query_results.loc[i,'name'],\n",
    "                        recommended_by_doctors=query_results.loc[i,'recommended_by_doctors']))"
   ]
  },
  {
   "cell_type": "code",
   "execution_count": 5,
   "metadata": {
    "collapsed": false
   },
   "outputs": [
    {
     "data": {
      "text/plain": [
       "[{'name': 'Sotereanos, Nicholas George',\n",
       "  'npi': '1003817107',\n",
       "  'recommended_by_doctors': '5'},\n",
       " {'name': 'Vaughn, Bradley K.',\n",
       "  'npi': '1003819780',\n",
       "  'recommended_by_doctors': '9'},\n",
       " {'name': 'Martin, David Franklin',\n",
       "  'npi': '1003890070',\n",
       "  'recommended_by_doctors': '5'},\n",
       " {'name': 'Ryle, Garrett P.',\n",
       "  'npi': '1013014265',\n",
       "  'recommended_by_doctors': '5'},\n",
       " {'name': 'Stinger, Robert B.',\n",
       "  'npi': '1013019868',\n",
       "  'recommended_by_doctors': '4'},\n",
       " {'name': 'Chang, David K.',\n",
       "  'npi': '1013907062',\n",
       "  'recommended_by_doctors': '3'},\n",
       " {'name': 'Goral, Antoni Bernard',\n",
       "  'npi': '1013915487',\n",
       "  'recommended_by_doctors': '12'},\n",
       " {'name': 'Grewe, Scott Roberts',\n",
       "  'npi': '1013919919',\n",
       "  'recommended_by_doctors': '6'},\n",
       " {'name': 'Larson, James Richard',\n",
       "  'npi': '1013970144',\n",
       "  'recommended_by_doctors': '4'},\n",
       " {'name': 'Kates, Stephen Lloyd',\n",
       "  'npi': '1013985886',\n",
       "  'recommended_by_doctors': '4'}]"
      ]
     },
     "execution_count": 5,
     "metadata": {},
     "output_type": "execute_result"
    }
   ],
   "source": [
    "doctors"
   ]
  }
 ],
 "metadata": {
  "anaconda-cloud": {},
  "kernelspec": {
   "display_name": "Python [conda env:medicare_provider_util_payment]",
   "language": "python",
   "name": "conda-env-medicare_provider_util_payment-py"
  },
  "language_info": {
   "codemirror_mode": {
    "name": "ipython",
    "version": 3
   },
   "file_extension": ".py",
   "mimetype": "text/x-python",
   "name": "python",
   "nbconvert_exporter": "python",
   "pygments_lexer": "ipython3",
   "version": "3.5.2"
  }
 },
 "nbformat": 4,
 "nbformat_minor": 1
}
