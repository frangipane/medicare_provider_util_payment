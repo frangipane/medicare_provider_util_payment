{
 "cells": [
  {
   "cell_type": "code",
   "execution_count": 2,
   "metadata": {
    "collapsed": false
   },
   "outputs": [],
   "source": [
    "import pandas as pd\n",
    "import psycopg2\n",
    "from sqlalchemy import create_engine\n",
    "\n",
    "user = 'cathy'\n",
    "host = 'localhost'\n",
    "#dbname = 'birth_db'\n",
    "dbname = 'doctordb'\n",
    "db = create_engine('postgresql://%s%s/%s' % (user,host,dbname))\n",
    "con = None\n",
    "con = psycopg2.connect(database = dbname, user=user)"
   ]
  },
  {
   "cell_type": "code",
   "execution_count": 3,
   "metadata": {
    "collapsed": true
   },
   "outputs": [],
   "source": [
    "sql_query = \"SELECT * FROM summary LIMIT 1;\"\n",
    "query_results = pd.read_sql_query(sql_query,con)"
   ]
  },
  {
   "cell_type": "code",
   "execution_count": 8,
   "metadata": {
    "collapsed": false
   },
   "outputs": [
    {
     "data": {
      "text/html": [
       "<div>\n",
       "<table border=\"1\" class=\"dataframe\">\n",
       "  <thead>\n",
       "    <tr style=\"text-align: right;\">\n",
       "      <th></th>\n",
       "      <th>npi</th>\n",
       "      <th>nppes_provider_last_org_name</th>\n",
       "      <th>nppes_provider_first_name</th>\n",
       "      <th>nppes_provider_mi</th>\n",
       "      <th>nppes_credentials</th>\n",
       "      <th>nppes_provider_gender</th>\n",
       "      <th>nppes_entity_code</th>\n",
       "      <th>nppes_provider_street1</th>\n",
       "      <th>nppes_provider_street2</th>\n",
       "      <th>nppes_provider_city</th>\n",
       "      <th>...</th>\n",
       "      <th>beneficiary_cc_depr_percent</th>\n",
       "      <th>beneficiary_cc_diab_percent</th>\n",
       "      <th>beneficiary_cc_hyperl_percent</th>\n",
       "      <th>beneficiary_cc_hypert_percent</th>\n",
       "      <th>beneficiary_cc_ihd_percent</th>\n",
       "      <th>beneficiary_cc_ost_percent</th>\n",
       "      <th>beneficiary_cc_raoa_percent</th>\n",
       "      <th>beneficiary_cc_schiot_percent</th>\n",
       "      <th>beneficiary_cc_strk_percent</th>\n",
       "      <th>beneficiary_average_risk_score</th>\n",
       "    </tr>\n",
       "  </thead>\n",
       "  <tbody>\n",
       "    <tr>\n",
       "      <th>0</th>\n",
       "      <td>1003000126</td>\n",
       "      <td>ENKESHAFI</td>\n",
       "      <td>ARDALAN</td>\n",
       "      <td>None</td>\n",
       "      <td>M.D.</td>\n",
       "      <td>M</td>\n",
       "      <td>I</td>\n",
       "      <td>900 SETON DR</td>\n",
       "      <td>None</td>\n",
       "      <td>CUMBERLAND</td>\n",
       "      <td>...</td>\n",
       "      <td>46</td>\n",
       "      <td>52</td>\n",
       "      <td>70</td>\n",
       "      <td>75</td>\n",
       "      <td>68</td>\n",
       "      <td>14</td>\n",
       "      <td>53</td>\n",
       "      <td>18</td>\n",
       "      <td>20</td>\n",
       "      <td>2.2206</td>\n",
       "    </tr>\n",
       "  </tbody>\n",
       "</table>\n",
       "<p>1 rows × 70 columns</p>\n",
       "</div>"
      ],
      "text/plain": [
       "          npi nppes_provider_last_org_name nppes_provider_first_name  \\\n",
       "0  1003000126                    ENKESHAFI                   ARDALAN   \n",
       "\n",
       "  nppes_provider_mi nppes_credentials nppes_provider_gender nppes_entity_code  \\\n",
       "0              None              M.D.                     M                 I   \n",
       "\n",
       "  nppes_provider_street1 nppes_provider_street2 nppes_provider_city  \\\n",
       "0           900 SETON DR                   None          CUMBERLAND   \n",
       "\n",
       "                ...               beneficiary_cc_depr_percent  \\\n",
       "0               ...                                        46   \n",
       "\n",
       "  beneficiary_cc_diab_percent beneficiary_cc_hyperl_percent  \\\n",
       "0                          52                            70   \n",
       "\n",
       "  beneficiary_cc_hypert_percent beneficiary_cc_ihd_percent  \\\n",
       "0                            75                         68   \n",
       "\n",
       "   beneficiary_cc_ost_percent  beneficiary_cc_raoa_percent  \\\n",
       "0                          14                           53   \n",
       "\n",
       "   beneficiary_cc_schiot_percent  beneficiary_cc_strk_percent  \\\n",
       "0                             18                           20   \n",
       "\n",
       "   beneficiary_average_risk_score  \n",
       "0                          2.2206  \n",
       "\n",
       "[1 rows x 70 columns]"
      ]
     },
     "execution_count": 8,
     "metadata": {},
     "output_type": "execute_result"
    }
   ],
   "source": [
    "query_results"
   ]
  }
 ],
 "metadata": {
  "anaconda-cloud": {},
  "kernelspec": {
   "display_name": "Python [conda env:medicare_provider_util_payment]",
   "language": "python",
   "name": "conda-env-medicare_provider_util_payment-py"
  },
  "language_info": {
   "codemirror_mode": {
    "name": "ipython",
    "version": 3
   },
   "file_extension": ".py",
   "mimetype": "text/x-python",
   "name": "python",
   "nbconvert_exporter": "python",
   "pygments_lexer": "ipython3",
   "version": "3.5.2"
  }
 },
 "nbformat": 4,
 "nbformat_minor": 1
}
