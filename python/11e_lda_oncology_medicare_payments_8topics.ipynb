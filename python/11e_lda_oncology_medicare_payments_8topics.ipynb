{
 "cells": [
  {
   "cell_type": "markdown",
   "metadata": {},
   "source": [
    "# LDA model on oncology\n",
    "\n",
    "provider_type: surgical, hematology, gynecological, radiation, medical\n",
    "- filter out least and most common hcpcs_codes (compared to model 1, which does no filtering)\n",
    "- only consider in-facility claims\n",
    "- number of topics = 13\n",
    "- include all oncology specialties"
   ]
  },
  {
   "cell_type": "code",
   "execution_count": 1,
   "metadata": {
    "collapsed": true
   },
   "outputs": [],
   "source": [
    "import psycopg2\n",
    "import pandas as pd\n",
    "import seaborn as sns\n",
    "import matplotlib.pyplot as plt\n",
    "import matplotlib.cm as cm\n",
    "import numpy as np\n",
    "import time\n",
    "\n",
    "from gensim import matutils, models, corpora\n",
    "\n",
    "%matplotlib inline\n",
    "sns.set(style=\"white\")"
   ]
  },
  {
   "cell_type": "code",
   "execution_count": 2,
   "metadata": {
    "collapsed": true
   },
   "outputs": [],
   "source": [
    "## connect to database\n",
    "con = psycopg2.connect(\"dbname='doctordb' user='cathy'\")"
   ]
  },
  {
   "cell_type": "code",
   "execution_count": 3,
   "metadata": {
    "collapsed": false
   },
   "outputs": [],
   "source": [
    "q = \"\"\"SELECT npi, provider_type, hcpcs_code, hcpcs_description, bene_day_srvc_cnt\n",
    "FROM payments WHERE provider_type LIKE '%Oncology' and place_of_service='F'\"\"\"\n",
    "payments = pd.read_sql_query(q, con=con)"
   ]
  },
  {
   "cell_type": "code",
   "execution_count": 4,
   "metadata": {
    "collapsed": false
   },
   "outputs": [
    {
     "data": {
      "text/plain": [
       "(92477, 5)"
      ]
     },
     "execution_count": 4,
     "metadata": {},
     "output_type": "execute_result"
    }
   ],
   "source": [
    "payments.shape"
   ]
  },
  {
   "cell_type": "code",
   "execution_count": 5,
   "metadata": {
    "collapsed": false
   },
   "outputs": [
    {
     "data": {
      "text/plain": [
       "array(['Hematology/Oncology', 'Medical Oncology', 'Surgical Oncology',\n",
       "       'Radiation Oncology', 'Gynecological/Oncology'], dtype=object)"
      ]
     },
     "execution_count": 5,
     "metadata": {},
     "output_type": "execute_result"
    }
   ],
   "source": [
    "payments['provider_type'].unique()"
   ]
  },
  {
   "cell_type": "markdown",
   "metadata": {},
   "source": [
    "## read in processed dataframe (dropped top 10 codes, codes with only 1 claim, docs with < 1 claim)"
   ]
  },
  {
   "cell_type": "code",
   "execution_count": 6,
   "metadata": {
    "collapsed": true
   },
   "outputs": [],
   "source": [
    "by_npi = pd.read_csv(\"11d_by_npi_reduced_oncology_dataframe.csv\", index_col=0)"
   ]
  },
  {
   "cell_type": "code",
   "execution_count": 7,
   "metadata": {
    "collapsed": false
   },
   "outputs": [
    {
     "data": {
      "text/plain": [
       "(5067, 435)"
      ]
     },
     "execution_count": 7,
     "metadata": {},
     "output_type": "execute_result"
    }
   ],
   "source": [
    "by_npi.shape"
   ]
  },
  {
   "cell_type": "markdown",
   "metadata": {},
   "source": [
    "## LDA on filtered data frame using 8 topics"
   ]
  },
  {
   "cell_type": "code",
   "execution_count": 9,
   "metadata": {
    "collapsed": true
   },
   "outputs": [],
   "source": [
    "corpus = matutils.Dense2Corpus(by_npi.as_matrix(), documents_columns=False)"
   ]
  },
  {
   "cell_type": "code",
   "execution_count": 10,
   "metadata": {
    "collapsed": true
   },
   "outputs": [],
   "source": [
    "tfidf = models.TfidfModel(corpus)\n",
    "corpus_tfidf = tfidf[corpus]"
   ]
  },
  {
   "cell_type": "code",
   "execution_count": 11,
   "metadata": {
    "collapsed": false
   },
   "outputs": [
    {
     "name": "stdout",
     "output_type": "stream",
     "text": [
      "calculated in 70.24408340454102s\n"
     ]
    }
   ],
   "source": [
    "time0 = time.time()\n",
    "ldamodel = models.ldamodel.LdaModel(corpus_tfidf, num_topics=8, passes=20)\n",
    "print('calculated in {0}s'.format(time.time()-time0))"
   ]
  },
  {
   "cell_type": "code",
   "execution_count": 12,
   "metadata": {
    "collapsed": true
   },
   "outputs": [],
   "source": [
    "## Save model\n",
    "ldamodel.save(\"11e_lda_8topics_colsDropped_docsDropped_oncology.model\", pickle_protocol=3)"
   ]
  },
  {
   "cell_type": "markdown",
   "metadata": {},
   "source": [
    "## Interpret the 8 topics in the model"
   ]
  },
  {
   "cell_type": "code",
   "execution_count": 13,
   "metadata": {
    "collapsed": true
   },
   "outputs": [],
   "source": [
    "## top 15 words in each topic\n",
    "topics_matrix = ldamodel.show_topics(formatted=False, num_words=15)"
   ]
  },
  {
   "cell_type": "code",
   "execution_count": 14,
   "metadata": {
    "collapsed": true
   },
   "outputs": [],
   "source": [
    "## for each topic, store indices of top 20 hcpcs_codes in a list\n",
    "topic_idx_dict = {}\n",
    "\n",
    "for i in topics_matrix:\n",
    "    topic_idx_dict[i[0]] = [int(word[0]) for word in i[1]]"
   ]
  },
  {
   "cell_type": "code",
   "execution_count": 15,
   "metadata": {
    "collapsed": true
   },
   "outputs": [],
   "source": [
    "## for each topic's list of indexes, get the list of hcpcs_codes\n",
    "topic_dict = {}\n",
    "\n",
    "for k, v in topic_idx_dict.items():\n",
    "    topic_dict[k] = [by_npi.columns.values[i] for i in v]"
   ]
  },
  {
   "cell_type": "code",
   "execution_count": 16,
   "metadata": {
    "collapsed": false
   },
   "outputs": [
    {
     "data": {
      "text/html": [
       "<div>\n",
       "<table border=\"1\" class=\"dataframe\">\n",
       "  <thead>\n",
       "    <tr style=\"text-align: right;\">\n",
       "      <th></th>\n",
       "      <th>hcpcs_code</th>\n",
       "      <th>hcpcs_description</th>\n",
       "    </tr>\n",
       "  </thead>\n",
       "  <tbody>\n",
       "    <tr>\n",
       "      <th>28</th>\n",
       "      <td>77332</td>\n",
       "      <td>Radiation treatment devices, design and constr...</td>\n",
       "    </tr>\n",
       "    <tr>\n",
       "      <th>342</th>\n",
       "      <td>77328</td>\n",
       "      <td>Brachytherapy radiation therapy plan (over 10 ...</td>\n",
       "    </tr>\n",
       "    <tr>\n",
       "      <th>372</th>\n",
       "      <td>76873</td>\n",
       "      <td>Ultrasound of prostate</td>\n",
       "    </tr>\n",
       "    <tr>\n",
       "      <th>373</th>\n",
       "      <td>76965</td>\n",
       "      <td>Ultrasonic guidance for administration of radi...</td>\n",
       "    </tr>\n",
       "    <tr>\n",
       "      <th>386</th>\n",
       "      <td>77778</td>\n",
       "      <td>Application of radiation source, complex</td>\n",
       "    </tr>\n",
       "    <tr>\n",
       "      <th>387</th>\n",
       "      <td>77790</td>\n",
       "      <td>Supervision, handling, loading of radiation</td>\n",
       "    </tr>\n",
       "    <tr>\n",
       "      <th>833</th>\n",
       "      <td>55876</td>\n",
       "      <td>Insertion of radiation therapy devices in pros...</td>\n",
       "    </tr>\n",
       "    <tr>\n",
       "      <th>834</th>\n",
       "      <td>76942</td>\n",
       "      <td>Ultrasonic guidance imaging supervision and in...</td>\n",
       "    </tr>\n",
       "    <tr>\n",
       "      <th>1864</th>\n",
       "      <td>19081</td>\n",
       "      <td>Biopsy of breast accessed throught the skin wi...</td>\n",
       "    </tr>\n",
       "    <tr>\n",
       "      <th>4207</th>\n",
       "      <td>76950</td>\n",
       "      <td>Ultrasonic guidance for administration of radi...</td>\n",
       "    </tr>\n",
       "    <tr>\n",
       "      <th>4785</th>\n",
       "      <td>20665</td>\n",
       "      <td>Removal of cranial tongs or halo (stabilizatio...</td>\n",
       "    </tr>\n",
       "    <tr>\n",
       "      <th>4997</th>\n",
       "      <td>12034</td>\n",
       "      <td>Repair of wound (7.6 to 12.5 centimeters) of t...</td>\n",
       "    </tr>\n",
       "    <tr>\n",
       "      <th>6335</th>\n",
       "      <td>49905</td>\n",
       "      <td>Placement of flap to repair abdominal wall</td>\n",
       "    </tr>\n",
       "    <tr>\n",
       "      <th>8013</th>\n",
       "      <td>55875</td>\n",
       "      <td>Insertion of needles or catheters into prostat...</td>\n",
       "    </tr>\n",
       "    <tr>\n",
       "      <th>13312</th>\n",
       "      <td>11100</td>\n",
       "      <td>Biopsy of single growth of skin and/or tissue</td>\n",
       "    </tr>\n",
       "  </tbody>\n",
       "</table>\n",
       "</div>"
      ],
      "text/plain": [
       "      hcpcs_code                                  hcpcs_description\n",
       "28         77332  Radiation treatment devices, design and constr...\n",
       "342        77328  Brachytherapy radiation therapy plan (over 10 ...\n",
       "372        76873                             Ultrasound of prostate\n",
       "373        76965  Ultrasonic guidance for administration of radi...\n",
       "386        77778           Application of radiation source, complex\n",
       "387        77790        Supervision, handling, loading of radiation\n",
       "833        55876  Insertion of radiation therapy devices in pros...\n",
       "834        76942  Ultrasonic guidance imaging supervision and in...\n",
       "1864       19081  Biopsy of breast accessed throught the skin wi...\n",
       "4207       76950  Ultrasonic guidance for administration of radi...\n",
       "4785       20665  Removal of cranial tongs or halo (stabilizatio...\n",
       "4997       12034  Repair of wound (7.6 to 12.5 centimeters) of t...\n",
       "6335       49905         Placement of flap to repair abdominal wall\n",
       "8013       55875  Insertion of needles or catheters into prostat...\n",
       "13312      11100      Biopsy of single growth of skin and/or tissue"
      ]
     },
     "execution_count": 16,
     "metadata": {},
     "output_type": "execute_result"
    }
   ],
   "source": [
    "## Topic 0\n",
    "t = 0\n",
    "(payments.loc[payments.hcpcs_code.isin(topic_dict[t]), ['hcpcs_code','hcpcs_description']].\n",
    " drop_duplicates('hcpcs_code'))"
   ]
  },
  {
   "cell_type": "code",
   "execution_count": 17,
   "metadata": {
    "collapsed": false
   },
   "outputs": [
    {
     "data": {
      "text/html": [
       "<div>\n",
       "<table border=\"1\" class=\"dataframe\">\n",
       "  <thead>\n",
       "    <tr style=\"text-align: right;\">\n",
       "      <th></th>\n",
       "      <th>hcpcs_code</th>\n",
       "      <th>hcpcs_description</th>\n",
       "    </tr>\n",
       "  </thead>\n",
       "  <tbody>\n",
       "    <tr>\n",
       "      <th>17</th>\n",
       "      <td>77263</td>\n",
       "      <td>Management of radiation therapy, complex</td>\n",
       "    </tr>\n",
       "    <tr>\n",
       "      <th>18</th>\n",
       "      <td>77280</td>\n",
       "      <td>Management of radiation therapy simulation, si...</td>\n",
       "    </tr>\n",
       "    <tr>\n",
       "      <th>19</th>\n",
       "      <td>77290</td>\n",
       "      <td>Management of radiation therapy, simulation, c...</td>\n",
       "    </tr>\n",
       "    <tr>\n",
       "      <th>21</th>\n",
       "      <td>77295</td>\n",
       "      <td>Management of radiation therapy, 3D</td>\n",
       "    </tr>\n",
       "    <tr>\n",
       "      <th>22</th>\n",
       "      <td>77300</td>\n",
       "      <td>Calculation of radiation therapy dose</td>\n",
       "    </tr>\n",
       "    <tr>\n",
       "      <th>23</th>\n",
       "      <td>77301</td>\n",
       "      <td>Management of modulation radiotherapy planning</td>\n",
       "    </tr>\n",
       "    <tr>\n",
       "      <th>24</th>\n",
       "      <td>77315</td>\n",
       "      <td>Isodose radiation therapy plan, complex</td>\n",
       "    </tr>\n",
       "    <tr>\n",
       "      <th>27</th>\n",
       "      <td>77331</td>\n",
       "      <td>Special radiation therapy planning</td>\n",
       "    </tr>\n",
       "    <tr>\n",
       "      <th>28</th>\n",
       "      <td>77332</td>\n",
       "      <td>Radiation treatment devices, design and constr...</td>\n",
       "    </tr>\n",
       "    <tr>\n",
       "      <th>29</th>\n",
       "      <td>77334</td>\n",
       "      <td>Radiation treatment devices, design and constr...</td>\n",
       "    </tr>\n",
       "    <tr>\n",
       "      <th>30</th>\n",
       "      <td>77338</td>\n",
       "      <td>Design and construction of device for radiatio...</td>\n",
       "    </tr>\n",
       "    <tr>\n",
       "      <th>31</th>\n",
       "      <td>77427</td>\n",
       "      <td>Radiation treatment management, 5 treatments</td>\n",
       "    </tr>\n",
       "    <tr>\n",
       "      <th>32</th>\n",
       "      <td>77470</td>\n",
       "      <td>Special radiation treatment procedure</td>\n",
       "    </tr>\n",
       "    <tr>\n",
       "      <th>36</th>\n",
       "      <td>99212</td>\n",
       "      <td>Established patient office or other outpatient...</td>\n",
       "    </tr>\n",
       "    <tr>\n",
       "      <th>685</th>\n",
       "      <td>77432</td>\n",
       "      <td>Stereotactic radiation treatment management of...</td>\n",
       "    </tr>\n",
       "  </tbody>\n",
       "</table>\n",
       "</div>"
      ],
      "text/plain": [
       "    hcpcs_code                                  hcpcs_description\n",
       "17       77263           Management of radiation therapy, complex\n",
       "18       77280  Management of radiation therapy simulation, si...\n",
       "19       77290  Management of radiation therapy, simulation, c...\n",
       "21       77295                Management of radiation therapy, 3D\n",
       "22       77300              Calculation of radiation therapy dose\n",
       "23       77301     Management of modulation radiotherapy planning\n",
       "24       77315            Isodose radiation therapy plan, complex\n",
       "27       77331                 Special radiation therapy planning\n",
       "28       77332  Radiation treatment devices, design and constr...\n",
       "29       77334  Radiation treatment devices, design and constr...\n",
       "30       77338  Design and construction of device for radiatio...\n",
       "31       77427       Radiation treatment management, 5 treatments\n",
       "32       77470              Special radiation treatment procedure\n",
       "36       99212  Established patient office or other outpatient...\n",
       "685      77432  Stereotactic radiation treatment management of..."
      ]
     },
     "execution_count": 17,
     "metadata": {},
     "output_type": "execute_result"
    }
   ],
   "source": [
    "## Topic 1\n",
    "t = 1\n",
    "(payments.loc[payments.hcpcs_code.isin(topic_dict[t]), ['hcpcs_code','hcpcs_description']].\n",
    " drop_duplicates('hcpcs_code'))"
   ]
  },
  {
   "cell_type": "code",
   "execution_count": 18,
   "metadata": {
    "collapsed": false
   },
   "outputs": [
    {
     "data": {
      "text/html": [
       "<div>\n",
       "<table border=\"1\" class=\"dataframe\">\n",
       "  <thead>\n",
       "    <tr style=\"text-align: right;\">\n",
       "      <th></th>\n",
       "      <th>hcpcs_code</th>\n",
       "      <th>hcpcs_description</th>\n",
       "    </tr>\n",
       "  </thead>\n",
       "  <tbody>\n",
       "    <tr>\n",
       "      <th>10</th>\n",
       "      <td>38525</td>\n",
       "      <td>Biopsy or removal of lymph nodes of under the ...</td>\n",
       "    </tr>\n",
       "    <tr>\n",
       "      <th>11</th>\n",
       "      <td>38900</td>\n",
       "      <td>Lymph node imaging during surgery</td>\n",
       "    </tr>\n",
       "    <tr>\n",
       "      <th>444</th>\n",
       "      <td>76998</td>\n",
       "      <td>Ultrasonic guidance during surgery</td>\n",
       "    </tr>\n",
       "    <tr>\n",
       "      <th>508</th>\n",
       "      <td>92511</td>\n",
       "      <td>Examination of the nose and throat using an en...</td>\n",
       "    </tr>\n",
       "    <tr>\n",
       "      <th>771</th>\n",
       "      <td>48150</td>\n",
       "      <td>Partial removal of pancreas, bile duct and sma...</td>\n",
       "    </tr>\n",
       "    <tr>\n",
       "      <th>927</th>\n",
       "      <td>77786</td>\n",
       "      <td>High dose brachytherapy delivery, 2-12 channels</td>\n",
       "    </tr>\n",
       "    <tr>\n",
       "      <th>2320</th>\n",
       "      <td>36561</td>\n",
       "      <td>Insertion of central venous catheter and impla...</td>\n",
       "    </tr>\n",
       "    <tr>\n",
       "      <th>2321</th>\n",
       "      <td>38747</td>\n",
       "      <td>Removal of abdominal organ lymph nodes</td>\n",
       "    </tr>\n",
       "    <tr>\n",
       "      <th>2324</th>\n",
       "      <td>77001</td>\n",
       "      <td>Fluoroscopic guidance for insertion, replaceme...</td>\n",
       "    </tr>\n",
       "    <tr>\n",
       "      <th>3887</th>\n",
       "      <td>47562</td>\n",
       "      <td>Removal of gallbladder using an endoscope</td>\n",
       "    </tr>\n",
       "    <tr>\n",
       "      <th>4193</th>\n",
       "      <td>38500</td>\n",
       "      <td>Biopsy or removal of lymph nodes, open procedure</td>\n",
       "    </tr>\n",
       "    <tr>\n",
       "      <th>4996</th>\n",
       "      <td>11606</td>\n",
       "      <td>Removal of malignant growth (over 4.0 centimet...</td>\n",
       "    </tr>\n",
       "    <tr>\n",
       "      <th>5807</th>\n",
       "      <td>45378</td>\n",
       "      <td>Diagnostic examination of large bowel using an...</td>\n",
       "    </tr>\n",
       "    <tr>\n",
       "      <th>7290</th>\n",
       "      <td>38792</td>\n",
       "      <td>Injection of radioactive dye for X-ray identif...</td>\n",
       "    </tr>\n",
       "    <tr>\n",
       "      <th>13314</th>\n",
       "      <td>12032</td>\n",
       "      <td>Repair of wound (2.6 to 7.5 centimeters) of th...</td>\n",
       "    </tr>\n",
       "  </tbody>\n",
       "</table>\n",
       "</div>"
      ],
      "text/plain": [
       "      hcpcs_code                                  hcpcs_description\n",
       "10         38525  Biopsy or removal of lymph nodes of under the ...\n",
       "11         38900                  Lymph node imaging during surgery\n",
       "444        76998                 Ultrasonic guidance during surgery\n",
       "508        92511  Examination of the nose and throat using an en...\n",
       "771        48150  Partial removal of pancreas, bile duct and sma...\n",
       "927        77786    High dose brachytherapy delivery, 2-12 channels\n",
       "2320       36561  Insertion of central venous catheter and impla...\n",
       "2321       38747             Removal of abdominal organ lymph nodes\n",
       "2324       77001  Fluoroscopic guidance for insertion, replaceme...\n",
       "3887       47562          Removal of gallbladder using an endoscope\n",
       "4193       38500   Biopsy or removal of lymph nodes, open procedure\n",
       "4996       11606  Removal of malignant growth (over 4.0 centimet...\n",
       "5807       45378  Diagnostic examination of large bowel using an...\n",
       "7290       38792  Injection of radioactive dye for X-ray identif...\n",
       "13314      12032  Repair of wound (2.6 to 7.5 centimeters) of th..."
      ]
     },
     "execution_count": 18,
     "metadata": {},
     "output_type": "execute_result"
    }
   ],
   "source": [
    "## Topic 2\n",
    "t = 2\n",
    "(payments.loc[payments.hcpcs_code.isin(topic_dict[t]), ['hcpcs_code','hcpcs_description']].\n",
    " drop_duplicates('hcpcs_code'))"
   ]
  },
  {
   "cell_type": "code",
   "execution_count": 19,
   "metadata": {
    "collapsed": false
   },
   "outputs": [
    {
     "data": {
      "text/html": [
       "<div>\n",
       "<table border=\"1\" class=\"dataframe\">\n",
       "  <thead>\n",
       "    <tr style=\"text-align: right;\">\n",
       "      <th></th>\n",
       "      <th>hcpcs_code</th>\n",
       "      <th>hcpcs_description</th>\n",
       "    </tr>\n",
       "  </thead>\n",
       "  <tbody>\n",
       "    <tr>\n",
       "      <th>16</th>\n",
       "      <td>77014</td>\n",
       "      <td>CT scan guidance for insertion of radiation th...</td>\n",
       "    </tr>\n",
       "    <tr>\n",
       "      <th>17</th>\n",
       "      <td>77263</td>\n",
       "      <td>Management of radiation therapy, complex</td>\n",
       "    </tr>\n",
       "    <tr>\n",
       "      <th>18</th>\n",
       "      <td>77280</td>\n",
       "      <td>Management of radiation therapy simulation, si...</td>\n",
       "    </tr>\n",
       "    <tr>\n",
       "      <th>19</th>\n",
       "      <td>77290</td>\n",
       "      <td>Management of radiation therapy, simulation, c...</td>\n",
       "    </tr>\n",
       "    <tr>\n",
       "      <th>21</th>\n",
       "      <td>77295</td>\n",
       "      <td>Management of radiation therapy, 3D</td>\n",
       "    </tr>\n",
       "    <tr>\n",
       "      <th>22</th>\n",
       "      <td>77300</td>\n",
       "      <td>Calculation of radiation therapy dose</td>\n",
       "    </tr>\n",
       "    <tr>\n",
       "      <th>23</th>\n",
       "      <td>77301</td>\n",
       "      <td>Management of modulation radiotherapy planning</td>\n",
       "    </tr>\n",
       "    <tr>\n",
       "      <th>24</th>\n",
       "      <td>77315</td>\n",
       "      <td>Isodose radiation therapy plan, complex</td>\n",
       "    </tr>\n",
       "    <tr>\n",
       "      <th>27</th>\n",
       "      <td>77331</td>\n",
       "      <td>Special radiation therapy planning</td>\n",
       "    </tr>\n",
       "    <tr>\n",
       "      <th>29</th>\n",
       "      <td>77334</td>\n",
       "      <td>Radiation treatment devices, design and constr...</td>\n",
       "    </tr>\n",
       "    <tr>\n",
       "      <th>30</th>\n",
       "      <td>77338</td>\n",
       "      <td>Design and construction of device for radiatio...</td>\n",
       "    </tr>\n",
       "    <tr>\n",
       "      <th>31</th>\n",
       "      <td>77427</td>\n",
       "      <td>Radiation treatment management, 5 treatments</td>\n",
       "    </tr>\n",
       "    <tr>\n",
       "      <th>32</th>\n",
       "      <td>77470</td>\n",
       "      <td>Special radiation treatment procedure</td>\n",
       "    </tr>\n",
       "    <tr>\n",
       "      <th>36</th>\n",
       "      <td>99212</td>\n",
       "      <td>Established patient office or other outpatient...</td>\n",
       "    </tr>\n",
       "    <tr>\n",
       "      <th>86</th>\n",
       "      <td>77421</td>\n",
       "      <td>X-ray guidance for radiation therapy delivery</td>\n",
       "    </tr>\n",
       "  </tbody>\n",
       "</table>\n",
       "</div>"
      ],
      "text/plain": [
       "   hcpcs_code                                  hcpcs_description\n",
       "16      77014  CT scan guidance for insertion of radiation th...\n",
       "17      77263           Management of radiation therapy, complex\n",
       "18      77280  Management of radiation therapy simulation, si...\n",
       "19      77290  Management of radiation therapy, simulation, c...\n",
       "21      77295                Management of radiation therapy, 3D\n",
       "22      77300              Calculation of radiation therapy dose\n",
       "23      77301     Management of modulation radiotherapy planning\n",
       "24      77315            Isodose radiation therapy plan, complex\n",
       "27      77331                 Special radiation therapy planning\n",
       "29      77334  Radiation treatment devices, design and constr...\n",
       "30      77338  Design and construction of device for radiatio...\n",
       "31      77427       Radiation treatment management, 5 treatments\n",
       "32      77470              Special radiation treatment procedure\n",
       "36      99212  Established patient office or other outpatient...\n",
       "86      77421      X-ray guidance for radiation therapy delivery"
      ]
     },
     "execution_count": 19,
     "metadata": {},
     "output_type": "execute_result"
    }
   ],
   "source": [
    "## Topic 3\n",
    "t = 3\n",
    "(payments.loc[payments.hcpcs_code.isin(topic_dict[t]), ['hcpcs_code','hcpcs_description']].\n",
    " drop_duplicates('hcpcs_code'))"
   ]
  },
  {
   "cell_type": "code",
   "execution_count": 20,
   "metadata": {
    "collapsed": false
   },
   "outputs": [
    {
     "data": {
      "text/html": [
       "<div>\n",
       "<table border=\"1\" class=\"dataframe\">\n",
       "  <thead>\n",
       "    <tr style=\"text-align: right;\">\n",
       "      <th></th>\n",
       "      <th>hcpcs_code</th>\n",
       "      <th>hcpcs_description</th>\n",
       "    </tr>\n",
       "  </thead>\n",
       "  <tbody>\n",
       "    <tr>\n",
       "      <th>575</th>\n",
       "      <td>58548</td>\n",
       "      <td>Removal of uterus, cervix, and lymph nodes on ...</td>\n",
       "    </tr>\n",
       "    <tr>\n",
       "      <th>622</th>\n",
       "      <td>38572</td>\n",
       "      <td>Removal of total lymph nodes of both sides of ...</td>\n",
       "    </tr>\n",
       "    <tr>\n",
       "      <th>623</th>\n",
       "      <td>58150</td>\n",
       "      <td>Abdominal removal of uterus and cervix</td>\n",
       "    </tr>\n",
       "    <tr>\n",
       "      <th>624</th>\n",
       "      <td>58571</td>\n",
       "      <td>Abdominal removal of uterus (250 grams or less...</td>\n",
       "    </tr>\n",
       "    <tr>\n",
       "      <th>1360</th>\n",
       "      <td>70450</td>\n",
       "      <td>CT scan head or brain</td>\n",
       "    </tr>\n",
       "    <tr>\n",
       "      <th>1361</th>\n",
       "      <td>71010</td>\n",
       "      <td>X-ray of chest, 1 view, front</td>\n",
       "    </tr>\n",
       "    <tr>\n",
       "      <th>1362</th>\n",
       "      <td>71020</td>\n",
       "      <td>X-ray of chest, 2 views, front and side</td>\n",
       "    </tr>\n",
       "    <tr>\n",
       "      <th>1921</th>\n",
       "      <td>52000</td>\n",
       "      <td>Diagnostic examination of the bladder and blad...</td>\n",
       "    </tr>\n",
       "    <tr>\n",
       "      <th>2117</th>\n",
       "      <td>58558</td>\n",
       "      <td>Biopsy and/or removal of polyp of the uterus u...</td>\n",
       "    </tr>\n",
       "    <tr>\n",
       "      <th>4458</th>\n",
       "      <td>99284</td>\n",
       "      <td>Emergency department visit, problem of high se...</td>\n",
       "    </tr>\n",
       "    <tr>\n",
       "      <th>5083</th>\n",
       "      <td>76937</td>\n",
       "      <td>Ultrasound guidance for accessing into blood v...</td>\n",
       "    </tr>\n",
       "    <tr>\n",
       "      <th>5386</th>\n",
       "      <td>38571</td>\n",
       "      <td>Removal of total lymph nodes of both sides of ...</td>\n",
       "    </tr>\n",
       "    <tr>\n",
       "      <th>5544</th>\n",
       "      <td>77052</td>\n",
       "      <td>Computer analysis of screening mammogram to as...</td>\n",
       "    </tr>\n",
       "    <tr>\n",
       "      <th>5548</th>\n",
       "      <td>G0202</td>\n",
       "      <td>Screening mammography, producing direct digita...</td>\n",
       "    </tr>\n",
       "    <tr>\n",
       "      <th>11968</th>\n",
       "      <td>58210</td>\n",
       "      <td>Abdominal removal of uterus, cervix, and lymph...</td>\n",
       "    </tr>\n",
       "  </tbody>\n",
       "</table>\n",
       "</div>"
      ],
      "text/plain": [
       "      hcpcs_code                                  hcpcs_description\n",
       "575        58548  Removal of uterus, cervix, and lymph nodes on ...\n",
       "622        38572  Removal of total lymph nodes of both sides of ...\n",
       "623        58150             Abdominal removal of uterus and cervix\n",
       "624        58571  Abdominal removal of uterus (250 grams or less...\n",
       "1360       70450                              CT scan head or brain\n",
       "1361       71010                      X-ray of chest, 1 view, front\n",
       "1362       71020            X-ray of chest, 2 views, front and side\n",
       "1921       52000  Diagnostic examination of the bladder and blad...\n",
       "2117       58558  Biopsy and/or removal of polyp of the uterus u...\n",
       "4458       99284  Emergency department visit, problem of high se...\n",
       "5083       76937  Ultrasound guidance for accessing into blood v...\n",
       "5386       38571  Removal of total lymph nodes of both sides of ...\n",
       "5544       77052  Computer analysis of screening mammogram to as...\n",
       "5548       G0202  Screening mammography, producing direct digita...\n",
       "11968      58210  Abdominal removal of uterus, cervix, and lymph..."
      ]
     },
     "execution_count": 20,
     "metadata": {},
     "output_type": "execute_result"
    }
   ],
   "source": [
    "## Topic 4\n",
    "t = 4\n",
    "(payments.loc[payments.hcpcs_code.isin(topic_dict[t]), ['hcpcs_code','hcpcs_description']].\n",
    " drop_duplicates('hcpcs_code'))"
   ]
  },
  {
   "cell_type": "code",
   "execution_count": 21,
   "metadata": {
    "collapsed": false
   },
   "outputs": [
    {
     "data": {
      "text/html": [
       "<div>\n",
       "<table border=\"1\" class=\"dataframe\">\n",
       "  <thead>\n",
       "    <tr style=\"text-align: right;\">\n",
       "      <th></th>\n",
       "      <th>hcpcs_code</th>\n",
       "      <th>hcpcs_description</th>\n",
       "    </tr>\n",
       "  </thead>\n",
       "  <tbody>\n",
       "    <tr>\n",
       "      <th>16</th>\n",
       "      <td>77014</td>\n",
       "      <td>CT scan guidance for insertion of radiation th...</td>\n",
       "    </tr>\n",
       "    <tr>\n",
       "      <th>17</th>\n",
       "      <td>77263</td>\n",
       "      <td>Management of radiation therapy, complex</td>\n",
       "    </tr>\n",
       "    <tr>\n",
       "      <th>18</th>\n",
       "      <td>77280</td>\n",
       "      <td>Management of radiation therapy simulation, si...</td>\n",
       "    </tr>\n",
       "    <tr>\n",
       "      <th>19</th>\n",
       "      <td>77290</td>\n",
       "      <td>Management of radiation therapy, simulation, c...</td>\n",
       "    </tr>\n",
       "    <tr>\n",
       "      <th>21</th>\n",
       "      <td>77295</td>\n",
       "      <td>Management of radiation therapy, 3D</td>\n",
       "    </tr>\n",
       "    <tr>\n",
       "      <th>22</th>\n",
       "      <td>77300</td>\n",
       "      <td>Calculation of radiation therapy dose</td>\n",
       "    </tr>\n",
       "    <tr>\n",
       "      <th>23</th>\n",
       "      <td>77301</td>\n",
       "      <td>Management of modulation radiotherapy planning</td>\n",
       "    </tr>\n",
       "    <tr>\n",
       "      <th>24</th>\n",
       "      <td>77315</td>\n",
       "      <td>Isodose radiation therapy plan, complex</td>\n",
       "    </tr>\n",
       "    <tr>\n",
       "      <th>27</th>\n",
       "      <td>77331</td>\n",
       "      <td>Special radiation therapy planning</td>\n",
       "    </tr>\n",
       "    <tr>\n",
       "      <th>29</th>\n",
       "      <td>77334</td>\n",
       "      <td>Radiation treatment devices, design and constr...</td>\n",
       "    </tr>\n",
       "    <tr>\n",
       "      <th>30</th>\n",
       "      <td>77338</td>\n",
       "      <td>Design and construction of device for radiatio...</td>\n",
       "    </tr>\n",
       "    <tr>\n",
       "      <th>31</th>\n",
       "      <td>77427</td>\n",
       "      <td>Radiation treatment management, 5 treatments</td>\n",
       "    </tr>\n",
       "    <tr>\n",
       "      <th>32</th>\n",
       "      <td>77470</td>\n",
       "      <td>Special radiation treatment procedure</td>\n",
       "    </tr>\n",
       "    <tr>\n",
       "      <th>36</th>\n",
       "      <td>99212</td>\n",
       "      <td>Established patient office or other outpatient...</td>\n",
       "    </tr>\n",
       "    <tr>\n",
       "      <th>86</th>\n",
       "      <td>77421</td>\n",
       "      <td>X-ray guidance for radiation therapy delivery</td>\n",
       "    </tr>\n",
       "  </tbody>\n",
       "</table>\n",
       "</div>"
      ],
      "text/plain": [
       "   hcpcs_code                                  hcpcs_description\n",
       "16      77014  CT scan guidance for insertion of radiation th...\n",
       "17      77263           Management of radiation therapy, complex\n",
       "18      77280  Management of radiation therapy simulation, si...\n",
       "19      77290  Management of radiation therapy, simulation, c...\n",
       "21      77295                Management of radiation therapy, 3D\n",
       "22      77300              Calculation of radiation therapy dose\n",
       "23      77301     Management of modulation radiotherapy planning\n",
       "24      77315            Isodose radiation therapy plan, complex\n",
       "27      77331                 Special radiation therapy planning\n",
       "29      77334  Radiation treatment devices, design and constr...\n",
       "30      77338  Design and construction of device for radiatio...\n",
       "31      77427       Radiation treatment management, 5 treatments\n",
       "32      77470              Special radiation treatment procedure\n",
       "36      99212  Established patient office or other outpatient...\n",
       "86      77421      X-ray guidance for radiation therapy delivery"
      ]
     },
     "execution_count": 21,
     "metadata": {},
     "output_type": "execute_result"
    }
   ],
   "source": [
    "## Topic 5\n",
    "t = 5\n",
    "(payments.loc[payments.hcpcs_code.isin(topic_dict[t]), ['hcpcs_code','hcpcs_description']].\n",
    " drop_duplicates('hcpcs_code'))"
   ]
  },
  {
   "cell_type": "code",
   "execution_count": 22,
   "metadata": {
    "collapsed": false
   },
   "outputs": [
    {
     "data": {
      "text/html": [
       "<div>\n",
       "<table border=\"1\" class=\"dataframe\">\n",
       "  <thead>\n",
       "    <tr style=\"text-align: right;\">\n",
       "      <th></th>\n",
       "      <th>hcpcs_code</th>\n",
       "      <th>hcpcs_description</th>\n",
       "    </tr>\n",
       "  </thead>\n",
       "  <tbody>\n",
       "    <tr>\n",
       "      <th>9</th>\n",
       "      <td>19301</td>\n",
       "      <td>Partial removal of breast</td>\n",
       "    </tr>\n",
       "    <tr>\n",
       "      <th>10</th>\n",
       "      <td>38525</td>\n",
       "      <td>Biopsy or removal of lymph nodes of under the ...</td>\n",
       "    </tr>\n",
       "    <tr>\n",
       "      <th>11</th>\n",
       "      <td>38900</td>\n",
       "      <td>Lymph node imaging during surgery</td>\n",
       "    </tr>\n",
       "    <tr>\n",
       "      <th>33</th>\n",
       "      <td>99203</td>\n",
       "      <td>New patient office or other outpatient visit, ...</td>\n",
       "    </tr>\n",
       "    <tr>\n",
       "      <th>36</th>\n",
       "      <td>99212</td>\n",
       "      <td>Established patient office or other outpatient...</td>\n",
       "    </tr>\n",
       "    <tr>\n",
       "      <th>43</th>\n",
       "      <td>99238</td>\n",
       "      <td>Hospital discharge day management, 30 minutes ...</td>\n",
       "    </tr>\n",
       "    <tr>\n",
       "      <th>183</th>\n",
       "      <td>99221</td>\n",
       "      <td>Initial hospital inpatient care, typically 30 ...</td>\n",
       "    </tr>\n",
       "    <tr>\n",
       "      <th>445</th>\n",
       "      <td>99202</td>\n",
       "      <td>New patient office or other outpatient visit, ...</td>\n",
       "    </tr>\n",
       "    <tr>\n",
       "      <th>527</th>\n",
       "      <td>99211</td>\n",
       "      <td>Established patient office or other outpatient...</td>\n",
       "    </tr>\n",
       "    <tr>\n",
       "      <th>755</th>\n",
       "      <td>60500</td>\n",
       "      <td>Removal or exploration of parathyroid glands</td>\n",
       "    </tr>\n",
       "    <tr>\n",
       "      <th>2882</th>\n",
       "      <td>19303</td>\n",
       "      <td>Total removal of breast</td>\n",
       "    </tr>\n",
       "    <tr>\n",
       "      <th>2885</th>\n",
       "      <td>76098</td>\n",
       "      <td>Imaging of surgical specimen</td>\n",
       "    </tr>\n",
       "    <tr>\n",
       "      <th>4005</th>\n",
       "      <td>19125</td>\n",
       "      <td>Removal of breast growth, open procedure</td>\n",
       "    </tr>\n",
       "    <tr>\n",
       "      <th>5204</th>\n",
       "      <td>76000</td>\n",
       "      <td>Imaging guidance for procedure, up to 1 hour</td>\n",
       "    </tr>\n",
       "    <tr>\n",
       "      <th>11494</th>\n",
       "      <td>14000</td>\n",
       "      <td>Tissue transfer repair of wound (10 sq centime...</td>\n",
       "    </tr>\n",
       "  </tbody>\n",
       "</table>\n",
       "</div>"
      ],
      "text/plain": [
       "      hcpcs_code                                  hcpcs_description\n",
       "9          19301                          Partial removal of breast\n",
       "10         38525  Biopsy or removal of lymph nodes of under the ...\n",
       "11         38900                  Lymph node imaging during surgery\n",
       "33         99203  New patient office or other outpatient visit, ...\n",
       "36         99212  Established patient office or other outpatient...\n",
       "43         99238  Hospital discharge day management, 30 minutes ...\n",
       "183        99221  Initial hospital inpatient care, typically 30 ...\n",
       "445        99202  New patient office or other outpatient visit, ...\n",
       "527        99211  Established patient office or other outpatient...\n",
       "755        60500       Removal or exploration of parathyroid glands\n",
       "2882       19303                            Total removal of breast\n",
       "2885       76098                       Imaging of surgical specimen\n",
       "4005       19125           Removal of breast growth, open procedure\n",
       "5204       76000       Imaging guidance for procedure, up to 1 hour\n",
       "11494      14000  Tissue transfer repair of wound (10 sq centime..."
      ]
     },
     "execution_count": 22,
     "metadata": {},
     "output_type": "execute_result"
    }
   ],
   "source": [
    "## Topic 6\n",
    "t = 6\n",
    "(payments.loc[payments.hcpcs_code.isin(topic_dict[t]), ['hcpcs_code','hcpcs_description']].\n",
    " drop_duplicates('hcpcs_code'))"
   ]
  },
  {
   "cell_type": "code",
   "execution_count": 23,
   "metadata": {
    "collapsed": false
   },
   "outputs": [
    {
     "data": {
      "text/html": [
       "<div>\n",
       "<table border=\"1\" class=\"dataframe\">\n",
       "  <thead>\n",
       "    <tr style=\"text-align: right;\">\n",
       "      <th></th>\n",
       "      <th>hcpcs_code</th>\n",
       "      <th>hcpcs_description</th>\n",
       "    </tr>\n",
       "  </thead>\n",
       "  <tbody>\n",
       "    <tr>\n",
       "      <th>43</th>\n",
       "      <td>99238</td>\n",
       "      <td>Hospital discharge day management, 30 minutes ...</td>\n",
       "    </tr>\n",
       "    <tr>\n",
       "      <th>172</th>\n",
       "      <td>99239</td>\n",
       "      <td>Hospital discharge day management, more than 3...</td>\n",
       "    </tr>\n",
       "    <tr>\n",
       "      <th>183</th>\n",
       "      <td>99221</td>\n",
       "      <td>Initial hospital inpatient care, typically 30 ...</td>\n",
       "    </tr>\n",
       "    <tr>\n",
       "      <th>412</th>\n",
       "      <td>38221</td>\n",
       "      <td>Needle or trocar bone marrow biopsy</td>\n",
       "    </tr>\n",
       "    <tr>\n",
       "      <th>419</th>\n",
       "      <td>G0364</td>\n",
       "      <td>Bone marrow aspiration performed with bone mar...</td>\n",
       "    </tr>\n",
       "    <tr>\n",
       "      <th>1888</th>\n",
       "      <td>38220</td>\n",
       "      <td>Bone marrow aspiration</td>\n",
       "    </tr>\n",
       "    <tr>\n",
       "      <th>1908</th>\n",
       "      <td>93010</td>\n",
       "      <td>Routine electrocardiogram (EKG) using at least...</td>\n",
       "    </tr>\n",
       "    <tr>\n",
       "      <th>1912</th>\n",
       "      <td>99219</td>\n",
       "      <td>Hospital observation care typically 50 minutes</td>\n",
       "    </tr>\n",
       "    <tr>\n",
       "      <th>2005</th>\n",
       "      <td>99308</td>\n",
       "      <td>Subsequent nursing facility visit, typically 1...</td>\n",
       "    </tr>\n",
       "    <tr>\n",
       "      <th>2119</th>\n",
       "      <td>58661</td>\n",
       "      <td>Removal of ovaries and/or tubes using an endos...</td>\n",
       "    </tr>\n",
       "    <tr>\n",
       "      <th>2379</th>\n",
       "      <td>99291</td>\n",
       "      <td>Critical care delivery critically ill or injur...</td>\n",
       "    </tr>\n",
       "    <tr>\n",
       "      <th>2788</th>\n",
       "      <td>99217</td>\n",
       "      <td>Hospital observation care discharge</td>\n",
       "    </tr>\n",
       "    <tr>\n",
       "      <th>3217</th>\n",
       "      <td>99220</td>\n",
       "      <td>Hospital observation care typically 70 minutes...</td>\n",
       "    </tr>\n",
       "    <tr>\n",
       "      <th>3229</th>\n",
       "      <td>85060</td>\n",
       "      <td>Blood smear interpretation by physician with w...</td>\n",
       "    </tr>\n",
       "    <tr>\n",
       "      <th>3361</th>\n",
       "      <td>99356</td>\n",
       "      <td>Prolonged inpatient or observation hospital se...</td>\n",
       "    </tr>\n",
       "  </tbody>\n",
       "</table>\n",
       "</div>"
      ],
      "text/plain": [
       "     hcpcs_code                                  hcpcs_description\n",
       "43        99238  Hospital discharge day management, 30 minutes ...\n",
       "172       99239  Hospital discharge day management, more than 3...\n",
       "183       99221  Initial hospital inpatient care, typically 30 ...\n",
       "412       38221                Needle or trocar bone marrow biopsy\n",
       "419       G0364  Bone marrow aspiration performed with bone mar...\n",
       "1888      38220                             Bone marrow aspiration\n",
       "1908      93010  Routine electrocardiogram (EKG) using at least...\n",
       "1912      99219     Hospital observation care typically 50 minutes\n",
       "2005      99308  Subsequent nursing facility visit, typically 1...\n",
       "2119      58661  Removal of ovaries and/or tubes using an endos...\n",
       "2379      99291  Critical care delivery critically ill or injur...\n",
       "2788      99217                Hospital observation care discharge\n",
       "3217      99220  Hospital observation care typically 70 minutes...\n",
       "3229      85060  Blood smear interpretation by physician with w...\n",
       "3361      99356  Prolonged inpatient or observation hospital se..."
      ]
     },
     "execution_count": 23,
     "metadata": {},
     "output_type": "execute_result"
    }
   ],
   "source": [
    "## Topic 7\n",
    "t = 7\n",
    "(payments.loc[payments.hcpcs_code.isin(topic_dict[t]), ['hcpcs_code','hcpcs_description']].\n",
    " drop_duplicates('hcpcs_code'))"
   ]
  },
  {
   "cell_type": "markdown",
   "metadata": {},
   "source": [
    "## Plot distribution of providers per topic"
   ]
  },
  {
   "cell_type": "code",
   "execution_count": 24,
   "metadata": {
    "collapsed": true
   },
   "outputs": [],
   "source": [
    "## per document (provider), assign topic based on highest-probability topic out of the 10\n",
    "topic_per_doc = []\n",
    "for i in corpus_tfidf:\n",
    "    topic_per_doc.append(np.argmax(np.array(ldamodel.get_document_topics(i))[:,1]))"
   ]
  },
  {
   "cell_type": "code",
   "execution_count": 25,
   "metadata": {
    "collapsed": false
   },
   "outputs": [
    {
     "data": {
      "image/png": "[encoded data removed]",
      "text/plain": [
       "<matplotlib.figure.Figure at 0x7f4a88e5ac50>"
      ]
     },
     "metadata": {},
     "output_type": "display_data"
    }
   ],
   "source": [
    "## distribution of providers among topics\n",
    "ax = sns.countplot(x='topic',data=pd.DataFrame(topic_per_doc).rename(columns={0:'topic'}))\n",
    "sns.despine()"
   ]
  },
  {
   "cell_type": "markdown",
   "metadata": {},
   "source": [
    "## Color code distribution over topics by provider_type"
   ]
  },
  {
   "cell_type": "code",
   "execution_count": 33,
   "metadata": {
    "collapsed": false
   },
   "outputs": [],
   "source": [
    "by_npi.index = by_npi.index.astype(str)"
   ]
  },
  {
   "cell_type": "code",
   "execution_count": 34,
   "metadata": {
    "collapsed": true
   },
   "outputs": [],
   "source": [
    "color_codes = (pd.DataFrame({'npi':by_npi.index}).\n",
    "               merge(payments.drop_duplicates('npi')[['npi', 'provider_type']]))"
   ]
  },
  {
   "cell_type": "code",
   "execution_count": 35,
   "metadata": {
    "collapsed": false
   },
   "outputs": [
    {
     "data": {
      "text/plain": [
       "5067"
      ]
     },
     "execution_count": 35,
     "metadata": {},
     "output_type": "execute_result"
    }
   ],
   "source": [
    "## color code for plotting\n",
    "len(color_codes)"
   ]
  },
  {
   "cell_type": "code",
   "execution_count": 36,
   "metadata": {
    "collapsed": false
   },
   "outputs": [
    {
     "data": {
      "text/html": [
       "<div>\n",
       "<table border=\"1\" class=\"dataframe\">\n",
       "  <thead>\n",
       "    <tr style=\"text-align: right;\">\n",
       "      <th></th>\n",
       "      <th>npi</th>\n",
       "      <th>provider_type</th>\n",
       "    </tr>\n",
       "  </thead>\n",
       "  <tbody>\n",
       "    <tr>\n",
       "      <th>0</th>\n",
       "      <td>1003020660</td>\n",
       "      <td>Surgical Oncology</td>\n",
       "    </tr>\n",
       "    <tr>\n",
       "      <th>1</th>\n",
       "      <td>1003027582</td>\n",
       "      <td>Radiation Oncology</td>\n",
       "    </tr>\n",
       "    <tr>\n",
       "      <th>2</th>\n",
       "      <td>1003027764</td>\n",
       "      <td>Hematology/Oncology</td>\n",
       "    </tr>\n",
       "    <tr>\n",
       "      <th>3</th>\n",
       "      <td>1003068347</td>\n",
       "      <td>Radiation Oncology</td>\n",
       "    </tr>\n",
       "    <tr>\n",
       "      <th>4</th>\n",
       "      <td>1003073438</td>\n",
       "      <td>Radiation Oncology</td>\n",
       "    </tr>\n",
       "  </tbody>\n",
       "</table>\n",
       "</div>"
      ],
      "text/plain": [
       "          npi        provider_type\n",
       "0  1003020660    Surgical Oncology\n",
       "1  1003027582   Radiation Oncology\n",
       "2  1003027764  Hematology/Oncology\n",
       "3  1003068347   Radiation Oncology\n",
       "4  1003073438   Radiation Oncology"
      ]
     },
     "execution_count": 36,
     "metadata": {},
     "output_type": "execute_result"
    }
   ],
   "source": [
    "color_codes.head()"
   ]
  },
  {
   "cell_type": "code",
   "execution_count": 37,
   "metadata": {
    "collapsed": false
   },
   "outputs": [
    {
     "data": {
      "text/html": [
       "<div>\n",
       "<table border=\"1\" class=\"dataframe\">\n",
       "  <thead>\n",
       "    <tr style=\"text-align: right;\">\n",
       "      <th></th>\n",
       "      <th>topic</th>\n",
       "      <th>npi</th>\n",
       "      <th>provider_type</th>\n",
       "    </tr>\n",
       "  </thead>\n",
       "  <tbody>\n",
       "    <tr>\n",
       "      <th>0</th>\n",
       "      <td>6</td>\n",
       "      <td>1003020660</td>\n",
       "      <td>Surgical Oncology</td>\n",
       "    </tr>\n",
       "    <tr>\n",
       "      <th>1</th>\n",
       "      <td>0</td>\n",
       "      <td>1003027582</td>\n",
       "      <td>Radiation Oncology</td>\n",
       "    </tr>\n",
       "    <tr>\n",
       "      <th>2</th>\n",
       "      <td>0</td>\n",
       "      <td>1003027764</td>\n",
       "      <td>Hematology/Oncology</td>\n",
       "    </tr>\n",
       "    <tr>\n",
       "      <th>3</th>\n",
       "      <td>5</td>\n",
       "      <td>1003068347</td>\n",
       "      <td>Radiation Oncology</td>\n",
       "    </tr>\n",
       "    <tr>\n",
       "      <th>4</th>\n",
       "      <td>3</td>\n",
       "      <td>1003073438</td>\n",
       "      <td>Radiation Oncology</td>\n",
       "    </tr>\n",
       "  </tbody>\n",
       "</table>\n",
       "</div>"
      ],
      "text/plain": [
       "   topic         npi        provider_type\n",
       "0      6  1003020660    Surgical Oncology\n",
       "1      0  1003027582   Radiation Oncology\n",
       "2      0  1003027764  Hematology/Oncology\n",
       "3      5  1003068347   Radiation Oncology\n",
       "4      3  1003073438   Radiation Oncology"
      ]
     },
     "execution_count": 37,
     "metadata": {},
     "output_type": "execute_result"
    }
   ],
   "source": [
    "topic_per_doc_df = (pd.concat([pd.DataFrame(topic_per_doc).rename(columns={0:'topic'}),\n",
    "                              color_codes], axis=1, ignore_index=True).\n",
    "                    rename(columns={0:'topic',1:'npi',2:'provider_type'}))\n",
    "\n",
    "topic_per_doc_df.head()\n",
    "#topic_per_doc_df = (pd.concat([pd.DataFrame(topic_per_doc), fraud_label], axis=1, ignore_index=True).\n",
    "#                        rename(columns={0:'topic',1:'fraud'}))"
   ]
  },
  {
   "cell_type": "code",
   "execution_count": 38,
   "metadata": {
    "collapsed": false
   },
   "outputs": [],
   "source": [
    "mydf = (topic_per_doc_df.\n",
    "        groupby(['topic','provider_type']).\n",
    "        count().\n",
    "        rename(columns={'npi':'counts'}).\n",
    "        reset_index())"
   ]
  },
  {
   "cell_type": "code",
   "execution_count": 39,
   "metadata": {
    "collapsed": false
   },
   "outputs": [
    {
     "data": {
      "text/html": [
       "<div>\n",
       "<table border=\"1\" class=\"dataframe\">\n",
       "  <thead>\n",
       "    <tr style=\"text-align: right;\">\n",
       "      <th></th>\n",
       "      <th>topic</th>\n",
       "      <th>provider_type</th>\n",
       "      <th>counts</th>\n",
       "    </tr>\n",
       "  </thead>\n",
       "  <tbody>\n",
       "    <tr>\n",
       "      <th>0</th>\n",
       "      <td>0</td>\n",
       "      <td>Gynecological/Oncology</td>\n",
       "      <td>3</td>\n",
       "    </tr>\n",
       "    <tr>\n",
       "      <th>1</th>\n",
       "      <td>0</td>\n",
       "      <td>Hematology/Oncology</td>\n",
       "      <td>2</td>\n",
       "    </tr>\n",
       "    <tr>\n",
       "      <th>2</th>\n",
       "      <td>0</td>\n",
       "      <td>Medical Oncology</td>\n",
       "      <td>2</td>\n",
       "    </tr>\n",
       "    <tr>\n",
       "      <th>3</th>\n",
       "      <td>0</td>\n",
       "      <td>Radiation Oncology</td>\n",
       "      <td>53</td>\n",
       "    </tr>\n",
       "    <tr>\n",
       "      <th>4</th>\n",
       "      <td>0</td>\n",
       "      <td>Surgical Oncology</td>\n",
       "      <td>13</td>\n",
       "    </tr>\n",
       "    <tr>\n",
       "      <th>5</th>\n",
       "      <td>1</td>\n",
       "      <td>Gynecological/Oncology</td>\n",
       "      <td>2</td>\n",
       "    </tr>\n",
       "    <tr>\n",
       "      <th>6</th>\n",
       "      <td>1</td>\n",
       "      <td>Hematology/Oncology</td>\n",
       "      <td>2</td>\n",
       "    </tr>\n",
       "    <tr>\n",
       "      <th>7</th>\n",
       "      <td>1</td>\n",
       "      <td>Medical Oncology</td>\n",
       "      <td>1</td>\n",
       "    </tr>\n",
       "    <tr>\n",
       "      <th>8</th>\n",
       "      <td>1</td>\n",
       "      <td>Radiation Oncology</td>\n",
       "      <td>889</td>\n",
       "    </tr>\n",
       "    <tr>\n",
       "      <th>9</th>\n",
       "      <td>1</td>\n",
       "      <td>Surgical Oncology</td>\n",
       "      <td>1</td>\n",
       "    </tr>\n",
       "  </tbody>\n",
       "</table>\n",
       "</div>"
      ],
      "text/plain": [
       "   topic           provider_type  counts\n",
       "0      0  Gynecological/Oncology       3\n",
       "1      0     Hematology/Oncology       2\n",
       "2      0        Medical Oncology       2\n",
       "3      0      Radiation Oncology      53\n",
       "4      0       Surgical Oncology      13\n",
       "5      1  Gynecological/Oncology       2\n",
       "6      1     Hematology/Oncology       2\n",
       "7      1        Medical Oncology       1\n",
       "8      1      Radiation Oncology     889\n",
       "9      1       Surgical Oncology       1"
      ]
     },
     "execution_count": 39,
     "metadata": {},
     "output_type": "execute_result"
    }
   ],
   "source": [
    "mydf.head(10)"
   ]
  },
  {
   "cell_type": "code",
   "execution_count": 40,
   "metadata": {
    "collapsed": false
   },
   "outputs": [
    {
     "data": {
      "image/png": "[encoded data removed]",
      "text/plain": [
       "<matplotlib.figure.Figure at 0x7f4a88e5af28>"
      ]
     },
     "metadata": {},
     "output_type": "display_data"
    }
   ],
   "source": [
    "ax = sns.barplot(x='topic', y='counts', hue='provider_type', data=mydf)\n",
    "sns.despine()"
   ]
  },
  {
   "cell_type": "code",
   "execution_count": 41,
   "metadata": {
    "collapsed": false
   },
   "outputs": [
    {
     "data": {
      "text/html": [
       "<div>\n",
       "<table border=\"1\" class=\"dataframe\">\n",
       "  <thead>\n",
       "    <tr style=\"text-align: right;\">\n",
       "      <th></th>\n",
       "      <th>topic</th>\n",
       "      <th>provider_type</th>\n",
       "      <th>counts</th>\n",
       "    </tr>\n",
       "  </thead>\n",
       "  <tbody>\n",
       "    <tr>\n",
       "      <th>0</th>\n",
       "      <td>0</td>\n",
       "      <td>Gynecological/Oncology</td>\n",
       "      <td>0.012500</td>\n",
       "    </tr>\n",
       "    <tr>\n",
       "      <th>1</th>\n",
       "      <td>0</td>\n",
       "      <td>Hematology/Oncology</td>\n",
       "      <td>0.001854</td>\n",
       "    </tr>\n",
       "    <tr>\n",
       "      <th>2</th>\n",
       "      <td>0</td>\n",
       "      <td>Medical Oncology</td>\n",
       "      <td>0.006667</td>\n",
       "    </tr>\n",
       "    <tr>\n",
       "      <th>3</th>\n",
       "      <td>0</td>\n",
       "      <td>Radiation Oncology</td>\n",
       "      <td>0.017661</td>\n",
       "    </tr>\n",
       "    <tr>\n",
       "      <th>4</th>\n",
       "      <td>0</td>\n",
       "      <td>Surgical Oncology</td>\n",
       "      <td>0.029083</td>\n",
       "    </tr>\n",
       "  </tbody>\n",
       "</table>\n",
       "</div>"
      ],
      "text/plain": [
       "   topic           provider_type    counts\n",
       "0      0  Gynecological/Oncology  0.012500\n",
       "1      0     Hematology/Oncology  0.001854\n",
       "2      0        Medical Oncology  0.006667\n",
       "3      0      Radiation Oncology  0.017661\n",
       "4      0       Surgical Oncology  0.029083"
      ]
     },
     "execution_count": 41,
     "metadata": {},
     "output_type": "execute_result"
    }
   ],
   "source": [
    "## plot fractions per provider_type rather than absolute counts across topics\n",
    "\n",
    "## rescale each of the counts by overall total per fraud group\n",
    "#mydf.groupby(['provider_type']).transform(lambda x: x.sum()['counts'])\n",
    "types = list(payments['provider_type'].unique())\n",
    "\n",
    "for t in types:\n",
    "    mydf.loc[mydf.provider_type == t, 'counts']  = (mydf.loc[mydf.provider_type == t, 'counts'] / \n",
    "                                          float(sum(mydf.loc[mydf.provider_type == t, 'counts'])))\n",
    "\n",
    "mydf.head()"
   ]
  },
  {
   "cell_type": "code",
   "execution_count": 42,
   "metadata": {
    "collapsed": false
   },
   "outputs": [
    {
     "data": {
      "image/png": "[encoded data removed]",
      "text/plain": [
       "<matplotlib.figure.Figure at 0x7f4a88c05c50>"
      ]
     },
     "metadata": {},
     "output_type": "display_data"
    }
   ],
   "source": [
    "ax = sns.barplot(x='topic', y='counts', hue='provider_type', data=mydf)\n",
    "sns.despine()"
   ]
  },
  {
   "cell_type": "markdown",
   "metadata": {},
   "source": [
    "- Looks like radiation oncology is dominating 3 topics again: 1, 3, and 5.\n",
    "- Medical Oncology and Hematology/Oncology both co-occur again, this time topics 6, 7."
   ]
  },
  {
   "cell_type": "markdown",
   "metadata": {},
   "source": [
    "## Plot doctors in topic space"
   ]
  },
  {
   "cell_type": "code",
   "execution_count": 43,
   "metadata": {
    "collapsed": true
   },
   "outputs": [],
   "source": [
    "from sklearn.manifold import TSNE\n",
    "#from sklearn import preprocessing"
   ]
  },
  {
   "cell_type": "code",
   "execution_count": 44,
   "metadata": {
    "collapsed": false
   },
   "outputs": [
    {
     "data": {
      "text/plain": [
       "(5067, 8)"
      ]
     },
     "execution_count": 44,
     "metadata": {},
     "output_type": "execute_result"
    }
   ],
   "source": [
    "topics_per_doc = []\n",
    "\n",
    "## Get features per doc (probability scores over topics)\n",
    "for doc in corpus_tfidf:\n",
    "    topics_per_doc.append(np.array(ldamodel.get_document_topics(doc))[:,1])\n",
    "\n",
    "by_npi_topics = pd.DataFrame(topics_per_doc)\n",
    "by_npi_topics.shape"
   ]
  },
  {
   "cell_type": "code",
   "execution_count": 45,
   "metadata": {
    "collapsed": false
   },
   "outputs": [
    {
     "name": "stdout",
     "output_type": "stream",
     "text": [
      "[t-SNE] Computing pairwise distances...\n",
      "[t-SNE] Computing 121 nearest neighbors...\n",
      "[t-SNE] Computed conditional probabilities for sample 1000 / 5067\n",
      "[t-SNE] Computed conditional probabilities for sample 2000 / 5067\n",
      "[t-SNE] Computed conditional probabilities for sample 3000 / 5067\n",
      "[t-SNE] Computed conditional probabilities for sample 4000 / 5067\n",
      "[t-SNE] Computed conditional probabilities for sample 5000 / 5067\n",
      "[t-SNE] Computed conditional probabilities for sample 5067 / 5067\n",
      "[t-SNE] Mean sigma: 0.000000\n",
      "[t-SNE] Iteration 25: error = 1.6992319, gradient norm = 0.0107164\n",
      "[t-SNE] Iteration 50: error = 1.6178653, gradient norm = 0.0081443\n",
      "[t-SNE] Iteration 75: error = 1.2457769, gradient norm = 0.0041094\n",
      "[t-SNE] Iteration 100: error = 1.1576493, gradient norm = 0.0039719\n",
      "[t-SNE] Error after 100 iterations with early exaggeration: 1.157649\n",
      "[t-SNE] Iteration 125: error = 1.0113653, gradient norm = 0.0045138\n",
      "[t-SNE] Iteration 150: error = 0.9675059, gradient norm = 0.0044159\n",
      "[t-SNE] Iteration 175: error = 0.9576960, gradient norm = 0.0021581\n",
      "[t-SNE] Iteration 200: error = 0.9543741, gradient norm = 0.0031246\n",
      "[t-SNE] Iteration 225: error = 0.9532095, gradient norm = 0.0040503\n",
      "[t-SNE] Iteration 250: error = 0.9530755, gradient norm = 0.0036888\n",
      "[t-SNE] Iteration 275: error = 0.9533203, gradient norm = 0.0034701\n",
      "[t-SNE] Iteration 300: error = 0.9540681, gradient norm = 0.0021670\n",
      "[t-SNE] Iteration 300: did not make any progress during the last 30 episodes. Finished.\n",
      "[t-SNE] Error after 300 iterations: 0.954068\n"
     ]
    }
   ],
   "source": [
    "X_embedded = TSNE(n_components=2, perplexity=40, verbose=2).fit_transform(by_npi_topics.as_matrix())"
   ]
  },
  {
   "cell_type": "code",
   "execution_count": 55,
   "metadata": {
    "collapsed": false
   },
   "outputs": [],
   "source": [
    "X_embedded_df = pd.DataFrame(X_embedded)\n",
    "X_embedded_df = (pd.concat([X_embedded_df, topic_per_doc_df['provider_type']], axis=1, ignore_index=True)).rename(columns={0:'x', 1:'y', 2:'provider_type'})"
   ]
  },
  {
   "cell_type": "code",
   "execution_count": 77,
   "metadata": {
    "collapsed": false
   },
   "outputs": [
    {
     "data": {
      "text/plain": [
       "<matplotlib.figure.Figure at 0x7f4a81062828>"
      ]
     },
     "metadata": {},
     "output_type": "display_data"
    },
    {
     "data": {
      "image/png": "[encoded data removed]",
      "text/plain": [
       "<matplotlib.figure.Figure at 0x7f4a81136630>"
      ]
     },
     "metadata": {},
     "output_type": "display_data"
    }
   ],
   "source": [
    "#plt.rcParams['figure.figsize'] = (20.0, 20.0)\n",
    "#plt.figure(figsize=(8, 6))\n",
    "plt.rcParams['figure.figsize']=(10,20)\n",
    "fig = plt.figure(figsize=(10,10))\n",
    "sns.lmplot(x='x', y='y', data=X_embedded_df, hue='provider_type', fit_reg=False)\n",
    "fig = plt.gcf()\n",
    "fig.set_figheight(10)\n",
    "fig.set_figwidth(15)\n",
    "#plt.rcParams['figure.figsize'] = (20.0, 20.0)"
   ]
  },
  {
   "cell_type": "markdown",
   "metadata": {},
   "source": [
    "## tsne on original space"
   ]
  },
  {
   "cell_type": "code",
   "execution_count": 78,
   "metadata": {
    "collapsed": false
   },
   "outputs": [
    {
     "name": "stdout",
     "output_type": "stream",
     "text": [
      "[t-SNE] Computing pairwise distances...\n",
      "[t-SNE] Computing 121 nearest neighbors...\n",
      "[t-SNE] Computed conditional probabilities for sample 1000 / 5067\n",
      "[t-SNE] Computed conditional probabilities for sample 2000 / 5067\n",
      "[t-SNE] Computed conditional probabilities for sample 3000 / 5067\n",
      "[t-SNE] Computed conditional probabilities for sample 4000 / 5067\n",
      "[t-SNE] Computed conditional probabilities for sample 5000 / 5067\n",
      "[t-SNE] Computed conditional probabilities for sample 5067 / 5067\n",
      "[t-SNE] Mean sigma: 11.787872\n",
      "[t-SNE] Iteration 25: error = 1.6473386, gradient norm = 0.0107654\n",
      "[t-SNE] Iteration 50: error = 1.5770032, gradient norm = 0.0067479\n",
      "[t-SNE] Iteration 75: error = 1.2976243, gradient norm = 0.0025956\n",
      "[t-SNE] Iteration 100: error = 1.2364761, gradient norm = 0.0021746\n",
      "[t-SNE] Error after 100 iterations with early exaggeration: 1.236476\n",
      "[t-SNE] Iteration 125: error = 1.1354302, gradient norm = 0.0017302\n",
      "[t-SNE] Iteration 150: error = 1.1028618, gradient norm = 0.0016038\n",
      "[t-SNE] Iteration 175: error = 1.0945115, gradient norm = 0.0015480\n",
      "[t-SNE] Iteration 200: error = 1.0924772, gradient norm = 0.0015408\n",
      "[t-SNE] Iteration 225: error = 1.0918382, gradient norm = 0.0015378\n",
      "[t-SNE] Iteration 250: error = 1.0915405, gradient norm = 0.0015417\n",
      "[t-SNE] Iteration 275: error = 1.0913680, gradient norm = 0.0015424\n",
      "[t-SNE] Iteration 300: error = 1.0913546, gradient norm = 0.0015431\n",
      "[t-SNE] Iteration 325: error = 1.0914490, gradient norm = 0.0015460\n",
      "[t-SNE] Iteration 350: error = 1.0914235, gradient norm = 0.0015531\n",
      "[t-SNE] Iteration 350: did not make any progress during the last 30 episodes. Finished.\n",
      "[t-SNE] Error after 350 iterations: 1.091424\n"
     ]
    }
   ],
   "source": [
    "X_embedded0 = TSNE(n_components=2, perplexity=40, verbose=2).fit_transform(by_npi.as_matrix())"
   ]
  },
  {
   "cell_type": "code",
   "execution_count": 79,
   "metadata": {
    "collapsed": true
   },
   "outputs": [],
   "source": [
    "X_embedded_df0 = pd.DataFrame(X_embedded0)\n",
    "X_embedded_df0 = (pd.concat([X_embedded_df0, topic_per_doc_df['provider_type']], axis=1, ignore_index=True)).rename(columns={0:'x', 1:'y', 2:'provider_type'})"
   ]
  },
  {
   "cell_type": "code",
   "execution_count": 80,
   "metadata": {
    "collapsed": false
   },
   "outputs": [
    {
     "data": {
      "text/plain": [
       "<matplotlib.figure.Figure at 0x7f4a81057198>"
      ]
     },
     "metadata": {},
     "output_type": "display_data"
    },
    {
     "data": {
      "image/png": "[encoded data removed]",
      "text/plain": [
       "<matplotlib.figure.Figure at 0x7f4a8109fcf8>"
      ]
     },
     "metadata": {},
     "output_type": "display_data"
    }
   ],
   "source": [
    "#plt.rcParams['figure.figsize'] = (20.0, 20.0)\n",
    "#plt.figure(figsize=(8, 6))\n",
    "plt.rcParams['figure.figsize']=(10,20)\n",
    "fig = plt.figure(figsize=(10,10))\n",
    "sns.lmplot(x='x', y='y', data=X_embedded_df0, hue='provider_type', fit_reg=False)\n",
    "fig = plt.gcf()\n",
    "fig.set_figheight(10)\n",
    "fig.set_figwidth(15)\n",
    "#plt.rcParams['figure.figsize'] = (20.0, 20.0)"
   ]
  },
  {
   "cell_type": "markdown",
   "metadata": {},
   "source": [
    "- Radiation oncologists clearly cluster together, and are the largest group.  \n",
    "- LDA collapses the points onto manifolds that are still consistent with their provider_type.\n",
    "- Surgical oncology is also well-separated out in the original data, but possibly misleadingly grouped with radiation oncology in the topic space.\n",
    "- In both plots, hematology/oncology and medical oncology are pretty mixed.  Next steps, dive into these 2 groups."
   ]
  }
 ],
 "metadata": {
  "anaconda-cloud": {},
  "kernelspec": {
   "display_name": "Python [conda env:medicare_provider_util_payment]",
   "language": "python",
   "name": "conda-env-medicare_provider_util_payment-py"
  },
  "language_info": {
   "codemirror_mode": {
    "name": "ipython",
    "version": 3
   },
   "file_extension": ".py",
   "mimetype": "text/x-python",
   "name": "python",
   "nbconvert_exporter": "python",
   "pygments_lexer": "ipython3",
   "version": "3.5.2"
  }
 },
 "nbformat": 4,
 "nbformat_minor": 1
}
