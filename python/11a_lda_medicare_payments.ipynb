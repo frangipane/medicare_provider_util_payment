{
 "cells": [
  {
   "cell_type": "code",
   "execution_count": 56,
   "metadata": {
    "collapsed": true
   },
   "outputs": [],
   "source": [
    "import psycopg2\n",
    "import pandas as pd\n",
    "import seaborn as sns\n",
    "import matplotlib.pyplot as plt\n",
    "import matplotlib.cm as cm\n",
    "import numpy as np\n",
    "import time\n",
    "\n",
    "%matplotlib inline\n",
    "sns.set(style=\"white\")"
   ]
  },
  {
   "cell_type": "code",
   "execution_count": 2,
   "metadata": {
    "collapsed": true
   },
   "outputs": [],
   "source": [
    "## connect to database\n",
    "con = psycopg2.connect(\"dbname='doctordb' user='cathy'\")"
   ]
  },
  {
   "cell_type": "code",
   "execution_count": 197,
   "metadata": {
    "collapsed": true
   },
   "outputs": [],
   "source": [
    "q = \"\"\"SELECT npi, place_of_service, hcpcs_code, hcpcs_description, bene_day_srvc_cnt\n",
    "FROM payments WHERE provider_type = 'Internal Medicine'\"\"\"\n",
    "payments = pd.read_sql_query(q, con=con)"
   ]
  },
  {
   "cell_type": "code",
   "execution_count": 8,
   "metadata": {
    "collapsed": false
   },
   "outputs": [
    {
     "data": {
      "text/plain": [
       "(1175625, 4)"
      ]
     },
     "execution_count": 8,
     "metadata": {},
     "output_type": "execute_result"
    }
   ],
   "source": [
    "payments.shape"
   ]
  },
  {
   "cell_type": "code",
   "execution_count": 5,
   "metadata": {
    "collapsed": false
   },
   "outputs": [],
   "source": [
    "## only consider out of facility claims for now (see ipynb #13 for counts of each type)\n",
    "by_npi = (payments.query('place_of_service == \"O\"')[['npi','hcpcs_code','bene_day_srvc_cnt']].\n",
    "                pivot(index='npi', values = 'bene_day_srvc_cnt', columns='hcpcs_code').\n",
    "                fillna(value=0))"
   ]
  },
  {
   "cell_type": "code",
   "execution_count": 7,
   "metadata": {
    "collapsed": false
   },
   "outputs": [
    {
     "data": {
      "text/plain": [
       "(57331, 1877)"
      ]
     },
     "execution_count": 7,
     "metadata": {},
     "output_type": "execute_result"
    }
   ],
   "source": [
    "by_npi.shape"
   ]
  },
  {
   "cell_type": "code",
   "execution_count": 33,
   "metadata": {
    "collapsed": false
   },
   "outputs": [
    {
     "data": {
      "text/plain": [
       "array(['0073T', '00740', '00810', ..., 'Q9974', 'S0280', 'S0281'], dtype=object)"
      ]
     },
     "execution_count": 33,
     "metadata": {},
     "output_type": "execute_result"
    }
   ],
   "source": [
    "by_npi.columns.values"
   ]
  },
  {
   "cell_type": "markdown",
   "metadata": {},
   "source": [
    "## LDA"
   ]
  },
  {
   "cell_type": "code",
   "execution_count": 35,
   "metadata": {
    "collapsed": true
   },
   "outputs": [],
   "source": [
    "from gensim import matutils, models, corpora"
   ]
  },
  {
   "cell_type": "code",
   "execution_count": 39,
   "metadata": {
    "collapsed": false
   },
   "outputs": [],
   "source": [
    "corpus = matutils.Dense2Corpus(by_npi.as_matrix(), documents_columns=False)"
   ]
  },
  {
   "cell_type": "code",
   "execution_count": 40,
   "metadata": {
    "collapsed": false
   },
   "outputs": [
    {
     "name": "stdout",
     "output_type": "stream",
     "text": [
      "[(1099, 97.0), (1111, 16.0), (1463, 13.0), (1468, 158.0), (1469, 325.0), (1513, 17.0), (1544, 122.0), (1545, 17.0), (1855, 16.0)]\n",
      "[(221, 445.0), (1200, 450.0), (1214, 12.0), (1218, 21.0), (1220, 23.0), (1223, 114.0), (1226, 62.0), (1242, 176.0), (1265, 26.0), (1463, 29.0), (1464, 69.0), (1465, 31.0), (1468, 86.0), (1469, 725.0), (1470, 50.0)]\n",
      "[(157, 127.0), (158, 122.0), (970, 14.0), (1398, 66.0), (1399, 53.0), (1408, 731.0), (1412, 350.0), (1413, 273.0), (1464, 25.0), (1465, 11.0), (1467, 266.0), (1468, 465.0), (1469, 1133.0), (1470, 43.0), (1671, 23.0), (1713, 168.0), (1754, 22.0), (1785, 402.0), (1827, 17.0)]\n"
     ]
    }
   ],
   "source": [
    "cnt = 0\n",
    "for i in corpus:\n",
    "    print(i)\n",
    "    cnt += 1\n",
    "    if cnt == 3:\n",
    "        break;"
   ]
  },
  {
   "cell_type": "code",
   "execution_count": 52,
   "metadata": {
    "collapsed": false
   },
   "outputs": [],
   "source": [
    "## mapping between integer ids and words (hcpcs_codes)\n",
    "#dictionary = corpora.Dictionary(corpus)"
   ]
  },
  {
   "cell_type": "code",
   "execution_count": 53,
   "metadata": {
    "collapsed": true
   },
   "outputs": [],
   "source": [
    "tfidf = models.TfidfModel(corpus)"
   ]
  },
  {
   "cell_type": "code",
   "execution_count": 54,
   "metadata": {
    "collapsed": true
   },
   "outputs": [],
   "source": [
    "corpus_tfidf = tfidf[corpus]"
   ]
  },
  {
   "cell_type": "code",
   "execution_count": 55,
   "metadata": {
    "collapsed": false
   },
   "outputs": [
    {
     "name": "stdout",
     "output_type": "stream",
     "text": [
      "[(1099, 0.83532528073394585), (1111, 0.10558227612514764), (1463, 0.11514427598994159), (1468, 0.14302865522279448), (1469, 0.28196750550604643), (1513, 0.23108831916485073), (1544, 0.2993114499682647), (1545, 0.099551730036786065), (1855, 0.15799772585622293)]\n",
      "[(221, 0.38569247105191501), (1200, 0.29136622068503876), (1214, 0.059705607448834089), (1218, 0.14739955926897694), (1220, 0.14913126778568736), (1223, 0.57237142600648683), (1226, 0.38939708957869323), (1242, 0.44969440033255564), (1265, 0.073865760022277474), (1463, 0.049177607801760753), (1464, 0.083295551647950036), (1465, 0.069186769703823911), (1468, 0.014905097448881825), (1469, 0.12042706664661708), (1470, 0.055017599283816304)]\n",
      "[(157, 0.13730422820610419), (158, 0.066854950804147759), (970, 0.016059483080481805), (1398, 0.060568960842643245), (1399, 0.063879218615047459), (1408, 0.70343966144070502), (1412, 0.36871530495712906), (1413, 0.30567697276472505), (1464, 0.0065887113563780951), (1465, 0.0053597162811084096), (1467, 0.075049385374863345), (1468, 0.017594505962462183), (1469, 0.041086937042390623), (1470, 0.010329703180038905), (1671, 0.01834348613616384), (1713, 0.22181236886477587), (1754, 0.021194195353557869), (1785, 0.43090585953164573), (1827, 0.031288031633808895)]\n"
     ]
    }
   ],
   "source": [
    "cnt = 0\n",
    "for i in corpus_tfidf:\n",
    "    print(i)\n",
    "    cnt += 1\n",
    "    if cnt == 3:\n",
    "        break;"
   ]
  },
  {
   "cell_type": "code",
   "execution_count": 57,
   "metadata": {
    "collapsed": false
   },
   "outputs": [
    {
     "name": "stdout",
     "output_type": "stream",
     "text": [
      "calculated in 850.4010944366455s\n"
     ]
    }
   ],
   "source": [
    "time0 = time.time()\n",
    "ldamodel = models.ldamodel.LdaModel(corpus_tfidf, num_topics=10, passes=20)\n",
    "print('calculated in {0}s'.format(time.time()-time0))"
   ]
  },
  {
   "cell_type": "code",
   "execution_count": 59,
   "metadata": {
    "collapsed": false
   },
   "outputs": [
    {
     "data": {
      "text/plain": [
       "[(0, '0.098*1469 + 0.086*1608 + 0.082*1468 + 0.067*1099 + 0.055*1544'),\n",
       " (1, '0.316*221 + 0.090*782 + 0.064*1468 + 0.062*1469 + 0.037*675'),\n",
       " (2, '0.220*1483 + 0.171*1484 + 0.067*1482 + 0.059*1496 + 0.056*1495'),\n",
       " (3, '0.252*1470 + 0.103*1469 + 0.092*1465 + 0.060*1561 + 0.056*1095'),\n",
       " (4, '0.081*898 + 0.079*649 + 0.073*221 + 0.071*650 + 0.048*875'),\n",
       " (5, '0.173*1463 + 0.125*1464 + 0.088*1133 + 0.054*1462 + 0.045*1468'),\n",
       " (6, '0.123*1505 + 0.064*1563 + 0.050*1506 + 0.046*1504 + 0.042*794'),\n",
       " (7, '0.303*1468 + 0.250*1469 + 0.081*1467 + 0.060*1562 + 0.054*1854'),\n",
       " (8, '0.064*1404 + 0.037*1242 + 0.031*1469 + 0.029*1775 + 0.027*158'),\n",
       " (9, '0.130*917 + 0.087*1466 + 0.066*221 + 0.048*1469 + 0.044*1468')]"
      ]
     },
     "execution_count": 59,
     "metadata": {},
     "output_type": "execute_result"
    }
   ],
   "source": [
    "ldamodel.print_topics(num_topics=10, num_words=5)"
   ]
  },
  {
   "cell_type": "code",
   "execution_count": 229,
   "metadata": {
    "collapsed": true
   },
   "outputs": [],
   "source": [
    "## Save model\n",
    "ldamodel.save(\"11_lda_10_topics_noColsDropped.model\", pickle_protocol=3)"
   ]
  },
  {
   "cell_type": "markdown",
   "metadata": {},
   "source": [
    "## Interpret the 10 topics in the model"
   ]
  },
  {
   "cell_type": "code",
   "execution_count": 216,
   "metadata": {
    "collapsed": false
   },
   "outputs": [],
   "source": [
    "## top 15 words in each topic\n",
    "topics_matrix = ldamodel.show_topics(formatted=False, num_words=15)"
   ]
  },
  {
   "cell_type": "code",
   "execution_count": 217,
   "metadata": {
    "collapsed": false
   },
   "outputs": [],
   "source": [
    "## for each topic, store indices of top 20 hcpcs_codes in a list\n",
    "topic_idx_dict = {}\n",
    "\n",
    "for i in topics_matrix:\n",
    "    topic_idx_dict[i[0]] = [int(word[0]) for word in i[1]]"
   ]
  },
  {
   "cell_type": "code",
   "execution_count": 218,
   "metadata": {
    "collapsed": false
   },
   "outputs": [],
   "source": [
    "## for each topic's list of indexes, get the list of hcpcs_codes\n",
    "topic_dict = {}\n",
    "\n",
    "for k, v in topic_idx_dict.items():\n",
    "    topic_dict[k] = [by_npi.columns.values[i] for i in v]"
   ]
  },
  {
   "cell_type": "code",
   "execution_count": 219,
   "metadata": {
    "collapsed": false
   },
   "outputs": [
    {
     "data": {
      "text/html": [
       "<div>\n",
       "<table border=\"1\" class=\"dataframe\">\n",
       "  <thead>\n",
       "    <tr style=\"text-align: right;\">\n",
       "      <th></th>\n",
       "      <th>hcpcs_code</th>\n",
       "      <th>hcpcs_description</th>\n",
       "    </tr>\n",
       "  </thead>\n",
       "  <tbody>\n",
       "    <tr>\n",
       "      <th>8</th>\n",
       "      <td>90662</td>\n",
       "      <td>Vaccine for influenza for injection into muscle</td>\n",
       "    </tr>\n",
       "    <tr>\n",
       "      <th>11</th>\n",
       "      <td>99213</td>\n",
       "      <td>Established patient office or other outpatient...</td>\n",
       "    </tr>\n",
       "    <tr>\n",
       "      <th>12</th>\n",
       "      <td>99214</td>\n",
       "      <td>Established patient office or other outpatient...</td>\n",
       "    </tr>\n",
       "    <tr>\n",
       "      <th>14</th>\n",
       "      <td>G0008</td>\n",
       "      <td>Administration of influenza virus vaccine</td>\n",
       "    </tr>\n",
       "    <tr>\n",
       "      <th>15</th>\n",
       "      <td>G0009</td>\n",
       "      <td>Administration of pneumococcal vaccine</td>\n",
       "    </tr>\n",
       "    <tr>\n",
       "      <th>16</th>\n",
       "      <td>Q2038</td>\n",
       "      <td>Influenza virus vaccine, split virus, when adm...</td>\n",
       "    </tr>\n",
       "    <tr>\n",
       "      <th>19</th>\n",
       "      <td>93000</td>\n",
       "      <td>Routine EKG using at least 12 leads including ...</td>\n",
       "    </tr>\n",
       "    <tr>\n",
       "      <th>37</th>\n",
       "      <td>99215</td>\n",
       "      <td>Established patient office or other outpatient...</td>\n",
       "    </tr>\n",
       "    <tr>\n",
       "      <th>66</th>\n",
       "      <td>90686</td>\n",
       "      <td>Vaccine for influenza administered into muscle...</td>\n",
       "    </tr>\n",
       "    <tr>\n",
       "      <th>120</th>\n",
       "      <td>G0439</td>\n",
       "      <td>Annual wellness visit, includes a personalized...</td>\n",
       "    </tr>\n",
       "    <tr>\n",
       "      <th>121</th>\n",
       "      <td>Q2037</td>\n",
       "      <td>Influenza virus vaccine, split virus, when adm...</td>\n",
       "    </tr>\n",
       "    <tr>\n",
       "      <th>161</th>\n",
       "      <td>90670</td>\n",
       "      <td>Pneumococcal vaccine for injection into muscle</td>\n",
       "    </tr>\n",
       "    <tr>\n",
       "      <th>280</th>\n",
       "      <td>G0438</td>\n",
       "      <td>Annual wellness visit; includes a personalized...</td>\n",
       "    </tr>\n",
       "    <tr>\n",
       "      <th>437</th>\n",
       "      <td>81002</td>\n",
       "      <td>Urinalysis, manual test</td>\n",
       "    </tr>\n",
       "    <tr>\n",
       "      <th>516</th>\n",
       "      <td>96372</td>\n",
       "      <td>Injection beneath the skin or into muscle for ...</td>\n",
       "    </tr>\n",
       "  </tbody>\n",
       "</table>\n",
       "</div>"
      ],
      "text/plain": [
       "    hcpcs_code                                  hcpcs_description\n",
       "8        90662    Vaccine for influenza for injection into muscle\n",
       "11       99213  Established patient office or other outpatient...\n",
       "12       99214  Established patient office or other outpatient...\n",
       "14       G0008          Administration of influenza virus vaccine\n",
       "15       G0009             Administration of pneumococcal vaccine\n",
       "16       Q2038  Influenza virus vaccine, split virus, when adm...\n",
       "19       93000  Routine EKG using at least 12 leads including ...\n",
       "37       99215  Established patient office or other outpatient...\n",
       "66       90686  Vaccine for influenza administered into muscle...\n",
       "120      G0439  Annual wellness visit, includes a personalized...\n",
       "121      Q2037  Influenza virus vaccine, split virus, when adm...\n",
       "161      90670     Pneumococcal vaccine for injection into muscle\n",
       "280      G0438  Annual wellness visit; includes a personalized...\n",
       "437      81002                            Urinalysis, manual test\n",
       "516      96372  Injection beneath the skin or into muscle for ..."
      ]
     },
     "execution_count": 219,
     "metadata": {},
     "output_type": "execute_result"
    }
   ],
   "source": [
    "## Topic 0 - vaccines\n",
    "t = 0\n",
    "(payments.loc[payments.hcpcs_code.isin(topic_dict[t]), ['hcpcs_code','hcpcs_description']].\n",
    " drop_duplicates('hcpcs_code'))"
   ]
  },
  {
   "cell_type": "code",
   "execution_count": 220,
   "metadata": {
    "collapsed": false
   },
   "outputs": [
    {
     "data": {
      "text/html": [
       "<div>\n",
       "<table border=\"1\" class=\"dataframe\">\n",
       "  <thead>\n",
       "    <tr style=\"text-align: right;\">\n",
       "      <th></th>\n",
       "      <th>hcpcs_code</th>\n",
       "      <th>hcpcs_description</th>\n",
       "    </tr>\n",
       "  </thead>\n",
       "  <tbody>\n",
       "    <tr>\n",
       "      <th>8</th>\n",
       "      <td>90662</td>\n",
       "      <td>Vaccine for influenza for injection into muscle</td>\n",
       "    </tr>\n",
       "    <tr>\n",
       "      <th>11</th>\n",
       "      <td>99213</td>\n",
       "      <td>Established patient office or other outpatient...</td>\n",
       "    </tr>\n",
       "    <tr>\n",
       "      <th>12</th>\n",
       "      <td>99214</td>\n",
       "      <td>Established patient office or other outpatient...</td>\n",
       "    </tr>\n",
       "    <tr>\n",
       "      <th>14</th>\n",
       "      <td>G0008</td>\n",
       "      <td>Administration of influenza virus vaccine</td>\n",
       "    </tr>\n",
       "    <tr>\n",
       "      <th>16</th>\n",
       "      <td>Q2038</td>\n",
       "      <td>Influenza virus vaccine, split virus, when adm...</td>\n",
       "    </tr>\n",
       "    <tr>\n",
       "      <th>17</th>\n",
       "      <td>36415</td>\n",
       "      <td>Insertion of needle into vein for collection o...</td>\n",
       "    </tr>\n",
       "    <tr>\n",
       "      <th>19</th>\n",
       "      <td>93000</td>\n",
       "      <td>Routine EKG using at least 12 leads including ...</td>\n",
       "    </tr>\n",
       "    <tr>\n",
       "      <th>37</th>\n",
       "      <td>99215</td>\n",
       "      <td>Established patient office or other outpatient...</td>\n",
       "    </tr>\n",
       "    <tr>\n",
       "      <th>51</th>\n",
       "      <td>99212</td>\n",
       "      <td>Established patient office or other outpatient...</td>\n",
       "    </tr>\n",
       "    <tr>\n",
       "      <th>110</th>\n",
       "      <td>83036</td>\n",
       "      <td>Hemoglobin A1C level</td>\n",
       "    </tr>\n",
       "    <tr>\n",
       "      <th>120</th>\n",
       "      <td>G0439</td>\n",
       "      <td>Annual wellness visit, includes a personalized...</td>\n",
       "    </tr>\n",
       "    <tr>\n",
       "      <th>121</th>\n",
       "      <td>Q2037</td>\n",
       "      <td>Influenza virus vaccine, split virus, when adm...</td>\n",
       "    </tr>\n",
       "    <tr>\n",
       "      <th>437</th>\n",
       "      <td>81002</td>\n",
       "      <td>Urinalysis, manual test</td>\n",
       "    </tr>\n",
       "    <tr>\n",
       "      <th>438</th>\n",
       "      <td>82962</td>\n",
       "      <td>Blood glucose (sugar) test performed by hand-h...</td>\n",
       "    </tr>\n",
       "    <tr>\n",
       "      <th>516</th>\n",
       "      <td>96372</td>\n",
       "      <td>Injection beneath the skin or into muscle for ...</td>\n",
       "    </tr>\n",
       "  </tbody>\n",
       "</table>\n",
       "</div>"
      ],
      "text/plain": [
       "    hcpcs_code                                  hcpcs_description\n",
       "8        90662    Vaccine for influenza for injection into muscle\n",
       "11       99213  Established patient office or other outpatient...\n",
       "12       99214  Established patient office or other outpatient...\n",
       "14       G0008          Administration of influenza virus vaccine\n",
       "16       Q2038  Influenza virus vaccine, split virus, when adm...\n",
       "17       36415  Insertion of needle into vein for collection o...\n",
       "19       93000  Routine EKG using at least 12 leads including ...\n",
       "37       99215  Established patient office or other outpatient...\n",
       "51       99212  Established patient office or other outpatient...\n",
       "110      83036                               Hemoglobin A1C level\n",
       "120      G0439  Annual wellness visit, includes a personalized...\n",
       "121      Q2037  Influenza virus vaccine, split virus, when adm...\n",
       "437      81002                            Urinalysis, manual test\n",
       "438      82962  Blood glucose (sugar) test performed by hand-h...\n",
       "516      96372  Injection beneath the skin or into muscle for ..."
      ]
     },
     "execution_count": 220,
     "metadata": {},
     "output_type": "execute_result"
    }
   ],
   "source": [
    "## Topic 1 - patient visit, routine (blood, urinalysis, vaccine)\n",
    "t = 1\n",
    "(payments.loc[payments.hcpcs_code.isin(topic_dict[t]), ['hcpcs_code','hcpcs_description']].\n",
    " drop_duplicates('hcpcs_code'))"
   ]
  },
  {
   "cell_type": "code",
   "execution_count": 221,
   "metadata": {
    "collapsed": false
   },
   "outputs": [
    {
     "data": {
      "text/html": [
       "<div>\n",
       "<table border=\"1\" class=\"dataframe\">\n",
       "  <thead>\n",
       "    <tr style=\"text-align: right;\">\n",
       "      <th></th>\n",
       "      <th>hcpcs_code</th>\n",
       "      <th>hcpcs_description</th>\n",
       "    </tr>\n",
       "  </thead>\n",
       "  <tbody>\n",
       "    <tr>\n",
       "      <th>175</th>\n",
       "      <td>99308</td>\n",
       "      <td>Subsequent nursing facility visit, typically 1...</td>\n",
       "    </tr>\n",
       "    <tr>\n",
       "      <th>178</th>\n",
       "      <td>G0180</td>\n",
       "      <td>Physician certification for medicare-covered h...</td>\n",
       "    </tr>\n",
       "    <tr>\n",
       "      <th>229</th>\n",
       "      <td>99306</td>\n",
       "      <td>Initial nursing facility visit, typically 45 m...</td>\n",
       "    </tr>\n",
       "    <tr>\n",
       "      <th>230</th>\n",
       "      <td>99309</td>\n",
       "      <td>Subsequent nursing facility visit, typically 2...</td>\n",
       "    </tr>\n",
       "    <tr>\n",
       "      <th>367</th>\n",
       "      <td>99334</td>\n",
       "      <td>Established patient assisted living visit, typ...</td>\n",
       "    </tr>\n",
       "    <tr>\n",
       "      <th>368</th>\n",
       "      <td>99335</td>\n",
       "      <td>Established patient assisted living visit, typ...</td>\n",
       "    </tr>\n",
       "    <tr>\n",
       "      <th>369</th>\n",
       "      <td>99336</td>\n",
       "      <td>Established patient assisted living visit, typ...</td>\n",
       "    </tr>\n",
       "    <tr>\n",
       "      <th>674</th>\n",
       "      <td>99305</td>\n",
       "      <td>Initial nursing facility visit, typically 35 m...</td>\n",
       "    </tr>\n",
       "    <tr>\n",
       "      <th>676</th>\n",
       "      <td>99307</td>\n",
       "      <td>Subsequent nursing facility visit, typically 1...</td>\n",
       "    </tr>\n",
       "    <tr>\n",
       "      <th>702</th>\n",
       "      <td>99310</td>\n",
       "      <td>Subsequent nursing facility visit, typically 3...</td>\n",
       "    </tr>\n",
       "    <tr>\n",
       "      <th>845</th>\n",
       "      <td>99337</td>\n",
       "      <td>Established patient assisted living visit, typ...</td>\n",
       "    </tr>\n",
       "    <tr>\n",
       "      <th>1369</th>\n",
       "      <td>G0447</td>\n",
       "      <td>Face-to-face behavioral counseling for obesity...</td>\n",
       "    </tr>\n",
       "    <tr>\n",
       "      <th>1915</th>\n",
       "      <td>G0442</td>\n",
       "      <td>Annual alcohol misuse screening, 15 minutes</td>\n",
       "    </tr>\n",
       "    <tr>\n",
       "      <th>5377</th>\n",
       "      <td>G0446</td>\n",
       "      <td>Annual, face-to-face intensive behavioral ther...</td>\n",
       "    </tr>\n",
       "    <tr>\n",
       "      <th>5694</th>\n",
       "      <td>36410</td>\n",
       "      <td>Insertion of needle into vein, patient 3 years...</td>\n",
       "    </tr>\n",
       "  </tbody>\n",
       "</table>\n",
       "</div>"
      ],
      "text/plain": [
       "     hcpcs_code                                  hcpcs_description\n",
       "175       99308  Subsequent nursing facility visit, typically 1...\n",
       "178       G0180  Physician certification for medicare-covered h...\n",
       "229       99306  Initial nursing facility visit, typically 45 m...\n",
       "230       99309  Subsequent nursing facility visit, typically 2...\n",
       "367       99334  Established patient assisted living visit, typ...\n",
       "368       99335  Established patient assisted living visit, typ...\n",
       "369       99336  Established patient assisted living visit, typ...\n",
       "674       99305  Initial nursing facility visit, typically 35 m...\n",
       "676       99307  Subsequent nursing facility visit, typically 1...\n",
       "702       99310  Subsequent nursing facility visit, typically 3...\n",
       "845       99337  Established patient assisted living visit, typ...\n",
       "1369      G0447  Face-to-face behavioral counseling for obesity...\n",
       "1915      G0442        Annual alcohol misuse screening, 15 minutes\n",
       "5377      G0446  Annual, face-to-face intensive behavioral ther...\n",
       "5694      36410  Insertion of needle into vein, patient 3 years..."
      ]
     },
     "execution_count": 221,
     "metadata": {},
     "output_type": "execute_result"
    }
   ],
   "source": [
    "## Topic 2 - nursing facility, assisted living, behavioral therapy\n",
    "t = 2\n",
    "(payments.loc[payments.hcpcs_code.isin(topic_dict[t]), ['hcpcs_code','hcpcs_description']].\n",
    " drop_duplicates('hcpcs_code'))"
   ]
  },
  {
   "cell_type": "code",
   "execution_count": 222,
   "metadata": {
    "collapsed": false
   },
   "outputs": [
    {
     "data": {
      "text/html": [
       "<div>\n",
       "<table border=\"1\" class=\"dataframe\">\n",
       "  <thead>\n",
       "    <tr style=\"text-align: right;\">\n",
       "      <th></th>\n",
       "      <th>hcpcs_code</th>\n",
       "      <th>hcpcs_description</th>\n",
       "    </tr>\n",
       "  </thead>\n",
       "  <tbody>\n",
       "    <tr>\n",
       "      <th>11</th>\n",
       "      <td>99213</td>\n",
       "      <td>Established patient office or other outpatient...</td>\n",
       "    </tr>\n",
       "    <tr>\n",
       "      <th>12</th>\n",
       "      <td>99214</td>\n",
       "      <td>Established patient office or other outpatient...</td>\n",
       "    </tr>\n",
       "    <tr>\n",
       "      <th>14</th>\n",
       "      <td>G0008</td>\n",
       "      <td>Administration of influenza virus vaccine</td>\n",
       "    </tr>\n",
       "    <tr>\n",
       "      <th>19</th>\n",
       "      <td>93000</td>\n",
       "      <td>Routine EKG using at least 12 leads including ...</td>\n",
       "    </tr>\n",
       "    <tr>\n",
       "      <th>33</th>\n",
       "      <td>99204</td>\n",
       "      <td>New patient office or other outpatient visit, ...</td>\n",
       "    </tr>\n",
       "    <tr>\n",
       "      <th>34</th>\n",
       "      <td>99205</td>\n",
       "      <td>New patient office or other outpatient visit, ...</td>\n",
       "    </tr>\n",
       "    <tr>\n",
       "      <th>37</th>\n",
       "      <td>99215</td>\n",
       "      <td>Established patient office or other outpatient...</td>\n",
       "    </tr>\n",
       "    <tr>\n",
       "      <th>121</th>\n",
       "      <td>Q2037</td>\n",
       "      <td>Influenza virus vaccine, split virus, when adm...</td>\n",
       "    </tr>\n",
       "    <tr>\n",
       "      <th>178</th>\n",
       "      <td>G0180</td>\n",
       "      <td>Physician certification for medicare-covered h...</td>\n",
       "    </tr>\n",
       "    <tr>\n",
       "      <th>412</th>\n",
       "      <td>G0434</td>\n",
       "      <td>Drug screen, other than chromatographic; any n...</td>\n",
       "    </tr>\n",
       "    <tr>\n",
       "      <th>420</th>\n",
       "      <td>G0179</td>\n",
       "      <td>Physician re-certification for medicare-covere...</td>\n",
       "    </tr>\n",
       "    <tr>\n",
       "      <th>981</th>\n",
       "      <td>90656</td>\n",
       "      <td>Vaccine for influenza for injection into muscl...</td>\n",
       "    </tr>\n",
       "    <tr>\n",
       "      <th>1593</th>\n",
       "      <td>99354</td>\n",
       "      <td>Prolonged office or other outpatient service f...</td>\n",
       "    </tr>\n",
       "    <tr>\n",
       "      <th>4485</th>\n",
       "      <td>J1080</td>\n",
       "      <td>Injection, testosterone cypionate, 1 cc, 200 mg</td>\n",
       "    </tr>\n",
       "    <tr>\n",
       "      <th>11642</th>\n",
       "      <td>95117</td>\n",
       "      <td>Injection of incremental dosages of allergen, ...</td>\n",
       "    </tr>\n",
       "  </tbody>\n",
       "</table>\n",
       "</div>"
      ],
      "text/plain": [
       "      hcpcs_code                                  hcpcs_description\n",
       "11         99213  Established patient office or other outpatient...\n",
       "12         99214  Established patient office or other outpatient...\n",
       "14         G0008          Administration of influenza virus vaccine\n",
       "19         93000  Routine EKG using at least 12 leads including ...\n",
       "33         99204  New patient office or other outpatient visit, ...\n",
       "34         99205  New patient office or other outpatient visit, ...\n",
       "37         99215  Established patient office or other outpatient...\n",
       "121        Q2037  Influenza virus vaccine, split virus, when adm...\n",
       "178        G0180  Physician certification for medicare-covered h...\n",
       "412        G0434  Drug screen, other than chromatographic; any n...\n",
       "420        G0179  Physician re-certification for medicare-covere...\n",
       "981        90656  Vaccine for influenza for injection into muscl...\n",
       "1593       99354  Prolonged office or other outpatient service f...\n",
       "4485       J1080    Injection, testosterone cypionate, 1 cc, 200 mg\n",
       "11642      95117  Injection of incremental dosages of allergen, ..."
      ]
     },
     "execution_count": 222,
     "metadata": {},
     "output_type": "execute_result"
    }
   ],
   "source": [
    "## Topic 3 - office visit + random\n",
    "t = 3\n",
    "(payments.loc[payments.hcpcs_code.isin(topic_dict[t]), ['hcpcs_code','hcpcs_description']].\n",
    " drop_duplicates('hcpcs_code'))"
   ]
  },
  {
   "cell_type": "code",
   "execution_count": 223,
   "metadata": {
    "collapsed": false
   },
   "outputs": [
    {
     "data": {
      "text/html": [
       "<div>\n",
       "<table border=\"1\" class=\"dataframe\">\n",
       "  <thead>\n",
       "    <tr style=\"text-align: right;\">\n",
       "      <th></th>\n",
       "      <th>hcpcs_code</th>\n",
       "      <th>hcpcs_description</th>\n",
       "    </tr>\n",
       "  </thead>\n",
       "  <tbody>\n",
       "    <tr>\n",
       "      <th>17</th>\n",
       "      <td>36415</td>\n",
       "      <td>Insertion of needle into vein for collection o...</td>\n",
       "    </tr>\n",
       "    <tr>\n",
       "      <th>105</th>\n",
       "      <td>80048</td>\n",
       "      <td>Blood test, basic group of blood chemicals</td>\n",
       "    </tr>\n",
       "    <tr>\n",
       "      <th>106</th>\n",
       "      <td>80053</td>\n",
       "      <td>Blood test, comprehensive group of blood chemi...</td>\n",
       "    </tr>\n",
       "    <tr>\n",
       "      <th>107</th>\n",
       "      <td>80061</td>\n",
       "      <td>Blood test, lipids (cholesterol and triglyceri...</td>\n",
       "    </tr>\n",
       "    <tr>\n",
       "      <th>108</th>\n",
       "      <td>81003</td>\n",
       "      <td>Automated urinalysis test</td>\n",
       "    </tr>\n",
       "    <tr>\n",
       "      <th>109</th>\n",
       "      <td>82043</td>\n",
       "      <td>Urine microalbumin (protein) level</td>\n",
       "    </tr>\n",
       "    <tr>\n",
       "      <th>110</th>\n",
       "      <td>83036</td>\n",
       "      <td>Hemoglobin A1C level</td>\n",
       "    </tr>\n",
       "    <tr>\n",
       "      <th>111</th>\n",
       "      <td>84439</td>\n",
       "      <td>Thyroxine (thyroid chemical) measurement</td>\n",
       "    </tr>\n",
       "    <tr>\n",
       "      <th>112</th>\n",
       "      <td>84443</td>\n",
       "      <td>Blood test, thyroid stimulating hormone (TSH)</td>\n",
       "    </tr>\n",
       "    <tr>\n",
       "      <th>113</th>\n",
       "      <td>85025</td>\n",
       "      <td>Complete blood cell count (red cells, white bl...</td>\n",
       "    </tr>\n",
       "    <tr>\n",
       "      <th>146</th>\n",
       "      <td>81001</td>\n",
       "      <td>Manual urinalysis test with examination using ...</td>\n",
       "    </tr>\n",
       "    <tr>\n",
       "      <th>269</th>\n",
       "      <td>85027</td>\n",
       "      <td>Complete blood cell count (red cells, white bl...</td>\n",
       "    </tr>\n",
       "    <tr>\n",
       "      <th>270</th>\n",
       "      <td>85610</td>\n",
       "      <td>Blood test, clotting time</td>\n",
       "    </tr>\n",
       "    <tr>\n",
       "      <th>606</th>\n",
       "      <td>82306</td>\n",
       "      <td>Vitamin D-3 level</td>\n",
       "    </tr>\n",
       "    <tr>\n",
       "      <th>1540</th>\n",
       "      <td>82570</td>\n",
       "      <td>Creatinine level to test for kidney function o...</td>\n",
       "    </tr>\n",
       "  </tbody>\n",
       "</table>\n",
       "</div>"
      ],
      "text/plain": [
       "     hcpcs_code                                  hcpcs_description\n",
       "17        36415  Insertion of needle into vein for collection o...\n",
       "105       80048         Blood test, basic group of blood chemicals\n",
       "106       80053  Blood test, comprehensive group of blood chemi...\n",
       "107       80061  Blood test, lipids (cholesterol and triglyceri...\n",
       "108       81003                          Automated urinalysis test\n",
       "109       82043                 Urine microalbumin (protein) level\n",
       "110       83036                               Hemoglobin A1C level\n",
       "111       84439           Thyroxine (thyroid chemical) measurement\n",
       "112       84443      Blood test, thyroid stimulating hormone (TSH)\n",
       "113       85025  Complete blood cell count (red cells, white bl...\n",
       "146       81001  Manual urinalysis test with examination using ...\n",
       "269       85027  Complete blood cell count (red cells, white bl...\n",
       "270       85610                          Blood test, clotting time\n",
       "606       82306                                  Vitamin D-3 level\n",
       "1540      82570  Creatinine level to test for kidney function o..."
      ]
     },
     "execution_count": 223,
     "metadata": {},
     "output_type": "execute_result"
    }
   ],
   "source": [
    "## Topic 4 - blood testing\n",
    "t = 4\n",
    "(payments.loc[payments.hcpcs_code.isin(topic_dict[t]), ['hcpcs_code','hcpcs_description']].\n",
    " drop_duplicates('hcpcs_code'))"
   ]
  },
  {
   "cell_type": "code",
   "execution_count": 224,
   "metadata": {
    "collapsed": false
   },
   "outputs": [
    {
     "data": {
      "text/html": [
       "<div>\n",
       "<table border=\"1\" class=\"dataframe\">\n",
       "  <thead>\n",
       "    <tr style=\"text-align: right;\">\n",
       "      <th></th>\n",
       "      <th>hcpcs_code</th>\n",
       "      <th>hcpcs_description</th>\n",
       "    </tr>\n",
       "  </thead>\n",
       "  <tbody>\n",
       "    <tr>\n",
       "      <th>10</th>\n",
       "      <td>99203</td>\n",
       "      <td>New patient office or other outpatient visit, ...</td>\n",
       "    </tr>\n",
       "    <tr>\n",
       "      <th>11</th>\n",
       "      <td>99213</td>\n",
       "      <td>Established patient office or other outpatient...</td>\n",
       "    </tr>\n",
       "    <tr>\n",
       "      <th>12</th>\n",
       "      <td>99214</td>\n",
       "      <td>Established patient office or other outpatient...</td>\n",
       "    </tr>\n",
       "    <tr>\n",
       "      <th>33</th>\n",
       "      <td>99204</td>\n",
       "      <td>New patient office or other outpatient visit, ...</td>\n",
       "    </tr>\n",
       "    <tr>\n",
       "      <th>103</th>\n",
       "      <td>71020</td>\n",
       "      <td>X-ray of chest, 2 views, front and side</td>\n",
       "    </tr>\n",
       "    <tr>\n",
       "      <th>125</th>\n",
       "      <td>94060</td>\n",
       "      <td>Measurement and graphic recording of the amoun...</td>\n",
       "    </tr>\n",
       "    <tr>\n",
       "      <th>127</th>\n",
       "      <td>94726</td>\n",
       "      <td>Determination of lung volumes using plethysmog...</td>\n",
       "    </tr>\n",
       "    <tr>\n",
       "      <th>128</th>\n",
       "      <td>94729</td>\n",
       "      <td>Measurement of lung diffusing capacity</td>\n",
       "    </tr>\n",
       "    <tr>\n",
       "      <th>184</th>\n",
       "      <td>90960</td>\n",
       "      <td>Dialysis services (4 or more physician visits ...</td>\n",
       "    </tr>\n",
       "    <tr>\n",
       "      <th>185</th>\n",
       "      <td>90961</td>\n",
       "      <td>Dialysis services (2-3 physician visits per mo...</td>\n",
       "    </tr>\n",
       "    <tr>\n",
       "      <th>393</th>\n",
       "      <td>94010</td>\n",
       "      <td>Measurement and graphic recording of total and...</td>\n",
       "    </tr>\n",
       "    <tr>\n",
       "      <th>467</th>\n",
       "      <td>94727</td>\n",
       "      <td>Determination of lung volumes using gas diluti...</td>\n",
       "    </tr>\n",
       "    <tr>\n",
       "      <th>1078</th>\n",
       "      <td>99202</td>\n",
       "      <td>New patient office or other outpatient visit, ...</td>\n",
       "    </tr>\n",
       "    <tr>\n",
       "      <th>1473</th>\n",
       "      <td>80047</td>\n",
       "      <td>Blood test, basic group of blood chemicals</td>\n",
       "    </tr>\n",
       "    <tr>\n",
       "      <th>1478</th>\n",
       "      <td>87880</td>\n",
       "      <td>Strep test (Streptococcus, group A)</td>\n",
       "    </tr>\n",
       "  </tbody>\n",
       "</table>\n",
       "</div>"
      ],
      "text/plain": [
       "     hcpcs_code                                  hcpcs_description\n",
       "10        99203  New patient office or other outpatient visit, ...\n",
       "11        99213  Established patient office or other outpatient...\n",
       "12        99214  Established patient office or other outpatient...\n",
       "33        99204  New patient office or other outpatient visit, ...\n",
       "103       71020            X-ray of chest, 2 views, front and side\n",
       "125       94060  Measurement and graphic recording of the amoun...\n",
       "127       94726  Determination of lung volumes using plethysmog...\n",
       "128       94729             Measurement of lung diffusing capacity\n",
       "184       90960  Dialysis services (4 or more physician visits ...\n",
       "185       90961  Dialysis services (2-3 physician visits per mo...\n",
       "393       94010  Measurement and graphic recording of total and...\n",
       "467       94727  Determination of lung volumes using gas diluti...\n",
       "1078      99202  New patient office or other outpatient visit, ...\n",
       "1473      80047         Blood test, basic group of blood chemicals\n",
       "1478      87880                Strep test (Streptococcus, group A)"
      ]
     },
     "execution_count": 224,
     "metadata": {},
     "output_type": "execute_result"
    }
   ],
   "source": [
    "## Topic 5 - lung/chest, random\n",
    "t = 5\n",
    "(payments.loc[payments.hcpcs_code.isin(topic_dict[t]), ['hcpcs_code','hcpcs_description']].\n",
    " drop_duplicates('hcpcs_code'))"
   ]
  },
  {
   "cell_type": "code",
   "execution_count": 225,
   "metadata": {
    "collapsed": false
   },
   "outputs": [
    {
     "data": {
      "text/html": [
       "<div>\n",
       "<table border=\"1\" class=\"dataframe\">\n",
       "  <thead>\n",
       "    <tr style=\"text-align: right;\">\n",
       "      <th></th>\n",
       "      <th>hcpcs_code</th>\n",
       "      <th>hcpcs_description</th>\n",
       "    </tr>\n",
       "  </thead>\n",
       "  <tbody>\n",
       "    <tr>\n",
       "      <th>44</th>\n",
       "      <td>96365</td>\n",
       "      <td>Infusion into a vein for therapy, prevention, ...</td>\n",
       "    </tr>\n",
       "    <tr>\n",
       "      <th>47</th>\n",
       "      <td>96413</td>\n",
       "      <td>Infusion of chemotherapy into a vein up to 1 hour</td>\n",
       "    </tr>\n",
       "    <tr>\n",
       "      <th>48</th>\n",
       "      <td>96415</td>\n",
       "      <td>Infusion of chemotherapy into a vein</td>\n",
       "    </tr>\n",
       "    <tr>\n",
       "      <th>58</th>\n",
       "      <td>J7050</td>\n",
       "      <td>Infusion, normal saline solution , 250 cc</td>\n",
       "    </tr>\n",
       "    <tr>\n",
       "      <th>420</th>\n",
       "      <td>G0179</td>\n",
       "      <td>Physician re-certification for medicare-covere...</td>\n",
       "    </tr>\n",
       "    <tr>\n",
       "      <th>629</th>\n",
       "      <td>99349</td>\n",
       "      <td>Established patient home visit, typically 40 m...</td>\n",
       "    </tr>\n",
       "    <tr>\n",
       "      <th>1244</th>\n",
       "      <td>96367</td>\n",
       "      <td>Infusion into a vein for therapy prevention or...</td>\n",
       "    </tr>\n",
       "    <tr>\n",
       "      <th>1246</th>\n",
       "      <td>96375</td>\n",
       "      <td>Injection of different drug or substance into ...</td>\n",
       "    </tr>\n",
       "    <tr>\n",
       "      <th>1520</th>\n",
       "      <td>99350</td>\n",
       "      <td>Established patient home visit, typically 60 m...</td>\n",
       "    </tr>\n",
       "    <tr>\n",
       "      <th>1598</th>\n",
       "      <td>G0181</td>\n",
       "      <td>Physician supervision of a patient receiving m...</td>\n",
       "    </tr>\n",
       "    <tr>\n",
       "      <th>1744</th>\n",
       "      <td>83037</td>\n",
       "      <td>Hemoglobin A1C level</td>\n",
       "    </tr>\n",
       "    <tr>\n",
       "      <th>3730</th>\n",
       "      <td>83718</td>\n",
       "      <td>HDL cholesterol level</td>\n",
       "    </tr>\n",
       "    <tr>\n",
       "      <th>4580</th>\n",
       "      <td>99348</td>\n",
       "      <td>Established patient home visit, typically 25 m...</td>\n",
       "    </tr>\n",
       "    <tr>\n",
       "      <th>5794</th>\n",
       "      <td>99407</td>\n",
       "      <td>Smoking and tobacco use intensive counseling, ...</td>\n",
       "    </tr>\n",
       "    <tr>\n",
       "      <th>40863</th>\n",
       "      <td>G0431</td>\n",
       "      <td>Drug screen, qualitative; multiple drug classe...</td>\n",
       "    </tr>\n",
       "  </tbody>\n",
       "</table>\n",
       "</div>"
      ],
      "text/plain": [
       "      hcpcs_code                                  hcpcs_description\n",
       "44         96365  Infusion into a vein for therapy, prevention, ...\n",
       "47         96413  Infusion of chemotherapy into a vein up to 1 hour\n",
       "48         96415               Infusion of chemotherapy into a vein\n",
       "58         J7050          Infusion, normal saline solution , 250 cc\n",
       "420        G0179  Physician re-certification for medicare-covere...\n",
       "629        99349  Established patient home visit, typically 40 m...\n",
       "1244       96367  Infusion into a vein for therapy prevention or...\n",
       "1246       96375  Injection of different drug or substance into ...\n",
       "1520       99350  Established patient home visit, typically 60 m...\n",
       "1598       G0181  Physician supervision of a patient receiving m...\n",
       "1744       83037                               Hemoglobin A1C level\n",
       "3730       83718                              HDL cholesterol level\n",
       "4580       99348  Established patient home visit, typically 25 m...\n",
       "5794       99407  Smoking and tobacco use intensive counseling, ...\n",
       "40863      G0431  Drug screen, qualitative; multiple drug classe..."
      ]
     },
     "execution_count": 225,
     "metadata": {},
     "output_type": "execute_result"
    }
   ],
   "source": [
    "## Topic 6 - random\n",
    "t = 6\n",
    "(payments.loc[payments.hcpcs_code.isin(topic_dict[t]), ['hcpcs_code','hcpcs_description']].\n",
    " drop_duplicates('hcpcs_code'))"
   ]
  },
  {
   "cell_type": "code",
   "execution_count": 226,
   "metadata": {
    "collapsed": false
   },
   "outputs": [
    {
     "data": {
      "text/html": [
       "<div>\n",
       "<table border=\"1\" class=\"dataframe\">\n",
       "  <thead>\n",
       "    <tr style=\"text-align: right;\">\n",
       "      <th></th>\n",
       "      <th>hcpcs_code</th>\n",
       "      <th>hcpcs_description</th>\n",
       "    </tr>\n",
       "  </thead>\n",
       "  <tbody>\n",
       "    <tr>\n",
       "      <th>10</th>\n",
       "      <td>99203</td>\n",
       "      <td>New patient office or other outpatient visit, ...</td>\n",
       "    </tr>\n",
       "    <tr>\n",
       "      <th>11</th>\n",
       "      <td>99213</td>\n",
       "      <td>Established patient office or other outpatient...</td>\n",
       "    </tr>\n",
       "    <tr>\n",
       "      <th>12</th>\n",
       "      <td>99214</td>\n",
       "      <td>Established patient office or other outpatient...</td>\n",
       "    </tr>\n",
       "    <tr>\n",
       "      <th>14</th>\n",
       "      <td>G0008</td>\n",
       "      <td>Administration of influenza virus vaccine</td>\n",
       "    </tr>\n",
       "    <tr>\n",
       "      <th>19</th>\n",
       "      <td>93000</td>\n",
       "      <td>Routine EKG using at least 12 leads including ...</td>\n",
       "    </tr>\n",
       "    <tr>\n",
       "      <th>24</th>\n",
       "      <td>93280</td>\n",
       "      <td>Evaluation, testing, and programming adjustmen...</td>\n",
       "    </tr>\n",
       "    <tr>\n",
       "      <th>33</th>\n",
       "      <td>99204</td>\n",
       "      <td>New patient office or other outpatient visit, ...</td>\n",
       "    </tr>\n",
       "    <tr>\n",
       "      <th>37</th>\n",
       "      <td>99215</td>\n",
       "      <td>Established patient office or other outpatient...</td>\n",
       "    </tr>\n",
       "    <tr>\n",
       "      <th>51</th>\n",
       "      <td>99212</td>\n",
       "      <td>Established patient office or other outpatient...</td>\n",
       "    </tr>\n",
       "    <tr>\n",
       "      <th>120</th>\n",
       "      <td>G0439</td>\n",
       "      <td>Annual wellness visit, includes a personalized...</td>\n",
       "    </tr>\n",
       "    <tr>\n",
       "      <th>121</th>\n",
       "      <td>Q2037</td>\n",
       "      <td>Influenza virus vaccine, split virus, when adm...</td>\n",
       "    </tr>\n",
       "    <tr>\n",
       "      <th>178</th>\n",
       "      <td>G0180</td>\n",
       "      <td>Physician certification for medicare-covered h...</td>\n",
       "    </tr>\n",
       "    <tr>\n",
       "      <th>282</th>\n",
       "      <td>Q2035</td>\n",
       "      <td>Influenza virus vaccine, split virus, when adm...</td>\n",
       "    </tr>\n",
       "    <tr>\n",
       "      <th>1578</th>\n",
       "      <td>97110</td>\n",
       "      <td>Therapeutic exercise to develop strength, endu...</td>\n",
       "    </tr>\n",
       "    <tr>\n",
       "      <th>4194</th>\n",
       "      <td>97140</td>\n",
       "      <td>Manual (physical) therapy techniques to 1 or m...</td>\n",
       "    </tr>\n",
       "  </tbody>\n",
       "</table>\n",
       "</div>"
      ],
      "text/plain": [
       "     hcpcs_code                                  hcpcs_description\n",
       "10        99203  New patient office or other outpatient visit, ...\n",
       "11        99213  Established patient office or other outpatient...\n",
       "12        99214  Established patient office or other outpatient...\n",
       "14        G0008          Administration of influenza virus vaccine\n",
       "19        93000  Routine EKG using at least 12 leads including ...\n",
       "24        93280  Evaluation, testing, and programming adjustmen...\n",
       "33        99204  New patient office or other outpatient visit, ...\n",
       "37        99215  Established patient office or other outpatient...\n",
       "51        99212  Established patient office or other outpatient...\n",
       "120       G0439  Annual wellness visit, includes a personalized...\n",
       "121       Q2037  Influenza virus vaccine, split virus, when adm...\n",
       "178       G0180  Physician certification for medicare-covered h...\n",
       "282       Q2035  Influenza virus vaccine, split virus, when adm...\n",
       "1578      97110  Therapeutic exercise to develop strength, endu...\n",
       "4194      97140  Manual (physical) therapy techniques to 1 or m..."
      ]
     },
     "execution_count": 226,
     "metadata": {},
     "output_type": "execute_result"
    }
   ],
   "source": [
    "## Topic 7 - patient visit\n",
    "t = 7\n",
    "(payments.loc[payments.hcpcs_code.isin(topic_dict[t]), ['hcpcs_code','hcpcs_description']].\n",
    " drop_duplicates('hcpcs_code'))"
   ]
  },
  {
   "cell_type": "code",
   "execution_count": 227,
   "metadata": {
    "collapsed": false
   },
   "outputs": [
    {
     "data": {
      "text/html": [
       "<div>\n",
       "<table border=\"1\" class=\"dataframe\">\n",
       "  <thead>\n",
       "    <tr style=\"text-align: right;\">\n",
       "      <th></th>\n",
       "      <th>hcpcs_code</th>\n",
       "      <th>hcpcs_description</th>\n",
       "    </tr>\n",
       "  </thead>\n",
       "  <tbody>\n",
       "    <tr>\n",
       "      <th>11</th>\n",
       "      <td>99213</td>\n",
       "      <td>Established patient office or other outpatient...</td>\n",
       "    </tr>\n",
       "    <tr>\n",
       "      <th>12</th>\n",
       "      <td>99214</td>\n",
       "      <td>Established patient office or other outpatient...</td>\n",
       "    </tr>\n",
       "    <tr>\n",
       "      <th>17</th>\n",
       "      <td>36415</td>\n",
       "      <td>Insertion of needle into vein for collection o...</td>\n",
       "    </tr>\n",
       "    <tr>\n",
       "      <th>19</th>\n",
       "      <td>93000</td>\n",
       "      <td>Routine EKG using at least 12 leads including ...</td>\n",
       "    </tr>\n",
       "    <tr>\n",
       "      <th>20</th>\n",
       "      <td>93010</td>\n",
       "      <td>Routine electrocardiogram (EKG) using at least...</td>\n",
       "    </tr>\n",
       "    <tr>\n",
       "      <th>26</th>\n",
       "      <td>93306</td>\n",
       "      <td>Ultrasound examination of heart including colo...</td>\n",
       "    </tr>\n",
       "    <tr>\n",
       "      <th>31</th>\n",
       "      <td>93880</td>\n",
       "      <td>Ultrasound scanning of blood flow (outside the...</td>\n",
       "    </tr>\n",
       "    <tr>\n",
       "      <th>42</th>\n",
       "      <td>20610</td>\n",
       "      <td>Aspiration and/or injection of large joint or ...</td>\n",
       "    </tr>\n",
       "    <tr>\n",
       "      <th>516</th>\n",
       "      <td>96372</td>\n",
       "      <td>Injection beneath the skin or into muscle for ...</td>\n",
       "    </tr>\n",
       "    <tr>\n",
       "      <th>815</th>\n",
       "      <td>J0696</td>\n",
       "      <td>Injection, ceftriaxone sodium, per 250 mg</td>\n",
       "    </tr>\n",
       "    <tr>\n",
       "      <th>816</th>\n",
       "      <td>J1030</td>\n",
       "      <td>Injection, methylprednisolone acetate, 40 mg</td>\n",
       "    </tr>\n",
       "    <tr>\n",
       "      <th>817</th>\n",
       "      <td>J3420</td>\n",
       "      <td>Injection, vitamin b-12 cyanocobalamin, up  to...</td>\n",
       "    </tr>\n",
       "    <tr>\n",
       "      <th>994</th>\n",
       "      <td>J3301</td>\n",
       "      <td>Injection, triamcinolone  acetonide, not other...</td>\n",
       "    </tr>\n",
       "    <tr>\n",
       "      <th>1213</th>\n",
       "      <td>J1040</td>\n",
       "      <td>Injection, methylprednisolone acetate, 80 mg</td>\n",
       "    </tr>\n",
       "    <tr>\n",
       "      <th>1254</th>\n",
       "      <td>J1100</td>\n",
       "      <td>Injection, dexamethasone sodium phosphate, 1mg</td>\n",
       "    </tr>\n",
       "  </tbody>\n",
       "</table>\n",
       "</div>"
      ],
      "text/plain": [
       "     hcpcs_code                                  hcpcs_description\n",
       "11        99213  Established patient office or other outpatient...\n",
       "12        99214  Established patient office or other outpatient...\n",
       "17        36415  Insertion of needle into vein for collection o...\n",
       "19        93000  Routine EKG using at least 12 leads including ...\n",
       "20        93010  Routine electrocardiogram (EKG) using at least...\n",
       "26        93306  Ultrasound examination of heart including colo...\n",
       "31        93880  Ultrasound scanning of blood flow (outside the...\n",
       "42        20610  Aspiration and/or injection of large joint or ...\n",
       "516       96372  Injection beneath the skin or into muscle for ...\n",
       "815       J0696          Injection, ceftriaxone sodium, per 250 mg\n",
       "816       J1030       Injection, methylprednisolone acetate, 40 mg\n",
       "817       J3420  Injection, vitamin b-12 cyanocobalamin, up  to...\n",
       "994       J3301  Injection, triamcinolone  acetonide, not other...\n",
       "1213      J1040       Injection, methylprednisolone acetate, 80 mg\n",
       "1254      J1100     Injection, dexamethasone sodium phosphate, 1mg"
      ]
     },
     "execution_count": 227,
     "metadata": {},
     "output_type": "execute_result"
    }
   ],
   "source": [
    "## Topic 8 - injections\n",
    "t = 8\n",
    "(payments.loc[payments.hcpcs_code.isin(topic_dict[t]), ['hcpcs_code','hcpcs_description']].\n",
    " drop_duplicates('hcpcs_code'))"
   ]
  },
  {
   "cell_type": "code",
   "execution_count": 228,
   "metadata": {
    "collapsed": false
   },
   "outputs": [
    {
     "data": {
      "text/html": [
       "<div>\n",
       "<table border=\"1\" class=\"dataframe\">\n",
       "  <thead>\n",
       "    <tr style=\"text-align: right;\">\n",
       "      <th></th>\n",
       "      <th>hcpcs_code</th>\n",
       "      <th>hcpcs_description</th>\n",
       "    </tr>\n",
       "  </thead>\n",
       "  <tbody>\n",
       "    <tr>\n",
       "      <th>11</th>\n",
       "      <td>99213</td>\n",
       "      <td>Established patient office or other outpatient...</td>\n",
       "    </tr>\n",
       "    <tr>\n",
       "      <th>12</th>\n",
       "      <td>99214</td>\n",
       "      <td>Established patient office or other outpatient...</td>\n",
       "    </tr>\n",
       "    <tr>\n",
       "      <th>14</th>\n",
       "      <td>G0008</td>\n",
       "      <td>Administration of influenza virus vaccine</td>\n",
       "    </tr>\n",
       "    <tr>\n",
       "      <th>17</th>\n",
       "      <td>36415</td>\n",
       "      <td>Insertion of needle into vein for collection o...</td>\n",
       "    </tr>\n",
       "    <tr>\n",
       "      <th>37</th>\n",
       "      <td>99215</td>\n",
       "      <td>Established patient office or other outpatient...</td>\n",
       "    </tr>\n",
       "    <tr>\n",
       "      <th>51</th>\n",
       "      <td>99212</td>\n",
       "      <td>Established patient office or other outpatient...</td>\n",
       "    </tr>\n",
       "    <tr>\n",
       "      <th>108</th>\n",
       "      <td>81003</td>\n",
       "      <td>Automated urinalysis test</td>\n",
       "    </tr>\n",
       "    <tr>\n",
       "      <th>110</th>\n",
       "      <td>83036</td>\n",
       "      <td>Hemoglobin A1C level</td>\n",
       "    </tr>\n",
       "    <tr>\n",
       "      <th>120</th>\n",
       "      <td>G0439</td>\n",
       "      <td>Annual wellness visit, includes a personalized...</td>\n",
       "    </tr>\n",
       "    <tr>\n",
       "      <th>121</th>\n",
       "      <td>Q2037</td>\n",
       "      <td>Influenza virus vaccine, split virus, when adm...</td>\n",
       "    </tr>\n",
       "    <tr>\n",
       "      <th>270</th>\n",
       "      <td>85610</td>\n",
       "      <td>Blood test, clotting time</td>\n",
       "    </tr>\n",
       "    <tr>\n",
       "      <th>446</th>\n",
       "      <td>Q2036</td>\n",
       "      <td>Influenza virus vaccine, split virus, when adm...</td>\n",
       "    </tr>\n",
       "    <tr>\n",
       "      <th>516</th>\n",
       "      <td>96372</td>\n",
       "      <td>Injection beneath the skin or into muscle for ...</td>\n",
       "    </tr>\n",
       "    <tr>\n",
       "      <th>800</th>\n",
       "      <td>99211</td>\n",
       "      <td>Established patient office or other outpatient...</td>\n",
       "    </tr>\n",
       "    <tr>\n",
       "      <th>2336</th>\n",
       "      <td>82947</td>\n",
       "      <td>Blood glucose (sugar) level</td>\n",
       "    </tr>\n",
       "  </tbody>\n",
       "</table>\n",
       "</div>"
      ],
      "text/plain": [
       "     hcpcs_code                                  hcpcs_description\n",
       "11        99213  Established patient office or other outpatient...\n",
       "12        99214  Established patient office or other outpatient...\n",
       "14        G0008          Administration of influenza virus vaccine\n",
       "17        36415  Insertion of needle into vein for collection o...\n",
       "37        99215  Established patient office or other outpatient...\n",
       "51        99212  Established patient office or other outpatient...\n",
       "108       81003                          Automated urinalysis test\n",
       "110       83036                               Hemoglobin A1C level\n",
       "120       G0439  Annual wellness visit, includes a personalized...\n",
       "121       Q2037  Influenza virus vaccine, split virus, when adm...\n",
       "270       85610                          Blood test, clotting time\n",
       "446       Q2036  Influenza virus vaccine, split virus, when adm...\n",
       "516       96372  Injection beneath the skin or into muscle for ...\n",
       "800       99211  Established patient office or other outpatient...\n",
       "2336      82947                        Blood glucose (sugar) level"
      ]
     },
     "execution_count": 228,
     "metadata": {},
     "output_type": "execute_result"
    }
   ],
   "source": [
    "## Topic 9 - patient visit, blood test\n",
    "t = 9\n",
    "(payments.loc[payments.hcpcs_code.isin(topic_dict[t]), ['hcpcs_code','hcpcs_description']].\n",
    " drop_duplicates('hcpcs_code'))"
   ]
  },
  {
   "cell_type": "markdown",
   "metadata": {},
   "source": [
    "## Plot distribution of providers per topic"
   ]
  },
  {
   "cell_type": "code",
   "execution_count": 97,
   "metadata": {
    "collapsed": false
   },
   "outputs": [],
   "source": [
    "## per document (provider), assign topic based on highest-probability topic out of the 10\n",
    "topic_per_doc = []\n",
    "for i in corpus_tfidf:\n",
    "    topic_per_doc.append(np.argmax(np.array(ldamodel.get_document_topics(i))[:,1]))"
   ]
  },
  {
   "cell_type": "code",
   "execution_count": 98,
   "metadata": {
    "collapsed": false
   },
   "outputs": [
    {
     "data": {
      "text/plain": [
       "57331"
      ]
     },
     "execution_count": 98,
     "metadata": {},
     "output_type": "execute_result"
    }
   ],
   "source": [
    "len(topic_per_doc)"
   ]
  },
  {
   "cell_type": "code",
   "execution_count": 150,
   "metadata": {
    "collapsed": false
   },
   "outputs": [
    {
     "data": {
      "image/png": "[encoded data removed]",
      "text/plain": [
       "<matplotlib.figure.Figure at 0x7f61d4839080>"
      ]
     },
     "metadata": {},
     "output_type": "display_data"
    }
   ],
   "source": [
    "## distribution of providers among topics\n",
    "ax = sns.countplot(x='topic',data=pd.DataFrame(topic_per_doc).rename(columns={0:'topic'}))\n",
    "sns.despine()"
   ]
  },
  {
   "cell_type": "markdown",
   "metadata": {},
   "source": [
    "### fraudulent providers"
   ]
  },
  {
   "cell_type": "code",
   "execution_count": 118,
   "metadata": {
    "collapsed": false
   },
   "outputs": [
    {
     "data": {
      "text/plain": [
       "(44, 1)"
      ]
     },
     "execution_count": 118,
     "metadata": {},
     "output_type": "execute_result"
    }
   ],
   "source": [
    "## excluded npis of provider_type internal medicine (excl date > 2015-01-01)\n",
    "fraud_npi = pd.read_csv(\"internal_medicine_npi_fraud.csv\", dtype={'npi':str})\n",
    "fraud_npi.shape"
   ]
  },
  {
   "cell_type": "code",
   "execution_count": 119,
   "metadata": {
    "collapsed": true
   },
   "outputs": [],
   "source": [
    "## color code for plotting\n",
    "fraud_idx = by_npi.index.isin(list(fraud_npi['npi']))\n",
    "len(fraud_idx)"
   ]
  },
  {
   "cell_type": "code",
   "execution_count": 187,
   "metadata": {
    "collapsed": false
   },
   "outputs": [],
   "source": [
    "fraud_label = pd.DataFrame(fraud_idx, columns=['fraud'])\n",
    "fraud_label.loc[fraud_idx, 'fraud'] = '1'   # 1 for fraud\n",
    "fraud_label.loc[~fraud_idx, 'fraud'] = '0'"
   ]
  },
  {
   "cell_type": "code",
   "execution_count": 145,
   "metadata": {
    "collapsed": false
   },
   "outputs": [],
   "source": [
    "## plot number of docs per topic\n",
    "#topic_per_doc_df = (pd.Series(topic_per_doc).\n",
    "#                     value_counts().\n",
    "#                    to_frame().\n",
    "#                    reset_index().\n",
    "#                    rename(columns={'index':'topic',0:'number_of_providers'}))\n",
    "topic_per_doc_df = (pd.concat([pd.DataFrame(topic_per_doc), fraud_label], axis=1, ignore_index=True).\n",
    "                        rename(columns={0:'topic',1:'fraud'}))"
   ]
  },
  {
   "cell_type": "code",
   "execution_count": 146,
   "metadata": {
    "collapsed": false
   },
   "outputs": [
    {
     "data": {
      "text/html": [
       "<div>\n",
       "<table border=\"1\" class=\"dataframe\">\n",
       "  <thead>\n",
       "    <tr style=\"text-align: right;\">\n",
       "      <th></th>\n",
       "      <th>topic</th>\n",
       "      <th>fraud</th>\n",
       "    </tr>\n",
       "  </thead>\n",
       "  <tbody>\n",
       "    <tr>\n",
       "      <th>0</th>\n",
       "      <td>0</td>\n",
       "      <td>0</td>\n",
       "    </tr>\n",
       "    <tr>\n",
       "      <th>1</th>\n",
       "      <td>7</td>\n",
       "      <td>0</td>\n",
       "    </tr>\n",
       "    <tr>\n",
       "      <th>2</th>\n",
       "      <td>6</td>\n",
       "      <td>0</td>\n",
       "    </tr>\n",
       "    <tr>\n",
       "      <th>3</th>\n",
       "      <td>0</td>\n",
       "      <td>0</td>\n",
       "    </tr>\n",
       "    <tr>\n",
       "      <th>4</th>\n",
       "      <td>5</td>\n",
       "      <td>0</td>\n",
       "    </tr>\n",
       "  </tbody>\n",
       "</table>\n",
       "</div>"
      ],
      "text/plain": [
       "   topic fraud\n",
       "0      0     0\n",
       "1      7     0\n",
       "2      6     0\n",
       "3      0     0\n",
       "4      5     0"
      ]
     },
     "execution_count": 146,
     "metadata": {},
     "output_type": "execute_result"
    }
   ],
   "source": [
    "topic_per_doc_df.head()"
   ]
  },
  {
   "cell_type": "code",
   "execution_count": 152,
   "metadata": {
    "collapsed": false
   },
   "outputs": [
    {
     "data": {
      "image/png": "[encoded data removed]",
      "text/plain": [
       "<matplotlib.figure.Figure at 0x7f61d421a0b8>"
      ]
     },
     "metadata": {},
     "output_type": "display_data"
    }
   ],
   "source": [
    "## distribution of non-fraudulent providers among topics\n",
    "ax = sns.countplot(x='topic',data=topic_per_doc_df[topic_per_doc_df.fraud=='0'])"
   ]
  },
  {
   "cell_type": "code",
   "execution_count": 151,
   "metadata": {
    "collapsed": false
   },
   "outputs": [
    {
     "data": {
      "image/png": "[encoded data removed]",
      "text/plain": [
       "<matplotlib.figure.Figure at 0x7f61d3f1b160>"
      ]
     },
     "metadata": {},
     "output_type": "display_data"
    }
   ],
   "source": [
    "## distribution of fraudulent providers among topics\n",
    "ax = sns.countplot(x='topic', data=topic_per_doc_df[topic_per_doc_df.fraud=='1'])"
   ]
  },
  {
   "cell_type": "code",
   "execution_count": 160,
   "metadata": {
    "collapsed": false
   },
   "outputs": [],
   "source": [
    "mydf = topic_per_doc_df.reset_index().groupby(['topic','fraud']).count().rename(columns={'index':'counts'}).reset_index()"
   ]
  },
  {
   "cell_type": "code",
   "execution_count": 180,
   "metadata": {
    "collapsed": false
   },
   "outputs": [
    {
     "data": {
      "image/png": "[encoded data removed]",
      "text/plain": [
       "<matplotlib.figure.Figure at 0x7f61d1fc16a0>"
      ]
     },
     "metadata": {},
     "output_type": "display_data"
    }
   ],
   "source": [
    "fig = plt.figure()\n",
    "ax = fig.add_subplot(111)\n",
    "\n",
    "space = 0.3\n",
    "\n",
    "categories = range(10) #topics\n",
    "conditions = ['0','1'] #fraud label\n",
    "\n",
    "n = len(conditions)\n",
    "\n",
    "width = (1 - space) / (len(conditions))\n",
    "#print \"width:\", width\n",
    "\n",
    "for i,cond in enumerate(conditions):\n",
    "    #print \"cond:\", cond\n",
    "    vals = mydf.loc[mydf.fraud == cond, 'counts'] / float(sum(mydf.loc[mydf.fraud == cond, 'counts']))\n",
    "    #vals = topic_per_doc_df[topic_per_doc_df[:,0] == cond][:,2].astype(np.float)\n",
    "    pos = [j - (1 - space) / 2. + i * width for j in range(0,len(categories))]\n",
    "    ax.bar(pos, vals, width=width, label=cond, \n",
    "       color=cm.viridis(float(i) / n))\n",
    "    handles, labels = ax.get_legend_handles_labels()\n",
    "    ax.legend(handles[::-1], labels[::-1])\n",
    "    #ax.set_xticklabels(categories)\n",
    "    ax.set_xticks(np.arange(0, 10, 1) )\n",
    "    ax.set_xlim(-1, 10)\n",
    "    ax.set_title('distribution of fraction of providers (per group, fraud/not fraud)')\n",
    "    ax.set_ylabel(\"Fraction of providers\")\n",
    "    ax.set_xlabel(\"Topic\")"
   ]
  },
  {
   "cell_type": "markdown",
   "metadata": {},
   "source": [
    "Discrepancy in fractions between fraud/not fraud make topics 6 and 8 possibly useful for discriminating fraudulent providers.\n",
    "\n",
    "About 24% (15%) of fraudent providers, i.e. 10 providers (6 providers) fall under topic 8 (6).\n",
    "\n",
    "About 8% (2.5%) of non-fraudulent providers, i.e. 4583 providers (143 providers) fall under topic 8 (6)."
   ]
  },
  {
   "cell_type": "markdown",
   "metadata": {},
   "source": [
    "## Improve on model\n",
    "- reduce number of topics\n",
    "- filter out patient visit columns or columns with very few observations?"
   ]
  }
 ],
 "metadata": {
  "anaconda-cloud": {},
  "kernelspec": {
   "display_name": "Python [conda env:medicare_provider_util_payment]",
   "language": "python",
   "name": "conda-env-medicare_provider_util_payment-py"
  },
  "language_info": {
   "codemirror_mode": {
    "name": "ipython",
    "version": 3
   },
   "file_extension": ".py",
   "mimetype": "text/x-python",
   "name": "python",
   "nbconvert_exporter": "python",
   "pygments_lexer": "ipython3",
   "version": "3.5.2"
  }
 },
 "nbformat": 4,
 "nbformat_minor": 1
}
