{
 "cells": [
  {
   "cell_type": "code",
   "execution_count": 1,
   "metadata": {
    "collapsed": true
   },
   "outputs": [],
   "source": [
    "import psycopg2\n",
    "import pandas as pd\n",
    "import seaborn as sns\n",
    "import matplotlib.pyplot as plt\n",
    "import matplotlib.cm as cm\n",
    "import numpy as np\n",
    "from sklearn.manifold import TSNE\n",
    "import re\n",
    "\n",
    "%matplotlib inline\n",
    "sns.set(style=\"white\")"
   ]
  },
  {
   "cell_type": "code",
   "execution_count": 2,
   "metadata": {
    "collapsed": true
   },
   "outputs": [],
   "source": [
    "## connect to database\n",
    "con = psycopg2.connect(\"dbname='doctordb' user='cathy'\")"
   ]
  },
  {
   "cell_type": "code",
   "execution_count": 5,
   "metadata": {
    "collapsed": true
   },
   "outputs": [],
   "source": [
    "q = \"\"\"SELECT payments.npi, \n",
    "                doctor_ratings.recommended_by_doctors, \n",
    "                doctor_ratings.board_certification, \n",
    "                doctor_ratings.graduation_year,\n",
    "                doctor_ratings.internship_residency, \n",
    "                doctor_ratings.confidence, \n",
    "                doctor_ratings.name, \n",
    "                doctor_ratings.relative_volume,\n",
    "                payments.hcpcs_code, \n",
    "                payments.hcpcs_description,\n",
    "                payments.bene_day_srvc_cnt,\n",
    "                payments.average_medicare_standard_amt,\n",
    "                payments.hcpcs_drug_indicator, \n",
    "                payments.place_of_service\n",
    "        FROM payments\n",
    "        LEFT JOIN doctor_ratings \n",
    "        ON (payments.npi = doctor_ratings.npi)\n",
    "        WHERE provider_type = 'Orthopedic Surgery'\"\"\"\n",
    "doctors = pd.read_sql_query(q, con=con)"
   ]
  },
  {
   "cell_type": "code",
   "execution_count": 6,
   "metadata": {
    "collapsed": false
   },
   "outputs": [
    {
     "data": {
      "text/html": [
       "<div>\n",
       "<table border=\"1\" class=\"dataframe\">\n",
       "  <thead>\n",
       "    <tr style=\"text-align: right;\">\n",
       "      <th></th>\n",
       "      <th>npi</th>\n",
       "      <th>recommended_by_doctors</th>\n",
       "      <th>board_certification</th>\n",
       "      <th>graduation_year</th>\n",
       "      <th>internship_residency</th>\n",
       "      <th>confidence</th>\n",
       "      <th>name</th>\n",
       "      <th>relative_volume</th>\n",
       "      <th>hcpcs_code</th>\n",
       "      <th>hcpcs_description</th>\n",
       "      <th>bene_day_srvc_cnt</th>\n",
       "      <th>average_medicare_standard_amt</th>\n",
       "      <th>hcpcs_drug_indicator</th>\n",
       "      <th>place_of_service</th>\n",
       "    </tr>\n",
       "  </thead>\n",
       "  <tbody>\n",
       "    <tr>\n",
       "      <th>0</th>\n",
       "      <td>1003033119</td>\n",
       "      <td>None</td>\n",
       "      <td>None</td>\n",
       "      <td>None</td>\n",
       "      <td>None</td>\n",
       "      <td>NaN</td>\n",
       "      <td>None</td>\n",
       "      <td>None</td>\n",
       "      <td>20605</td>\n",
       "      <td>Aspiration and/or injection of medium joint or...</td>\n",
       "      <td>12.0</td>\n",
       "      <td>38.08</td>\n",
       "      <td>N</td>\n",
       "      <td>O</td>\n",
       "    </tr>\n",
       "    <tr>\n",
       "      <th>1</th>\n",
       "      <td>1003033119</td>\n",
       "      <td>None</td>\n",
       "      <td>None</td>\n",
       "      <td>None</td>\n",
       "      <td>None</td>\n",
       "      <td>NaN</td>\n",
       "      <td>None</td>\n",
       "      <td>None</td>\n",
       "      <td>73610</td>\n",
       "      <td>X-ray of ankle, minimum of 3 views</td>\n",
       "      <td>173.0</td>\n",
       "      <td>26.25</td>\n",
       "      <td>N</td>\n",
       "      <td>O</td>\n",
       "    </tr>\n",
       "    <tr>\n",
       "      <th>2</th>\n",
       "      <td>1003033119</td>\n",
       "      <td>None</td>\n",
       "      <td>None</td>\n",
       "      <td>None</td>\n",
       "      <td>None</td>\n",
       "      <td>NaN</td>\n",
       "      <td>None</td>\n",
       "      <td>None</td>\n",
       "      <td>73630</td>\n",
       "      <td>X-ray of foot, minimum of 3 views</td>\n",
       "      <td>191.0</td>\n",
       "      <td>24.94</td>\n",
       "      <td>N</td>\n",
       "      <td>O</td>\n",
       "    </tr>\n",
       "    <tr>\n",
       "      <th>3</th>\n",
       "      <td>1003033119</td>\n",
       "      <td>None</td>\n",
       "      <td>None</td>\n",
       "      <td>None</td>\n",
       "      <td>None</td>\n",
       "      <td>NaN</td>\n",
       "      <td>None</td>\n",
       "      <td>None</td>\n",
       "      <td>99203</td>\n",
       "      <td>New patient office or other outpatient visit, ...</td>\n",
       "      <td>46.0</td>\n",
       "      <td>77.76</td>\n",
       "      <td>N</td>\n",
       "      <td>O</td>\n",
       "    </tr>\n",
       "    <tr>\n",
       "      <th>4</th>\n",
       "      <td>1003033119</td>\n",
       "      <td>None</td>\n",
       "      <td>None</td>\n",
       "      <td>None</td>\n",
       "      <td>None</td>\n",
       "      <td>NaN</td>\n",
       "      <td>None</td>\n",
       "      <td>None</td>\n",
       "      <td>99204</td>\n",
       "      <td>New patient office or other outpatient visit, ...</td>\n",
       "      <td>48.0</td>\n",
       "      <td>125.43</td>\n",
       "      <td>N</td>\n",
       "      <td>O</td>\n",
       "    </tr>\n",
       "  </tbody>\n",
       "</table>\n",
       "</div>"
      ],
      "text/plain": [
       "          npi recommended_by_doctors board_certification graduation_year  \\\n",
       "0  1003033119                   None                None            None   \n",
       "1  1003033119                   None                None            None   \n",
       "2  1003033119                   None                None            None   \n",
       "3  1003033119                   None                None            None   \n",
       "4  1003033119                   None                None            None   \n",
       "\n",
       "  internship_residency  confidence  name relative_volume hcpcs_code  \\\n",
       "0                 None         NaN  None            None      20605   \n",
       "1                 None         NaN  None            None      73610   \n",
       "2                 None         NaN  None            None      73630   \n",
       "3                 None         NaN  None            None      99203   \n",
       "4                 None         NaN  None            None      99204   \n",
       "\n",
       "                                   hcpcs_description  bene_day_srvc_cnt  \\\n",
       "0  Aspiration and/or injection of medium joint or...               12.0   \n",
       "1                 X-ray of ankle, minimum of 3 views              173.0   \n",
       "2                  X-ray of foot, minimum of 3 views              191.0   \n",
       "3  New patient office or other outpatient visit, ...               46.0   \n",
       "4  New patient office or other outpatient visit, ...               48.0   \n",
       "\n",
       "   average_medicare_standard_amt hcpcs_drug_indicator place_of_service  \n",
       "0                          38.08                    N                O  \n",
       "1                          26.25                    N                O  \n",
       "2                          24.94                    N                O  \n",
       "3                          77.76                    N                O  \n",
       "4                         125.43                    N                O  "
      ]
     },
     "execution_count": 6,
     "metadata": {},
     "output_type": "execute_result"
    }
   ],
   "source": [
    "doctors.head()"
   ]
  },
  {
   "cell_type": "code",
   "execution_count": 7,
   "metadata": {
    "collapsed": false
   },
   "outputs": [
    {
     "data": {
      "text/html": [
       "<div>\n",
       "<table border=\"1\" class=\"dataframe\">\n",
       "  <thead>\n",
       "    <tr style=\"text-align: right;\">\n",
       "      <th>hcpcs_code</th>\n",
       "      <th>0054T</th>\n",
       "      <th>0055T</th>\n",
       "      <th>0171T</th>\n",
       "      <th>0275T</th>\n",
       "      <th>10140</th>\n",
       "      <th>10180</th>\n",
       "      <th>11011</th>\n",
       "      <th>11012</th>\n",
       "      <th>11042</th>\n",
       "      <th>11043</th>\n",
       "      <th>...</th>\n",
       "      <th>G0414</th>\n",
       "      <th>G0416</th>\n",
       "      <th>G0438</th>\n",
       "      <th>G0439</th>\n",
       "      <th>G0453</th>\n",
       "      <th>G0461</th>\n",
       "      <th>G0462</th>\n",
       "      <th>J1030</th>\n",
       "      <th>J1100</th>\n",
       "      <th>J3301</th>\n",
       "    </tr>\n",
       "    <tr>\n",
       "      <th>npi</th>\n",
       "      <th></th>\n",
       "      <th></th>\n",
       "      <th></th>\n",
       "      <th></th>\n",
       "      <th></th>\n",
       "      <th></th>\n",
       "      <th></th>\n",
       "      <th></th>\n",
       "      <th></th>\n",
       "      <th></th>\n",
       "      <th></th>\n",
       "      <th></th>\n",
       "      <th></th>\n",
       "      <th></th>\n",
       "      <th></th>\n",
       "      <th></th>\n",
       "      <th></th>\n",
       "      <th></th>\n",
       "      <th></th>\n",
       "      <th></th>\n",
       "      <th></th>\n",
       "    </tr>\n",
       "  </thead>\n",
       "  <tbody>\n",
       "    <tr>\n",
       "      <th>1003002890</th>\n",
       "      <td>0.0</td>\n",
       "      <td>0.0</td>\n",
       "      <td>0.0</td>\n",
       "      <td>0.0</td>\n",
       "      <td>0.0</td>\n",
       "      <td>0.0</td>\n",
       "      <td>0.0</td>\n",
       "      <td>0.0</td>\n",
       "      <td>0.0</td>\n",
       "      <td>0.0</td>\n",
       "      <td>...</td>\n",
       "      <td>0.0</td>\n",
       "      <td>0.0</td>\n",
       "      <td>0.0</td>\n",
       "      <td>0.0</td>\n",
       "      <td>0.0</td>\n",
       "      <td>0.0</td>\n",
       "      <td>0.0</td>\n",
       "      <td>0.0</td>\n",
       "      <td>0.0</td>\n",
       "      <td>0.0</td>\n",
       "    </tr>\n",
       "    <tr>\n",
       "      <th>1003010919</th>\n",
       "      <td>0.0</td>\n",
       "      <td>0.0</td>\n",
       "      <td>0.0</td>\n",
       "      <td>0.0</td>\n",
       "      <td>0.0</td>\n",
       "      <td>0.0</td>\n",
       "      <td>0.0</td>\n",
       "      <td>0.0</td>\n",
       "      <td>0.0</td>\n",
       "      <td>0.0</td>\n",
       "      <td>...</td>\n",
       "      <td>0.0</td>\n",
       "      <td>0.0</td>\n",
       "      <td>0.0</td>\n",
       "      <td>0.0</td>\n",
       "      <td>0.0</td>\n",
       "      <td>0.0</td>\n",
       "      <td>0.0</td>\n",
       "      <td>0.0</td>\n",
       "      <td>0.0</td>\n",
       "      <td>0.0</td>\n",
       "    </tr>\n",
       "    <tr>\n",
       "      <th>1003012493</th>\n",
       "      <td>0.0</td>\n",
       "      <td>0.0</td>\n",
       "      <td>0.0</td>\n",
       "      <td>0.0</td>\n",
       "      <td>0.0</td>\n",
       "      <td>0.0</td>\n",
       "      <td>0.0</td>\n",
       "      <td>0.0</td>\n",
       "      <td>0.0</td>\n",
       "      <td>0.0</td>\n",
       "      <td>...</td>\n",
       "      <td>0.0</td>\n",
       "      <td>0.0</td>\n",
       "      <td>0.0</td>\n",
       "      <td>0.0</td>\n",
       "      <td>0.0</td>\n",
       "      <td>0.0</td>\n",
       "      <td>0.0</td>\n",
       "      <td>0.0</td>\n",
       "      <td>0.0</td>\n",
       "      <td>0.0</td>\n",
       "    </tr>\n",
       "    <tr>\n",
       "      <th>1003013947</th>\n",
       "      <td>0.0</td>\n",
       "      <td>0.0</td>\n",
       "      <td>0.0</td>\n",
       "      <td>0.0</td>\n",
       "      <td>0.0</td>\n",
       "      <td>0.0</td>\n",
       "      <td>0.0</td>\n",
       "      <td>0.0</td>\n",
       "      <td>0.0</td>\n",
       "      <td>0.0</td>\n",
       "      <td>...</td>\n",
       "      <td>0.0</td>\n",
       "      <td>0.0</td>\n",
       "      <td>0.0</td>\n",
       "      <td>0.0</td>\n",
       "      <td>0.0</td>\n",
       "      <td>0.0</td>\n",
       "      <td>0.0</td>\n",
       "      <td>0.0</td>\n",
       "      <td>0.0</td>\n",
       "      <td>0.0</td>\n",
       "    </tr>\n",
       "  </tbody>\n",
       "</table>\n",
       "<p>4 rows × 856 columns</p>\n",
       "</div>"
      ],
      "text/plain": [
       "hcpcs_code  0054T  0055T  0171T  0275T  10140  10180  11011  11012  11042  \\\n",
       "npi                                                                         \n",
       "1003002890    0.0    0.0    0.0    0.0    0.0    0.0    0.0    0.0    0.0   \n",
       "1003010919    0.0    0.0    0.0    0.0    0.0    0.0    0.0    0.0    0.0   \n",
       "1003012493    0.0    0.0    0.0    0.0    0.0    0.0    0.0    0.0    0.0   \n",
       "1003013947    0.0    0.0    0.0    0.0    0.0    0.0    0.0    0.0    0.0   \n",
       "\n",
       "hcpcs_code  11043  ...    G0414  G0416  G0438  G0439  G0453  G0461  G0462  \\\n",
       "npi                ...                                                      \n",
       "1003002890    0.0  ...      0.0    0.0    0.0    0.0    0.0    0.0    0.0   \n",
       "1003010919    0.0  ...      0.0    0.0    0.0    0.0    0.0    0.0    0.0   \n",
       "1003012493    0.0  ...      0.0    0.0    0.0    0.0    0.0    0.0    0.0   \n",
       "1003013947    0.0  ...      0.0    0.0    0.0    0.0    0.0    0.0    0.0   \n",
       "\n",
       "hcpcs_code  J1030  J1100  J3301  \n",
       "npi                              \n",
       "1003002890    0.0    0.0    0.0  \n",
       "1003010919    0.0    0.0    0.0  \n",
       "1003012493    0.0    0.0    0.0  \n",
       "1003013947    0.0    0.0    0.0  \n",
       "\n",
       "[4 rows x 856 columns]"
      ]
     },
     "execution_count": 7,
     "metadata": {},
     "output_type": "execute_result"
    }
   ],
   "source": [
    "by_npi = (doctors.query('place_of_service == \"F\"')[['npi','hcpcs_code','bene_day_srvc_cnt']].\n",
    "                pivot(index='npi', values = 'bene_day_srvc_cnt', columns='hcpcs_code').\n",
    "                fillna(value=0))\n",
    "\n",
    "by_npi.head(4)"
   ]
  },
  {
   "cell_type": "code",
   "execution_count": 54,
   "metadata": {
    "collapsed": false
   },
   "outputs": [
    {
     "data": {
      "text/html": [
       "<div>\n",
       "<table border=\"1\" class=\"dataframe\">\n",
       "  <thead>\n",
       "    <tr style=\"text-align: right;\">\n",
       "      <th></th>\n",
       "      <th>npi</th>\n",
       "      <th>name</th>\n",
       "    </tr>\n",
       "  </thead>\n",
       "  <tbody>\n",
       "    <tr>\n",
       "      <th>0</th>\n",
       "      <td>1003002890</td>\n",
       "      <td>0</td>\n",
       "    </tr>\n",
       "    <tr>\n",
       "      <th>1</th>\n",
       "      <td>1003010919</td>\n",
       "      <td>0</td>\n",
       "    </tr>\n",
       "    <tr>\n",
       "      <th>2</th>\n",
       "      <td>1003012493</td>\n",
       "      <td>0</td>\n",
       "    </tr>\n",
       "    <tr>\n",
       "      <th>3</th>\n",
       "      <td>1003013947</td>\n",
       "      <td>0</td>\n",
       "    </tr>\n",
       "    <tr>\n",
       "      <th>4</th>\n",
       "      <td>1003016718</td>\n",
       "      <td>0</td>\n",
       "    </tr>\n",
       "  </tbody>\n",
       "</table>\n",
       "</div>"
      ],
      "text/plain": [
       "          npi name\n",
       "0  1003002890    0\n",
       "1  1003010919    0\n",
       "2  1003012493    0\n",
       "3  1003013947    0\n",
       "4  1003016718    0"
      ]
     },
     "execution_count": 54,
     "metadata": {},
     "output_type": "execute_result"
    }
   ],
   "source": [
    "## create doctors label (0 if not in surgeonratings, 1 if yes)\n",
    "y = (pd.DataFrame({'npi': by_npi.index}).\n",
    "     merge(doctors.drop_duplicates(['npi'])[['npi','name']]).\n",
    "    fillna(value = np.nan))\n",
    "\n",
    "y.loc[pd.notnull(y.name), 'name'] = 1\n",
    "y.loc[pd.isnull(y.name), 'name'] = 0\n",
    "y.head()"
   ]
  },
  {
   "cell_type": "code",
   "execution_count": 55,
   "metadata": {
    "collapsed": false
   },
   "outputs": [
    {
     "data": {
      "text/plain": [
       "3310"
      ]
     },
     "execution_count": 55,
     "metadata": {},
     "output_type": "execute_result"
    }
   ],
   "source": [
    "## check: how many doctors are in surgeon ratings as well as payments?\n",
    "y.name.sum()"
   ]
  },
  {
   "cell_type": "code",
   "execution_count": 98,
   "metadata": {
    "collapsed": true
   },
   "outputs": [],
   "source": [
    "from sklearn.linear_model import LogisticRegression\n",
    "from sklearn.metrics import auc, accuracy_score, confusion_matrix, precision_recall_fscore_support, roc_curve\n",
    "from sklearn.cross_validation import train_test_split\n",
    "\n",
    "import time"
   ]
  },
  {
   "cell_type": "code",
   "execution_count": 61,
   "metadata": {
    "collapsed": false
   },
   "outputs": [
    {
     "data": {
      "text/plain": [
       "(16320, 856)"
      ]
     },
     "execution_count": 61,
     "metadata": {},
     "output_type": "execute_result"
    }
   ],
   "source": [
    "by_npi.as_matrix().shape"
   ]
  },
  {
   "cell_type": "code",
   "execution_count": 73,
   "metadata": {
    "collapsed": false
   },
   "outputs": [],
   "source": [
    "ytrue = y.name.as_matrix().astype('int')"
   ]
  },
  {
   "cell_type": "markdown",
   "metadata": {},
   "source": [
    "## Train and evaluation on whole set"
   ]
  },
  {
   "cell_type": "code",
   "execution_count": 70,
   "metadata": {
    "collapsed": false
   },
   "outputs": [
    {
     "name": "stdout",
     "output_type": "stream",
     "text": [
      "computed in 0.886131763458252s\n"
     ]
    }
   ],
   "source": [
    "clf = LogisticRegression(random_state=5435)\n",
    "tic = time.time()\n",
    "clf.fit(by_npi.as_matrix(), ytrue)\n",
    "toc = time.time()\n",
    "print('computed in {}s'.format(toc-tic))"
   ]
  },
  {
   "cell_type": "code",
   "execution_count": 71,
   "metadata": {
    "collapsed": true
   },
   "outputs": [],
   "source": [
    "## how does the model do on the training data?\n",
    "y_pred = clf.predict(by_npi.as_matrix())"
   ]
  },
  {
   "cell_type": "code",
   "execution_count": 74,
   "metadata": {
    "collapsed": false
   },
   "outputs": [
    {
     "data": {
      "text/plain": [
       "0.82077205882352944"
      ]
     },
     "execution_count": 74,
     "metadata": {},
     "output_type": "execute_result"
    }
   ],
   "source": [
    "accuracy_score(ytrue, y_pred)"
   ]
  },
  {
   "cell_type": "code",
   "execution_count": 75,
   "metadata": {
    "collapsed": false
   },
   "outputs": [
    {
     "data": {
      "text/plain": [
       "array([[12514,   496],\n",
       "       [ 2429,   881]])"
      ]
     },
     "execution_count": 75,
     "metadata": {},
     "output_type": "execute_result"
    }
   ],
   "source": [
    "confusion_matrix(ytrue, y_pred)"
   ]
  },
  {
   "cell_type": "code",
   "execution_count": 76,
   "metadata": {
    "collapsed": false
   },
   "outputs": [
    {
     "data": {
      "text/plain": [
       "(array([ 0.83744897,  0.63979666]),\n",
       " array([ 0.96187548,  0.26616314]),\n",
       " array([ 0.89536007,  0.37593343]),\n",
       " array([13010,  3310]))"
      ]
     },
     "execution_count": 76,
     "metadata": {},
     "output_type": "execute_result"
    }
   ],
   "source": [
    "precision_recall_fscore_support(ytrue, y_pred)"
   ]
  },
  {
   "cell_type": "code",
   "execution_count": 77,
   "metadata": {
    "collapsed": false
   },
   "outputs": [
    {
     "data": {
      "text/plain": [
       "(array([ 0.        ,  0.03812452,  1.        ]),\n",
       " array([ 0.        ,  0.26616314,  1.        ]),\n",
       " array([2, 1, 0]))"
      ]
     },
     "execution_count": 77,
     "metadata": {},
     "output_type": "execute_result"
    }
   ],
   "source": [
    "roc_curve(ytrue, y_pred)"
   ]
  },
  {
   "cell_type": "markdown",
   "metadata": {},
   "source": [
    "## Cross validation (train - val - test)"
   ]
  },
  {
   "cell_type": "code",
   "execution_count": 79,
   "metadata": {
    "collapsed": true
   },
   "outputs": [],
   "source": [
    "from sklearn.linear_model import LogisticRegressionCV"
   ]
  },
  {
   "cell_type": "code",
   "execution_count": 86,
   "metadata": {
    "collapsed": false
   },
   "outputs": [],
   "source": [
    "X_train, X_test, y_train, y_test = train_test_split(by_npi.as_matrix(),\n",
    "                                                    ytrue,\n",
    "                                                    test_size=.2,\n",
    "                                                    random_state=5435,\n",
    "                                                    stratify=ytrue)"
   ]
  },
  {
   "cell_type": "code",
   "execution_count": 87,
   "metadata": {
    "collapsed": false
   },
   "outputs": [
    {
     "data": {
      "text/plain": [
       "((13056, 856), (3264, 856), (13056,), (3264,))"
      ]
     },
     "execution_count": 87,
     "metadata": {},
     "output_type": "execute_result"
    }
   ],
   "source": [
    "X_train.shape, X_test.shape, y_train.shape, y_test.shape"
   ]
  },
  {
   "cell_type": "code",
   "execution_count": 88,
   "metadata": {
    "collapsed": true
   },
   "outputs": [],
   "source": [
    "clf = LogisticRegressionCV(cv = 10, random_state=5435, scoring='roc_auc')\n",
    "tic = time.time()\n",
    "clf.fit(X_train, y_train)\n",
    "toc = time.time()\n",
    "#print('computed in {}s'.format(toc-tic))"
   ]
  },
  {
   "cell_type": "code",
   "execution_count": 90,
   "metadata": {
    "collapsed": false
   },
   "outputs": [
    {
     "name": "stdout",
     "output_type": "stream",
     "text": [
      "Max auc_roc: 0.83733974359\n"
     ]
    }
   ],
   "source": [
    "print ('Max auc_roc:', clf.scores_[1].max())"
   ]
  },
  {
   "cell_type": "code",
   "execution_count": 91,
   "metadata": {
    "collapsed": true
   },
   "outputs": [],
   "source": [
    "## how does the model do on the test data?\n",
    "y_test_pred = clf.predict(X_test)"
   ]
  },
  {
   "cell_type": "code",
   "execution_count": 92,
   "metadata": {
    "collapsed": false
   },
   "outputs": [
    {
     "data": {
      "text/plain": [
       "0.81219362745098034"
      ]
     },
     "execution_count": 92,
     "metadata": {},
     "output_type": "execute_result"
    }
   ],
   "source": [
    "## accuracy on test set\n",
    "accuracy_score(y_test, y_test_pred)"
   ]
  },
  {
   "cell_type": "code",
   "execution_count": 93,
   "metadata": {
    "collapsed": false
   },
   "outputs": [
    {
     "data": {
      "text/plain": [
       "(array([ 0.83050847,  0.59607843]),\n",
       " array([ 0.96041507,  0.22960725]),\n",
       " array([ 0.89075031,  0.33151581]),\n",
       " array([2602,  662]))"
      ]
     },
     "execution_count": 93,
     "metadata": {},
     "output_type": "execute_result"
    }
   ],
   "source": [
    "## on test set\n",
    "precision_recall_fscore_support(y_test, y_test_pred)"
   ]
  },
  {
   "cell_type": "code",
   "execution_count": 94,
   "metadata": {
    "collapsed": true
   },
   "outputs": [],
   "source": [
    "## get test set probabilities to calculate AUC under ROC\n",
    "y_score = clf.decision_function(X_test)"
   ]
  },
  {
   "cell_type": "code",
   "execution_count": 99,
   "metadata": {
    "collapsed": false
   },
   "outputs": [],
   "source": [
    "fpr, tpr, _ = roc_curve(y_test, y_score)\n",
    "roc_auc_test = auc(fpr, tpr)"
   ]
  },
  {
   "cell_type": "code",
   "execution_count": 100,
   "metadata": {
    "collapsed": false
   },
   "outputs": [
    {
     "data": {
      "image/png": "[encoded data removed]",
      "text/plain": [
       "<matplotlib.figure.Figure at 0x7fbb5c386470>"
      ]
     },
     "metadata": {},
     "output_type": "display_data"
    }
   ],
   "source": [
    "# Plot of a ROC curve for a specific class\n",
    "plt.figure()\n",
    "plt.plot(fpr, tpr, label='ROC curve (area = %0.2f)' % roc_auc_test)\n",
    "plt.plot([0, 1], [0, 1], 'k--')\n",
    "plt.xlim([0.0, 1.0])\n",
    "plt.ylim([0.0, 1.05])\n",
    "plt.xlabel('False Positive Rate')\n",
    "plt.ylabel('True Positive Rate')\n",
    "plt.title('Receiver operating characteristic example')\n",
    "plt.legend(loc=\"lower right\")\n",
    "plt.show()"
   ]
  },
  {
   "cell_type": "code",
   "execution_count": 101,
   "metadata": {
    "collapsed": false
   },
   "outputs": [
    {
     "data": {
      "text/plain": [
       "{'Cs': 10,\n",
       " 'class_weight': None,\n",
       " 'cv': 10,\n",
       " 'dual': False,\n",
       " 'fit_intercept': True,\n",
       " 'intercept_scaling': 1.0,\n",
       " 'max_iter': 100,\n",
       " 'multi_class': 'ovr',\n",
       " 'n_jobs': 1,\n",
       " 'penalty': 'l2',\n",
       " 'random_state': 5435,\n",
       " 'refit': True,\n",
       " 'scoring': 'roc_auc',\n",
       " 'solver': 'lbfgs',\n",
       " 'tol': 0.0001,\n",
       " 'verbose': 0}"
      ]
     },
     "execution_count": 101,
     "metadata": {},
     "output_type": "execute_result"
    }
   ],
   "source": [
    "## get model parameters\n",
    "clf.get_params()"
   ]
  },
  {
   "cell_type": "code",
   "execution_count": 105,
   "metadata": {
    "collapsed": false
   },
   "outputs": [
    {
     "data": {
      "text/plain": [
       "array([ 0.0001])"
      ]
     },
     "execution_count": 105,
     "metadata": {},
     "output_type": "execute_result"
    }
   ],
   "source": [
    "## best regularization parameter determined by cross validation\n",
    "clf.C_"
   ]
  },
  {
   "cell_type": "code",
   "execution_count": 118,
   "metadata": {
    "collapsed": false
   },
   "outputs": [],
   "source": [
    "## coefficients of the features\n",
    "logistic_reg_coef = clf.coef_.T"
   ]
  },
  {
   "cell_type": "code",
   "execution_count": 134,
   "metadata": {
    "collapsed": false
   },
   "outputs": [],
   "source": [
    "## what are the 10 coefficients with the largest positive value?\n",
    "idxs = np.argsort(logistic_reg_coef.T)"
   ]
  },
  {
   "cell_type": "code",
   "execution_count": 133,
   "metadata": {
    "collapsed": false
   },
   "outputs": [],
   "source": [
    "top10_negative_hcpcs_code = by_npi.columns.values[idxs[0,:10]]\n",
    "top10_positive_hcpcs_code = by_npi.columns.values[idxs[0,-10:]]"
   ]
  },
  {
   "cell_type": "code",
   "execution_count": 137,
   "metadata": {
    "collapsed": false
   },
   "outputs": [
    {
     "data": {
      "text/plain": [
       "['27487',\n",
       " '63047',\n",
       " '22851',\n",
       " '27430',\n",
       " '63048',\n",
       " '28285',\n",
       " '29828',\n",
       " '22614',\n",
       " '27134',\n",
       " '26055']"
      ]
     },
     "execution_count": 137,
     "metadata": {},
     "output_type": "execute_result"
    }
   ],
   "source": [
    "list(top10_negative_hcpcs_code)"
   ]
  },
  {
   "cell_type": "code",
   "execution_count": 139,
   "metadata": {
    "collapsed": false
   },
   "outputs": [
    {
     "data": {
      "text/html": [
       "<div>\n",
       "<table border=\"1\" class=\"dataframe\">\n",
       "  <thead>\n",
       "    <tr style=\"text-align: right;\">\n",
       "      <th></th>\n",
       "      <th>hcpcs_code</th>\n",
       "      <th>hcpcs_description</th>\n",
       "    </tr>\n",
       "  </thead>\n",
       "  <tbody>\n",
       "    <tr>\n",
       "      <th>57</th>\n",
       "      <td>22851</td>\n",
       "      <td>Insertion of spinal instrumentation for spinal...</td>\n",
       "    </tr>\n",
       "    <tr>\n",
       "      <th>58</th>\n",
       "      <td>63047</td>\n",
       "      <td>Partial removal of middle spine bone with rele...</td>\n",
       "    </tr>\n",
       "    <tr>\n",
       "      <th>59</th>\n",
       "      <td>63048</td>\n",
       "      <td>Partial removal of spine bone with release of ...</td>\n",
       "    </tr>\n",
       "    <tr>\n",
       "      <th>88</th>\n",
       "      <td>22614</td>\n",
       "      <td>Fusion of spine bones, posterior or posterolat...</td>\n",
       "    </tr>\n",
       "    <tr>\n",
       "      <th>558</th>\n",
       "      <td>26055</td>\n",
       "      <td>Incision of tendon covering</td>\n",
       "    </tr>\n",
       "    <tr>\n",
       "      <th>773</th>\n",
       "      <td>27487</td>\n",
       "      <td>Revision of lower thigh bone and both shin bon...</td>\n",
       "    </tr>\n",
       "    <tr>\n",
       "      <th>1963</th>\n",
       "      <td>27134</td>\n",
       "      <td>Revision of thigh bone and hip joint prosthesis</td>\n",
       "    </tr>\n",
       "    <tr>\n",
       "      <th>2556</th>\n",
       "      <td>28285</td>\n",
       "      <td>Correction of toe joint deformity</td>\n",
       "    </tr>\n",
       "    <tr>\n",
       "      <th>3099</th>\n",
       "      <td>29828</td>\n",
       "      <td>Release of shoulder biceps tendon using an end...</td>\n",
       "    </tr>\n",
       "    <tr>\n",
       "      <th>28051</th>\n",
       "      <td>27430</td>\n",
       "      <td>Repair of muscle group above knee joint</td>\n",
       "    </tr>\n",
       "  </tbody>\n",
       "</table>\n",
       "</div>"
      ],
      "text/plain": [
       "      hcpcs_code                                  hcpcs_description\n",
       "57         22851  Insertion of spinal instrumentation for spinal...\n",
       "58         63047  Partial removal of middle spine bone with rele...\n",
       "59         63048  Partial removal of spine bone with release of ...\n",
       "88         22614  Fusion of spine bones, posterior or posterolat...\n",
       "558        26055                        Incision of tendon covering\n",
       "773        27487  Revision of lower thigh bone and both shin bon...\n",
       "1963       27134    Revision of thigh bone and hip joint prosthesis\n",
       "2556       28285                  Correction of toe joint deformity\n",
       "3099       29828  Release of shoulder biceps tendon using an end...\n",
       "28051      27430            Repair of muscle group above knee joint"
      ]
     },
     "execution_count": 139,
     "metadata": {},
     "output_type": "execute_result"
    }
   ],
   "source": [
    "## hcpcs descriptions corresponding to top 10 negative coefficients\n",
    "(doctors.drop_duplicates('hcpcs_code').\n",
    "    loc[doctors.hcpcs_code.isin(list(top10_negative_hcpcs_code)),\n",
    "        ['hcpcs_code','hcpcs_description']])"
   ]
  },
  {
   "cell_type": "code",
   "execution_count": 140,
   "metadata": {
    "collapsed": false
   },
   "outputs": [
    {
     "data": {
      "text/html": [
       "<div>\n",
       "<table border=\"1\" class=\"dataframe\">\n",
       "  <thead>\n",
       "    <tr style=\"text-align: right;\">\n",
       "      <th></th>\n",
       "      <th>hcpcs_code</th>\n",
       "      <th>hcpcs_description</th>\n",
       "    </tr>\n",
       "  </thead>\n",
       "  <tbody>\n",
       "    <tr>\n",
       "      <th>72</th>\n",
       "      <td>27447</td>\n",
       "      <td>Repair of knee joint</td>\n",
       "    </tr>\n",
       "    <tr>\n",
       "      <th>115</th>\n",
       "      <td>72100</td>\n",
       "      <td>X-ray of lower and sacral spine, 2 or 3 views</td>\n",
       "    </tr>\n",
       "    <tr>\n",
       "      <th>166</th>\n",
       "      <td>G0180</td>\n",
       "      <td>Physician certification for medicare-covered h...</td>\n",
       "    </tr>\n",
       "    <tr>\n",
       "      <th>212</th>\n",
       "      <td>29881</td>\n",
       "      <td>Removal of one knee cartilage using an endoscope</td>\n",
       "    </tr>\n",
       "    <tr>\n",
       "      <th>224</th>\n",
       "      <td>73565</td>\n",
       "      <td>X-ray of both knees, standing, front to back view</td>\n",
       "    </tr>\n",
       "    <tr>\n",
       "      <th>1780</th>\n",
       "      <td>64493</td>\n",
       "      <td>Injections of lower or sacral spine facet join...</td>\n",
       "    </tr>\n",
       "    <tr>\n",
       "      <th>2836</th>\n",
       "      <td>G0289</td>\n",
       "      <td>Arthroscopy, knee, surgical, for removal of lo...</td>\n",
       "    </tr>\n",
       "    <tr>\n",
       "      <th>3198</th>\n",
       "      <td>93922</td>\n",
       "      <td>Ultrasound study of arteries of both arms and ...</td>\n",
       "    </tr>\n",
       "    <tr>\n",
       "      <th>15762</th>\n",
       "      <td>97605</td>\n",
       "      <td>Negative pressure wound therapy, surface area ...</td>\n",
       "    </tr>\n",
       "    <tr>\n",
       "      <th>33799</th>\n",
       "      <td>12032</td>\n",
       "      <td>Repair of wound (2.6 to 7.5 centimeters) of th...</td>\n",
       "    </tr>\n",
       "  </tbody>\n",
       "</table>\n",
       "</div>"
      ],
      "text/plain": [
       "      hcpcs_code                                  hcpcs_description\n",
       "72         27447                               Repair of knee joint\n",
       "115        72100      X-ray of lower and sacral spine, 2 or 3 views\n",
       "166        G0180  Physician certification for medicare-covered h...\n",
       "212        29881   Removal of one knee cartilage using an endoscope\n",
       "224        73565  X-ray of both knees, standing, front to back view\n",
       "1780       64493  Injections of lower or sacral spine facet join...\n",
       "2836       G0289  Arthroscopy, knee, surgical, for removal of lo...\n",
       "3198       93922  Ultrasound study of arteries of both arms and ...\n",
       "15762      97605  Negative pressure wound therapy, surface area ...\n",
       "33799      12032  Repair of wound (2.6 to 7.5 centimeters) of th..."
      ]
     },
     "execution_count": 140,
     "metadata": {},
     "output_type": "execute_result"
    }
   ],
   "source": [
    "## hcpcs descriptions corresponding to top 10 positive coefficients\n",
    "(doctors.drop_duplicates('hcpcs_code').\n",
    "    loc[doctors.hcpcs_code.isin(list(top10_positive_hcpcs_code)),\n",
    "        ['hcpcs_code','hcpcs_description']])"
   ]
  }
 ],
 "metadata": {
  "anaconda-cloud": {},
  "kernelspec": {
   "display_name": "Python [conda env:medicare_provider_util_payment]",
   "language": "python",
   "name": "conda-env-medicare_provider_util_payment-py"
  },
  "language_info": {
   "codemirror_mode": {
    "name": "ipython",
    "version": 3
   },
   "file_extension": ".py",
   "mimetype": "text/x-python",
   "name": "python",
   "nbconvert_exporter": "python",
   "pygments_lexer": "ipython3",
   "version": "3.5.2"
  }
 },
 "nbformat": 4,
 "nbformat_minor": 1
}
