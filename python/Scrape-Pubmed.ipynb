{
 "cells": [
  {
   "cell_type": "code",
   "execution_count": 1,
   "metadata": {
    "collapsed": true
   },
   "outputs": [],
   "source": [
    "import psycopg2\n",
    "import pandas as pd\n",
    "import seaborn as sns\n",
    "import matplotlib.pyplot as plt\n",
    "import matplotlib.cm as cm\n",
    "import numpy as np\n",
    "import re\n",
    "\n",
    "import requests\n",
    "from xml.etree import ElementTree\n",
    "\n",
    "%matplotlib inline\n",
    "sns.set(style=\"white\")"
   ]
  },
  {
   "cell_type": "code",
   "execution_count": 2,
   "metadata": {
    "collapsed": false
   },
   "outputs": [],
   "source": [
    "## connect to database\n",
    "\n",
    "con = psycopg2.connect(\"dbname='doctordb' user='cathy'\")"
   ]
  },
  {
   "cell_type": "code",
   "execution_count": 3,
   "metadata": {
    "collapsed": false
   },
   "outputs": [
    {
     "data": {
      "text/html": [
       "<div>\n",
       "<table border=\"1\" class=\"dataframe\">\n",
       "  <thead>\n",
       "    <tr style=\"text-align: right;\">\n",
       "      <th></th>\n",
       "      <th>npi</th>\n",
       "      <th>nppes_provider_last_org_name</th>\n",
       "      <th>nppes_provider_first_name</th>\n",
       "      <th>nppes_provider_mi</th>\n",
       "      <th>nppes_provider_city</th>\n",
       "      <th>nppes_provider_state</th>\n",
       "    </tr>\n",
       "  </thead>\n",
       "  <tbody>\n",
       "    <tr>\n",
       "      <th>0</th>\n",
       "      <td>1003019571</td>\n",
       "      <td>SEHGAL</td>\n",
       "      <td>RAJESH</td>\n",
       "      <td>None</td>\n",
       "      <td>MONROEVILLE</td>\n",
       "      <td>PA</td>\n",
       "    </tr>\n",
       "    <tr>\n",
       "      <th>1</th>\n",
       "      <td>1003087768</td>\n",
       "      <td>BATUS</td>\n",
       "      <td>MARTA</td>\n",
       "      <td>None</td>\n",
       "      <td>CHICAGO</td>\n",
       "      <td>IL</td>\n",
       "    </tr>\n",
       "    <tr>\n",
       "      <th>2</th>\n",
       "      <td>1003166042</td>\n",
       "      <td>FINE</td>\n",
       "      <td>HOWARD</td>\n",
       "      <td>A</td>\n",
       "      <td>NEW YORK</td>\n",
       "      <td>NY</td>\n",
       "    </tr>\n",
       "    <tr>\n",
       "      <th>3</th>\n",
       "      <td>1003805409</td>\n",
       "      <td>WILLIAMS</td>\n",
       "      <td>STEPHANIE</td>\n",
       "      <td>F</td>\n",
       "      <td>GRAND RAPIDS</td>\n",
       "      <td>MI</td>\n",
       "    </tr>\n",
       "    <tr>\n",
       "      <th>4</th>\n",
       "      <td>1003807645</td>\n",
       "      <td>LUNIN</td>\n",
       "      <td>SCOTT</td>\n",
       "      <td>D</td>\n",
       "      <td>NORTH PORT</td>\n",
       "      <td>FL</td>\n",
       "    </tr>\n",
       "  </tbody>\n",
       "</table>\n",
       "</div>"
      ],
      "text/plain": [
       "          npi nppes_provider_last_org_name nppes_provider_first_name  \\\n",
       "0  1003019571                       SEHGAL                    RAJESH   \n",
       "1  1003087768                        BATUS                     MARTA   \n",
       "2  1003166042                         FINE                    HOWARD   \n",
       "3  1003805409                     WILLIAMS                 STEPHANIE   \n",
       "4  1003807645                        LUNIN                     SCOTT   \n",
       "\n",
       "  nppes_provider_mi nppes_provider_city nppes_provider_state  \n",
       "0              None         MONROEVILLE                   PA  \n",
       "1              None             CHICAGO                   IL  \n",
       "2                 A            NEW YORK                   NY  \n",
       "3                 F        GRAND RAPIDS                   MI  \n",
       "4                 D          NORTH PORT                   FL  "
      ]
     },
     "execution_count": 3,
     "metadata": {},
     "output_type": "execute_result"
    }
   ],
   "source": [
    "q = \"\"\"SELECT npi\n",
    "            , nppes_provider_last_org_name\n",
    "            , nppes_provider_first_name\n",
    "            , nppes_provider_mi\n",
    "            , nppes_provider_city\n",
    "            , nppes_provider_state\n",
    "        FROM summary WHERE provider_type = 'Medical Oncology'\"\"\"\n",
    "summary = pd.read_sql_query(q, con=con)\n",
    "summary.head()"
   ]
  },
  {
   "cell_type": "markdown",
   "metadata": {},
   "source": [
    "### Define helper functions before calling pubmed API"
   ]
  },
  {
   "cell_type": "code",
   "execution_count": 4,
   "metadata": {
    "collapsed": true
   },
   "outputs": [],
   "source": [
    "def make_provider_string(*args):\n",
    "    \"\"\"Concatenate last name, first name, and optionally, middle initial to form a name \n",
    "    string per physician to pass to pubmed API call.\n",
    "    \n",
    "    INPUT:\n",
    "    - last_name: string\n",
    "    - first_name: string\n",
    "    - middle_initial: string, possibly 'None'\n",
    "    \n",
    "    RETURNS:\n",
    "    - a string. First and middle strings are pasted with a space, whereas middle and\n",
    "    last aren't separated by a space. e.g. Weebly DA vs Weebly D.  \n",
    "    \n",
    "    \"\"\"\n",
    "    names = [s for s in args]\n",
    "    if len(names) == 2:\n",
    "        return names[0] + ' ' + names[1][0]\n",
    "    else:\n",
    "        if names[2] is not None:\n",
    "            return names[0] + ' ' + names[1][0] + names[2]\n",
    "        else:\n",
    "            return []"
   ]
  },
  {
   "cell_type": "code",
   "execution_count": 5,
   "metadata": {
    "collapsed": true
   },
   "outputs": [],
   "source": [
    "last_first_mi = []\n",
    "last_first = []\n",
    "for i in range(summary.shape[0]):\n",
    "    last_first_mi.append(make_provider_string(summary.loc[i,'nppes_provider_last_org_name'],\n",
    "                                        summary.loc[i,'nppes_provider_first_name'],\n",
    "                                        summary.loc[i,'nppes_provider_mi']))\n",
    "    last_first.append(make_provider_string(summary.loc[i,'nppes_provider_last_org_name'],\n",
    "                                        summary.loc[i,'nppes_provider_first_name']))"
   ]
  },
  {
   "cell_type": "code",
   "execution_count": 6,
   "metadata": {
    "collapsed": false
   },
   "outputs": [
    {
     "data": {
      "text/html": [
       "<div>\n",
       "<table border=\"1\" class=\"dataframe\">\n",
       "  <thead>\n",
       "    <tr style=\"text-align: right;\">\n",
       "      <th></th>\n",
       "      <th>npi</th>\n",
       "      <th>nppes_provider_last_org_name</th>\n",
       "      <th>nppes_provider_first_name</th>\n",
       "      <th>nppes_provider_mi</th>\n",
       "      <th>nppes_provider_city</th>\n",
       "      <th>nppes_provider_state</th>\n",
       "      <th>last_first_mi</th>\n",
       "      <th>last_first</th>\n",
       "    </tr>\n",
       "  </thead>\n",
       "  <tbody>\n",
       "    <tr>\n",
       "      <th>0</th>\n",
       "      <td>1003019571</td>\n",
       "      <td>SEHGAL</td>\n",
       "      <td>RAJESH</td>\n",
       "      <td>None</td>\n",
       "      <td>MONROEVILLE</td>\n",
       "      <td>PA</td>\n",
       "      <td>[]</td>\n",
       "      <td>SEHGAL R</td>\n",
       "    </tr>\n",
       "    <tr>\n",
       "      <th>1</th>\n",
       "      <td>1003087768</td>\n",
       "      <td>BATUS</td>\n",
       "      <td>MARTA</td>\n",
       "      <td>None</td>\n",
       "      <td>CHICAGO</td>\n",
       "      <td>IL</td>\n",
       "      <td>[]</td>\n",
       "      <td>BATUS M</td>\n",
       "    </tr>\n",
       "    <tr>\n",
       "      <th>2</th>\n",
       "      <td>1003166042</td>\n",
       "      <td>FINE</td>\n",
       "      <td>HOWARD</td>\n",
       "      <td>A</td>\n",
       "      <td>NEW YORK</td>\n",
       "      <td>NY</td>\n",
       "      <td>FINE HA</td>\n",
       "      <td>FINE H</td>\n",
       "    </tr>\n",
       "    <tr>\n",
       "      <th>3</th>\n",
       "      <td>1003805409</td>\n",
       "      <td>WILLIAMS</td>\n",
       "      <td>STEPHANIE</td>\n",
       "      <td>F</td>\n",
       "      <td>GRAND RAPIDS</td>\n",
       "      <td>MI</td>\n",
       "      <td>WILLIAMS SF</td>\n",
       "      <td>WILLIAMS S</td>\n",
       "    </tr>\n",
       "    <tr>\n",
       "      <th>4</th>\n",
       "      <td>1003807645</td>\n",
       "      <td>LUNIN</td>\n",
       "      <td>SCOTT</td>\n",
       "      <td>D</td>\n",
       "      <td>NORTH PORT</td>\n",
       "      <td>FL</td>\n",
       "      <td>LUNIN SD</td>\n",
       "      <td>LUNIN S</td>\n",
       "    </tr>\n",
       "  </tbody>\n",
       "</table>\n",
       "</div>"
      ],
      "text/plain": [
       "          npi nppes_provider_last_org_name nppes_provider_first_name  \\\n",
       "0  1003019571                       SEHGAL                    RAJESH   \n",
       "1  1003087768                        BATUS                     MARTA   \n",
       "2  1003166042                         FINE                    HOWARD   \n",
       "3  1003805409                     WILLIAMS                 STEPHANIE   \n",
       "4  1003807645                        LUNIN                     SCOTT   \n",
       "\n",
       "  nppes_provider_mi nppes_provider_city nppes_provider_state last_first_mi  \\\n",
       "0              None         MONROEVILLE                   PA            []   \n",
       "1              None             CHICAGO                   IL            []   \n",
       "2                 A            NEW YORK                   NY       FINE HA   \n",
       "3                 F        GRAND RAPIDS                   MI   WILLIAMS SF   \n",
       "4                 D          NORTH PORT                   FL      LUNIN SD   \n",
       "\n",
       "   last_first  \n",
       "0    SEHGAL R  \n",
       "1     BATUS M  \n",
       "2      FINE H  \n",
       "3  WILLIAMS S  \n",
       "4     LUNIN S  "
      ]
     },
     "execution_count": 6,
     "metadata": {},
     "output_type": "execute_result"
    }
   ],
   "source": [
    "## merge string cols with original dataframe\n",
    "summary['last_first_mi'] = last_first_mi\n",
    "summary['last_first'] = last_first\n",
    "summary.head()"
   ]
  },
  {
   "cell_type": "markdown",
   "metadata": {},
   "source": [
    "### Get pubmed paper counts per physician"
   ]
  },
  {
   "cell_type": "code",
   "execution_count": 7,
   "metadata": {
    "collapsed": false
   },
   "outputs": [],
   "source": [
    "def construct_pubmed_query(dr_string, nreturns=10000, database='pubmed', reldate=356*20):\n",
    "    \"\"\"construct full API query string using dr's name\n",
    "    INPUT: \n",
    "    - dr_string (string): (last and first (+ mi))\n",
    "    - nreturns (integer): maximum number of query records to retrieve, up to max of 100k\n",
    "    - database (string): the NCBI database to query\n",
    "    - reldate (integer): number of days to go back in search\n",
    "    \n",
    "    OUTPUT: \n",
    "    - url_esearch (string): to send to API\n",
    "    \"\"\"\n",
    "    #MeSH_terms = '(\"neoplasms\"[MeSH Terms]+OR+\"neoplasms\"[All Fields]+OR+\"oncology\"[All+Fields])'\n",
    "    query = \"term=\" + dr_string + \"+AND+(oncology+OR+neoplasms)\"\n",
    "    \n",
    "    base_url = 'https://eutils.ncbi.nlm.nih.gov/entrez/eutils/'\n",
    "    \n",
    "    ## eSearch utility\n",
    "    esearch =  \"esearch.fcgi?\"\n",
    "    \n",
    "    ## database to search (default is pubmed)\n",
    "    db = \"db=\"+database\n",
    "    \n",
    "    ## maximum number of uid's to be retrieved (max=100k)\n",
    "    retmax = \"retmax=\"+ str(nreturns)\n",
    "    \n",
    "    ## date restriction\n",
    "    dates = \"datetype=pdat&reldate=\" + str(reldate)\n",
    "    \n",
    "    ## compose url for eSearch\n",
    "    url_esearch = base_url + esearch + db + '&' + retmax + '&' + dates + '&' + query\n",
    "    \n",
    "    return url_esearch"
   ]
  },
  {
   "cell_type": "code",
   "execution_count": 8,
   "metadata": {
    "collapsed": false
   },
   "outputs": [
    {
     "data": {
      "text/plain": [
       "'https://eutils.ncbi.nlm.nih.gov/entrez/eutils/esearch.fcgi?db=pubmed&retmax=10000&datetype=pdat&reldate=7120&term=WILLIAMS SF+AND+(oncology+OR+neoplasms)'"
      ]
     },
     "execution_count": 8,
     "metadata": {},
     "output_type": "execute_result"
    }
   ],
   "source": [
    "construct_pubmed_query(summary.loc[3,'last_first_mi'])"
   ]
  },
  {
   "cell_type": "code",
   "execution_count": 9,
   "metadata": {
    "collapsed": true
   },
   "outputs": [],
   "source": [
    "def parse_esearch_xml(url_string):\n",
    "    \"\"\"Query eutils with a url string and parse out publication count for a doctor\n",
    "    from XML data returned by eSearch\n",
    "    \n",
    "    Input: url_string (string): pubmed API query\n",
    "    Output: \n",
    "    - publication_count (integer): # of publications for doctor\n",
    "    - uids (list): list of strings corresponding to publication ids\n",
    "    \"\"\"\n",
    "    \n",
    "    ## get and parse xml data returned by eSearch\n",
    "    response = requests.get(url_string)\n",
    "    tree = ElementTree.fromstring(response.content)\n",
    "    publication_count = tree.find('Count').text\n",
    "  \n",
    "    ## get uids/pubmed article ids\n",
    "    uids = [uid.text for uid in tree.iter('Id')]\n",
    "\n",
    "    return publication_count, uids"
   ]
  },
  {
   "cell_type": "code",
   "execution_count": 10,
   "metadata": {
    "collapsed": false
   },
   "outputs": [
    {
     "name": "stdout",
     "output_type": "stream",
     "text": [
      "0\n",
      "50\n",
      "100\n",
      "150\n",
      "200\n",
      "250\n",
      "300\n",
      "350\n",
      "400\n",
      "450\n",
      "500\n",
      "550\n",
      "600\n",
      "650\n",
      "700\n",
      "750\n",
      "800\n",
      "850\n",
      "900\n",
      "950\n",
      "1000\n",
      "1050\n",
      "1100\n",
      "1150\n",
      "1200\n",
      "1250\n",
      "1300\n",
      "1350\n",
      "1400\n",
      "1450\n",
      "1500\n",
      "1550\n",
      "1600\n",
      "1650\n",
      "1700\n",
      "1750\n",
      "1800\n",
      "1850\n",
      "1900\n",
      "1950\n",
      "2000\n",
      "2050\n",
      "2100\n",
      "2150\n",
      "2200\n",
      "2250\n",
      "2300\n",
      "2350\n",
      "2400\n",
      "2450\n",
      "2500\n",
      "2550\n",
      "2600\n",
      "2650\n",
      "2700\n",
      "2750\n",
      "2800\n"
     ]
    }
   ],
   "source": [
    "article_count_per_npi = []\n",
    "uids_per_npi = []\n",
    "\n",
    "for i, name in enumerate(last_first_mi):\n",
    "    if i % 50 == 0:\n",
    "        print(i)\n",
    "    if not name:\n",
    "        # no middle initial\n",
    "        article_count_per_npi.append('')\n",
    "        uids_per_npi.append('')\n",
    "    else:\n",
    "        query = construct_pubmed_query(name)\n",
    "        pub_cnt, uids = parse_esearch_xml(query)\n",
    "        \n",
    "        article_count_per_npi.append(pub_cnt)\n",
    "        uids_per_npi.append(uids)"
   ]
  },
  {
   "cell_type": "code",
   "execution_count": 20,
   "metadata": {
    "collapsed": false
   },
   "outputs": [],
   "source": [
    "summary['article_cnt_per_npi_with_mi'] = article_count_per_npi\n",
    "summary['uids_per_npi_with_mi'] = uids_per_npi"
   ]
  },
  {
   "cell_type": "code",
   "execution_count": 21,
   "metadata": {
    "collapsed": false
   },
   "outputs": [
    {
     "data": {
      "text/html": [
       "<div>\n",
       "<table border=\"1\" class=\"dataframe\">\n",
       "  <thead>\n",
       "    <tr style=\"text-align: right;\">\n",
       "      <th></th>\n",
       "      <th>npi</th>\n",
       "      <th>nppes_provider_last_org_name</th>\n",
       "      <th>nppes_provider_first_name</th>\n",
       "      <th>nppes_provider_mi</th>\n",
       "      <th>nppes_provider_city</th>\n",
       "      <th>nppes_provider_state</th>\n",
       "      <th>last_first_mi</th>\n",
       "      <th>last_first</th>\n",
       "      <th>article_cnt_per_npi_with_mi</th>\n",
       "      <th>uids_per_npi_with_mi</th>\n",
       "    </tr>\n",
       "  </thead>\n",
       "  <tbody>\n",
       "    <tr>\n",
       "      <th>0</th>\n",
       "      <td>1003019571</td>\n",
       "      <td>SEHGAL</td>\n",
       "      <td>RAJESH</td>\n",
       "      <td>None</td>\n",
       "      <td>MONROEVILLE</td>\n",
       "      <td>PA</td>\n",
       "      <td>[]</td>\n",
       "      <td>SEHGAL R</td>\n",
       "      <td></td>\n",
       "      <td></td>\n",
       "    </tr>\n",
       "    <tr>\n",
       "      <th>1</th>\n",
       "      <td>1003087768</td>\n",
       "      <td>BATUS</td>\n",
       "      <td>MARTA</td>\n",
       "      <td>None</td>\n",
       "      <td>CHICAGO</td>\n",
       "      <td>IL</td>\n",
       "      <td>[]</td>\n",
       "      <td>BATUS M</td>\n",
       "      <td></td>\n",
       "      <td></td>\n",
       "    </tr>\n",
       "    <tr>\n",
       "      <th>2</th>\n",
       "      <td>1003166042</td>\n",
       "      <td>FINE</td>\n",
       "      <td>HOWARD</td>\n",
       "      <td>A</td>\n",
       "      <td>NEW YORK</td>\n",
       "      <td>NY</td>\n",
       "      <td>FINE HA</td>\n",
       "      <td>FINE H</td>\n",
       "      <td>148</td>\n",
       "      <td>[26860632, 26643807, 26285768, 26194676, 25670...</td>\n",
       "    </tr>\n",
       "    <tr>\n",
       "      <th>3</th>\n",
       "      <td>1003805409</td>\n",
       "      <td>WILLIAMS</td>\n",
       "      <td>STEPHANIE</td>\n",
       "      <td>F</td>\n",
       "      <td>GRAND RAPIDS</td>\n",
       "      <td>MI</td>\n",
       "      <td>WILLIAMS SF</td>\n",
       "      <td>WILLIAMS S</td>\n",
       "      <td>27</td>\n",
       "      <td>[26482109, 19471019, 19255322, 17199440, 16751...</td>\n",
       "    </tr>\n",
       "    <tr>\n",
       "      <th>4</th>\n",
       "      <td>1003807645</td>\n",
       "      <td>LUNIN</td>\n",
       "      <td>SCOTT</td>\n",
       "      <td>D</td>\n",
       "      <td>NORTH PORT</td>\n",
       "      <td>FL</td>\n",
       "      <td>LUNIN SD</td>\n",
       "      <td>LUNIN S</td>\n",
       "      <td>0</td>\n",
       "      <td>[]</td>\n",
       "    </tr>\n",
       "  </tbody>\n",
       "</table>\n",
       "</div>"
      ],
      "text/plain": [
       "          npi nppes_provider_last_org_name nppes_provider_first_name  \\\n",
       "0  1003019571                       SEHGAL                    RAJESH   \n",
       "1  1003087768                        BATUS                     MARTA   \n",
       "2  1003166042                         FINE                    HOWARD   \n",
       "3  1003805409                     WILLIAMS                 STEPHANIE   \n",
       "4  1003807645                        LUNIN                     SCOTT   \n",
       "\n",
       "  nppes_provider_mi nppes_provider_city nppes_provider_state last_first_mi  \\\n",
       "0              None         MONROEVILLE                   PA            []   \n",
       "1              None             CHICAGO                   IL            []   \n",
       "2                 A            NEW YORK                   NY       FINE HA   \n",
       "3                 F        GRAND RAPIDS                   MI   WILLIAMS SF   \n",
       "4                 D          NORTH PORT                   FL      LUNIN SD   \n",
       "\n",
       "   last_first article_cnt_per_npi_with_mi  \\\n",
       "0    SEHGAL R                               \n",
       "1     BATUS M                               \n",
       "2      FINE H                         148   \n",
       "3  WILLIAMS S                          27   \n",
       "4     LUNIN S                           0   \n",
       "\n",
       "                                uids_per_npi_with_mi  \n",
       "0                                                     \n",
       "1                                                     \n",
       "2  [26860632, 26643807, 26285768, 26194676, 25670...  \n",
       "3  [26482109, 19471019, 19255322, 17199440, 16751...  \n",
       "4                                                 []  "
      ]
     },
     "execution_count": 21,
     "metadata": {},
     "output_type": "execute_result"
    }
   ],
   "source": [
    "summary.head()"
   ]
  },
  {
   "cell_type": "code",
   "execution_count": 22,
   "metadata": {
    "collapsed": false
   },
   "outputs": [],
   "source": [
    "empty_list_mask = (summary['article_cnt_per_npi_with_mi'].str.len() == 0)"
   ]
  },
  {
   "cell_type": "code",
   "execution_count": 23,
   "metadata": {
    "collapsed": false
   },
   "outputs": [
    {
     "data": {
      "text/plain": [
       "(2015, 10)"
      ]
     },
     "execution_count": 23,
     "metadata": {},
     "output_type": "execute_result"
    }
   ],
   "source": [
    "summary[~empty_list_mask].shape"
   ]
  },
  {
   "cell_type": "code",
   "execution_count": 24,
   "metadata": {
    "collapsed": false
   },
   "outputs": [
    {
     "data": {
      "text/plain": [
       "(2015, 10)"
      ]
     },
     "execution_count": 24,
     "metadata": {},
     "output_type": "execute_result"
    }
   ],
   "source": [
    "# double check, # of rows that have non empty list counts\n",
    "# should equal # of providers with a middle initial\n",
    "summary[summary.nppes_provider_mi.notnull()].shape"
   ]
  },
  {
   "cell_type": "code",
   "execution_count": 25,
   "metadata": {
    "collapsed": false
   },
   "outputs": [
    {
     "data": {
      "text/plain": [
       "(1534, 1)"
      ]
     },
     "execution_count": 25,
     "metadata": {},
     "output_type": "execute_result"
    }
   ],
   "source": [
    "# number of doctors that have > 0 pubmed articles\n",
    "(summary.loc[~empty_list_mask,'article_cnt_per_npi_with_mi'].\n",
    "                  map(lambda x: int(x)).\n",
    "                  to_frame('article_cnt_per_npi_with_mi').\n",
    "                  query('article_cnt_per_npi_with_mi > 0')).shape"
   ]
  },
  {
   "cell_type": "code",
   "execution_count": 26,
   "metadata": {
    "collapsed": false
   },
   "outputs": [
    {
     "data": {
      "image/png": "[encoded data removed]",
      "text/plain": [
       "<matplotlib.figure.Figure at 0x7f5a7bd685c0>"
      ]
     },
     "metadata": {},
     "output_type": "display_data"
    }
   ],
   "source": [
    "g = sns.distplot((summary.loc[~empty_list_mask,'article_cnt_per_npi_with_mi'].\n",
    "                  map(lambda x: int(x)).\n",
    "                  to_frame('article_cnt_per_npi_with_mi').\n",
    "                  query('article_cnt_per_npi_with_mi > 0')), \n",
    "                 kde=False, bins=10000)\n",
    "g.set(xlim=(0,400), ylim=(0, 850), xlabel='# of pubmed articles per physician', ylabel='counts')\n",
    "sns.despine()"
   ]
  },
  {
   "cell_type": "code",
   "execution_count": 27,
   "metadata": {
    "collapsed": true
   },
   "outputs": [],
   "source": [
    "# write scraped data to file\n",
    "summary[['npi','last_first_mi',\n",
    "         'last_first','article_cnt_per_npi_with_mi',\n",
    "         'uids_per_npi_with_mi']].to_csv(\"pubmed_article_cnt.csv\")"
   ]
  },
  {
   "cell_type": "code",
   "execution_count": 28,
   "metadata": {
    "collapsed": true
   },
   "outputs": [],
   "source": [
    "if con: \n",
    "    con.close()"
   ]
  }
 ],
 "metadata": {
  "anaconda-cloud": {},
  "kernelspec": {
   "display_name": "Python [conda env:medicare_provider_util_payment]",
   "language": "python",
   "name": "conda-env-medicare_provider_util_payment-py"
  },
  "language_info": {
   "codemirror_mode": {
    "name": "ipython",
    "version": 3
   },
   "file_extension": ".py",
   "mimetype": "text/x-python",
   "name": "python",
   "nbconvert_exporter": "python",
   "pygments_lexer": "ipython3",
   "version": "3.5.2"
  }
 },
 "nbformat": 4,
 "nbformat_minor": 1
}
