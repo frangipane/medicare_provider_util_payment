{
 "cells": [
  {
   "cell_type": "markdown",
   "metadata": {},
   "source": [
    "# LDA model on oncology\n",
    "\n",
    "provider_type: surgical, hematology, gynecological, radiation, medical\n",
    "- filter out least and most common hcpcs_codes (compared to model 1, which does no filtering)\n",
    "- only consider in-facility claims\n",
    "- number of topics = 13\n",
    "- include all oncology specialties"
   ]
  },
  {
   "cell_type": "code",
   "execution_count": 1,
   "metadata": {
    "collapsed": true
   },
   "outputs": [],
   "source": [
    "import psycopg2\n",
    "import pandas as pd\n",
    "import seaborn as sns\n",
    "import matplotlib.pyplot as plt\n",
    "import matplotlib.cm as cm\n",
    "import numpy as np\n",
    "import time\n",
    "\n",
    "from gensim import matutils, models, corpora\n",
    "\n",
    "%matplotlib inline\n",
    "sns.set(style=\"white\")"
   ]
  },
  {
   "cell_type": "code",
   "execution_count": 2,
   "metadata": {
    "collapsed": true
   },
   "outputs": [],
   "source": [
    "## connect to database\n",
    "con = psycopg2.connect(\"dbname='doctordb' user='cathy'\")"
   ]
  },
  {
   "cell_type": "code",
   "execution_count": 3,
   "metadata": {
    "collapsed": false
   },
   "outputs": [],
   "source": [
    "q = \"\"\"SELECT npi, provider_type, hcpcs_code, hcpcs_description, bene_day_srvc_cnt\n",
    "FROM payments WHERE provider_type LIKE '%Oncology' and place_of_service='F'\"\"\"\n",
    "payments = pd.read_sql_query(q, con=con)"
   ]
  },
  {
   "cell_type": "code",
   "execution_count": 4,
   "metadata": {
    "collapsed": false
   },
   "outputs": [
    {
     "data": {
      "text/plain": [
       "(92477, 5)"
      ]
     },
     "execution_count": 4,
     "metadata": {},
     "output_type": "execute_result"
    }
   ],
   "source": [
    "payments.shape"
   ]
  },
  {
   "cell_type": "code",
   "execution_count": 5,
   "metadata": {
    "collapsed": false
   },
   "outputs": [
    {
     "data": {
      "text/plain": [
       "array(['Hematology/Oncology', 'Medical Oncology', 'Surgical Oncology',\n",
       "       'Radiation Oncology', 'Gynecological/Oncology'], dtype=object)"
      ]
     },
     "execution_count": 5,
     "metadata": {},
     "output_type": "execute_result"
    }
   ],
   "source": [
    "payments['provider_type'].unique()"
   ]
  },
  {
   "cell_type": "markdown",
   "metadata": {},
   "source": [
    "## construct raw dataframe"
   ]
  },
  {
   "cell_type": "code",
   "execution_count": 6,
   "metadata": {
    "collapsed": true
   },
   "outputs": [],
   "source": [
    "## out of facility claims\n",
    "by_npi = (payments[['npi','hcpcs_code','bene_day_srvc_cnt']].\n",
    "                pivot(index='npi', values = 'bene_day_srvc_cnt', columns='hcpcs_code').\n",
    "                fillna(value=0))"
   ]
  },
  {
   "cell_type": "code",
   "execution_count": 7,
   "metadata": {
    "collapsed": false
   },
   "outputs": [
    {
     "data": {
      "text/plain": [
       "(14098, 670)"
      ]
     },
     "execution_count": 7,
     "metadata": {},
     "output_type": "execute_result"
    }
   ],
   "source": [
    "by_npi.shape"
   ]
  },
  {
   "cell_type": "markdown",
   "metadata": {},
   "source": [
    "## preprocess dataframe"
   ]
  },
  {
   "cell_type": "markdown",
   "metadata": {},
   "source": [
    "### filter out extreme hcpcs_code columns (top 10 claimed codes and codes with only 1 claim)"
   ]
  },
  {
   "cell_type": "code",
   "execution_count": 23,
   "metadata": {
    "collapsed": false
   },
   "outputs": [
    {
     "data": {
      "text/html": [
       "<div>\n",
       "<table border=\"1\" class=\"dataframe\">\n",
       "  <thead>\n",
       "    <tr style=\"text-align: right;\">\n",
       "      <th></th>\n",
       "      <th>hcpcs_code</th>\n",
       "      <th>count</th>\n",
       "      <th>hcpcs_description</th>\n",
       "    </tr>\n",
       "  </thead>\n",
       "  <tbody>\n",
       "    <tr>\n",
       "      <th>0</th>\n",
       "      <td>99232</td>\n",
       "      <td>6667</td>\n",
       "      <td>Subsequent hospital inpatient care, typically 25 minutes per day</td>\n",
       "    </tr>\n",
       "    <tr>\n",
       "      <th>6667</th>\n",
       "      <td>99214</td>\n",
       "      <td>6126</td>\n",
       "      <td>Established patient office or other outpatient, visit typically 25 minutes</td>\n",
       "    </tr>\n",
       "    <tr>\n",
       "      <th>12793</th>\n",
       "      <td>99223</td>\n",
       "      <td>6060</td>\n",
       "      <td>Initial hospital inpatient care, typically 70 minutes per day</td>\n",
       "    </tr>\n",
       "    <tr>\n",
       "      <th>18853</th>\n",
       "      <td>99233</td>\n",
       "      <td>5638</td>\n",
       "      <td>Subsequent hospital inpatient care, typically 35 minutes per day</td>\n",
       "    </tr>\n",
       "    <tr>\n",
       "      <th>24491</th>\n",
       "      <td>99213</td>\n",
       "      <td>5631</td>\n",
       "      <td>Established patient office or other outpatient visit, typically 15 minutes</td>\n",
       "    </tr>\n",
       "    <tr>\n",
       "      <th>30122</th>\n",
       "      <td>99205</td>\n",
       "      <td>4526</td>\n",
       "      <td>New patient office or other outpatient visit, typically 60 minutes</td>\n",
       "    </tr>\n",
       "    <tr>\n",
       "      <th>34648</th>\n",
       "      <td>99215</td>\n",
       "      <td>3906</td>\n",
       "      <td>Established patient office or other outpatient, visit typically 40 minutes</td>\n",
       "    </tr>\n",
       "    <tr>\n",
       "      <th>38554</th>\n",
       "      <td>99222</td>\n",
       "      <td>3310</td>\n",
       "      <td>Initial hospital inpatient care, typically 50 minutes per day</td>\n",
       "    </tr>\n",
       "    <tr>\n",
       "      <th>41864</th>\n",
       "      <td>99204</td>\n",
       "      <td>2977</td>\n",
       "      <td>New patient office or other outpatient visit, typically 45 minutes</td>\n",
       "    </tr>\n",
       "    <tr>\n",
       "      <th>44841</th>\n",
       "      <td>99231</td>\n",
       "      <td>2863</td>\n",
       "      <td>Subsequent hospital inpatient care, typically 15 minutes per day</td>\n",
       "    </tr>\n",
       "    <tr>\n",
       "      <th>47704</th>\n",
       "      <td>77300</td>\n",
       "      <td>2797</td>\n",
       "      <td>Calculation of radiation therapy dose</td>\n",
       "    </tr>\n",
       "    <tr>\n",
       "      <th>50501</th>\n",
       "      <td>77427</td>\n",
       "      <td>2794</td>\n",
       "      <td>Radiation treatment management, 5 treatments</td>\n",
       "    </tr>\n",
       "    <tr>\n",
       "      <th>53295</th>\n",
       "      <td>77334</td>\n",
       "      <td>2758</td>\n",
       "      <td>Radiation treatment devices, design and construction, complex</td>\n",
       "    </tr>\n",
       "    <tr>\n",
       "      <th>56053</th>\n",
       "      <td>77263</td>\n",
       "      <td>2687</td>\n",
       "      <td>Management of radiation therapy, complex</td>\n",
       "    </tr>\n",
       "    <tr>\n",
       "      <th>58740</th>\n",
       "      <td>77290</td>\n",
       "      <td>2665</td>\n",
       "      <td>Management of radiation therapy, simulation, complex</td>\n",
       "    </tr>\n",
       "  </tbody>\n",
       "</table>\n",
       "</div>"
      ],
      "text/plain": [
       "      hcpcs_code  count  \\\n",
       "0          99232   6667   \n",
       "6667       99214   6126   \n",
       "12793      99223   6060   \n",
       "18853      99233   5638   \n",
       "24491      99213   5631   \n",
       "30122      99205   4526   \n",
       "34648      99215   3906   \n",
       "38554      99222   3310   \n",
       "41864      99204   2977   \n",
       "44841      99231   2863   \n",
       "47704      77300   2797   \n",
       "50501      77427   2794   \n",
       "53295      77334   2758   \n",
       "56053      77263   2687   \n",
       "58740      77290   2665   \n",
       "\n",
       "                                                                hcpcs_description  \n",
       "0                Subsequent hospital inpatient care, typically 25 minutes per day  \n",
       "6667   Established patient office or other outpatient, visit typically 25 minutes  \n",
       "12793               Initial hospital inpatient care, typically 70 minutes per day  \n",
       "18853            Subsequent hospital inpatient care, typically 35 minutes per day  \n",
       "24491  Established patient office or other outpatient visit, typically 15 minutes  \n",
       "30122          New patient office or other outpatient visit, typically 60 minutes  \n",
       "34648  Established patient office or other outpatient, visit typically 40 minutes  \n",
       "38554               Initial hospital inpatient care, typically 50 minutes per day  \n",
       "41864          New patient office or other outpatient visit, typically 45 minutes  \n",
       "44841            Subsequent hospital inpatient care, typically 15 minutes per day  \n",
       "47704                                       Calculation of radiation therapy dose  \n",
       "50501                                Radiation treatment management, 5 treatments  \n",
       "53295               Radiation treatment devices, design and construction, complex  \n",
       "56053                                    Management of radiation therapy, complex  \n",
       "58740                        Management of radiation therapy, simulation, complex  "
      ]
     },
     "execution_count": 23,
     "metadata": {},
     "output_type": "execute_result"
    }
   ],
   "source": [
    "## What are the counts for the top claimed codes?\n",
    "counts_per_code = (payments['hcpcs_code'].value_counts().\n",
    "                   reset_index(name='count').\n",
    "                   rename(columns={'index': 'hcpcs_code'}))\n",
    "\n",
    "pd.set_option('max_colwidth', 80)\n",
    "counts_per_code = (counts_per_code.merge(payments[['hcpcs_code', 'hcpcs_description']],\n",
    "                                         on='hcpcs_code', sort=False)\n",
    "                   .drop_duplicates())\n",
    "\n",
    "top_codes_to_drop = list(counts_per_code['hcpcs_code'][:10])\n",
    "counts_per_code.head(15)"
   ]
  },
  {
   "cell_type": "code",
   "execution_count": 24,
   "metadata": {
    "collapsed": false
   },
   "outputs": [
    {
     "data": {
      "text/plain": [
       "225"
      ]
     },
     "execution_count": 24,
     "metadata": {},
     "output_type": "execute_result"
    }
   ],
   "source": [
    "## How many codes have been claimed only once?\n",
    "bottom_codes_to_drop = list(counts_per_code.query('count == 1')['hcpcs_code'])\n",
    "len(bottom_codes_to_drop)"
   ]
  },
  {
   "cell_type": "code",
   "execution_count": 19,
   "metadata": {
    "collapsed": false
   },
   "outputs": [
    {
     "data": {
      "text/html": [
       "<div>\n",
       "<table border=\"1\" class=\"dataframe\">\n",
       "  <thead>\n",
       "    <tr style=\"text-align: right;\">\n",
       "      <th></th>\n",
       "      <th>hcpcs_code</th>\n",
       "      <th>count</th>\n",
       "      <th>hcpcs_description</th>\n",
       "    </tr>\n",
       "  </thead>\n",
       "  <tbody>\n",
       "    <tr>\n",
       "      <th>92467</th>\n",
       "      <td>44180</td>\n",
       "      <td>1</td>\n",
       "      <td>Release of small bowel scar tissue using an endoscope</td>\n",
       "    </tr>\n",
       "    <tr>\n",
       "      <th>92468</th>\n",
       "      <td>74246</td>\n",
       "      <td>1</td>\n",
       "      <td>X-ray of upper digestive tract with contrast</td>\n",
       "    </tr>\n",
       "    <tr>\n",
       "      <th>92469</th>\n",
       "      <td>57268</td>\n",
       "      <td>1</td>\n",
       "      <td>Repair of protrusion of intestine into rectum or vagina</td>\n",
       "    </tr>\n",
       "    <tr>\n",
       "      <th>92470</th>\n",
       "      <td>49585</td>\n",
       "      <td>1</td>\n",
       "      <td>Repair of hernia at navel patient age 5 years or older</td>\n",
       "    </tr>\n",
       "    <tr>\n",
       "      <th>92471</th>\n",
       "      <td>44050</td>\n",
       "      <td>1</td>\n",
       "      <td>Incisional repair of twisted or herniated small bowel</td>\n",
       "    </tr>\n",
       "    <tr>\n",
       "      <th>92472</th>\n",
       "      <td>50327</td>\n",
       "      <td>1</td>\n",
       "      <td>Preparation of donor kidney for transplantation</td>\n",
       "    </tr>\n",
       "    <tr>\n",
       "      <th>92473</th>\n",
       "      <td>13151</td>\n",
       "      <td>1</td>\n",
       "      <td>Repair of wound (1.1 to 2.5 centimeters) of eyelids, nose, ears, and/or lips</td>\n",
       "    </tr>\n",
       "    <tr>\n",
       "      <th>92474</th>\n",
       "      <td>23078</td>\n",
       "      <td>1</td>\n",
       "      <td>Removal (5 centimeters or greater) tissue growth of shoulder area</td>\n",
       "    </tr>\n",
       "    <tr>\n",
       "      <th>92475</th>\n",
       "      <td>50398</td>\n",
       "      <td>1</td>\n",
       "      <td>Change of kidney drainage tube</td>\n",
       "    </tr>\n",
       "    <tr>\n",
       "      <th>92476</th>\n",
       "      <td>77799</td>\n",
       "      <td>1</td>\n",
       "      <td>Administration of radiation therapy</td>\n",
       "    </tr>\n",
       "  </tbody>\n",
       "</table>\n",
       "</div>"
      ],
      "text/plain": [
       "      hcpcs_code  count  \\\n",
       "92467      44180      1   \n",
       "92468      74246      1   \n",
       "92469      57268      1   \n",
       "92470      49585      1   \n",
       "92471      44050      1   \n",
       "92472      50327      1   \n",
       "92473      13151      1   \n",
       "92474      23078      1   \n",
       "92475      50398      1   \n",
       "92476      77799      1   \n",
       "\n",
       "                                                                  hcpcs_description  \n",
       "92467                         Release of small bowel scar tissue using an endoscope  \n",
       "92468                                  X-ray of upper digestive tract with contrast  \n",
       "92469                       Repair of protrusion of intestine into rectum or vagina  \n",
       "92470                        Repair of hernia at navel patient age 5 years or older  \n",
       "92471                         Incisional repair of twisted or herniated small bowel  \n",
       "92472                               Preparation of donor kidney for transplantation  \n",
       "92473  Repair of wound (1.1 to 2.5 centimeters) of eyelids, nose, ears, and/or lips  \n",
       "92474             Removal (5 centimeters or greater) tissue growth of shoulder area  \n",
       "92475                                                Change of kidney drainage tube  \n",
       "92476                                           Administration of radiation therapy  "
      ]
     },
     "execution_count": 19,
     "metadata": {},
     "output_type": "execute_result"
    }
   ],
   "source": [
    "counts_per_code.tail(10)"
   ]
  },
  {
   "cell_type": "code",
   "execution_count": 22,
   "metadata": {
    "collapsed": false
   },
   "outputs": [
    {
     "name": "stdout",
     "output_type": "stream",
     "text": [
      "number of cols to drop: 235\n"
     ]
    }
   ],
   "source": [
    "## so total columns dropped is:\n",
    "print('number of cols to drop: {0}'.format(len(bottom_codes_to_drop) + len(top_codes_to_drop)))"
   ]
  },
  {
   "cell_type": "code",
   "execution_count": 25,
   "metadata": {
    "collapsed": false
   },
   "outputs": [
    {
     "data": {
      "text/plain": [
       "(14098, 435)"
      ]
     },
     "execution_count": 25,
     "metadata": {},
     "output_type": "execute_result"
    }
   ],
   "source": [
    "by_npi.drop(labels=(top_codes_to_drop + bottom_codes_to_drop), axis=1, inplace=True)\n",
    "by_npi.shape"
   ]
  },
  {
   "cell_type": "markdown",
   "metadata": {},
   "source": [
    "###  drop doctors who have less than 2 claims"
   ]
  },
  {
   "cell_type": "code",
   "execution_count": 26,
   "metadata": {
    "collapsed": false
   },
   "outputs": [
    {
     "data": {
      "image/png": "[encoded data removed]",
      "text/plain": [
       "<matplotlib.figure.Figure at 0x7fd44a52c780>"
      ]
     },
     "metadata": {},
     "output_type": "display_data"
    }
   ],
   "source": [
    "## How many different drug codes have been claimed per doctor?  Plot distribution\n",
    "\n",
    "#number_of_codes_per_doctor = (by_npi > 0.0).sum(axis = 1)\n",
    "g = sns.distplot((by_npi > 0.0).sum(axis = 1), kde=False, bins=80)\n",
    "g.set(xlim=(0,20), xlabel='claims per doctor', ylabel='counts')\n",
    "sns.despine()"
   ]
  },
  {
   "cell_type": "code",
   "execution_count": 35,
   "metadata": {
    "collapsed": false
   },
   "outputs": [
    {
     "data": {
      "text/plain": [
       "9031"
      ]
     },
     "execution_count": 35,
     "metadata": {},
     "output_type": "execute_result"
    }
   ],
   "source": [
    "# number of docs to drop (docs who have < 2 claims, based on the already column-filtered dataframe)\n",
    "sum((by_npi > 0.0).sum(axis = 1) < 2)"
   ]
  },
  {
   "cell_type": "code",
   "execution_count": 36,
   "metadata": {
    "collapsed": false
   },
   "outputs": [],
   "source": [
    "by_npi = by_npi[(by_npi > 0.0).sum(axis = 1) > 1]"
   ]
  },
  {
   "cell_type": "code",
   "execution_count": 37,
   "metadata": {
    "collapsed": false
   },
   "outputs": [
    {
     "data": {
      "text/plain": [
       "(5067, 435)"
      ]
     },
     "execution_count": 37,
     "metadata": {},
     "output_type": "execute_result"
    }
   ],
   "source": [
    "by_npi.shape"
   ]
  },
  {
   "cell_type": "code",
   "execution_count": 38,
   "metadata": {
    "collapsed": true
   },
   "outputs": [],
   "source": [
    "by_npi.to_csv(\"11d_by_npi_reduced_oncology_dataframe.csv\")"
   ]
  },
  {
   "cell_type": "markdown",
   "metadata": {},
   "source": [
    "## LDA on filtered data frame using 10 topics"
   ]
  },
  {
   "cell_type": "code",
   "execution_count": 39,
   "metadata": {
    "collapsed": true
   },
   "outputs": [],
   "source": [
    "corpus = matutils.Dense2Corpus(by_npi.as_matrix(), documents_columns=False)"
   ]
  },
  {
   "cell_type": "code",
   "execution_count": 40,
   "metadata": {
    "collapsed": true
   },
   "outputs": [],
   "source": [
    "tfidf = models.TfidfModel(corpus)\n",
    "corpus_tfidf = tfidf[corpus]"
   ]
  },
  {
   "cell_type": "code",
   "execution_count": 41,
   "metadata": {
    "collapsed": false
   },
   "outputs": [
    {
     "name": "stdout",
     "output_type": "stream",
     "text": [
      "calculated in 73.47537875175476s\n"
     ]
    }
   ],
   "source": [
    "time0 = time.time()\n",
    "ldamodel = models.ldamodel.LdaModel(corpus_tfidf, num_topics=10, passes=20)\n",
    "print('calculated in {0}s'.format(time.time()-time0))"
   ]
  },
  {
   "cell_type": "code",
   "execution_count": 42,
   "metadata": {
    "collapsed": true
   },
   "outputs": [],
   "source": [
    "## Save model\n",
    "ldamodel.save(\"11d_lda_10topics_colsDropped_docsDropped_oncology.model\", pickle_protocol=3)"
   ]
  },
  {
   "cell_type": "markdown",
   "metadata": {},
   "source": [
    "## Interpret the 10 topics in the model"
   ]
  },
  {
   "cell_type": "code",
   "execution_count": 43,
   "metadata": {
    "collapsed": true
   },
   "outputs": [],
   "source": [
    "## top 15 words in each topic\n",
    "topics_matrix = ldamodel.show_topics(formatted=False, num_words=15)"
   ]
  },
  {
   "cell_type": "code",
   "execution_count": 44,
   "metadata": {
    "collapsed": true
   },
   "outputs": [],
   "source": [
    "## for each topic, store indices of top 20 hcpcs_codes in a list\n",
    "topic_idx_dict = {}\n",
    "\n",
    "for i in topics_matrix:\n",
    "    topic_idx_dict[i[0]] = [int(word[0]) for word in i[1]]"
   ]
  },
  {
   "cell_type": "code",
   "execution_count": 45,
   "metadata": {
    "collapsed": true
   },
   "outputs": [],
   "source": [
    "## for each topic's list of indexes, get the list of hcpcs_codes\n",
    "topic_dict = {}\n",
    "\n",
    "for k, v in topic_idx_dict.items():\n",
    "    topic_dict[k] = [by_npi.columns.values[i] for i in v]"
   ]
  },
  {
   "cell_type": "code",
   "execution_count": 46,
   "metadata": {
    "collapsed": false
   },
   "outputs": [
    {
     "data": {
      "text/html": [
       "<div>\n",
       "<table border=\"1\" class=\"dataframe\">\n",
       "  <thead>\n",
       "    <tr style=\"text-align: right;\">\n",
       "      <th></th>\n",
       "      <th>hcpcs_code</th>\n",
       "      <th>hcpcs_description</th>\n",
       "    </tr>\n",
       "  </thead>\n",
       "  <tbody>\n",
       "    <tr>\n",
       "      <th>1360</th>\n",
       "      <td>70450</td>\n",
       "      <td>CT scan head or brain</td>\n",
       "    </tr>\n",
       "    <tr>\n",
       "      <th>1361</th>\n",
       "      <td>71010</td>\n",
       "      <td>X-ray of chest, 1 view, front</td>\n",
       "    </tr>\n",
       "    <tr>\n",
       "      <th>1362</th>\n",
       "      <td>71020</td>\n",
       "      <td>X-ray of chest, 2 views, front and side</td>\n",
       "    </tr>\n",
       "    <tr>\n",
       "      <th>1380</th>\n",
       "      <td>74177</td>\n",
       "      <td>CT scan of abdomen and pelvis with contrast</td>\n",
       "    </tr>\n",
       "    <tr>\n",
       "      <th>2117</th>\n",
       "      <td>58558</td>\n",
       "      <td>Biopsy and/or removal of polyp of the uterus using an endoscope</td>\n",
       "    </tr>\n",
       "    <tr>\n",
       "      <th>2320</th>\n",
       "      <td>36561</td>\n",
       "      <td>Insertion of central venous catheter and implanted device for infusion benea...</td>\n",
       "    </tr>\n",
       "    <tr>\n",
       "      <th>2321</th>\n",
       "      <td>38747</td>\n",
       "      <td>Removal of abdominal organ lymph nodes</td>\n",
       "    </tr>\n",
       "    <tr>\n",
       "      <th>2324</th>\n",
       "      <td>77001</td>\n",
       "      <td>Fluoroscopic guidance for insertion, replacement or removal of central venou...</td>\n",
       "    </tr>\n",
       "    <tr>\n",
       "      <th>3229</th>\n",
       "      <td>85060</td>\n",
       "      <td>Blood smear interpretation by physician with written report</td>\n",
       "    </tr>\n",
       "    <tr>\n",
       "      <th>3579</th>\n",
       "      <td>58552</td>\n",
       "      <td>Vaginal removal of uterus (250 grams or less), tubes, and/or ovaries using a...</td>\n",
       "    </tr>\n",
       "    <tr>\n",
       "      <th>4458</th>\n",
       "      <td>99284</td>\n",
       "      <td>Emergency department visit, problem of high severity</td>\n",
       "    </tr>\n",
       "    <tr>\n",
       "      <th>4459</th>\n",
       "      <td>99285</td>\n",
       "      <td>Emergency department visit, problem with significant threat to life or function</td>\n",
       "    </tr>\n",
       "    <tr>\n",
       "      <th>5083</th>\n",
       "      <td>76937</td>\n",
       "      <td>Ultrasound guidance for accessing into blood vessel</td>\n",
       "    </tr>\n",
       "    <tr>\n",
       "      <th>5204</th>\n",
       "      <td>76000</td>\n",
       "      <td>Imaging guidance for procedure, up to 1 hour</td>\n",
       "    </tr>\n",
       "    <tr>\n",
       "      <th>7221</th>\n",
       "      <td>76536</td>\n",
       "      <td>Ultrasound of head and neck</td>\n",
       "    </tr>\n",
       "  </tbody>\n",
       "</table>\n",
       "</div>"
      ],
      "text/plain": [
       "     hcpcs_code  \\\n",
       "1360      70450   \n",
       "1361      71010   \n",
       "1362      71020   \n",
       "1380      74177   \n",
       "2117      58558   \n",
       "2320      36561   \n",
       "2321      38747   \n",
       "2324      77001   \n",
       "3229      85060   \n",
       "3579      58552   \n",
       "4458      99284   \n",
       "4459      99285   \n",
       "5083      76937   \n",
       "5204      76000   \n",
       "7221      76536   \n",
       "\n",
       "                                                                    hcpcs_description  \n",
       "1360                                                            CT scan head or brain  \n",
       "1361                                                    X-ray of chest, 1 view, front  \n",
       "1362                                          X-ray of chest, 2 views, front and side  \n",
       "1380                                      CT scan of abdomen and pelvis with contrast  \n",
       "2117                  Biopsy and/or removal of polyp of the uterus using an endoscope  \n",
       "2320  Insertion of central venous catheter and implanted device for infusion benea...  \n",
       "2321                                           Removal of abdominal organ lymph nodes  \n",
       "2324  Fluoroscopic guidance for insertion, replacement or removal of central venou...  \n",
       "3229                      Blood smear interpretation by physician with written report  \n",
       "3579  Vaginal removal of uterus (250 grams or less), tubes, and/or ovaries using a...  \n",
       "4458                             Emergency department visit, problem of high severity  \n",
       "4459  Emergency department visit, problem with significant threat to life or function  \n",
       "5083                              Ultrasound guidance for accessing into blood vessel  \n",
       "5204                                     Imaging guidance for procedure, up to 1 hour  \n",
       "7221                                                      Ultrasound of head and neck  "
      ]
     },
     "execution_count": 46,
     "metadata": {},
     "output_type": "execute_result"
    }
   ],
   "source": [
    "## Topic 0\n",
    "t = 0\n",
    "(payments.loc[payments.hcpcs_code.isin(topic_dict[t]), ['hcpcs_code','hcpcs_description']].\n",
    " drop_duplicates('hcpcs_code'))"
   ]
  },
  {
   "cell_type": "code",
   "execution_count": 47,
   "metadata": {
    "collapsed": false
   },
   "outputs": [
    {
     "data": {
      "text/html": [
       "<div>\n",
       "<table border=\"1\" class=\"dataframe\">\n",
       "  <thead>\n",
       "    <tr style=\"text-align: right;\">\n",
       "      <th></th>\n",
       "      <th>hcpcs_code</th>\n",
       "      <th>hcpcs_description</th>\n",
       "    </tr>\n",
       "  </thead>\n",
       "  <tbody>\n",
       "    <tr>\n",
       "      <th>9</th>\n",
       "      <td>19301</td>\n",
       "      <td>Partial removal of breast</td>\n",
       "    </tr>\n",
       "    <tr>\n",
       "      <th>10</th>\n",
       "      <td>38525</td>\n",
       "      <td>Biopsy or removal of lymph nodes of under the arm, open procedure</td>\n",
       "    </tr>\n",
       "    <tr>\n",
       "      <th>11</th>\n",
       "      <td>38900</td>\n",
       "      <td>Lymph node imaging during surgery</td>\n",
       "    </tr>\n",
       "    <tr>\n",
       "      <th>33</th>\n",
       "      <td>99203</td>\n",
       "      <td>New patient office or other outpatient visit, typically 30 minutes</td>\n",
       "    </tr>\n",
       "    <tr>\n",
       "      <th>172</th>\n",
       "      <td>99239</td>\n",
       "      <td>Hospital discharge day management, more than 30 minutes</td>\n",
       "    </tr>\n",
       "    <tr>\n",
       "      <th>508</th>\n",
       "      <td>92511</td>\n",
       "      <td>Examination of the nose and throat using an endoscope</td>\n",
       "    </tr>\n",
       "    <tr>\n",
       "      <th>2379</th>\n",
       "      <td>99291</td>\n",
       "      <td>Critical care delivery critically ill or injured patient, first 30-74 minutes</td>\n",
       "    </tr>\n",
       "    <tr>\n",
       "      <th>2797</th>\n",
       "      <td>99306</td>\n",
       "      <td>Initial nursing facility visit, typically 45 minutes per day</td>\n",
       "    </tr>\n",
       "    <tr>\n",
       "      <th>2882</th>\n",
       "      <td>19303</td>\n",
       "      <td>Total removal of breast</td>\n",
       "    </tr>\n",
       "    <tr>\n",
       "      <th>3361</th>\n",
       "      <td>99356</td>\n",
       "      <td>Prolonged inpatient or observation hospital service first hour</td>\n",
       "    </tr>\n",
       "    <tr>\n",
       "      <th>4005</th>\n",
       "      <td>19125</td>\n",
       "      <td>Removal of breast growth, open procedure</td>\n",
       "    </tr>\n",
       "    <tr>\n",
       "      <th>4129</th>\n",
       "      <td>36514</td>\n",
       "      <td>Mechanical separation of plasma from opening blood</td>\n",
       "    </tr>\n",
       "    <tr>\n",
       "      <th>4193</th>\n",
       "      <td>38500</td>\n",
       "      <td>Biopsy or removal of lymph nodes, open procedure</td>\n",
       "    </tr>\n",
       "    <tr>\n",
       "      <th>4466</th>\n",
       "      <td>14001</td>\n",
       "      <td>Tissue transfer repair of wound (10.1 to 30.0 sq centimeters) of the trunk</td>\n",
       "    </tr>\n",
       "    <tr>\n",
       "      <th>23193</th>\n",
       "      <td>45330</td>\n",
       "      <td>Diagnostic examination of large bowel using an endoscope</td>\n",
       "    </tr>\n",
       "  </tbody>\n",
       "</table>\n",
       "</div>"
      ],
      "text/plain": [
       "      hcpcs_code  \\\n",
       "9          19301   \n",
       "10         38525   \n",
       "11         38900   \n",
       "33         99203   \n",
       "172        99239   \n",
       "508        92511   \n",
       "2379       99291   \n",
       "2797       99306   \n",
       "2882       19303   \n",
       "3361       99356   \n",
       "4005       19125   \n",
       "4129       36514   \n",
       "4193       38500   \n",
       "4466       14001   \n",
       "23193      45330   \n",
       "\n",
       "                                                                   hcpcs_description  \n",
       "9                                                          Partial removal of breast  \n",
       "10                 Biopsy or removal of lymph nodes of under the arm, open procedure  \n",
       "11                                                 Lymph node imaging during surgery  \n",
       "33                New patient office or other outpatient visit, typically 30 minutes  \n",
       "172                          Hospital discharge day management, more than 30 minutes  \n",
       "508                            Examination of the nose and throat using an endoscope  \n",
       "2379   Critical care delivery critically ill or injured patient, first 30-74 minutes  \n",
       "2797                    Initial nursing facility visit, typically 45 minutes per day  \n",
       "2882                                                         Total removal of breast  \n",
       "3361                  Prolonged inpatient or observation hospital service first hour  \n",
       "4005                                        Removal of breast growth, open procedure  \n",
       "4129                              Mechanical separation of plasma from opening blood  \n",
       "4193                                Biopsy or removal of lymph nodes, open procedure  \n",
       "4466      Tissue transfer repair of wound (10.1 to 30.0 sq centimeters) of the trunk  \n",
       "23193                       Diagnostic examination of large bowel using an endoscope  "
      ]
     },
     "execution_count": 47,
     "metadata": {},
     "output_type": "execute_result"
    }
   ],
   "source": [
    "## Topic 1\n",
    "t = 1\n",
    "(payments.loc[payments.hcpcs_code.isin(topic_dict[t]), ['hcpcs_code','hcpcs_description']].\n",
    " drop_duplicates('hcpcs_code'))"
   ]
  },
  {
   "cell_type": "code",
   "execution_count": 48,
   "metadata": {
    "collapsed": false
   },
   "outputs": [
    {
     "data": {
      "text/html": [
       "<div>\n",
       "<table border=\"1\" class=\"dataframe\">\n",
       "  <thead>\n",
       "    <tr style=\"text-align: right;\">\n",
       "      <th></th>\n",
       "      <th>hcpcs_code</th>\n",
       "      <th>hcpcs_description</th>\n",
       "    </tr>\n",
       "  </thead>\n",
       "  <tbody>\n",
       "    <tr>\n",
       "      <th>33</th>\n",
       "      <td>99203</td>\n",
       "      <td>New patient office or other outpatient visit, typically 30 minutes</td>\n",
       "    </tr>\n",
       "    <tr>\n",
       "      <th>36</th>\n",
       "      <td>99212</td>\n",
       "      <td>Established patient office or other outpatient visit, typically 10 minutes</td>\n",
       "    </tr>\n",
       "    <tr>\n",
       "      <th>43</th>\n",
       "      <td>99238</td>\n",
       "      <td>Hospital discharge day management, 30 minutes or less</td>\n",
       "    </tr>\n",
       "    <tr>\n",
       "      <th>172</th>\n",
       "      <td>99239</td>\n",
       "      <td>Hospital discharge day management, more than 30 minutes</td>\n",
       "    </tr>\n",
       "    <tr>\n",
       "      <th>183</th>\n",
       "      <td>99221</td>\n",
       "      <td>Initial hospital inpatient care, typically 30 minutes per day</td>\n",
       "    </tr>\n",
       "    <tr>\n",
       "      <th>412</th>\n",
       "      <td>38221</td>\n",
       "      <td>Needle or trocar bone marrow biopsy</td>\n",
       "    </tr>\n",
       "    <tr>\n",
       "      <th>419</th>\n",
       "      <td>G0364</td>\n",
       "      <td>Bone marrow aspiration performed with bone marrow biopsy through the same in...</td>\n",
       "    </tr>\n",
       "    <tr>\n",
       "      <th>499</th>\n",
       "      <td>99354</td>\n",
       "      <td>Prolonged office or other outpatient service first hour</td>\n",
       "    </tr>\n",
       "    <tr>\n",
       "      <th>755</th>\n",
       "      <td>60500</td>\n",
       "      <td>Removal or exploration of parathyroid glands</td>\n",
       "    </tr>\n",
       "    <tr>\n",
       "      <th>2788</th>\n",
       "      <td>99217</td>\n",
       "      <td>Hospital observation care discharge</td>\n",
       "    </tr>\n",
       "    <tr>\n",
       "      <th>2798</th>\n",
       "      <td>99307</td>\n",
       "      <td>Subsequent nursing facility visit, typically 10 minutes per day</td>\n",
       "    </tr>\n",
       "    <tr>\n",
       "      <th>3217</th>\n",
       "      <td>99220</td>\n",
       "      <td>Hospital observation care typically 70 minutes per day</td>\n",
       "    </tr>\n",
       "    <tr>\n",
       "      <th>3887</th>\n",
       "      <td>47562</td>\n",
       "      <td>Removal of gallbladder using an endoscope</td>\n",
       "    </tr>\n",
       "    <tr>\n",
       "      <th>11004</th>\n",
       "      <td>99144</td>\n",
       "      <td>Moderate sedation services by physician also performing a procedure, patient...</td>\n",
       "    </tr>\n",
       "    <tr>\n",
       "      <th>13323</th>\n",
       "      <td>14301</td>\n",
       "      <td>Tissue transfer repair of wound (30.1 to 60.0 sq centimeters)</td>\n",
       "    </tr>\n",
       "  </tbody>\n",
       "</table>\n",
       "</div>"
      ],
      "text/plain": [
       "      hcpcs_code  \\\n",
       "33         99203   \n",
       "36         99212   \n",
       "43         99238   \n",
       "172        99239   \n",
       "183        99221   \n",
       "412        38221   \n",
       "419        G0364   \n",
       "499        99354   \n",
       "755        60500   \n",
       "2788       99217   \n",
       "2798       99307   \n",
       "3217       99220   \n",
       "3887       47562   \n",
       "11004      99144   \n",
       "13323      14301   \n",
       "\n",
       "                                                                     hcpcs_description  \n",
       "33                  New patient office or other outpatient visit, typically 30 minutes  \n",
       "36          Established patient office or other outpatient visit, typically 10 minutes  \n",
       "43                               Hospital discharge day management, 30 minutes or less  \n",
       "172                            Hospital discharge day management, more than 30 minutes  \n",
       "183                      Initial hospital inpatient care, typically 30 minutes per day  \n",
       "412                                                Needle or trocar bone marrow biopsy  \n",
       "419    Bone marrow aspiration performed with bone marrow biopsy through the same in...  \n",
       "499                            Prolonged office or other outpatient service first hour  \n",
       "755                                       Removal or exploration of parathyroid glands  \n",
       "2788                                               Hospital observation care discharge  \n",
       "2798                   Subsequent nursing facility visit, typically 10 minutes per day  \n",
       "3217                            Hospital observation care typically 70 minutes per day  \n",
       "3887                                         Removal of gallbladder using an endoscope  \n",
       "11004  Moderate sedation services by physician also performing a procedure, patient...  \n",
       "13323                    Tissue transfer repair of wound (30.1 to 60.0 sq centimeters)  "
      ]
     },
     "execution_count": 48,
     "metadata": {},
     "output_type": "execute_result"
    }
   ],
   "source": [
    "## Topic 2\n",
    "t = 2\n",
    "(payments.loc[payments.hcpcs_code.isin(topic_dict[t]), ['hcpcs_code','hcpcs_description']].\n",
    " drop_duplicates('hcpcs_code'))"
   ]
  },
  {
   "cell_type": "code",
   "execution_count": 49,
   "metadata": {
    "collapsed": false
   },
   "outputs": [
    {
     "data": {
      "text/html": [
       "<div>\n",
       "<table border=\"1\" class=\"dataframe\">\n",
       "  <thead>\n",
       "    <tr style=\"text-align: right;\">\n",
       "      <th></th>\n",
       "      <th>hcpcs_code</th>\n",
       "      <th>hcpcs_description</th>\n",
       "    </tr>\n",
       "  </thead>\n",
       "  <tbody>\n",
       "    <tr>\n",
       "      <th>16</th>\n",
       "      <td>77014</td>\n",
       "      <td>CT scan guidance for insertion of radiation therapy fields</td>\n",
       "    </tr>\n",
       "    <tr>\n",
       "      <th>17</th>\n",
       "      <td>77263</td>\n",
       "      <td>Management of radiation therapy, complex</td>\n",
       "    </tr>\n",
       "    <tr>\n",
       "      <th>18</th>\n",
       "      <td>77280</td>\n",
       "      <td>Management of radiation therapy simulation, simple</td>\n",
       "    </tr>\n",
       "    <tr>\n",
       "      <th>19</th>\n",
       "      <td>77290</td>\n",
       "      <td>Management of radiation therapy, simulation, complex</td>\n",
       "    </tr>\n",
       "    <tr>\n",
       "      <th>21</th>\n",
       "      <td>77295</td>\n",
       "      <td>Management of radiation therapy, 3D</td>\n",
       "    </tr>\n",
       "    <tr>\n",
       "      <th>22</th>\n",
       "      <td>77300</td>\n",
       "      <td>Calculation of radiation therapy dose</td>\n",
       "    </tr>\n",
       "    <tr>\n",
       "      <th>23</th>\n",
       "      <td>77301</td>\n",
       "      <td>Management of modulation radiotherapy planning</td>\n",
       "    </tr>\n",
       "    <tr>\n",
       "      <th>24</th>\n",
       "      <td>77315</td>\n",
       "      <td>Isodose radiation therapy plan, complex</td>\n",
       "    </tr>\n",
       "    <tr>\n",
       "      <th>27</th>\n",
       "      <td>77331</td>\n",
       "      <td>Special radiation therapy planning</td>\n",
       "    </tr>\n",
       "    <tr>\n",
       "      <th>29</th>\n",
       "      <td>77334</td>\n",
       "      <td>Radiation treatment devices, design and construction, complex</td>\n",
       "    </tr>\n",
       "    <tr>\n",
       "      <th>30</th>\n",
       "      <td>77338</td>\n",
       "      <td>Design and construction of device for radiation therapy</td>\n",
       "    </tr>\n",
       "    <tr>\n",
       "      <th>31</th>\n",
       "      <td>77427</td>\n",
       "      <td>Radiation treatment management, 5 treatments</td>\n",
       "    </tr>\n",
       "    <tr>\n",
       "      <th>32</th>\n",
       "      <td>77470</td>\n",
       "      <td>Special radiation treatment procedure</td>\n",
       "    </tr>\n",
       "    <tr>\n",
       "      <th>36</th>\n",
       "      <td>99212</td>\n",
       "      <td>Established patient office or other outpatient visit, typically 10 minutes</td>\n",
       "    </tr>\n",
       "    <tr>\n",
       "      <th>86</th>\n",
       "      <td>77421</td>\n",
       "      <td>X-ray guidance for radiation therapy delivery</td>\n",
       "    </tr>\n",
       "  </tbody>\n",
       "</table>\n",
       "</div>"
      ],
      "text/plain": [
       "   hcpcs_code  \\\n",
       "16      77014   \n",
       "17      77263   \n",
       "18      77280   \n",
       "19      77290   \n",
       "21      77295   \n",
       "22      77300   \n",
       "23      77301   \n",
       "24      77315   \n",
       "27      77331   \n",
       "29      77334   \n",
       "30      77338   \n",
       "31      77427   \n",
       "32      77470   \n",
       "36      99212   \n",
       "86      77421   \n",
       "\n",
       "                                                             hcpcs_description  \n",
       "16                  CT scan guidance for insertion of radiation therapy fields  \n",
       "17                                    Management of radiation therapy, complex  \n",
       "18                          Management of radiation therapy simulation, simple  \n",
       "19                        Management of radiation therapy, simulation, complex  \n",
       "21                                         Management of radiation therapy, 3D  \n",
       "22                                       Calculation of radiation therapy dose  \n",
       "23                              Management of modulation radiotherapy planning  \n",
       "24                                     Isodose radiation therapy plan, complex  \n",
       "27                                          Special radiation therapy planning  \n",
       "29               Radiation treatment devices, design and construction, complex  \n",
       "30                     Design and construction of device for radiation therapy  \n",
       "31                                Radiation treatment management, 5 treatments  \n",
       "32                                       Special radiation treatment procedure  \n",
       "36  Established patient office or other outpatient visit, typically 10 minutes  \n",
       "86                               X-ray guidance for radiation therapy delivery  "
      ]
     },
     "execution_count": 49,
     "metadata": {},
     "output_type": "execute_result"
    }
   ],
   "source": [
    "## Topic 3\n",
    "t = 3\n",
    "(payments.loc[payments.hcpcs_code.isin(topic_dict[t]), ['hcpcs_code','hcpcs_description']].\n",
    " drop_duplicates('hcpcs_code'))"
   ]
  },
  {
   "cell_type": "code",
   "execution_count": 50,
   "metadata": {
    "collapsed": false
   },
   "outputs": [
    {
     "data": {
      "text/html": [
       "<div>\n",
       "<table border=\"1\" class=\"dataframe\">\n",
       "  <thead>\n",
       "    <tr style=\"text-align: right;\">\n",
       "      <th></th>\n",
       "      <th>hcpcs_code</th>\n",
       "      <th>hcpcs_description</th>\n",
       "    </tr>\n",
       "  </thead>\n",
       "  <tbody>\n",
       "    <tr>\n",
       "      <th>16</th>\n",
       "      <td>77014</td>\n",
       "      <td>CT scan guidance for insertion of radiation therapy fields</td>\n",
       "    </tr>\n",
       "    <tr>\n",
       "      <th>17</th>\n",
       "      <td>77263</td>\n",
       "      <td>Management of radiation therapy, complex</td>\n",
       "    </tr>\n",
       "    <tr>\n",
       "      <th>18</th>\n",
       "      <td>77280</td>\n",
       "      <td>Management of radiation therapy simulation, simple</td>\n",
       "    </tr>\n",
       "    <tr>\n",
       "      <th>19</th>\n",
       "      <td>77290</td>\n",
       "      <td>Management of radiation therapy, simulation, complex</td>\n",
       "    </tr>\n",
       "    <tr>\n",
       "      <th>21</th>\n",
       "      <td>77295</td>\n",
       "      <td>Management of radiation therapy, 3D</td>\n",
       "    </tr>\n",
       "    <tr>\n",
       "      <th>22</th>\n",
       "      <td>77300</td>\n",
       "      <td>Calculation of radiation therapy dose</td>\n",
       "    </tr>\n",
       "    <tr>\n",
       "      <th>23</th>\n",
       "      <td>77301</td>\n",
       "      <td>Management of modulation radiotherapy planning</td>\n",
       "    </tr>\n",
       "    <tr>\n",
       "      <th>24</th>\n",
       "      <td>77315</td>\n",
       "      <td>Isodose radiation therapy plan, complex</td>\n",
       "    </tr>\n",
       "    <tr>\n",
       "      <th>27</th>\n",
       "      <td>77331</td>\n",
       "      <td>Special radiation therapy planning</td>\n",
       "    </tr>\n",
       "    <tr>\n",
       "      <th>29</th>\n",
       "      <td>77334</td>\n",
       "      <td>Radiation treatment devices, design and construction, complex</td>\n",
       "    </tr>\n",
       "    <tr>\n",
       "      <th>30</th>\n",
       "      <td>77338</td>\n",
       "      <td>Design and construction of device for radiation therapy</td>\n",
       "    </tr>\n",
       "    <tr>\n",
       "      <th>31</th>\n",
       "      <td>77427</td>\n",
       "      <td>Radiation treatment management, 5 treatments</td>\n",
       "    </tr>\n",
       "    <tr>\n",
       "      <th>32</th>\n",
       "      <td>77470</td>\n",
       "      <td>Special radiation treatment procedure</td>\n",
       "    </tr>\n",
       "    <tr>\n",
       "      <th>36</th>\n",
       "      <td>99212</td>\n",
       "      <td>Established patient office or other outpatient visit, typically 10 minutes</td>\n",
       "    </tr>\n",
       "    <tr>\n",
       "      <th>86</th>\n",
       "      <td>77421</td>\n",
       "      <td>X-ray guidance for radiation therapy delivery</td>\n",
       "    </tr>\n",
       "  </tbody>\n",
       "</table>\n",
       "</div>"
      ],
      "text/plain": [
       "   hcpcs_code  \\\n",
       "16      77014   \n",
       "17      77263   \n",
       "18      77280   \n",
       "19      77290   \n",
       "21      77295   \n",
       "22      77300   \n",
       "23      77301   \n",
       "24      77315   \n",
       "27      77331   \n",
       "29      77334   \n",
       "30      77338   \n",
       "31      77427   \n",
       "32      77470   \n",
       "36      99212   \n",
       "86      77421   \n",
       "\n",
       "                                                             hcpcs_description  \n",
       "16                  CT scan guidance for insertion of radiation therapy fields  \n",
       "17                                    Management of radiation therapy, complex  \n",
       "18                          Management of radiation therapy simulation, simple  \n",
       "19                        Management of radiation therapy, simulation, complex  \n",
       "21                                         Management of radiation therapy, 3D  \n",
       "22                                       Calculation of radiation therapy dose  \n",
       "23                              Management of modulation radiotherapy planning  \n",
       "24                                     Isodose radiation therapy plan, complex  \n",
       "27                                          Special radiation therapy planning  \n",
       "29               Radiation treatment devices, design and construction, complex  \n",
       "30                     Design and construction of device for radiation therapy  \n",
       "31                                Radiation treatment management, 5 treatments  \n",
       "32                                       Special radiation treatment procedure  \n",
       "36  Established patient office or other outpatient visit, typically 10 minutes  \n",
       "86                               X-ray guidance for radiation therapy delivery  "
      ]
     },
     "execution_count": 50,
     "metadata": {},
     "output_type": "execute_result"
    }
   ],
   "source": [
    "## Topic 4\n",
    "t = 4\n",
    "(payments.loc[payments.hcpcs_code.isin(topic_dict[t]), ['hcpcs_code','hcpcs_description']].\n",
    " drop_duplicates('hcpcs_code'))"
   ]
  },
  {
   "cell_type": "code",
   "execution_count": 51,
   "metadata": {
    "collapsed": false
   },
   "outputs": [
    {
     "data": {
      "text/html": [
       "<div>\n",
       "<table border=\"1\" class=\"dataframe\">\n",
       "  <thead>\n",
       "    <tr style=\"text-align: right;\">\n",
       "      <th></th>\n",
       "      <th>hcpcs_code</th>\n",
       "      <th>hcpcs_description</th>\n",
       "    </tr>\n",
       "  </thead>\n",
       "  <tbody>\n",
       "    <tr>\n",
       "      <th>369</th>\n",
       "      <td>G0101</td>\n",
       "      <td>Cervical or vaginal cancer screening; pelvic and clinical breast examination</td>\n",
       "    </tr>\n",
       "    <tr>\n",
       "      <th>412</th>\n",
       "      <td>38221</td>\n",
       "      <td>Needle or trocar bone marrow biopsy</td>\n",
       "    </tr>\n",
       "    <tr>\n",
       "      <th>622</th>\n",
       "      <td>38572</td>\n",
       "      <td>Removal of total lymph nodes of both sides of pelvis and abdominal lymph nod...</td>\n",
       "    </tr>\n",
       "    <tr>\n",
       "      <th>623</th>\n",
       "      <td>58150</td>\n",
       "      <td>Abdominal removal of uterus and cervix</td>\n",
       "    </tr>\n",
       "    <tr>\n",
       "      <th>624</th>\n",
       "      <td>58571</td>\n",
       "      <td>Abdominal removal of uterus (250 grams or less) with removal of tubes and/or...</td>\n",
       "    </tr>\n",
       "    <tr>\n",
       "      <th>771</th>\n",
       "      <td>48150</td>\n",
       "      <td>Partial removal of pancreas, bile duct and small bowel with connection of pa...</td>\n",
       "    </tr>\n",
       "    <tr>\n",
       "      <th>1888</th>\n",
       "      <td>38220</td>\n",
       "      <td>Bone marrow aspiration</td>\n",
       "    </tr>\n",
       "    <tr>\n",
       "      <th>1921</th>\n",
       "      <td>52000</td>\n",
       "      <td>Diagnostic examination of the bladder and bladder canal (urethra) using an e...</td>\n",
       "    </tr>\n",
       "    <tr>\n",
       "      <th>2119</th>\n",
       "      <td>58661</td>\n",
       "      <td>Removal of ovaries and/or tubes using an endoscope</td>\n",
       "    </tr>\n",
       "    <tr>\n",
       "      <th>4785</th>\n",
       "      <td>20665</td>\n",
       "      <td>Removal of cranial tongs or halo (stabilization device for skull)</td>\n",
       "    </tr>\n",
       "    <tr>\n",
       "      <th>5386</th>\n",
       "      <td>38571</td>\n",
       "      <td>Removal of total lymph nodes of both sides of pelvis using an endoscope</td>\n",
       "    </tr>\n",
       "    <tr>\n",
       "      <th>5544</th>\n",
       "      <td>77052</td>\n",
       "      <td>Computer analysis of screening mammogram to assist detection of cancer</td>\n",
       "    </tr>\n",
       "    <tr>\n",
       "      <th>5548</th>\n",
       "      <td>G0202</td>\n",
       "      <td>Screening mammography, producing direct digital image, bilateral, all views</td>\n",
       "    </tr>\n",
       "    <tr>\n",
       "      <th>6321</th>\n",
       "      <td>99235</td>\n",
       "      <td>Hospital observation or inpatient care moderate severity, 50 minutes per day'</td>\n",
       "    </tr>\n",
       "    <tr>\n",
       "      <th>7290</th>\n",
       "      <td>38792</td>\n",
       "      <td>Injection of radioactive dye for X-ray identification of lymph node</td>\n",
       "    </tr>\n",
       "  </tbody>\n",
       "</table>\n",
       "</div>"
      ],
      "text/plain": [
       "     hcpcs_code  \\\n",
       "369       G0101   \n",
       "412       38221   \n",
       "622       38572   \n",
       "623       58150   \n",
       "624       58571   \n",
       "771       48150   \n",
       "1888      38220   \n",
       "1921      52000   \n",
       "2119      58661   \n",
       "4785      20665   \n",
       "5386      38571   \n",
       "5544      77052   \n",
       "5548      G0202   \n",
       "6321      99235   \n",
       "7290      38792   \n",
       "\n",
       "                                                                    hcpcs_description  \n",
       "369      Cervical or vaginal cancer screening; pelvic and clinical breast examination  \n",
       "412                                               Needle or trocar bone marrow biopsy  \n",
       "622   Removal of total lymph nodes of both sides of pelvis and abdominal lymph nod...  \n",
       "623                                            Abdominal removal of uterus and cervix  \n",
       "624   Abdominal removal of uterus (250 grams or less) with removal of tubes and/or...  \n",
       "771   Partial removal of pancreas, bile duct and small bowel with connection of pa...  \n",
       "1888                                                           Bone marrow aspiration  \n",
       "1921  Diagnostic examination of the bladder and bladder canal (urethra) using an e...  \n",
       "2119                               Removal of ovaries and/or tubes using an endoscope  \n",
       "4785                Removal of cranial tongs or halo (stabilization device for skull)  \n",
       "5386          Removal of total lymph nodes of both sides of pelvis using an endoscope  \n",
       "5544           Computer analysis of screening mammogram to assist detection of cancer  \n",
       "5548      Screening mammography, producing direct digital image, bilateral, all views  \n",
       "6321    Hospital observation or inpatient care moderate severity, 50 minutes per day'  \n",
       "7290              Injection of radioactive dye for X-ray identification of lymph node  "
      ]
     },
     "execution_count": 51,
     "metadata": {},
     "output_type": "execute_result"
    }
   ],
   "source": [
    "## Topic 5\n",
    "t = 5\n",
    "(payments.loc[payments.hcpcs_code.isin(topic_dict[t]), ['hcpcs_code','hcpcs_description']].\n",
    " drop_duplicates('hcpcs_code'))"
   ]
  },
  {
   "cell_type": "code",
   "execution_count": 52,
   "metadata": {
    "collapsed": false
   },
   "outputs": [
    {
     "data": {
      "text/html": [
       "<div>\n",
       "<table border=\"1\" class=\"dataframe\">\n",
       "  <thead>\n",
       "    <tr style=\"text-align: right;\">\n",
       "      <th></th>\n",
       "      <th>hcpcs_code</th>\n",
       "      <th>hcpcs_description</th>\n",
       "    </tr>\n",
       "  </thead>\n",
       "  <tbody>\n",
       "    <tr>\n",
       "      <th>17</th>\n",
       "      <td>77263</td>\n",
       "      <td>Management of radiation therapy, complex</td>\n",
       "    </tr>\n",
       "    <tr>\n",
       "      <th>21</th>\n",
       "      <td>77295</td>\n",
       "      <td>Management of radiation therapy, 3D</td>\n",
       "    </tr>\n",
       "    <tr>\n",
       "      <th>22</th>\n",
       "      <td>77300</td>\n",
       "      <td>Calculation of radiation therapy dose</td>\n",
       "    </tr>\n",
       "    <tr>\n",
       "      <th>29</th>\n",
       "      <td>77334</td>\n",
       "      <td>Radiation treatment devices, design and construction, complex</td>\n",
       "    </tr>\n",
       "    <tr>\n",
       "      <th>33</th>\n",
       "      <td>99203</td>\n",
       "      <td>New patient office or other outpatient visit, typically 30 minutes</td>\n",
       "    </tr>\n",
       "    <tr>\n",
       "      <th>73</th>\n",
       "      <td>31575</td>\n",
       "      <td>Diagnostic examination of voice box using flexible endoscope</td>\n",
       "    </tr>\n",
       "    <tr>\n",
       "      <th>685</th>\n",
       "      <td>77432</td>\n",
       "      <td>Stereotactic radiation treatment management of brain lesions, complete cours...</td>\n",
       "    </tr>\n",
       "    <tr>\n",
       "      <th>927</th>\n",
       "      <td>77786</td>\n",
       "      <td>High dose brachytherapy delivery, 2-12 channels</td>\n",
       "    </tr>\n",
       "    <tr>\n",
       "      <th>1387</th>\n",
       "      <td>77285</td>\n",
       "      <td>Management of radiation therapy, simulation, intermediate</td>\n",
       "    </tr>\n",
       "    <tr>\n",
       "      <th>1391</th>\n",
       "      <td>77310</td>\n",
       "      <td>Isodose radiation therapy plan, 3 or more ports, single area</td>\n",
       "    </tr>\n",
       "    <tr>\n",
       "      <th>5850</th>\n",
       "      <td>19083</td>\n",
       "      <td>Biopsy of breast accessed throught the skin with ultrasound guidance</td>\n",
       "    </tr>\n",
       "    <tr>\n",
       "      <th>6512</th>\n",
       "      <td>99201</td>\n",
       "      <td>New patient office or other outpatient visit, typically 10 minutes</td>\n",
       "    </tr>\n",
       "    <tr>\n",
       "      <th>6959</th>\n",
       "      <td>77011</td>\n",
       "      <td>CT scan guidance for stereotactic localization</td>\n",
       "    </tr>\n",
       "    <tr>\n",
       "      <th>9458</th>\n",
       "      <td>99183</td>\n",
       "      <td>Management and supervision of oxygen chamber therapy per session</td>\n",
       "    </tr>\n",
       "    <tr>\n",
       "      <th>11968</th>\n",
       "      <td>58210</td>\n",
       "      <td>Abdominal removal of uterus, cervix, and lymph nodes on both sides of pelvis...</td>\n",
       "    </tr>\n",
       "  </tbody>\n",
       "</table>\n",
       "</div>"
      ],
      "text/plain": [
       "      hcpcs_code  \\\n",
       "17         77263   \n",
       "21         77295   \n",
       "22         77300   \n",
       "29         77334   \n",
       "33         99203   \n",
       "73         31575   \n",
       "685        77432   \n",
       "927        77786   \n",
       "1387       77285   \n",
       "1391       77310   \n",
       "5850       19083   \n",
       "6512       99201   \n",
       "6959       77011   \n",
       "9458       99183   \n",
       "11968      58210   \n",
       "\n",
       "                                                                     hcpcs_description  \n",
       "17                                            Management of radiation therapy, complex  \n",
       "21                                                 Management of radiation therapy, 3D  \n",
       "22                                               Calculation of radiation therapy dose  \n",
       "29                       Radiation treatment devices, design and construction, complex  \n",
       "33                  New patient office or other outpatient visit, typically 30 minutes  \n",
       "73                        Diagnostic examination of voice box using flexible endoscope  \n",
       "685    Stereotactic radiation treatment management of brain lesions, complete cours...  \n",
       "927                                    High dose brachytherapy delivery, 2-12 channels  \n",
       "1387                         Management of radiation therapy, simulation, intermediate  \n",
       "1391                      Isodose radiation therapy plan, 3 or more ports, single area  \n",
       "5850              Biopsy of breast accessed throught the skin with ultrasound guidance  \n",
       "6512                New patient office or other outpatient visit, typically 10 minutes  \n",
       "6959                                    CT scan guidance for stereotactic localization  \n",
       "9458                  Management and supervision of oxygen chamber therapy per session  \n",
       "11968  Abdominal removal of uterus, cervix, and lymph nodes on both sides of pelvis...  "
      ]
     },
     "execution_count": 52,
     "metadata": {},
     "output_type": "execute_result"
    }
   ],
   "source": [
    "## Topic 6\n",
    "t = 6\n",
    "(payments.loc[payments.hcpcs_code.isin(topic_dict[t]), ['hcpcs_code','hcpcs_description']].\n",
    " drop_duplicates('hcpcs_code'))"
   ]
  },
  {
   "cell_type": "code",
   "execution_count": 53,
   "metadata": {
    "collapsed": false
   },
   "outputs": [
    {
     "data": {
      "text/html": [
       "<div>\n",
       "<table border=\"1\" class=\"dataframe\">\n",
       "  <thead>\n",
       "    <tr style=\"text-align: right;\">\n",
       "      <th></th>\n",
       "      <th>hcpcs_code</th>\n",
       "      <th>hcpcs_description</th>\n",
       "    </tr>\n",
       "  </thead>\n",
       "  <tbody>\n",
       "    <tr>\n",
       "      <th>17</th>\n",
       "      <td>77263</td>\n",
       "      <td>Management of radiation therapy, complex</td>\n",
       "    </tr>\n",
       "    <tr>\n",
       "      <th>18</th>\n",
       "      <td>77280</td>\n",
       "      <td>Management of radiation therapy simulation, simple</td>\n",
       "    </tr>\n",
       "    <tr>\n",
       "      <th>19</th>\n",
       "      <td>77290</td>\n",
       "      <td>Management of radiation therapy, simulation, complex</td>\n",
       "    </tr>\n",
       "    <tr>\n",
       "      <th>21</th>\n",
       "      <td>77295</td>\n",
       "      <td>Management of radiation therapy, 3D</td>\n",
       "    </tr>\n",
       "    <tr>\n",
       "      <th>22</th>\n",
       "      <td>77300</td>\n",
       "      <td>Calculation of radiation therapy dose</td>\n",
       "    </tr>\n",
       "    <tr>\n",
       "      <th>23</th>\n",
       "      <td>77301</td>\n",
       "      <td>Management of modulation radiotherapy planning</td>\n",
       "    </tr>\n",
       "    <tr>\n",
       "      <th>24</th>\n",
       "      <td>77315</td>\n",
       "      <td>Isodose radiation therapy plan, complex</td>\n",
       "    </tr>\n",
       "    <tr>\n",
       "      <th>27</th>\n",
       "      <td>77331</td>\n",
       "      <td>Special radiation therapy planning</td>\n",
       "    </tr>\n",
       "    <tr>\n",
       "      <th>28</th>\n",
       "      <td>77332</td>\n",
       "      <td>Radiation treatment devices, design and construction, simple</td>\n",
       "    </tr>\n",
       "    <tr>\n",
       "      <th>29</th>\n",
       "      <td>77334</td>\n",
       "      <td>Radiation treatment devices, design and construction, complex</td>\n",
       "    </tr>\n",
       "    <tr>\n",
       "      <th>30</th>\n",
       "      <td>77338</td>\n",
       "      <td>Design and construction of device for radiation therapy</td>\n",
       "    </tr>\n",
       "    <tr>\n",
       "      <th>31</th>\n",
       "      <td>77427</td>\n",
       "      <td>Radiation treatment management, 5 treatments</td>\n",
       "    </tr>\n",
       "    <tr>\n",
       "      <th>32</th>\n",
       "      <td>77470</td>\n",
       "      <td>Special radiation treatment procedure</td>\n",
       "    </tr>\n",
       "    <tr>\n",
       "      <th>36</th>\n",
       "      <td>99212</td>\n",
       "      <td>Established patient office or other outpatient visit, typically 10 minutes</td>\n",
       "    </tr>\n",
       "    <tr>\n",
       "      <th>70</th>\n",
       "      <td>77435</td>\n",
       "      <td>Stereotactic radiation treatment management of 1 or more lesions using imagi...</td>\n",
       "    </tr>\n",
       "  </tbody>\n",
       "</table>\n",
       "</div>"
      ],
      "text/plain": [
       "   hcpcs_code  \\\n",
       "17      77263   \n",
       "18      77280   \n",
       "19      77290   \n",
       "21      77295   \n",
       "22      77300   \n",
       "23      77301   \n",
       "24      77315   \n",
       "27      77331   \n",
       "28      77332   \n",
       "29      77334   \n",
       "30      77338   \n",
       "31      77427   \n",
       "32      77470   \n",
       "36      99212   \n",
       "70      77435   \n",
       "\n",
       "                                                                  hcpcs_description  \n",
       "17                                         Management of radiation therapy, complex  \n",
       "18                               Management of radiation therapy simulation, simple  \n",
       "19                             Management of radiation therapy, simulation, complex  \n",
       "21                                              Management of radiation therapy, 3D  \n",
       "22                                            Calculation of radiation therapy dose  \n",
       "23                                   Management of modulation radiotherapy planning  \n",
       "24                                          Isodose radiation therapy plan, complex  \n",
       "27                                               Special radiation therapy planning  \n",
       "28                     Radiation treatment devices, design and construction, simple  \n",
       "29                    Radiation treatment devices, design and construction, complex  \n",
       "30                          Design and construction of device for radiation therapy  \n",
       "31                                     Radiation treatment management, 5 treatments  \n",
       "32                                            Special radiation treatment procedure  \n",
       "36       Established patient office or other outpatient visit, typically 10 minutes  \n",
       "70  Stereotactic radiation treatment management of 1 or more lesions using imagi...  "
      ]
     },
     "execution_count": 53,
     "metadata": {},
     "output_type": "execute_result"
    }
   ],
   "source": [
    "## Topic 7\n",
    "t = 7\n",
    "(payments.loc[payments.hcpcs_code.isin(topic_dict[t]), ['hcpcs_code','hcpcs_description']].\n",
    " drop_duplicates('hcpcs_code'))"
   ]
  },
  {
   "cell_type": "code",
   "execution_count": 54,
   "metadata": {
    "collapsed": false
   },
   "outputs": [
    {
     "data": {
      "text/html": [
       "<div>\n",
       "<table border=\"1\" class=\"dataframe\">\n",
       "  <thead>\n",
       "    <tr style=\"text-align: right;\">\n",
       "      <th></th>\n",
       "      <th>hcpcs_code</th>\n",
       "      <th>hcpcs_description</th>\n",
       "    </tr>\n",
       "  </thead>\n",
       "  <tbody>\n",
       "    <tr>\n",
       "      <th>28</th>\n",
       "      <td>77332</td>\n",
       "      <td>Radiation treatment devices, design and construction, simple</td>\n",
       "    </tr>\n",
       "    <tr>\n",
       "      <th>342</th>\n",
       "      <td>77328</td>\n",
       "      <td>Brachytherapy radiation therapy plan (over 10 applications, over 12 brachyth...</td>\n",
       "    </tr>\n",
       "    <tr>\n",
       "      <th>372</th>\n",
       "      <td>76873</td>\n",
       "      <td>Ultrasound of prostate</td>\n",
       "    </tr>\n",
       "    <tr>\n",
       "      <th>373</th>\n",
       "      <td>76965</td>\n",
       "      <td>Ultrasonic guidance for administration of radiation therapy</td>\n",
       "    </tr>\n",
       "    <tr>\n",
       "      <th>386</th>\n",
       "      <td>77778</td>\n",
       "      <td>Application of radiation source, complex</td>\n",
       "    </tr>\n",
       "    <tr>\n",
       "      <th>387</th>\n",
       "      <td>77790</td>\n",
       "      <td>Supervision, handling, loading of radiation</td>\n",
       "    </tr>\n",
       "    <tr>\n",
       "      <th>444</th>\n",
       "      <td>76998</td>\n",
       "      <td>Ultrasonic guidance during surgery</td>\n",
       "    </tr>\n",
       "    <tr>\n",
       "      <th>575</th>\n",
       "      <td>58548</td>\n",
       "      <td>Removal of uterus, cervix, and lymph nodes on both sides of pelvis and aorti...</td>\n",
       "    </tr>\n",
       "    <tr>\n",
       "      <th>1864</th>\n",
       "      <td>19081</td>\n",
       "      <td>Biopsy of breast accessed throught the skin with stereotactic guidance</td>\n",
       "    </tr>\n",
       "    <tr>\n",
       "      <th>2005</th>\n",
       "      <td>99308</td>\n",
       "      <td>Subsequent nursing facility visit, typically 15 minutes per day</td>\n",
       "    </tr>\n",
       "    <tr>\n",
       "      <th>2885</th>\n",
       "      <td>76098</td>\n",
       "      <td>Imaging of surgical specimen</td>\n",
       "    </tr>\n",
       "    <tr>\n",
       "      <th>4207</th>\n",
       "      <td>76950</td>\n",
       "      <td>Ultrasonic guidance for administration of radiation therapy</td>\n",
       "    </tr>\n",
       "    <tr>\n",
       "      <th>4435</th>\n",
       "      <td>99309</td>\n",
       "      <td>Subsequent nursing facility visit, typically 25 minutes per day</td>\n",
       "    </tr>\n",
       "    <tr>\n",
       "      <th>5805</th>\n",
       "      <td>43239</td>\n",
       "      <td>Biopsy of the esophagus, stomach, and/or upper small bowel using an endoscope</td>\n",
       "    </tr>\n",
       "    <tr>\n",
       "      <th>5807</th>\n",
       "      <td>45378</td>\n",
       "      <td>Diagnostic examination of large bowel using an endoscope</td>\n",
       "    </tr>\n",
       "  </tbody>\n",
       "</table>\n",
       "</div>"
      ],
      "text/plain": [
       "     hcpcs_code  \\\n",
       "28        77332   \n",
       "342       77328   \n",
       "372       76873   \n",
       "373       76965   \n",
       "386       77778   \n",
       "387       77790   \n",
       "444       76998   \n",
       "575       58548   \n",
       "1864      19081   \n",
       "2005      99308   \n",
       "2885      76098   \n",
       "4207      76950   \n",
       "4435      99309   \n",
       "5805      43239   \n",
       "5807      45378   \n",
       "\n",
       "                                                                    hcpcs_description  \n",
       "28                       Radiation treatment devices, design and construction, simple  \n",
       "342   Brachytherapy radiation therapy plan (over 10 applications, over 12 brachyth...  \n",
       "372                                                            Ultrasound of prostate  \n",
       "373                       Ultrasonic guidance for administration of radiation therapy  \n",
       "386                                          Application of radiation source, complex  \n",
       "387                                       Supervision, handling, loading of radiation  \n",
       "444                                                Ultrasonic guidance during surgery  \n",
       "575   Removal of uterus, cervix, and lymph nodes on both sides of pelvis and aorti...  \n",
       "1864           Biopsy of breast accessed throught the skin with stereotactic guidance  \n",
       "2005                  Subsequent nursing facility visit, typically 15 minutes per day  \n",
       "2885                                                     Imaging of surgical specimen  \n",
       "4207                      Ultrasonic guidance for administration of radiation therapy  \n",
       "4435                  Subsequent nursing facility visit, typically 25 minutes per day  \n",
       "5805    Biopsy of the esophagus, stomach, and/or upper small bowel using an endoscope  \n",
       "5807                         Diagnostic examination of large bowel using an endoscope  "
      ]
     },
     "execution_count": 54,
     "metadata": {},
     "output_type": "execute_result"
    }
   ],
   "source": [
    "## Topic 8\n",
    "t = 8\n",
    "(payments.loc[payments.hcpcs_code.isin(topic_dict[t]), ['hcpcs_code','hcpcs_description']].\n",
    " drop_duplicates('hcpcs_code'))"
   ]
  },
  {
   "cell_type": "code",
   "execution_count": 55,
   "metadata": {
    "collapsed": false
   },
   "outputs": [
    {
     "data": {
      "text/html": [
       "<div>\n",
       "<table border=\"1\" class=\"dataframe\">\n",
       "  <thead>\n",
       "    <tr style=\"text-align: right;\">\n",
       "      <th></th>\n",
       "      <th>hcpcs_code</th>\n",
       "      <th>hcpcs_description</th>\n",
       "    </tr>\n",
       "  </thead>\n",
       "  <tbody>\n",
       "    <tr>\n",
       "      <th>33</th>\n",
       "      <td>99203</td>\n",
       "      <td>New patient office or other outpatient visit, typically 30 minutes</td>\n",
       "    </tr>\n",
       "    <tr>\n",
       "      <th>36</th>\n",
       "      <td>99212</td>\n",
       "      <td>Established patient office or other outpatient visit, typically 10 minutes</td>\n",
       "    </tr>\n",
       "    <tr>\n",
       "      <th>43</th>\n",
       "      <td>99238</td>\n",
       "      <td>Hospital discharge day management, 30 minutes or less</td>\n",
       "    </tr>\n",
       "    <tr>\n",
       "      <th>172</th>\n",
       "      <td>99239</td>\n",
       "      <td>Hospital discharge day management, more than 30 minutes</td>\n",
       "    </tr>\n",
       "    <tr>\n",
       "      <th>183</th>\n",
       "      <td>99221</td>\n",
       "      <td>Initial hospital inpatient care, typically 30 minutes per day</td>\n",
       "    </tr>\n",
       "    <tr>\n",
       "      <th>412</th>\n",
       "      <td>38221</td>\n",
       "      <td>Needle or trocar bone marrow biopsy</td>\n",
       "    </tr>\n",
       "    <tr>\n",
       "      <th>445</th>\n",
       "      <td>99202</td>\n",
       "      <td>New patient office or other outpatient visit, typically 20 minutes</td>\n",
       "    </tr>\n",
       "    <tr>\n",
       "      <th>527</th>\n",
       "      <td>99211</td>\n",
       "      <td>Established patient office or other outpatient visit, typically 5 minutes</td>\n",
       "    </tr>\n",
       "    <tr>\n",
       "      <th>1533</th>\n",
       "      <td>99236</td>\n",
       "      <td>Hospital observation or inpatient care high severity, 55 minutes per day</td>\n",
       "    </tr>\n",
       "    <tr>\n",
       "      <th>1908</th>\n",
       "      <td>93010</td>\n",
       "      <td>Routine electrocardiogram (EKG) using at least 12 leads with interpretation ...</td>\n",
       "    </tr>\n",
       "    <tr>\n",
       "      <th>1912</th>\n",
       "      <td>99219</td>\n",
       "      <td>Hospital observation care typically 50 minutes</td>\n",
       "    </tr>\n",
       "    <tr>\n",
       "      <th>4996</th>\n",
       "      <td>11606</td>\n",
       "      <td>Removal of malignant growth (over 4.0 centimeters) of the trunk, arms, or legs</td>\n",
       "    </tr>\n",
       "    <tr>\n",
       "      <th>4997</th>\n",
       "      <td>12034</td>\n",
       "      <td>Repair of wound (7.6 to 12.5 centimeters) of the scalp, underarms, trunk, ar...</td>\n",
       "    </tr>\n",
       "    <tr>\n",
       "      <th>9146</th>\n",
       "      <td>85097</td>\n",
       "      <td>Bone marrow, smear interpretation</td>\n",
       "    </tr>\n",
       "    <tr>\n",
       "      <th>13314</th>\n",
       "      <td>12032</td>\n",
       "      <td>Repair of wound (2.6 to 7.5 centimeters) of the scalp, underarms, trunk, arm...</td>\n",
       "    </tr>\n",
       "  </tbody>\n",
       "</table>\n",
       "</div>"
      ],
      "text/plain": [
       "      hcpcs_code  \\\n",
       "33         99203   \n",
       "36         99212   \n",
       "43         99238   \n",
       "172        99239   \n",
       "183        99221   \n",
       "412        38221   \n",
       "445        99202   \n",
       "527        99211   \n",
       "1533       99236   \n",
       "1908       93010   \n",
       "1912       99219   \n",
       "4996       11606   \n",
       "4997       12034   \n",
       "9146       85097   \n",
       "13314      12032   \n",
       "\n",
       "                                                                     hcpcs_description  \n",
       "33                  New patient office or other outpatient visit, typically 30 minutes  \n",
       "36          Established patient office or other outpatient visit, typically 10 minutes  \n",
       "43                               Hospital discharge day management, 30 minutes or less  \n",
       "172                            Hospital discharge day management, more than 30 minutes  \n",
       "183                      Initial hospital inpatient care, typically 30 minutes per day  \n",
       "412                                                Needle or trocar bone marrow biopsy  \n",
       "445                 New patient office or other outpatient visit, typically 20 minutes  \n",
       "527          Established patient office or other outpatient visit, typically 5 minutes  \n",
       "1533          Hospital observation or inpatient care high severity, 55 minutes per day  \n",
       "1908   Routine electrocardiogram (EKG) using at least 12 leads with interpretation ...  \n",
       "1912                                    Hospital observation care typically 50 minutes  \n",
       "4996    Removal of malignant growth (over 4.0 centimeters) of the trunk, arms, or legs  \n",
       "4997   Repair of wound (7.6 to 12.5 centimeters) of the scalp, underarms, trunk, ar...  \n",
       "9146                                                 Bone marrow, smear interpretation  \n",
       "13314  Repair of wound (2.6 to 7.5 centimeters) of the scalp, underarms, trunk, arm...  "
      ]
     },
     "execution_count": 55,
     "metadata": {},
     "output_type": "execute_result"
    }
   ],
   "source": [
    "## Topic 9\n",
    "t = 9\n",
    "(payments.loc[payments.hcpcs_code.isin(topic_dict[t]), ['hcpcs_code','hcpcs_description']].\n",
    " drop_duplicates('hcpcs_code'))"
   ]
  },
  {
   "cell_type": "markdown",
   "metadata": {},
   "source": [
    "## Plot distribution of providers per topic"
   ]
  },
  {
   "cell_type": "code",
   "execution_count": 56,
   "metadata": {
    "collapsed": true
   },
   "outputs": [],
   "source": [
    "## per document (provider), assign topic based on highest-probability topic out of the 10\n",
    "topic_per_doc = []\n",
    "for i in corpus_tfidf:\n",
    "    topic_per_doc.append(np.argmax(np.array(ldamodel.get_document_topics(i))[:,1]))"
   ]
  },
  {
   "cell_type": "code",
   "execution_count": 57,
   "metadata": {
    "collapsed": false
   },
   "outputs": [
    {
     "data": {
      "image/png": "[encoded data removed]",
      "text/plain": [
       "<matplotlib.figure.Figure at 0x7fd446fb7d30>"
      ]
     },
     "metadata": {},
     "output_type": "display_data"
    }
   ],
   "source": [
    "## distribution of providers among topics\n",
    "ax = sns.countplot(x='topic',data=pd.DataFrame(topic_per_doc).rename(columns={0:'topic'}))\n",
    "sns.despine()"
   ]
  },
  {
   "cell_type": "markdown",
   "metadata": {},
   "source": [
    "## Color code distribution over topics by provider_type"
   ]
  },
  {
   "cell_type": "code",
   "execution_count": 94,
   "metadata": {
    "collapsed": true
   },
   "outputs": [],
   "source": [
    "color_codes = (pd.DataFrame({'npi':by_npi.index}).\n",
    "               merge(payments.drop_duplicates('npi')[['npi', 'provider_type']]))"
   ]
  },
  {
   "cell_type": "code",
   "execution_count": 95,
   "metadata": {
    "collapsed": false
   },
   "outputs": [
    {
     "data": {
      "text/plain": [
       "5067"
      ]
     },
     "execution_count": 95,
     "metadata": {},
     "output_type": "execute_result"
    }
   ],
   "source": [
    "## color code for plotting\n",
    "len(color_codes)"
   ]
  },
  {
   "cell_type": "code",
   "execution_count": 64,
   "metadata": {
    "collapsed": false
   },
   "outputs": [
    {
     "data": {
      "text/html": [
       "<div>\n",
       "<table border=\"1\" class=\"dataframe\">\n",
       "  <thead>\n",
       "    <tr style=\"text-align: right;\">\n",
       "      <th></th>\n",
       "      <th>npi</th>\n",
       "      <th>provider_type</th>\n",
       "    </tr>\n",
       "  </thead>\n",
       "  <tbody>\n",
       "    <tr>\n",
       "      <th>0</th>\n",
       "      <td>1003020660</td>\n",
       "      <td>Surgical Oncology</td>\n",
       "    </tr>\n",
       "    <tr>\n",
       "      <th>1</th>\n",
       "      <td>1003027582</td>\n",
       "      <td>Radiation Oncology</td>\n",
       "    </tr>\n",
       "    <tr>\n",
       "      <th>2</th>\n",
       "      <td>1003027764</td>\n",
       "      <td>Hematology/Oncology</td>\n",
       "    </tr>\n",
       "    <tr>\n",
       "      <th>3</th>\n",
       "      <td>1003068347</td>\n",
       "      <td>Radiation Oncology</td>\n",
       "    </tr>\n",
       "    <tr>\n",
       "      <th>4</th>\n",
       "      <td>1003073438</td>\n",
       "      <td>Radiation Oncology</td>\n",
       "    </tr>\n",
       "  </tbody>\n",
       "</table>\n",
       "</div>"
      ],
      "text/plain": [
       "          npi        provider_type\n",
       "0  1003020660    Surgical Oncology\n",
       "1  1003027582   Radiation Oncology\n",
       "2  1003027764  Hematology/Oncology\n",
       "3  1003068347   Radiation Oncology\n",
       "4  1003073438   Radiation Oncology"
      ]
     },
     "execution_count": 64,
     "metadata": {},
     "output_type": "execute_result"
    }
   ],
   "source": [
    "color_codes.head()"
   ]
  },
  {
   "cell_type": "code",
   "execution_count": 68,
   "metadata": {
    "collapsed": false
   },
   "outputs": [
    {
     "data": {
      "text/html": [
       "<div>\n",
       "<table border=\"1\" class=\"dataframe\">\n",
       "  <thead>\n",
       "    <tr style=\"text-align: right;\">\n",
       "      <th></th>\n",
       "      <th>topic</th>\n",
       "      <th>npi</th>\n",
       "      <th>provider_type</th>\n",
       "    </tr>\n",
       "  </thead>\n",
       "  <tbody>\n",
       "    <tr>\n",
       "      <th>0</th>\n",
       "      <td>1</td>\n",
       "      <td>1003020660</td>\n",
       "      <td>Surgical Oncology</td>\n",
       "    </tr>\n",
       "    <tr>\n",
       "      <th>1</th>\n",
       "      <td>3</td>\n",
       "      <td>1003027582</td>\n",
       "      <td>Radiation Oncology</td>\n",
       "    </tr>\n",
       "    <tr>\n",
       "      <th>2</th>\n",
       "      <td>9</td>\n",
       "      <td>1003027764</td>\n",
       "      <td>Hematology/Oncology</td>\n",
       "    </tr>\n",
       "    <tr>\n",
       "      <th>3</th>\n",
       "      <td>4</td>\n",
       "      <td>1003068347</td>\n",
       "      <td>Radiation Oncology</td>\n",
       "    </tr>\n",
       "    <tr>\n",
       "      <th>4</th>\n",
       "      <td>3</td>\n",
       "      <td>1003073438</td>\n",
       "      <td>Radiation Oncology</td>\n",
       "    </tr>\n",
       "  </tbody>\n",
       "</table>\n",
       "</div>"
      ],
      "text/plain": [
       "   topic         npi        provider_type\n",
       "0      1  1003020660    Surgical Oncology\n",
       "1      3  1003027582   Radiation Oncology\n",
       "2      9  1003027764  Hematology/Oncology\n",
       "3      4  1003068347   Radiation Oncology\n",
       "4      3  1003073438   Radiation Oncology"
      ]
     },
     "execution_count": 68,
     "metadata": {},
     "output_type": "execute_result"
    }
   ],
   "source": [
    "topic_per_doc_df = (pd.concat([pd.DataFrame(topic_per_doc).rename(columns={0:'topic'}),\n",
    "                              color_codes], axis=1, ignore_index=True).\n",
    "                    rename(columns={0:'topic',1:'npi',2:'provider_type'}))\n",
    "\n",
    "topic_per_doc_df.head()\n",
    "#topic_per_doc_df = (pd.concat([pd.DataFrame(topic_per_doc), fraud_label], axis=1, ignore_index=True).\n",
    "#                        rename(columns={0:'topic',1:'fraud'}))"
   ]
  },
  {
   "cell_type": "code",
   "execution_count": 86,
   "metadata": {
    "collapsed": false
   },
   "outputs": [],
   "source": [
    "mydf = (topic_per_doc_df.\n",
    "        groupby(['topic','provider_type']).\n",
    "        count().\n",
    "        rename(columns={'npi':'counts'}).\n",
    "        reset_index())"
   ]
  },
  {
   "cell_type": "code",
   "execution_count": 87,
   "metadata": {
    "collapsed": false
   },
   "outputs": [
    {
     "data": {
      "text/html": [
       "<div>\n",
       "<table border=\"1\" class=\"dataframe\">\n",
       "  <thead>\n",
       "    <tr style=\"text-align: right;\">\n",
       "      <th></th>\n",
       "      <th>topic</th>\n",
       "      <th>provider_type</th>\n",
       "      <th>counts</th>\n",
       "    </tr>\n",
       "  </thead>\n",
       "  <tbody>\n",
       "    <tr>\n",
       "      <th>0</th>\n",
       "      <td>0</td>\n",
       "      <td>Gynecological/Oncology</td>\n",
       "      <td>31</td>\n",
       "    </tr>\n",
       "    <tr>\n",
       "      <th>1</th>\n",
       "      <td>0</td>\n",
       "      <td>Hematology/Oncology</td>\n",
       "      <td>24</td>\n",
       "    </tr>\n",
       "    <tr>\n",
       "      <th>2</th>\n",
       "      <td>0</td>\n",
       "      <td>Medical Oncology</td>\n",
       "      <td>4</td>\n",
       "    </tr>\n",
       "    <tr>\n",
       "      <th>3</th>\n",
       "      <td>0</td>\n",
       "      <td>Radiation Oncology</td>\n",
       "      <td>61</td>\n",
       "    </tr>\n",
       "    <tr>\n",
       "      <th>4</th>\n",
       "      <td>0</td>\n",
       "      <td>Surgical Oncology</td>\n",
       "      <td>74</td>\n",
       "    </tr>\n",
       "    <tr>\n",
       "      <th>5</th>\n",
       "      <td>1</td>\n",
       "      <td>Gynecological/Oncology</td>\n",
       "      <td>9</td>\n",
       "    </tr>\n",
       "    <tr>\n",
       "      <th>6</th>\n",
       "      <td>1</td>\n",
       "      <td>Hematology/Oncology</td>\n",
       "      <td>56</td>\n",
       "    </tr>\n",
       "    <tr>\n",
       "      <th>7</th>\n",
       "      <td>1</td>\n",
       "      <td>Medical Oncology</td>\n",
       "      <td>12</td>\n",
       "    </tr>\n",
       "    <tr>\n",
       "      <th>8</th>\n",
       "      <td>1</td>\n",
       "      <td>Radiation Oncology</td>\n",
       "      <td>1</td>\n",
       "    </tr>\n",
       "    <tr>\n",
       "      <th>9</th>\n",
       "      <td>1</td>\n",
       "      <td>Surgical Oncology</td>\n",
       "      <td>199</td>\n",
       "    </tr>\n",
       "  </tbody>\n",
       "</table>\n",
       "</div>"
      ],
      "text/plain": [
       "   topic           provider_type  counts\n",
       "0      0  Gynecological/Oncology      31\n",
       "1      0     Hematology/Oncology      24\n",
       "2      0        Medical Oncology       4\n",
       "3      0      Radiation Oncology      61\n",
       "4      0       Surgical Oncology      74\n",
       "5      1  Gynecological/Oncology       9\n",
       "6      1     Hematology/Oncology      56\n",
       "7      1        Medical Oncology      12\n",
       "8      1      Radiation Oncology       1\n",
       "9      1       Surgical Oncology     199"
      ]
     },
     "execution_count": 87,
     "metadata": {},
     "output_type": "execute_result"
    }
   ],
   "source": [
    "mydf.head(10)"
   ]
  },
  {
   "cell_type": "code",
   "execution_count": 77,
   "metadata": {
    "collapsed": false
   },
   "outputs": [
    {
     "data": {
      "image/png": "[encoded data removed]",
      "text/plain": [
       "<matplotlib.figure.Figure at 0x7fd446f95860>"
      ]
     },
     "metadata": {},
     "output_type": "display_data"
    }
   ],
   "source": [
    "ax = sns.barplot(x='topic', y='counts', hue='provider_type', data=mydf)\n",
    "sns.despine()"
   ]
  },
  {
   "cell_type": "code",
   "execution_count": 88,
   "metadata": {
    "collapsed": false
   },
   "outputs": [
    {
     "data": {
      "text/html": [
       "<div>\n",
       "<table border=\"1\" class=\"dataframe\">\n",
       "  <thead>\n",
       "    <tr style=\"text-align: right;\">\n",
       "      <th></th>\n",
       "      <th>topic</th>\n",
       "      <th>provider_type</th>\n",
       "      <th>counts</th>\n",
       "    </tr>\n",
       "  </thead>\n",
       "  <tbody>\n",
       "    <tr>\n",
       "      <th>0</th>\n",
       "      <td>0</td>\n",
       "      <td>Gynecological/Oncology</td>\n",
       "      <td>0.129167</td>\n",
       "    </tr>\n",
       "    <tr>\n",
       "      <th>1</th>\n",
       "      <td>0</td>\n",
       "      <td>Hematology/Oncology</td>\n",
       "      <td>0.022243</td>\n",
       "    </tr>\n",
       "    <tr>\n",
       "      <th>2</th>\n",
       "      <td>0</td>\n",
       "      <td>Medical Oncology</td>\n",
       "      <td>0.013333</td>\n",
       "    </tr>\n",
       "    <tr>\n",
       "      <th>3</th>\n",
       "      <td>0</td>\n",
       "      <td>Radiation Oncology</td>\n",
       "      <td>0.020327</td>\n",
       "    </tr>\n",
       "    <tr>\n",
       "      <th>4</th>\n",
       "      <td>0</td>\n",
       "      <td>Surgical Oncology</td>\n",
       "      <td>0.165548</td>\n",
       "    </tr>\n",
       "  </tbody>\n",
       "</table>\n",
       "</div>"
      ],
      "text/plain": [
       "   topic           provider_type    counts\n",
       "0      0  Gynecological/Oncology  0.129167\n",
       "1      0     Hematology/Oncology  0.022243\n",
       "2      0        Medical Oncology  0.013333\n",
       "3      0      Radiation Oncology  0.020327\n",
       "4      0       Surgical Oncology  0.165548"
      ]
     },
     "execution_count": 88,
     "metadata": {},
     "output_type": "execute_result"
    }
   ],
   "source": [
    "## plot fractions per provider_type rather than absolute counts across topics\n",
    "\n",
    "## rescale each of the counts by overall total per fraud group\n",
    "#mydf.groupby(['provider_type']).transform(lambda x: x.sum()['counts'])\n",
    "types = list(payments['provider_type'].unique())\n",
    "\n",
    "for t in types:\n",
    "    mydf.loc[mydf.provider_type == t, 'counts']  = (mydf.loc[mydf.provider_type == t, 'counts'] / \n",
    "                                          float(sum(mydf.loc[mydf.provider_type == t, 'counts'])))\n",
    "\n",
    "mydf.head()"
   ]
  },
  {
   "cell_type": "code",
   "execution_count": 89,
   "metadata": {
    "collapsed": false
   },
   "outputs": [
    {
     "data": {
      "image/png": "[encoded data removed]",
      "text/plain": [
       "<matplotlib.figure.Figure at 0x7fd446ae50b8>"
      ]
     },
     "metadata": {},
     "output_type": "display_data"
    }
   ],
   "source": [
    "ax = sns.barplot(x='topic', y='counts', hue='provider_type', data=mydf)\n",
    "sns.despine()"
   ]
  },
  {
   "cell_type": "markdown",
   "metadata": {},
   "source": [
    "- Looks like radiation oncology is dominating topics 3, 4, and 7.  We can maybe merge all those topics into one => LDA on 8 topics instead of 10.\n",
    "- Medical Oncology and Hematology/Oncology both dominate topics 2 and 9 in approximately the same fractions."
   ]
  },
  {
   "cell_type": "markdown",
   "metadata": {},
   "source": [
    "## Plot doctors in topic space"
   ]
  },
  {
   "cell_type": "code",
   "execution_count": 91,
   "metadata": {
    "collapsed": true
   },
   "outputs": [],
   "source": [
    "from sklearn.manifold import TSNE\n",
    "#from sklearn import preprocessing"
   ]
  },
  {
   "cell_type": "code",
   "execution_count": 90,
   "metadata": {
    "collapsed": false
   },
   "outputs": [
    {
     "data": {
      "text/plain": [
       "(5067, 10)"
      ]
     },
     "execution_count": 90,
     "metadata": {},
     "output_type": "execute_result"
    }
   ],
   "source": [
    "topics_per_doc = []\n",
    "\n",
    "## Get features per doc (probability scores over topics)\n",
    "for doc in corpus_tfidf:\n",
    "    topics_per_doc.append(np.array(ldamodel.get_document_topics(doc))[:,1])\n",
    "\n",
    "by_npi_topics = pd.DataFrame(topics_per_doc)\n",
    "by_npi_topics.shape"
   ]
  },
  {
   "cell_type": "code",
   "execution_count": 92,
   "metadata": {
    "collapsed": false
   },
   "outputs": [
    {
     "name": "stdout",
     "output_type": "stream",
     "text": [
      "[t-SNE] Computing pairwise distances...\n",
      "[t-SNE] Computing 121 nearest neighbors...\n",
      "[t-SNE] Computed conditional probabilities for sample 1000 / 5067\n",
      "[t-SNE] Computed conditional probabilities for sample 2000 / 5067\n",
      "[t-SNE] Computed conditional probabilities for sample 3000 / 5067\n",
      "[t-SNE] Computed conditional probabilities for sample 4000 / 5067\n",
      "[t-SNE] Computed conditional probabilities for sample 5000 / 5067\n",
      "[t-SNE] Computed conditional probabilities for sample 5067 / 5067\n",
      "[t-SNE] Mean sigma: 0.000004\n",
      "[t-SNE] Iteration 25: error = 1.7025908, gradient norm = 0.0110100\n",
      "[t-SNE] Iteration 50: error = 1.6182613, gradient norm = 0.0071308\n",
      "[t-SNE] Iteration 75: error = 1.2437065, gradient norm = 0.0029636\n",
      "[t-SNE] Iteration 100: error = 1.1557364, gradient norm = 0.0025979\n",
      "[t-SNE] Error after 100 iterations with early exaggeration: 1.155736\n",
      "[t-SNE] Iteration 125: error = 1.0109060, gradient norm = 0.0022064\n",
      "[t-SNE] Iteration 150: error = 0.9666743, gradient norm = 0.0024278\n",
      "[t-SNE] Iteration 175: error = 0.9562620, gradient norm = 0.0024697\n",
      "[t-SNE] Iteration 200: error = 0.9530444, gradient norm = 0.0026862\n",
      "[t-SNE] Iteration 225: error = 0.9510126, gradient norm = 0.0028245\n",
      "[t-SNE] Iteration 250: error = 0.9514655, gradient norm = 0.0018030\n",
      "[t-SNE] Iteration 275: error = 0.9513258, gradient norm = 0.0019452\n",
      "[t-SNE] Iteration 275: did not make any progress during the last 30 episodes. Finished.\n",
      "[t-SNE] Error after 275 iterations: 0.951326\n"
     ]
    }
   ],
   "source": [
    "X_embedded = TSNE(n_components=2, perplexity=40, verbose=2).fit_transform(by_npi_topics.as_matrix())"
   ]
  },
  {
   "cell_type": "code",
   "execution_count": 125,
   "metadata": {
    "collapsed": false
   },
   "outputs": [
    {
     "data": {
      "text/plain": [
       "<matplotlib.collections.PathCollection at 0x7fd4377dd6a0>"
      ]
     },
     "execution_count": 125,
     "metadata": {},
     "output_type": "execute_result"
    },
    {
     "data": {
      "image/png": "[encoded data removed]",
      "text/plain": [
       "<matplotlib.figure.Figure at 0x7fd4466b2f28>"
      ]
     },
     "metadata": {},
     "output_type": "display_data"
    }
   ],
   "source": [
    "plt.rcParams['figure.figsize'] = (10.0, 10.0)\n",
    "plt.scatter(X_embedded[:,0], X_embedded[:,1], \n",
    "            c=color_codes.provider_type.astype('category').cat.codes,\n",
    "            cmap = 'Accent')"
   ]
  }
 ],
 "metadata": {
  "anaconda-cloud": {},
  "kernelspec": {
   "display_name": "Python [conda env:medicare_provider_util_payment]",
   "language": "python",
   "name": "conda-env-medicare_provider_util_payment-py"
  },
  "language_info": {
   "codemirror_mode": {
    "name": "ipython",
    "version": 3
   },
   "file_extension": ".py",
   "mimetype": "text/x-python",
   "name": "python",
   "nbconvert_exporter": "python",
   "pygments_lexer": "ipython3",
   "version": "3.5.2"
  }
 },
 "nbformat": 4,
 "nbformat_minor": 1
}
