{
 "cells": [
  {
   "cell_type": "code",
   "execution_count": 1,
   "metadata": {
    "collapsed": true
   },
   "outputs": [],
   "source": [
    "import psycopg2\n",
    "import pandas as pd\n",
    "import seaborn as sns\n",
    "import matplotlib.pyplot as plt\n",
    "import matplotlib.cm as cm\n",
    "import numpy as np\n",
    "from sklearn.manifold import TSNE\n",
    "import re\n",
    "\n",
    "%matplotlib inline\n",
    "sns.set(style=\"white\")"
   ]
  },
  {
   "cell_type": "code",
   "execution_count": 4,
   "metadata": {
    "collapsed": true
   },
   "outputs": [],
   "source": [
    "## connect to database\n",
    "\n",
    "con = psycopg2.connect(\"dbname='doctordb' user='cathy'\")"
   ]
  },
  {
   "cell_type": "markdown",
   "metadata": {},
   "source": [
    "## Read in medicare payments table"
   ]
  },
  {
   "cell_type": "code",
   "execution_count": 5,
   "metadata": {
    "collapsed": true
   },
   "outputs": [],
   "source": [
    "q = \"SELECT * FROM payments WHERE provider_type = 'Medical Oncology'\"\n",
    "payments = pd.read_sql_query(q, con=con)"
   ]
  },
  {
   "cell_type": "code",
   "execution_count": 6,
   "metadata": {
    "collapsed": false
   },
   "outputs": [
    {
     "name": "stdout",
     "output_type": "stream",
     "text": [
      "(143, 2)\n"
     ]
    },
    {
     "data": {
      "text/html": [
       "<div>\n",
       "<table border=\"1\" class=\"dataframe\">\n",
       "  <thead>\n",
       "    <tr style=\"text-align: right;\">\n",
       "      <th></th>\n",
       "      <th>hcpcs_code</th>\n",
       "      <th>hcpcs_description</th>\n",
       "    </tr>\n",
       "  </thead>\n",
       "  <tbody>\n",
       "    <tr>\n",
       "      <th>17</th>\n",
       "      <td>J1100</td>\n",
       "      <td>Injection, dexamethasone sodium phosphate, 1mg</td>\n",
       "    </tr>\n",
       "    <tr>\n",
       "      <th>18</th>\n",
       "      <td>J1200</td>\n",
       "      <td>Injection, diphenhydramine hcl, up to 50 mg</td>\n",
       "    </tr>\n",
       "    <tr>\n",
       "      <th>19</th>\n",
       "      <td>J1626</td>\n",
       "      <td>Injection, granisetron hydrochloride, 100 mcg</td>\n",
       "    </tr>\n",
       "    <tr>\n",
       "      <th>95</th>\n",
       "      <td>J0641</td>\n",
       "      <td>Injection, levoleucovorin calcium, 0.5 mg</td>\n",
       "    </tr>\n",
       "    <tr>\n",
       "      <th>96</th>\n",
       "      <td>J0885</td>\n",
       "      <td>Injection, epoetin alfa, (for non-esrd use), 1...</td>\n",
       "    </tr>\n",
       "  </tbody>\n",
       "</table>\n",
       "</div>"
      ],
      "text/plain": [
       "   hcpcs_code                                  hcpcs_description\n",
       "17      J1100     Injection, dexamethasone sodium phosphate, 1mg\n",
       "18      J1200        Injection, diphenhydramine hcl, up to 50 mg\n",
       "19      J1626      Injection, granisetron hydrochloride, 100 mcg\n",
       "95      J0641          Injection, levoleucovorin calcium, 0.5 mg\n",
       "96      J0885  Injection, epoetin alfa, (for non-esrd use), 1..."
      ]
     },
     "execution_count": 6,
     "metadata": {},
     "output_type": "execute_result"
    }
   ],
   "source": [
    "## grab all distinct hcpcs_codes that correspond to drugs\n",
    "medicare_drug_claims = (payments.query(\"hcpcs_drug_indicator=='Y'\")\n",
    "                       .drop_duplicates('hcpcs_code')[['hcpcs_code','hcpcs_description']])\n",
    "\n",
    "print(medicare_drug_claims.shape)\n",
    "\n",
    "medicare_drug_claims.head()"
   ]
  },
  {
   "cell_type": "code",
   "execution_count": 7,
   "metadata": {
    "collapsed": false
   },
   "outputs": [],
   "source": [
    "def preprocess_drug_name(drug):\n",
    "    \"\"\"Given a drug name, pre-process before matching it in Medicare database by:\n",
    "    converting to all lowercase, convert multiple spaces to single space, and \n",
    "    remove certain uninteresting strings like 'mg' and 'Injection' that are common\n",
    "    to the hcpcs_descriptions\n",
    "    \n",
    "    INPUT:\n",
    "    drug - a string\n",
    "    \n",
    "    OUTPUT:\n",
    "    drug - string\n",
    "    \"\"\"\n",
    "    \"\"\"  process each item in the list\n",
    "    for d in drug_list:      \n",
    "        # lower case\n",
    "        d = d.lower()\n",
    "\n",
    "        # substitute (USP) with empty string\n",
    "        d = d.replace('(usp)', '')\n",
    "        \n",
    "        # convert multiple spaces to single space\n",
    "        d = re.sub(r'\\s\\s+', r' ', d)\n",
    "        \n",
    "        # strip leading/trailing whitespace\n",
    "        d = d.strip()\n",
    "        \n",
    "        processed_drug_list.append(d)\n",
    "        \n",
    "    return processed_drug_list\"\"\"\n",
    "    \n",
    "    return drug.lower()"
   ]
  },
  {
   "cell_type": "code",
   "execution_count": 8,
   "metadata": {
    "collapsed": false
   },
   "outputs": [],
   "source": [
    "## apply drug name processing to hcpcs drug descriptions\n",
    "\n",
    "medicare_drug_claims['hcpcs_description'] = medicare_drug_claims['hcpcs_description'].apply(preprocess_drug_name)"
   ]
  },
  {
   "cell_type": "markdown",
   "metadata": {},
   "source": [
    "## Read in drug names/rxcui extracted from medi_indication table"
   ]
  },
  {
   "cell_type": "code",
   "execution_count": 9,
   "metadata": {
    "collapsed": false
   },
   "outputs": [
    {
     "data": {
      "text/html": [
       "<div>\n",
       "<table border=\"1\" class=\"dataframe\">\n",
       "  <thead>\n",
       "    <tr style=\"text-align: right;\">\n",
       "      <th></th>\n",
       "      <th>rxcui_in</th>\n",
       "      <th>drug_name</th>\n",
       "      <th>keywords_indication_desc</th>\n",
       "    </tr>\n",
       "  </thead>\n",
       "  <tbody>\n",
       "    <tr>\n",
       "      <th>0</th>\n",
       "      <td>448</td>\n",
       "      <td>ethanol</td>\n",
       "      <td>breast</td>\n",
       "    </tr>\n",
       "    <tr>\n",
       "      <th>1</th>\n",
       "      <td>632</td>\n",
       "      <td>mitomycin</td>\n",
       "      <td>breast</td>\n",
       "    </tr>\n",
       "    <tr>\n",
       "      <th>2</th>\n",
       "      <td>677</td>\n",
       "      <td>aminoglutethimide</td>\n",
       "      <td>breast</td>\n",
       "    </tr>\n",
       "    <tr>\n",
       "      <th>3</th>\n",
       "      <td>1437</td>\n",
       "      <td>berberine</td>\n",
       "      <td>breast</td>\n",
       "    </tr>\n",
       "    <tr>\n",
       "      <th>4</th>\n",
       "      <td>1562</td>\n",
       "      <td>bioflavonoids</td>\n",
       "      <td>breast</td>\n",
       "    </tr>\n",
       "  </tbody>\n",
       "</table>\n",
       "</div>"
      ],
      "text/plain": [
       "   rxcui_in          drug_name keywords_indication_desc\n",
       "0       448            ethanol                   breast\n",
       "1       632          mitomycin                   breast\n",
       "2       677  aminoglutethimide                   breast\n",
       "3      1437          berberine                   breast\n",
       "4      1562      bioflavonoids                   breast"
      ]
     },
     "execution_count": 9,
     "metadata": {},
     "output_type": "execute_result"
    }
   ],
   "source": [
    "rxcui_drugs = pd.read_csv(\"03_rxcui_drug_name.csv\")\n",
    "\n",
    "rxcui_drugs.head()"
   ]
  },
  {
   "cell_type": "code",
   "execution_count": 10,
   "metadata": {
    "collapsed": false
   },
   "outputs": [
    {
     "data": {
      "text/plain": [
       "(185, 3)"
      ]
     },
     "execution_count": 10,
     "metadata": {},
     "output_type": "execute_result"
    }
   ],
   "source": [
    "rxcui_drugs.shape"
   ]
  },
  {
   "cell_type": "markdown",
   "metadata": {},
   "source": [
    "## Per drug name in rxcui_drugs, search in the hcpcs_description for a match"
   ]
  },
  {
   "cell_type": "code",
   "execution_count": 11,
   "metadata": {
    "collapsed": false
   },
   "outputs": [],
   "source": [
    "matches = []\n",
    "\n",
    "for (rxcui, drug, keyword) in rxcui_drugs.itertuples(index=False):\n",
    "    \n",
    "    for (hcpcs_code, hcpcs_desc) in medicare_drug_claims.itertuples(index=False):\n",
    "        foundMatch = re.search(drug, hcpcs_desc)\n",
    "        \n",
    "        if foundMatch:\n",
    "            matches.append((rxcui, drug, keyword, hcpcs_code, hcpcs_desc))"
   ]
  },
  {
   "cell_type": "code",
   "execution_count": 12,
   "metadata": {
    "collapsed": false
   },
   "outputs": [
    {
     "data": {
      "text/plain": [
       "35"
      ]
     },
     "execution_count": 12,
     "metadata": {},
     "output_type": "execute_result"
    }
   ],
   "source": [
    "# number of breast cancer drugs found in claims data\n",
    "len(matches)"
   ]
  },
  {
   "cell_type": "code",
   "execution_count": 13,
   "metadata": {
    "collapsed": false
   },
   "outputs": [
    {
     "name": "stdout",
     "output_type": "stream",
     "text": [
      "(632, 'mitomycin', 'breast', 'J9280', 'injection, mitomycin, 5 mg')\n",
      "(2555, 'cisplatin', 'breast', 'J9060', 'injection, cisplatin, powder or solution, 10 mg')\n",
      "(3002, 'cyclophosphamide', 'breast', 'J9070', 'cyclophosphamide, 100 mg')\n",
      "(3639, 'doxorubicin', 'breast', 'J9000', 'injection, doxorubicin hydrochloride, 10 mg')\n",
      "(3639, 'doxorubicin', 'breast', 'Q2050', 'injection, doxorubicin hydrochloride, liposomal, not otherwise specified, 10mg')\n",
      "(4492, 'fluorouracil', 'breast', 'J9190', 'injection, fluorouracil, 500 mg')\n",
      "(6851, 'methotrexate', 'breast', 'J9260', 'methotrexate sodium, 50 mg')\n",
      "(10379, 'testosterone', 'breast', 'J1080', 'injection, testosterone cypionate, 1 cc, 200 mg')\n",
      "(11202, 'vincristine', 'breast', 'J9370', 'vincristine sulfate, 1 mg')\n",
      "(11295, 'water', 'breast', 'J7060', '5% dextrose/water (500 ml = 1 unit)')\n",
      "(11473, 'pamidronate', 'breast', 'J2430', 'injection, pamidronate disodium, per 30 mg')\n",
      "(12574, 'gemcitabine', 'breast', 'J9201', 'injection, gemcitabine hydrochloride, 200 mg')\n",
      "(32592, 'oxaliplatin', 'breast', 'J9263', 'injection, oxaliplatin, 0.5 mg')\n",
      "(38782, 'triptorelin', 'breast', 'J3315', 'injection, triptorelin pamoate, 3.75 mg')\n",
      "(39541, 'vinorelbine', 'breast', 'J9390', 'injection, vinorelbine tartrate, 10 mg')\n",
      "(40048, 'carboplatin', 'breast', 'J9045', 'injection, carboplatin, 50 mg')\n",
      "(42375, 'leuprolide', 'breast', 'J9217', 'leuprolide acetate (for depot suspension), 7.5 mg')\n",
      "(50610, 'goserelin', 'breast', 'J9202', 'goserelin acetate implant, per 3.6 mg')\n",
      "(51499, 'irinotecan', 'breast', 'J9206', 'injection, irinotecan, 20 mg')\n",
      "(56946, 'paclitaxel', 'breast', 'J9264', 'injection, paclitaxel protein-bound particles, 1 mg')\n",
      "(56946, 'paclitaxel', 'breast', 'J9265', 'injection, paclitaxel, 30 mg')\n",
      "(69634, 'sargramostim', 'breast', 'J2820', 'injection, sargramostim (gm-csf), 50 mcg')\n",
      "(72962, 'docetaxel', 'breast', 'J9171', 'injection, docetaxel, 1 mg')\n",
      "(77655, 'zoledronic acid', 'breast', 'J3489', 'injection, zoledronic acid, 1 mg')\n",
      "(105443, 'pamidronate disodium', 'breast', 'J2430', 'injection, pamidronate disodium, per 30 mg')\n",
      "(142433, 'doxorubicin hydrochloride', 'breast', 'J9000', 'injection, doxorubicin hydrochloride, 10 mg')\n",
      "(142433, 'doxorubicin hydrochloride', 'breast', 'Q2050', 'injection, doxorubicin hydrochloride, liposomal, not otherwise specified, 10mg')\n",
      "(203217, 'leuprolide acetate', 'breast', 'J9217', 'leuprolide acetate (for depot suspension), 7.5 mg')\n",
      "(224905, 'trastuzumab', 'breast', 'J9355', 'injection, trastuzumab, 10 mg')\n",
      "(253337, 'bevacizumab', 'breast', 'J9035', 'injection, bevacizumab, 10 mg')\n",
      "(282357, 'fulvestrant', 'breast', 'J9395', 'injection, fulvestrant, 25 mg')\n",
      "(835827, 'testosterone cypionate', 'breast', 'J1080', 'injection, testosterone cypionate, 1 cc, 200 mg')\n",
      "(993449, 'denosumab', 'breast', 'J0897', 'injection, denosumab, 1 mg')\n",
      "(1045452, 'eribulin mesylate', 'breast', 'J9179', 'injection, eribulin mesylate, 0.1 mg')\n",
      "(1045453, 'eribulin', 'breast', 'J9179', 'injection, eribulin mesylate, 0.1 mg')\n"
     ]
    }
   ],
   "source": [
    "for i in matches:\n",
    "    print(i)"
   ]
  },
  {
   "cell_type": "code",
   "execution_count": 14,
   "metadata": {
    "collapsed": false
   },
   "outputs": [
    {
     "data": {
      "text/plain": [
       "0.1891891891891892"
      ]
     },
     "execution_count": 14,
     "metadata": {},
     "output_type": "execute_result"
    }
   ],
   "source": [
    "## percentage of drugs identified as breast cancer drugs in medi_indication table that are also in payments table\n",
    "len(matches) / rxcui_drugs.shape[0]"
   ]
  },
  {
   "cell_type": "code",
   "execution_count": 15,
   "metadata": {
    "collapsed": false
   },
   "outputs": [
    {
     "data": {
      "text/html": [
       "<div>\n",
       "<table border=\"1\" class=\"dataframe\">\n",
       "  <thead>\n",
       "    <tr style=\"text-align: right;\">\n",
       "      <th></th>\n",
       "      <th>rxcui_in</th>\n",
       "      <th>drug_name</th>\n",
       "      <th>keywords_indication_desc</th>\n",
       "      <th>hcpcs_code</th>\n",
       "      <th>hcpcs_description</th>\n",
       "    </tr>\n",
       "  </thead>\n",
       "  <tbody>\n",
       "    <tr>\n",
       "      <th>0</th>\n",
       "      <td>632</td>\n",
       "      <td>mitomycin</td>\n",
       "      <td>breast</td>\n",
       "      <td>J9280</td>\n",
       "      <td>injection, mitomycin, 5 mg</td>\n",
       "    </tr>\n",
       "    <tr>\n",
       "      <th>1</th>\n",
       "      <td>2555</td>\n",
       "      <td>cisplatin</td>\n",
       "      <td>breast</td>\n",
       "      <td>J9060</td>\n",
       "      <td>injection, cisplatin, powder or solution, 10 mg</td>\n",
       "    </tr>\n",
       "    <tr>\n",
       "      <th>2</th>\n",
       "      <td>3002</td>\n",
       "      <td>cyclophosphamide</td>\n",
       "      <td>breast</td>\n",
       "      <td>J9070</td>\n",
       "      <td>cyclophosphamide, 100 mg</td>\n",
       "    </tr>\n",
       "    <tr>\n",
       "      <th>3</th>\n",
       "      <td>3639</td>\n",
       "      <td>doxorubicin</td>\n",
       "      <td>breast</td>\n",
       "      <td>J9000</td>\n",
       "      <td>injection, doxorubicin hydrochloride, 10 mg</td>\n",
       "    </tr>\n",
       "    <tr>\n",
       "      <th>4</th>\n",
       "      <td>3639</td>\n",
       "      <td>doxorubicin</td>\n",
       "      <td>breast</td>\n",
       "      <td>Q2050</td>\n",
       "      <td>injection, doxorubicin hydrochloride, liposoma...</td>\n",
       "    </tr>\n",
       "  </tbody>\n",
       "</table>\n",
       "</div>"
      ],
      "text/plain": [
       "   rxcui_in         drug_name keywords_indication_desc hcpcs_code  \\\n",
       "0       632         mitomycin                   breast      J9280   \n",
       "1      2555         cisplatin                   breast      J9060   \n",
       "2      3002  cyclophosphamide                   breast      J9070   \n",
       "3      3639       doxorubicin                   breast      J9000   \n",
       "4      3639       doxorubicin                   breast      Q2050   \n",
       "\n",
       "                                   hcpcs_description  \n",
       "0                         injection, mitomycin, 5 mg  \n",
       "1    injection, cisplatin, powder or solution, 10 mg  \n",
       "2                           cyclophosphamide, 100 mg  \n",
       "3        injection, doxorubicin hydrochloride, 10 mg  \n",
       "4  injection, doxorubicin hydrochloride, liposoma...  "
      ]
     },
     "execution_count": 15,
     "metadata": {},
     "output_type": "execute_result"
    }
   ],
   "source": [
    "## create data frame from matches list of tuples\n",
    "rxcui_hcpcs_df = pd.DataFrame(matches, index=None, columns=['rxcui_in','drug_name','keywords_indication_desc',\n",
    "                                                           'hcpcs_code','hcpcs_description'])\n",
    "\n",
    "rxcui_hcpcs_df.head()"
   ]
  },
  {
   "cell_type": "code",
   "execution_count": 31,
   "metadata": {
    "collapsed": true
   },
   "outputs": [],
   "source": [
    "## write map out to csv\n",
    "rxcui_hcpcs_df.to_csv(\"05_rxcui_hcpcs_map_breast.csv\", index=False)"
   ]
  }
 ],
 "metadata": {
  "anaconda-cloud": {},
  "kernelspec": {
   "display_name": "Python [conda env:medicare_provider_util_payment]",
   "language": "python",
   "name": "conda-env-medicare_provider_util_payment-py"
  },
  "language_info": {
   "codemirror_mode": {
    "name": "ipython",
    "version": 3
   },
   "file_extension": ".py",
   "mimetype": "text/x-python",
   "name": "python",
   "nbconvert_exporter": "python",
   "pygments_lexer": "ipython3",
   "version": "3.5.2"
  }
 },
 "nbformat": 4,
 "nbformat_minor": 1
}
