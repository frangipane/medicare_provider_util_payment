{
 "cells": [
  {
   "cell_type": "markdown",
   "metadata": {},
   "source": [
    "# Look at composition of topics from LDA model\n",
    "\n",
    "provider_type: hematology, medical\n",
    "- filtered out least and most common hcpcs_codes\n",
    "- only consider in-facility claims\n",
    "- number of topics = 6\n",
    "- bene_unique_cnt as value"
   ]
  },
  {
   "cell_type": "code",
   "execution_count": 1,
   "metadata": {
    "collapsed": true
   },
   "outputs": [],
   "source": [
    "import psycopg2\n",
    "import pandas as pd\n",
    "import seaborn as sns\n",
    "import matplotlib.pyplot as plt\n",
    "import matplotlib.cm as cm\n",
    "import numpy as np\n",
    "import time\n",
    "\n",
    "from gensim import matutils, models, corpora\n",
    "\n",
    "%matplotlib inline\n",
    "sns.set(style=\"white\")"
   ]
  },
  {
   "cell_type": "code",
   "execution_count": 2,
   "metadata": {
    "collapsed": false
   },
   "outputs": [],
   "source": [
    "## connect to database\n",
    "con = psycopg2.connect(\"dbname='doctordb' user='cathy'\")"
   ]
  },
  {
   "cell_type": "code",
   "execution_count": 3,
   "metadata": {
    "collapsed": false
   },
   "outputs": [],
   "source": [
    "q = \"\"\"SELECT npi, nppes_provider_last_org_name, nppes_provider_state, nppes_provider_first_name,\n",
    "provider_type, hcpcs_code, hcpcs_description, bene_unique_cnt\n",
    "FROM payments \n",
    "WHERE (provider_type='Medical Oncology' OR provider_type='Hematology/Oncology')\n",
    "AND place_of_service='O'\n",
    "AND hcpcs_drug_indicator='Y'\"\"\"\n",
    "payments = pd.read_sql_query(q, con=con)"
   ]
  },
  {
   "cell_type": "code",
   "execution_count": 4,
   "metadata": {
    "collapsed": false
   },
   "outputs": [
    {
     "data": {
      "text/plain": [
       "(56147, 8)"
      ]
     },
     "execution_count": 4,
     "metadata": {},
     "output_type": "execute_result"
    }
   ],
   "source": [
    "payments.shape"
   ]
  },
  {
   "cell_type": "code",
   "execution_count": 5,
   "metadata": {
    "collapsed": false
   },
   "outputs": [
    {
     "data": {
      "text/plain": [
       "array(['Medical Oncology', 'Hematology/Oncology'], dtype=object)"
      ]
     },
     "execution_count": 5,
     "metadata": {},
     "output_type": "execute_result"
    }
   ],
   "source": [
    "payments['provider_type'].unique()"
   ]
  },
  {
   "cell_type": "code",
   "execution_count": 6,
   "metadata": {
    "collapsed": false
   },
   "outputs": [
    {
     "data": {
      "text/plain": [
       "provider_type\n",
       "Hematology/Oncology    3603\n",
       "Medical Oncology       1056\n",
       "Name: npi, dtype: int64"
      ]
     },
     "execution_count": 6,
     "metadata": {},
     "output_type": "execute_result"
    }
   ],
   "source": [
    "## how many of each provider type?\n",
    "payments.drop_duplicates('npi').groupby('provider_type')['npi'].count()"
   ]
  },
  {
   "cell_type": "markdown",
   "metadata": {},
   "source": [
    "## read in filtered data frame"
   ]
  },
  {
   "cell_type": "code",
   "execution_count": 7,
   "metadata": {
    "collapsed": false
   },
   "outputs": [],
   "source": [
    "## write to file\n",
    "by_npi = pd.read_csv(\"11f_by_npi_reduced_medical_hematology_oncolgists.csv\", index_col=0)\n",
    "by_npi.index = by_npi.index.astype(str)"
   ]
  },
  {
   "cell_type": "code",
   "execution_count": 8,
   "metadata": {
    "collapsed": false
   },
   "outputs": [
    {
     "data": {
      "text/plain": [
       "(3122, 150)"
      ]
     },
     "execution_count": 8,
     "metadata": {},
     "output_type": "execute_result"
    }
   ],
   "source": [
    "by_npi.shape"
   ]
  },
  {
   "cell_type": "markdown",
   "metadata": {},
   "source": [
    "## Load LDA model (filtered data frame using 6 topics)"
   ]
  },
  {
   "cell_type": "code",
   "execution_count": 9,
   "metadata": {
    "collapsed": true
   },
   "outputs": [],
   "source": [
    "## Load lda model\n",
    "model_fname = \"11f_lda_6topics_colsDropped_docsDropped_hema_medi_oncology.model\"\n",
    "ldamodel = models.LdaModel.load(model_fname)"
   ]
  },
  {
   "cell_type": "markdown",
   "metadata": {},
   "source": [
    "## Interpret the 6 topics in the model"
   ]
  },
  {
   "cell_type": "code",
   "execution_count": 12,
   "metadata": {
    "collapsed": true
   },
   "outputs": [],
   "source": [
    "corpus = matutils.Dense2Corpus(by_npi.as_matrix(), documents_columns=False)\n",
    "tfidf = models.TfidfModel(corpus)\n",
    "corpus_tfidf = tfidf[corpus]"
   ]
  },
  {
   "cell_type": "code",
   "execution_count": 13,
   "metadata": {
    "collapsed": true
   },
   "outputs": [],
   "source": [
    "## top 20 words in each topic\n",
    "topics_matrix = ldamodel.show_topics(formatted=False, num_words=20)"
   ]
  },
  {
   "cell_type": "code",
   "execution_count": 14,
   "metadata": {
    "collapsed": true
   },
   "outputs": [],
   "source": [
    "topics_hcpcs = {}\n",
    "\n",
    "## convert topic word indices to hcpcs_codes => value is a list of tuples of (hcpcs_code, probability)\n",
    "for i in topics_matrix:\n",
    "    topics_hcpcs[i[0]] = [(by_npi.columns.values[int(word[0])], word[1]) for word in i[1]]"
   ]
  },
  {
   "cell_type": "code",
   "execution_count": 17,
   "metadata": {
    "collapsed": true
   },
   "outputs": [],
   "source": [
    "# How many drugs are chemo/non chemo or neither?\n",
    "def drug_category_count(drugs):\n",
    "    \"\"\"Count drugs per category, A,B,C\n",
    "    input - list of hcpcs codes for drugs\n",
    "    returns - list of drugs per category and error list containing drugs that don't fall in any category\n",
    "    \n",
    "    # A : J0000 - J8499 --- drugs other than chemo\n",
    "    # B : J8521 - J9999 --- chemo drugs\n",
    "    # C : Doesn't begin with 'J'\n",
    "    \"\"\"\n",
    "    A = []\n",
    "    B = []\n",
    "    C = []\n",
    "    \n",
    "    countA = 0\n",
    "    countB = 0\n",
    "    countC = 0\n",
    "    errorlist = []  # list of drugs that don't fall in either category\n",
    "    for d in drugs:\n",
    "        if d[0].upper() == 'J':\n",
    "            if int(d[1:]) >= 0 and int(d[1:]) <= 8499:\n",
    "                countA += 1\n",
    "                A.append(d)\n",
    "            elif int(d[1:]) >= 8521 and int(d[1:]) <= 9999:\n",
    "                countB += 1\n",
    "                B.append(d)\n",
    "            else:\n",
    "                errorlist.append(d)\n",
    "        else:\n",
    "            countC += 1\n",
    "            C.append(d)\n",
    "    \n",
    "    print(\"drugs other than chemo: {0}; \\n chemo drugs: {1}; \\n drugs that don't start with J: {2}\".format(countA, countB, countC))\n",
    "    return A, B, C, errorlist"
   ]
  },
  {
   "cell_type": "code",
   "execution_count": 26,
   "metadata": {
    "collapsed": false
   },
   "outputs": [
    {
     "name": "stdout",
     "output_type": "stream",
     "text": [
      "topic  0\n",
      "drugs other than chemo: 15; \n",
      " chemo drugs: 0; \n",
      " drugs that don't start with J: 5\n",
      "\n",
      "\n",
      "topic  1\n",
      "drugs other than chemo: 18; \n",
      " chemo drugs: 0; \n",
      " drugs that don't start with J: 2\n",
      "\n",
      "\n",
      "topic  2\n",
      "drugs other than chemo: 13; \n",
      " chemo drugs: 5; \n",
      " drugs that don't start with J: 2\n",
      "\n",
      "\n",
      "topic  3\n",
      "drugs other than chemo: 13; \n",
      " chemo drugs: 0; \n",
      " drugs that don't start with J: 7\n",
      "\n",
      "\n",
      "topic  4\n",
      "drugs other than chemo: 13; \n",
      " chemo drugs: 5; \n",
      " drugs that don't start with J: 2\n",
      "\n",
      "\n",
      "topic  5\n",
      "drugs other than chemo: 16; \n",
      " chemo drugs: 0; \n",
      " drugs that don't start with J: 4\n",
      "\n",
      "\n"
     ]
    }
   ],
   "source": [
    "for i in range(len(topics_hcpcs)):\n",
    "    print('topic ',i)\n",
    "    nonchemo_drugs, chemo_drugs, other_drugs, error_drugs = drug_category_count(np.array(topics_hcpcs[i])[:,0])\n",
    "    print('\\n')"
   ]
  },
  {
   "cell_type": "markdown",
   "metadata": {},
   "source": [
    "Topics 2 and 4 are the only topics with at least one (actually, 5) chemo drugs in the top 20.  They are also the categories that the most doctors fall under.  What if I restrict the feature space to only chemo drugs (there should only be 31 chemo drugs)?"
   ]
  }
 ],
 "metadata": {
  "anaconda-cloud": {},
  "kernelspec": {
   "display_name": "Python [conda env:medicare_provider_util_payment]",
   "language": "python",
   "name": "conda-env-medicare_provider_util_payment-py"
  },
  "language_info": {
   "codemirror_mode": {
    "name": "ipython",
    "version": 3
   },
   "file_extension": ".py",
   "mimetype": "text/x-python",
   "name": "python",
   "nbconvert_exporter": "python",
   "pygments_lexer": "ipython3",
   "version": "3.5.2"
  }
 },
 "nbformat": 4,
 "nbformat_minor": 1
}
