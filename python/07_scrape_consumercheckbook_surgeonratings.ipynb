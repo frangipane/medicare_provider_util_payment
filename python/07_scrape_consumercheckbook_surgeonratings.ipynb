{
 "cells": [
  {
   "cell_type": "code",
   "execution_count": 34,
   "metadata": {
    "collapsed": false
   },
   "outputs": [],
   "source": [
    "import requests\n",
    "from bs4 import BeautifulSoup\n",
    "from bs4 import SoupStrainer\n",
    "import re\n",
    "import psycopg2\n",
    "import pandas as pd"
   ]
  },
  {
   "cell_type": "code",
   "execution_count": 35,
   "metadata": {
    "collapsed": false
   },
   "outputs": [],
   "source": [
    "from sqlalchemy.ext.declarative import declarative_base\n",
    "from sqlalchemy import Column, Integer, String\n",
    "from sqlalchemy import create_engine\n",
    "from sqlalchemy.orm import sessionmaker"
   ]
  },
  {
   "cell_type": "markdown",
   "metadata": {},
   "source": [
    "## Define DoctorRatings class for scraping `checkbook.org/surgeonratings`"
   ]
  },
  {
   "cell_type": "code",
   "execution_count": 36,
   "metadata": {
    "collapsed": false
   },
   "outputs": [],
   "source": [
    "class DoctorRatings:\n",
    "    def __init__(self, provider_id, zipcode):\n",
    "        self.npi = provider_id\n",
    "        self.zipcode = zipcode\n",
    "        self.name = None\n",
    "        self.address1 = None\n",
    "        self.address2 = None\n",
    "        self.phone = None\n",
    "        self.gender = None\n",
    "        self.recommended_by_doctors = None\n",
    "        self.confidence = None\n",
    "        self.relative_volume = None\n",
    "        self.hospitals = None\n",
    "        self.board_certification = None\n",
    "        self.university = None\n",
    "        self.graduation_year = None\n",
    "        self.internship_residency = None\n",
    "        \n",
    "    def __create_query(self, zip_radius, procedure_id):\n",
    "        \"\"\"Construct URL to scrape checkbook.org/surgeonratings given provider_id and zipcode\"\"\"\n",
    "        base_url = \"http://www.checkbook.org/surgeonratings/default.cfm?action=details\"\n",
    "        query = \"&\".join([base_url, \"npi=\"+self.npi, \"myZip=\"+self.zipcode[:5], \n",
    "                         \"myZipRadius=\"+zip_radius, \"ProcedureID=\"+procedure_id])\n",
    "        return query\n",
    "    \n",
    "    def __parse_pullleft(self, pullleft_list):\n",
    "        \"\"\"parse list returned by .pullleft selector\"\"\"\n",
    "        self.address1 = pullleft_list[0].next.strip()\n",
    "        self.address2 = pullleft_list[0].next.next.string.strip()\n",
    "        self.phone = pullleft_list[1].string.strip()\n",
    "    \n",
    "    def __parse_td_alignCenter(self, td_alignCenter_list):\n",
    "        \"\"\"parse list returned by td.alignCenter selector\"\"\"\n",
    "        self.gender = td_alignCenter_list[1].string.strip()\n",
    "        \n",
    "        self.recommended_by_doctors = ''\n",
    "        if len(td_alignCenter_list[2].contents) > 1:\n",
    "            if td_alignCenter_list[2].contents[1].string.strip().lower() == 'yes':\n",
    "                m = re.match(r'\\d+', td_alignCenter_list[2].contents[3].next.strip())\n",
    "                self.recommended_by_doctors = m.group(0)\n",
    "        \n",
    "        confidence_dict = {b'---':'', \n",
    "                           b'\\xe2\\x98\\x85\\xe2\\x98\\x85\\xe2\\x98\\x85':3, \n",
    "                           b'\\xe2\\x98\\x85\\xe2\\x98\\x85\\xe2\\x98\\x85\\xe2\\x98\\x85':4, \n",
    "                           b'\\xe2\\x98\\x85\\xe2\\x98\\x85\\xe2\\x98\\x85\\xe2\\x98\\x85\\xe2\\x98\\x85':5}\n",
    "        stars = td_alignCenter_list[3].next.next.string.strip().encode('utf8')       \n",
    "        self.confidence = confidence_dict[stars]\n",
    "        \n",
    "        self.relative_volume = td_alignCenter_list[4].string.strip()\n",
    "        self.university = td_alignCenter_list[5].next.string.strip(',').strip()\n",
    "        self.graduation_year = td_alignCenter_list[5].contents[1].string.strip()\n",
    "        \n",
    "        if td_alignCenter_list[6]:\n",
    "            internships = []\n",
    "            for item in td_alignCenter_list[6].select('div'):\n",
    "                internships.append(item.string.strip(',').strip())\n",
    "            self.internship_residency = '; '.join(internships)\n",
    "    \n",
    "    def __parse_hospitals(self, alist):\n",
    "        \"\"\"parse list returned by .hospitals li selector\"\"\"\n",
    "        if alist:\n",
    "            hospitals = []\n",
    "            for item in alist:\n",
    "                hospitals.append(item.contents[1].strip())\n",
    "            self.hospitals = '; '.join(hospitals)\n",
    "        else:\n",
    "            self.hospitals = ''\n",
    "    \n",
    "    def __parse_certificate(self, alist):\n",
    "        \"\"\"parse list returned by .certificate li selector\"\"\"\n",
    "        if alist:\n",
    "            certificates = []\n",
    "            for item in alist:\n",
    "                certificates.append(item.contents[0].strip())\n",
    "            self.board_certification = '; '.join(certificates)\n",
    "        else:\n",
    "            self.board_certification = ''\n",
    "    \n",
    "    def scrape(self, zip_radius='500', procedure_id = 'P10'):\n",
    "        \"\"\"Scrape doctor attributes from checkbook.org/surgeonratings\"\"\"\n",
    "        href = self.__create_query(zip_radius, procedure_id)\n",
    "        \n",
    "        try:\n",
    "            r = requests.get(href)\n",
    "            soup = BeautifulSoup(r.text, \"html.parser\")\n",
    "            \n",
    "            ## .oddColumn selector\n",
    "            self.name = soup.select(\".oddColumn\")[0].contents[0].strip()\n",
    "            \n",
    "            ## .hospitals li selector\n",
    "            self.__parse_hospitals(soup.select(\".hospitals li\"))\n",
    "            \n",
    "            ## .certificate li selector\n",
    "            self.__parse_certificate(soup.select(\".certificate li\"))\n",
    "            \n",
    "            ## .pullleft selector\n",
    "            self.__parse_pullleft(soup.select(\".pullleft\"))\n",
    "            \n",
    "            ## td.alignCenter selector\n",
    "            self.__parse_td_alignCenter(soup.select(\"td.alignCenter\"))\n",
    "            return True\n",
    "        except:\n",
    "            return []"
   ]
  },
  {
   "cell_type": "markdown",
   "metadata": {},
   "source": [
    "## Declare a mapping for SQLAlchemy"
   ]
  },
  {
   "cell_type": "code",
   "execution_count": 37,
   "metadata": {
    "collapsed": true
   },
   "outputs": [],
   "source": [
    "Base = declarative_base()"
   ]
  },
  {
   "cell_type": "code",
   "execution_count": 38,
   "metadata": {
    "collapsed": false
   },
   "outputs": [],
   "source": [
    "class Rating(Base):\n",
    "    __tablename__ = 'doctor_ratings'\n",
    "    \n",
    "    npi = Column(String(10), primary_key = True)\n",
    "    name = Column(String(100))\n",
    "    address1 = Column(String(55))\n",
    "    address2 = Column(String(70))\n",
    "    board_certification = Column(String(70))\n",
    "    confidence = Column(Integer)\n",
    "    gender = Column(String(6))\n",
    "    graduation_year = Column(String(4))\n",
    "    hospitals = Column(String(500))\n",
    "    internship_residency = Column(String(100))\n",
    "    phone = Column(String(12))\n",
    "    recommended_by_doctors = Column(String(3))\n",
    "    relative_volume = Column(String(15))\n",
    "    university = Column(String(256))\n",
    "    zipcode = Column(String(20))"
   ]
  },
  {
   "cell_type": "markdown",
   "metadata": {
    "collapsed": true
   },
   "source": [
    "## Read in npi providers from summary database"
   ]
  },
  {
   "cell_type": "code",
   "execution_count": 39,
   "metadata": {
    "collapsed": false
   },
   "outputs": [],
   "source": [
    "## connect to database\n",
    "con = psycopg2.connect(\"dbname='doctordb' user='cathy'\")"
   ]
  },
  {
   "cell_type": "code",
   "execution_count": 40,
   "metadata": {
    "collapsed": false
   },
   "outputs": [
    {
     "data": {
      "text/plain": [
       "(21300, 7)"
      ]
     },
     "execution_count": 40,
     "metadata": {},
     "output_type": "execute_result"
    }
   ],
   "source": [
    "## Read in orthopedic surgeon info from summary database\n",
    "q= \"\"\"SELECT npi\n",
    "            , nppes_provider_last_org_name\n",
    "            , nppes_provider_first_name\n",
    "            , nppes_provider_mi\n",
    "            , nppes_provider_city\n",
    "            , nppes_provider_zip\n",
    "            , nppes_provider_state\n",
    "        FROM summary \n",
    "        WHERE provider_type = 'Orthopedic Surgery'\n",
    "        AND nppes_provider_country = 'US'\"\"\"\n",
    "summary_df = pd.read_sql_query(q, con=con)\n",
    "summary_df.shape"
   ]
  },
  {
   "cell_type": "code",
   "execution_count": 41,
   "metadata": {
    "collapsed": false
   },
   "outputs": [
    {
     "data": {
      "text/html": [
       "<div>\n",
       "<table border=\"1\" class=\"dataframe\">\n",
       "  <thead>\n",
       "    <tr style=\"text-align: right;\">\n",
       "      <th></th>\n",
       "      <th>npi</th>\n",
       "      <th>nppes_provider_last_org_name</th>\n",
       "      <th>nppes_provider_first_name</th>\n",
       "      <th>nppes_provider_mi</th>\n",
       "      <th>nppes_provider_city</th>\n",
       "      <th>nppes_provider_zip</th>\n",
       "      <th>nppes_provider_state</th>\n",
       "    </tr>\n",
       "  </thead>\n",
       "  <tbody>\n",
       "    <tr>\n",
       "      <th>0</th>\n",
       "      <td>1003001785</td>\n",
       "      <td>JONES</td>\n",
       "      <td>JACLYN</td>\n",
       "      <td>C</td>\n",
       "      <td>CLEARWATER</td>\n",
       "      <td>337653305</td>\n",
       "      <td>FL</td>\n",
       "    </tr>\n",
       "    <tr>\n",
       "      <th>1</th>\n",
       "      <td>1003002890</td>\n",
       "      <td>HAMMAN</td>\n",
       "      <td>DANIEL</td>\n",
       "      <td>R</td>\n",
       "      <td>BRIGHTON</td>\n",
       "      <td>806014004</td>\n",
       "      <td>CO</td>\n",
       "    </tr>\n",
       "    <tr>\n",
       "      <th>2</th>\n",
       "      <td>1003010919</td>\n",
       "      <td>FREDERICKS</td>\n",
       "      <td>PETER</td>\n",
       "      <td>D</td>\n",
       "      <td>COLORADO SPRINGS</td>\n",
       "      <td>809207835</td>\n",
       "      <td>CO</td>\n",
       "    </tr>\n",
       "  </tbody>\n",
       "</table>\n",
       "</div>"
      ],
      "text/plain": [
       "          npi nppes_provider_last_org_name nppes_provider_first_name  \\\n",
       "0  1003001785                        JONES                    JACLYN   \n",
       "1  1003002890                       HAMMAN                    DANIEL   \n",
       "2  1003010919                   FREDERICKS                     PETER   \n",
       "\n",
       "  nppes_provider_mi nppes_provider_city nppes_provider_zip  \\\n",
       "0                 C          CLEARWATER          337653305   \n",
       "1                 R            BRIGHTON          806014004   \n",
       "2                 D    COLORADO SPRINGS          809207835   \n",
       "\n",
       "  nppes_provider_state  \n",
       "0                   FL  \n",
       "1                   CO  \n",
       "2                   CO  "
      ]
     },
     "execution_count": 41,
     "metadata": {},
     "output_type": "execute_result"
    }
   ],
   "source": [
    "summary_df.head(3)"
   ]
  },
  {
   "cell_type": "code",
   "execution_count": 42,
   "metadata": {
    "collapsed": false
   },
   "outputs": [
    {
     "name": "stdout",
     "output_type": "stream",
     "text": [
      "length: 21300\n",
      "number of zips not 9 digits long: 2218\n"
     ]
    }
   ],
   "source": [
    "## are all zips 9 digits long?\n",
    "irregular_zip_mask = summary_df['nppes_provider_zip'].map(lambda x: 1 if len(x)!=9 else 0)\n",
    "print('length: {0}'.format(len(irregular_zip_mask)))\n",
    "print('number of zips not 9 digits long: {0}'.format(irregular_zip_mask.sum()))"
   ]
  },
  {
   "cell_type": "code",
   "execution_count": 43,
   "metadata": {
    "collapsed": false
   },
   "outputs": [
    {
     "data": {
      "text/html": [
       "<div>\n",
       "<table border=\"1\" class=\"dataframe\">\n",
       "  <thead>\n",
       "    <tr style=\"text-align: right;\">\n",
       "      <th></th>\n",
       "      <th>npi</th>\n",
       "      <th>nppes_provider_zip</th>\n",
       "    </tr>\n",
       "  </thead>\n",
       "  <tbody>\n",
       "    <tr>\n",
       "      <th>17</th>\n",
       "      <td>1003036997</td>\n",
       "      <td>64057</td>\n",
       "    </tr>\n",
       "    <tr>\n",
       "      <th>26</th>\n",
       "      <td>1003070327</td>\n",
       "      <td>02114</td>\n",
       "    </tr>\n",
       "    <tr>\n",
       "      <th>34</th>\n",
       "      <td>1003112244</td>\n",
       "      <td>11201</td>\n",
       "    </tr>\n",
       "  </tbody>\n",
       "</table>\n",
       "</div>"
      ],
      "text/plain": [
       "           npi nppes_provider_zip\n",
       "17  1003036997              64057\n",
       "26  1003070327              02114\n",
       "34  1003112244              11201"
      ]
     },
     "execution_count": 43,
     "metadata": {},
     "output_type": "execute_result"
    }
   ],
   "source": [
    "summary_df.loc[irregular_zip_mask==1, ['npi','nppes_provider_zip']].head(3)"
   ]
  },
  {
   "cell_type": "code",
   "execution_count": 44,
   "metadata": {
    "collapsed": false
   },
   "outputs": [
    {
     "data": {
      "text/plain": [
       "0"
      ]
     },
     "execution_count": 44,
     "metadata": {},
     "output_type": "execute_result"
    }
   ],
   "source": [
    "## are all the irregular zips 5 digits long?\n",
    "summary_df.loc[irregular_zip_mask==1, 'nppes_provider_zip'].map(lambda x: 1 if len(x) != 5 else 0).sum()"
   ]
  },
  {
   "cell_type": "markdown",
   "metadata": {},
   "source": [
    "So we can just take first 5 digits of all zips without a problem."
   ]
  },
  {
   "cell_type": "code",
   "execution_count": 45,
   "metadata": {
    "collapsed": true
   },
   "outputs": [],
   "source": [
    "if con:\n",
    "    con.close()"
   ]
  },
  {
   "cell_type": "markdown",
   "metadata": {},
   "source": [
    "## Create table in database"
   ]
  },
  {
   "cell_type": "code",
   "execution_count": 46,
   "metadata": {
    "collapsed": false
   },
   "outputs": [],
   "source": [
    "engine = create_engine('postgresql://%s@localhost/%s'%('cathy','doctordb'))\n",
    "\n",
    "#print(database_exists(engine.url))"
   ]
  },
  {
   "cell_type": "code",
   "execution_count": 47,
   "metadata": {
    "collapsed": true
   },
   "outputs": [],
   "source": [
    "## create table\n",
    "Base.metadata.create_all(engine)"
   ]
  },
  {
   "cell_type": "markdown",
   "metadata": {
    "collapsed": true
   },
   "source": [
    "## Create session"
   ]
  },
  {
   "cell_type": "code",
   "execution_count": 48,
   "metadata": {
    "collapsed": true
   },
   "outputs": [],
   "source": [
    "Session = sessionmaker(bind=engine)"
   ]
  },
  {
   "cell_type": "code",
   "execution_count": 49,
   "metadata": {
    "collapsed": true
   },
   "outputs": [],
   "source": [
    "## instantiate session\n",
    "session = Session()"
   ]
  },
  {
   "cell_type": "markdown",
   "metadata": {},
   "source": [
    "## Scrape doctors"
   ]
  },
  {
   "cell_type": "code",
   "execution_count": 53,
   "metadata": {
    "collapsed": true
   },
   "outputs": [],
   "source": [
    "import time"
   ]
  },
  {
   "cell_type": "code",
   "execution_count": null,
   "metadata": {
    "collapsed": true
   },
   "outputs": [],
   "source": [
    "count_notfound = 0\n",
    "count_found = 0\n",
    "\n",
    "toc = time.time()\n",
    "for i in range(len(summary_df)):\n",
    "    if i % 300 == 0:\n",
    "        print(i)\n",
    "        print(\"count not found: {0}\".format(count_notfound))\n",
    "        print(\"count found: {0}\".format(count_found))\n",
    "        \n",
    "    doc = DoctorRatings(summary_df.loc[i,'npi'], summary_df.loc[i,'nppes_provider_zip'])\n",
    "    doc_scraped = doc.scrape()\n",
    "    \n",
    "    if doc_scraped:\n",
    "        count_found += 1\n",
    "        ## Add doctor info to table\n",
    "        arating = Rating(**vars(doc))\n",
    "        \n",
    "        try:\n",
    "            session.add(arating)\n",
    "            session.commit()\n",
    "        except:\n",
    "            session.rollback()\n",
    "            raise        \n",
    "    else:\n",
    "        count_notfound += 1\n",
    "session.close()\n",
    "\n",
    "tic = time.time()"
   ]
  },
  {
   "cell_type": "code",
   "execution_count": 50,
   "metadata": {
    "collapsed": false
   },
   "outputs": [],
   "source": [
    "print('scraped and added to database in {0}s'.format(tic-toc))"
   ]
  },
  {
   "cell_type": "code",
   "execution_count": null,
   "metadata": {
    "collapsed": true
   },
   "outputs": [],
   "source": [
    "engine.dispose()"
   ]
  }
 ],
 "metadata": {
  "anaconda-cloud": {},
  "kernelspec": {
   "display_name": "Python [conda env:medicare_provider_util_payment]",
   "language": "python",
   "name": "conda-env-medicare_provider_util_payment-py"
  },
  "language_info": {
   "codemirror_mode": {
    "name": "ipython",
    "version": 3
   },
   "file_extension": ".py",
   "mimetype": "text/x-python",
   "name": "python",
   "nbconvert_exporter": "python",
   "pygments_lexer": "ipython3",
   "version": "3.5.2"
  }
 },
 "nbformat": 4,
 "nbformat_minor": 1
}
