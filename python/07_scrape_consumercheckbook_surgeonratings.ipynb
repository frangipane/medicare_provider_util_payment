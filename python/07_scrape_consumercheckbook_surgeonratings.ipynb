{
 "cells": [
  {
   "cell_type": "code",
   "execution_count": 1,
   "metadata": {
    "collapsed": false
   },
   "outputs": [],
   "source": [
    "import requests\n",
    "from bs4 import BeautifulSoup\n",
    "from bs4 import SoupStrainer\n",
    "import re\n",
    "import psycopg2\n",
    "import pandas as pd"
   ]
  },
  {
   "cell_type": "code",
   "execution_count": 2,
   "metadata": {
    "collapsed": false
   },
   "outputs": [],
   "source": [
    "from sqlalchemy.ext.declarative import declarative_base\n",
    "from sqlalchemy import Column, Integer, String\n",
    "from sqlalchemy import create_engine\n",
    "from sqlalchemy.orm import sessionmaker, validates"
   ]
  },
  {
   "cell_type": "markdown",
   "metadata": {},
   "source": [
    "## Define DoctorRatings class for scraping `checkbook.org/surgeonratings`"
   ]
  },
  {
   "cell_type": "code",
   "execution_count": 3,
   "metadata": {
    "collapsed": false
   },
   "outputs": [],
   "source": [
    "class DoctorRatings:\n",
    "    def __init__(self, provider_id, zipcode):\n",
    "        self.npi = provider_id\n",
    "        self.zipcode = zipcode\n",
    "        self.name = None\n",
    "        self.address1 = None\n",
    "        self.address2 = None\n",
    "        self.phone = None\n",
    "        self.gender = None\n",
    "        self.recommended_by_doctors = None\n",
    "        self.confidence = None\n",
    "        self.relative_volume = None\n",
    "        self.hospitals = None\n",
    "        self.board_certification = None\n",
    "        self.university = None\n",
    "        self.graduation_year = None\n",
    "        self.internship_residency = None\n",
    "        \n",
    "    def __create_query(self, zip_radius, procedure_id):\n",
    "        \"\"\"Construct URL to scrape checkbook.org/surgeonratings given provider_id and zipcode\"\"\"\n",
    "        base_url = \"http://www.checkbook.org/surgeonratings/default.cfm?action=details\"\n",
    "        query = \"&\".join([base_url, \"npi=\"+self.npi, \"myZip=\"+self.zipcode[:5], \n",
    "                         \"myZipRadius=\"+zip_radius, \"ProcedureID=\"+procedure_id])\n",
    "        return query\n",
    "    \n",
    "    def __parse_pullleft(self, pullleft_list):\n",
    "        \"\"\"parse list returned by .pullleft selector\"\"\"\n",
    "        self.address1 = pullleft_list[0].next.strip()\n",
    "        self.address2 = pullleft_list[0].next.next.string.strip()\n",
    "        self.phone = pullleft_list[1].string.strip()\n",
    "    \n",
    "    def __parse_td_alignCenter(self, td_alignCenter_list):\n",
    "        \"\"\"parse list returned by td.alignCenter selector\"\"\"\n",
    "        self.gender = td_alignCenter_list[1].string.strip()\n",
    "        \n",
    "        self.recommended_by_doctors = ''\n",
    "        if len(td_alignCenter_list[2].contents) > 1:\n",
    "            if td_alignCenter_list[2].contents[1].string.strip().lower() == 'yes':\n",
    "                m = re.match(r'\\d+', td_alignCenter_list[2].contents[3].next.strip())\n",
    "                self.recommended_by_doctors = m.group(0)\n",
    "        \n",
    "        confidence_dict = {b'---':'', \n",
    "                           b'\\xe2\\x98\\x85\\xe2\\x98\\x85\\xe2\\x98\\x85':3, \n",
    "                           b'\\xe2\\x98\\x85\\xe2\\x98\\x85\\xe2\\x98\\x85\\xe2\\x98\\x85':4, \n",
    "                           b'\\xe2\\x98\\x85\\xe2\\x98\\x85\\xe2\\x98\\x85\\xe2\\x98\\x85\\xe2\\x98\\x85':5}\n",
    "        stars = td_alignCenter_list[3].next.next.string.strip().encode('utf8')       \n",
    "        self.confidence = confidence_dict[stars]\n",
    "        \n",
    "        self.relative_volume = td_alignCenter_list[4].string.strip()\n",
    "        self.university = td_alignCenter_list[5].next.string.strip(',').strip()\n",
    "        self.graduation_year = td_alignCenter_list[5].contents[1].string.strip()\n",
    "        \n",
    "        if td_alignCenter_list[6]:\n",
    "            internships = []\n",
    "            for item in td_alignCenter_list[6].select('div'):\n",
    "                internships.append(item.string.strip(',').strip())\n",
    "            self.internship_residency = '; '.join(internships)\n",
    "    \n",
    "    def __parse_hospitals(self, alist):\n",
    "        \"\"\"parse list returned by .hospitals li selector\"\"\"\n",
    "        if alist:\n",
    "            hospitals = []\n",
    "            for item in alist:\n",
    "                hospitals.append(item.contents[1].strip())\n",
    "            self.hospitals = '; '.join(hospitals)\n",
    "        else:\n",
    "            self.hospitals = ''\n",
    "    \n",
    "    def __parse_certificate(self, alist):\n",
    "        \"\"\"parse list returned by .certificate li selector\"\"\"\n",
    "        if alist:\n",
    "            certificates = []\n",
    "            for item in alist:\n",
    "                certificates.append(item.contents[0].strip())\n",
    "            self.board_certification = '; '.join(certificates)\n",
    "        else:\n",
    "            self.board_certification = ''\n",
    "    \n",
    "    def scrape(self, zip_radius='500', procedure_id = 'P10'):\n",
    "        \"\"\"Scrape doctor attributes from checkbook.org/surgeonratings\"\"\"\n",
    "        href = self.__create_query(zip_radius, procedure_id)\n",
    "        \n",
    "        try:\n",
    "            r = requests.get(href)\n",
    "            soup = BeautifulSoup(r.text, \"html.parser\")\n",
    "            \n",
    "            ## .oddColumn selector\n",
    "            self.name = soup.select(\".oddColumn\")[0].contents[0].strip()\n",
    "            \n",
    "            ## .hospitals li selector\n",
    "            self.__parse_hospitals(soup.select(\".hospitals li\"))\n",
    "            \n",
    "            ## .certificate li selector\n",
    "            self.__parse_certificate(soup.select(\".certificate li\"))\n",
    "            \n",
    "            ## .pullleft selector\n",
    "            self.__parse_pullleft(soup.select(\".pullleft\"))\n",
    "            \n",
    "            ## td.alignCenter selector\n",
    "            self.__parse_td_alignCenter(soup.select(\"td.alignCenter\"))\n",
    "            return True\n",
    "        except:\n",
    "            return []"
   ]
  },
  {
   "cell_type": "markdown",
   "metadata": {},
   "source": [
    "## Declare a mapping for SQLAlchemy"
   ]
  },
  {
   "cell_type": "code",
   "execution_count": 4,
   "metadata": {
    "collapsed": true
   },
   "outputs": [],
   "source": [
    "Base = declarative_base()"
   ]
  },
  {
   "cell_type": "code",
   "execution_count": 5,
   "metadata": {
    "collapsed": false
   },
   "outputs": [],
   "source": [
    "class Rating(Base):\n",
    "    __tablename__ = 'doctor_ratings'\n",
    "    \n",
    "    npi = Column(String(10), primary_key = True)\n",
    "    name = Column(String(100))\n",
    "    address1 = Column(String(55))\n",
    "    address2 = Column(String(70))\n",
    "    board_certification = Column(String(70))\n",
    "    confidence = Column(Integer)\n",
    "    gender = Column(String(6))\n",
    "    graduation_year = Column(String(4))\n",
    "    hospitals = Column(String(500))\n",
    "    internship_residency = Column(String(100))\n",
    "    phone = Column(String(12))\n",
    "    recommended_by_doctors = Column(String(3))\n",
    "    relative_volume = Column(String(15))\n",
    "    university = Column(String(256))\n",
    "    zipcode = Column(String(20))\n",
    "    \n",
    "    @validates('name','address1','address2','board_certification','hospitals','internship_residency','university')\n",
    "    def validate_code(self, key, value):\n",
    "        max_len = getattr(self.__class__, key).prop.columns[0].type.length\n",
    "        if value and len(value) > max_len:\n",
    "            return value[:max_len]\n",
    "        return value"
   ]
  },
  {
   "cell_type": "markdown",
   "metadata": {
    "collapsed": true
   },
   "source": [
    "## Read in npi providers from summary database"
   ]
  },
  {
   "cell_type": "code",
   "execution_count": 6,
   "metadata": {
    "collapsed": false
   },
   "outputs": [],
   "source": [
    "## connect to database\n",
    "con = psycopg2.connect(\"dbname='doctordb' user='cathy'\")"
   ]
  },
  {
   "cell_type": "code",
   "execution_count": 7,
   "metadata": {
    "collapsed": false
   },
   "outputs": [
    {
     "data": {
      "text/plain": [
       "(21300, 7)"
      ]
     },
     "execution_count": 7,
     "metadata": {},
     "output_type": "execute_result"
    }
   ],
   "source": [
    "## Read in orthopedic surgeon info from summary database\n",
    "q= \"\"\"SELECT npi\n",
    "            , nppes_provider_last_org_name\n",
    "            , nppes_provider_first_name\n",
    "            , nppes_provider_mi\n",
    "            , nppes_provider_city\n",
    "            , nppes_provider_zip\n",
    "            , nppes_provider_state\n",
    "        FROM summary \n",
    "        WHERE provider_type = 'Orthopedic Surgery'\n",
    "        AND nppes_provider_country = 'US'\"\"\"\n",
    "summary_df = pd.read_sql_query(q, con=con)\n",
    "summary_df.shape"
   ]
  },
  {
   "cell_type": "code",
   "execution_count": 8,
   "metadata": {
    "collapsed": false
   },
   "outputs": [
    {
     "data": {
      "text/html": [
       "<div>\n",
       "<table border=\"1\" class=\"dataframe\">\n",
       "  <thead>\n",
       "    <tr style=\"text-align: right;\">\n",
       "      <th></th>\n",
       "      <th>npi</th>\n",
       "      <th>nppes_provider_last_org_name</th>\n",
       "      <th>nppes_provider_first_name</th>\n",
       "      <th>nppes_provider_mi</th>\n",
       "      <th>nppes_provider_city</th>\n",
       "      <th>nppes_provider_zip</th>\n",
       "      <th>nppes_provider_state</th>\n",
       "    </tr>\n",
       "  </thead>\n",
       "  <tbody>\n",
       "    <tr>\n",
       "      <th>0</th>\n",
       "      <td>1003001785</td>\n",
       "      <td>JONES</td>\n",
       "      <td>JACLYN</td>\n",
       "      <td>C</td>\n",
       "      <td>CLEARWATER</td>\n",
       "      <td>337653305</td>\n",
       "      <td>FL</td>\n",
       "    </tr>\n",
       "    <tr>\n",
       "      <th>1</th>\n",
       "      <td>1003002890</td>\n",
       "      <td>HAMMAN</td>\n",
       "      <td>DANIEL</td>\n",
       "      <td>R</td>\n",
       "      <td>BRIGHTON</td>\n",
       "      <td>806014004</td>\n",
       "      <td>CO</td>\n",
       "    </tr>\n",
       "    <tr>\n",
       "      <th>2</th>\n",
       "      <td>1003010919</td>\n",
       "      <td>FREDERICKS</td>\n",
       "      <td>PETER</td>\n",
       "      <td>D</td>\n",
       "      <td>COLORADO SPRINGS</td>\n",
       "      <td>809207835</td>\n",
       "      <td>CO</td>\n",
       "    </tr>\n",
       "  </tbody>\n",
       "</table>\n",
       "</div>"
      ],
      "text/plain": [
       "          npi nppes_provider_last_org_name nppes_provider_first_name  \\\n",
       "0  1003001785                        JONES                    JACLYN   \n",
       "1  1003002890                       HAMMAN                    DANIEL   \n",
       "2  1003010919                   FREDERICKS                     PETER   \n",
       "\n",
       "  nppes_provider_mi nppes_provider_city nppes_provider_zip  \\\n",
       "0                 C          CLEARWATER          337653305   \n",
       "1                 R            BRIGHTON          806014004   \n",
       "2                 D    COLORADO SPRINGS          809207835   \n",
       "\n",
       "  nppes_provider_state  \n",
       "0                   FL  \n",
       "1                   CO  \n",
       "2                   CO  "
      ]
     },
     "execution_count": 8,
     "metadata": {},
     "output_type": "execute_result"
    }
   ],
   "source": [
    "summary_df.head(3)"
   ]
  },
  {
   "cell_type": "code",
   "execution_count": 9,
   "metadata": {
    "collapsed": false
   },
   "outputs": [
    {
     "name": "stdout",
     "output_type": "stream",
     "text": [
      "length: 21300\n",
      "number of zips not 9 digits long: 2218\n"
     ]
    }
   ],
   "source": [
    "## are all zips 9 digits long?\n",
    "irregular_zip_mask = summary_df['nppes_provider_zip'].map(lambda x: 1 if len(x)!=9 else 0)\n",
    "print('length: {0}'.format(len(irregular_zip_mask)))\n",
    "print('number of zips not 9 digits long: {0}'.format(irregular_zip_mask.sum()))"
   ]
  },
  {
   "cell_type": "code",
   "execution_count": 10,
   "metadata": {
    "collapsed": false
   },
   "outputs": [
    {
     "data": {
      "text/html": [
       "<div>\n",
       "<table border=\"1\" class=\"dataframe\">\n",
       "  <thead>\n",
       "    <tr style=\"text-align: right;\">\n",
       "      <th></th>\n",
       "      <th>npi</th>\n",
       "      <th>nppes_provider_zip</th>\n",
       "    </tr>\n",
       "  </thead>\n",
       "  <tbody>\n",
       "    <tr>\n",
       "      <th>17</th>\n",
       "      <td>1003036997</td>\n",
       "      <td>64057</td>\n",
       "    </tr>\n",
       "    <tr>\n",
       "      <th>26</th>\n",
       "      <td>1003070327</td>\n",
       "      <td>02114</td>\n",
       "    </tr>\n",
       "    <tr>\n",
       "      <th>34</th>\n",
       "      <td>1003112244</td>\n",
       "      <td>11201</td>\n",
       "    </tr>\n",
       "  </tbody>\n",
       "</table>\n",
       "</div>"
      ],
      "text/plain": [
       "           npi nppes_provider_zip\n",
       "17  1003036997              64057\n",
       "26  1003070327              02114\n",
       "34  1003112244              11201"
      ]
     },
     "execution_count": 10,
     "metadata": {},
     "output_type": "execute_result"
    }
   ],
   "source": [
    "summary_df.loc[irregular_zip_mask==1, ['npi','nppes_provider_zip']].head(3)"
   ]
  },
  {
   "cell_type": "code",
   "execution_count": 11,
   "metadata": {
    "collapsed": false
   },
   "outputs": [
    {
     "data": {
      "text/plain": [
       "0"
      ]
     },
     "execution_count": 11,
     "metadata": {},
     "output_type": "execute_result"
    }
   ],
   "source": [
    "## are all the irregular zips 5 digits long?\n",
    "summary_df.loc[irregular_zip_mask==1, 'nppes_provider_zip'].map(lambda x: 1 if len(x) != 5 else 0).sum()"
   ]
  },
  {
   "cell_type": "markdown",
   "metadata": {},
   "source": [
    "So we can just take first 5 digits of all zips without a problem."
   ]
  },
  {
   "cell_type": "code",
   "execution_count": 12,
   "metadata": {
    "collapsed": true
   },
   "outputs": [],
   "source": [
    "if con:\n",
    "    con.close()"
   ]
  },
  {
   "cell_type": "markdown",
   "metadata": {},
   "source": [
    "## Create table in database"
   ]
  },
  {
   "cell_type": "code",
   "execution_count": 13,
   "metadata": {
    "collapsed": false
   },
   "outputs": [],
   "source": [
    "engine = create_engine('postgresql://%s@localhost/%s'%('cathy','doctordb'))\n",
    "\n",
    "#print(database_exists(engine.url))"
   ]
  },
  {
   "cell_type": "code",
   "execution_count": 14,
   "metadata": {
    "collapsed": true
   },
   "outputs": [],
   "source": [
    "## create table\n",
    "Base.metadata.create_all(engine)"
   ]
  },
  {
   "cell_type": "markdown",
   "metadata": {
    "collapsed": true
   },
   "source": [
    "## Create session"
   ]
  },
  {
   "cell_type": "code",
   "execution_count": 15,
   "metadata": {
    "collapsed": true
   },
   "outputs": [],
   "source": [
    "Session = sessionmaker(bind=engine)"
   ]
  },
  {
   "cell_type": "code",
   "execution_count": 16,
   "metadata": {
    "collapsed": true
   },
   "outputs": [],
   "source": [
    "## instantiate session\n",
    "session = Session()"
   ]
  },
  {
   "cell_type": "markdown",
   "metadata": {},
   "source": [
    "## Scrape doctors"
   ]
  },
  {
   "cell_type": "code",
   "execution_count": 17,
   "metadata": {
    "collapsed": true
   },
   "outputs": [],
   "source": [
    "import time"
   ]
  },
  {
   "cell_type": "code",
   "execution_count": 18,
   "metadata": {
    "collapsed": false
   },
   "outputs": [
    {
     "name": "stdout",
     "output_type": "stream",
     "text": [
      "0\n",
      "count not found: 0\n",
      "count found: 0\n",
      "300\n",
      "count not found: 250\n",
      "count found: 50\n",
      "600\n",
      "count not found: 491\n",
      "count found: 109\n",
      "900\n",
      "count not found: 748\n",
      "count found: 152\n",
      "1200\n",
      "count not found: 987\n",
      "count found: 213\n",
      "1500\n",
      "count not found: 1250\n",
      "count found: 250\n",
      "1800\n",
      "count not found: 1496\n",
      "count found: 304\n",
      "2100\n",
      "count not found: 1733\n",
      "count found: 367\n",
      "2400\n",
      "count not found: 1981\n",
      "count found: 419\n",
      "2700\n",
      "count not found: 2226\n",
      "count found: 474\n",
      "3000\n",
      "count not found: 2484\n",
      "count found: 516\n",
      "3300\n",
      "count not found: 2735\n",
      "count found: 565\n",
      "3600\n",
      "count not found: 2986\n",
      "count found: 614\n",
      "3900\n",
      "count not found: 3233\n",
      "count found: 667\n",
      "4200\n",
      "count not found: 3470\n",
      "count found: 730\n",
      "4500\n",
      "count not found: 3724\n",
      "count found: 776\n",
      "4800\n",
      "count not found: 3970\n",
      "count found: 830\n",
      "5100\n",
      "count not found: 4206\n",
      "count found: 894\n",
      "5400\n",
      "count not found: 4465\n",
      "count found: 935\n",
      "5700\n",
      "count not found: 4706\n",
      "count found: 994\n",
      "6000\n",
      "count not found: 4965\n",
      "count found: 1035\n",
      "6300\n",
      "count not found: 5209\n",
      "count found: 1091\n",
      "6600\n",
      "count not found: 5450\n",
      "count found: 1150\n",
      "6900\n",
      "count not found: 5694\n",
      "count found: 1206\n",
      "7200\n",
      "count not found: 5950\n",
      "count found: 1250\n",
      "7500\n",
      "count not found: 6208\n",
      "count found: 1292\n",
      "7800\n",
      "count not found: 6461\n",
      "count found: 1339\n",
      "8100\n",
      "count not found: 6717\n",
      "count found: 1383\n",
      "8400\n",
      "count not found: 6954\n",
      "count found: 1446\n",
      "8700\n",
      "count not found: 7210\n",
      "count found: 1490\n",
      "9000\n",
      "count not found: 7451\n",
      "count found: 1549\n",
      "9300\n",
      "count not found: 7701\n",
      "count found: 1599\n",
      "9600\n",
      "count not found: 7952\n",
      "count found: 1648\n",
      "9900\n",
      "count not found: 8200\n",
      "count found: 1700\n",
      "10200\n",
      "count not found: 8450\n",
      "count found: 1750\n",
      "10500\n",
      "count not found: 8709\n",
      "count found: 1791\n",
      "10800\n",
      "count not found: 8963\n",
      "count found: 1837\n",
      "11100\n",
      "count not found: 9220\n",
      "count found: 1880\n",
      "11400\n",
      "count not found: 9465\n",
      "count found: 1935\n",
      "11700\n",
      "count not found: 9712\n",
      "count found: 1988\n",
      "12000\n",
      "count not found: 9971\n",
      "count found: 2029\n",
      "12300\n",
      "count not found: 10218\n",
      "count found: 2082\n",
      "12600\n",
      "count not found: 10470\n",
      "count found: 2130\n",
      "12900\n",
      "count not found: 10714\n",
      "count found: 2186\n",
      "13200\n",
      "count not found: 10959\n",
      "count found: 2241\n",
      "13500\n",
      "count not found: 11196\n",
      "count found: 2304\n",
      "13800\n",
      "count not found: 11450\n",
      "count found: 2350\n",
      "14100\n",
      "count not found: 11698\n",
      "count found: 2402\n",
      "14400\n",
      "count not found: 11944\n",
      "count found: 2456\n",
      "14700\n",
      "count not found: 12202\n",
      "count found: 2498\n",
      "15000\n",
      "count not found: 12459\n",
      "count found: 2541\n",
      "15300\n",
      "count not found: 12714\n",
      "count found: 2586\n",
      "15600\n",
      "count not found: 12967\n",
      "count found: 2633\n",
      "15900\n",
      "count not found: 13228\n",
      "count found: 2672\n",
      "16200\n",
      "count not found: 13480\n",
      "count found: 2720\n",
      "16500\n",
      "count not found: 13724\n",
      "count found: 2776\n",
      "16800\n",
      "count not found: 13977\n",
      "count found: 2823\n",
      "17100\n",
      "count not found: 14227\n",
      "count found: 2873\n",
      "17400\n",
      "count not found: 14479\n",
      "count found: 2921\n",
      "17700\n",
      "count not found: 14725\n",
      "count found: 2975\n",
      "18000\n",
      "count not found: 14971\n",
      "count found: 3029\n",
      "18300\n",
      "count not found: 15222\n",
      "count found: 3078\n",
      "18600\n",
      "count not found: 15483\n",
      "count found: 3117\n",
      "18900\n",
      "count not found: 15732\n",
      "count found: 3168\n",
      "19200\n",
      "count not found: 15988\n",
      "count found: 3212\n",
      "19500\n",
      "count not found: 16244\n",
      "count found: 3256\n",
      "19800\n",
      "count not found: 16493\n",
      "count found: 3307\n",
      "20100\n",
      "count not found: 16740\n",
      "count found: 3360\n",
      "20400\n",
      "count not found: 16986\n",
      "count found: 3414\n",
      "20700\n",
      "count not found: 17242\n",
      "count found: 3458\n",
      "21000\n",
      "count not found: 17478\n",
      "count found: 3522\n"
     ]
    }
   ],
   "source": [
    "count_notfound = 0\n",
    "count_found = 0\n",
    "\n",
    "toc = time.time()\n",
    "for i in range(len(summary_df)):\n",
    "    if i % 300 == 0:\n",
    "        print(i)\n",
    "        print(\"count not found: {0}\".format(count_notfound))\n",
    "        print(\"count found: {0}\".format(count_found))\n",
    "        \n",
    "    doc = DoctorRatings(summary_df.loc[i,'npi'], summary_df.loc[i,'nppes_provider_zip'])\n",
    "    doc_scraped = doc.scrape()\n",
    "    \n",
    "    if doc_scraped:\n",
    "        count_found += 1\n",
    "        ## Add doctor info to table\n",
    "        arating = Rating(**vars(doc))\n",
    "        \n",
    "        try:\n",
    "            session.add(arating)\n",
    "            session.commit()\n",
    "        except:\n",
    "            session.rollback()\n",
    "            raise        \n",
    "    else:\n",
    "        count_notfound += 1\n",
    "session.close()\n",
    "\n",
    "tic = time.time()"
   ]
  },
  {
   "cell_type": "code",
   "execution_count": 19,
   "metadata": {
    "collapsed": false
   },
   "outputs": [
    {
     "name": "stdout",
     "output_type": "stream",
     "text": [
      "scraped and added to database in 12149.23812007904s\n"
     ]
    }
   ],
   "source": [
    "print('scraped and added to database in {0}s'.format(tic-toc))"
   ]
  },
  {
   "cell_type": "code",
   "execution_count": 21,
   "metadata": {
    "collapsed": true
   },
   "outputs": [],
   "source": [
    "engine.dispose()"
   ]
  }
 ],
 "metadata": {
  "anaconda-cloud": {},
  "kernelspec": {
   "display_name": "Python [conda env:medicare_provider_util_payment]",
   "language": "python",
   "name": "conda-env-medicare_provider_util_payment-py"
  },
  "language_info": {
   "codemirror_mode": {
    "name": "ipython",
    "version": 3
   },
   "file_extension": ".py",
   "mimetype": "text/x-python",
   "name": "python",
   "nbconvert_exporter": "python",
   "pygments_lexer": "ipython3",
   "version": "3.5.2"
  }
 },
 "nbformat": 4,
 "nbformat_minor": 1
}
