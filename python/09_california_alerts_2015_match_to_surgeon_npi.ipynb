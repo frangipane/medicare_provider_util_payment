{
 "cells": [
  {
   "cell_type": "code",
   "execution_count": 1,
   "metadata": {
    "collapsed": true
   },
   "outputs": [],
   "source": [
    "import psycopg2\n",
    "import pandas as pd\n",
    "import seaborn as sns\n",
    "import matplotlib.pyplot as plt\n",
    "import re\n",
    "\n",
    "%matplotlib inline\n",
    "sns.set(style=\"white\")"
   ]
  },
  {
   "cell_type": "code",
   "execution_count": 59,
   "metadata": {
    "collapsed": true
   },
   "outputs": [],
   "source": [
    "alerts = pd.read_csv(\"../data/alerts_actions_California_2015.csv\")"
   ]
  },
  {
   "cell_type": "code",
   "execution_count": 60,
   "metadata": {
    "collapsed": false
   },
   "outputs": [
    {
     "data": {
      "text/html": [
       "<div>\n",
       "<table border=\"1\" class=\"dataframe\">\n",
       "  <thead>\n",
       "    <tr style=\"text-align: right;\">\n",
       "      <th></th>\n",
       "      <th>ALERT ISSUE DATE</th>\n",
       "      <th>NAME</th>\n",
       "      <th>CITY/STATE</th>\n",
       "      <th>LICENSE NUMBER</th>\n",
       "      <th>TYPE OF ACTION</th>\n",
       "      <th>DATE OF ACTION</th>\n",
       "    </tr>\n",
       "  </thead>\n",
       "  <tbody>\n",
       "    <tr>\n",
       "      <th>0</th>\n",
       "      <td>1/2/2015</td>\n",
       "      <td>Heikali, Moosa</td>\n",
       "      <td>Los Angeles, CA</td>\n",
       "      <td>A 40559</td>\n",
       "      <td>Revoked</td>\n",
       "      <td>1/2/2015</td>\n",
       "    </tr>\n",
       "    <tr>\n",
       "      <th>1</th>\n",
       "      <td>1/2/2015</td>\n",
       "      <td>Highman, Lawrence Marshall</td>\n",
       "      <td>Colusa, CA</td>\n",
       "      <td>G 40201</td>\n",
       "      <td>Public Reprimand</td>\n",
       "      <td>1/2/2015</td>\n",
       "    </tr>\n",
       "  </tbody>\n",
       "</table>\n",
       "</div>"
      ],
      "text/plain": [
       "  ALERT ISSUE DATE                        NAME       CITY/STATE  \\\n",
       "0         1/2/2015              Heikali, Moosa  Los Angeles, CA   \n",
       "1         1/2/2015  Highman, Lawrence Marshall       Colusa, CA   \n",
       "\n",
       "  LICENSE NUMBER    TYPE OF ACTION DATE OF ACTION  \n",
       "0        A 40559           Revoked       1/2/2015  \n",
       "1        G 40201  Public Reprimand       1/2/2015  "
      ]
     },
     "execution_count": 60,
     "metadata": {},
     "output_type": "execute_result"
    }
   ],
   "source": [
    "alerts.head(2)"
   ]
  },
  {
   "cell_type": "code",
   "execution_count": 4,
   "metadata": {
    "collapsed": false
   },
   "outputs": [
    {
     "data": {
      "text/html": [
       "<div>\n",
       "<table border=\"1\" class=\"dataframe\">\n",
       "  <thead>\n",
       "    <tr style=\"text-align: right;\">\n",
       "      <th></th>\n",
       "      <th>ALERT ISSUE DATE</th>\n",
       "      <th>NAME</th>\n",
       "      <th>CITY/STATE</th>\n",
       "      <th>LICENSE NUMBER</th>\n",
       "      <th>TYPE OF ACTION</th>\n",
       "      <th>DATE OF ACTION</th>\n",
       "    </tr>\n",
       "  </thead>\n",
       "  <tbody>\n",
       "    <tr>\n",
       "      <th>count</th>\n",
       "      <td>797</td>\n",
       "      <td>797</td>\n",
       "      <td>797</td>\n",
       "      <td>797</td>\n",
       "      <td>797</td>\n",
       "      <td>797</td>\n",
       "    </tr>\n",
       "    <tr>\n",
       "      <th>unique</th>\n",
       "      <td>163</td>\n",
       "      <td>651</td>\n",
       "      <td>329</td>\n",
       "      <td>644</td>\n",
       "      <td>21</td>\n",
       "      <td>239</td>\n",
       "    </tr>\n",
       "    <tr>\n",
       "      <th>top</th>\n",
       "      <td>5/8/2015</td>\n",
       "      <td>Butel, Aimee Lorine</td>\n",
       "      <td>Los Angeles, CA</td>\n",
       "      <td>A 87162</td>\n",
       "      <td>Accusation Filed</td>\n",
       "      <td>11/20/2015</td>\n",
       "    </tr>\n",
       "    <tr>\n",
       "      <th>freq</th>\n",
       "      <td>35</td>\n",
       "      <td>4</td>\n",
       "      <td>47</td>\n",
       "      <td>4</td>\n",
       "      <td>317</td>\n",
       "      <td>9</td>\n",
       "    </tr>\n",
       "  </tbody>\n",
       "</table>\n",
       "</div>"
      ],
      "text/plain": [
       "       ALERT ISSUE DATE                 NAME       CITY/STATE LICENSE NUMBER  \\\n",
       "count               797                  797              797            797   \n",
       "unique              163                  651              329            644   \n",
       "top            5/8/2015  Butel, Aimee Lorine  Los Angeles, CA        A 87162   \n",
       "freq                 35                    4               47              4   \n",
       "\n",
       "          TYPE OF ACTION DATE OF ACTION  \n",
       "count                797            797  \n",
       "unique                21            239  \n",
       "top     Accusation Filed     11/20/2015  \n",
       "freq                 317              9  "
      ]
     },
     "execution_count": 4,
     "metadata": {},
     "output_type": "execute_result"
    }
   ],
   "source": [
    "alerts.describe()"
   ]
  },
  {
   "cell_type": "code",
   "execution_count": 5,
   "metadata": {
    "collapsed": false
   },
   "outputs": [
    {
     "name": "stdout",
     "output_type": "stream",
     "text": [
      "<class 'pandas.core.frame.DataFrame'>\n",
      "RangeIndex: 797 entries, 0 to 796\n",
      "Data columns (total 6 columns):\n",
      "ALERT ISSUE DATE    797 non-null object\n",
      "NAME                797 non-null object\n",
      "CITY/STATE          797 non-null object\n",
      "LICENSE NUMBER      797 non-null object\n",
      "TYPE OF ACTION      797 non-null object\n",
      "DATE OF ACTION      797 non-null object\n",
      "dtypes: object(6)\n",
      "memory usage: 37.4+ KB\n"
     ]
    }
   ],
   "source": [
    "alerts.info()"
   ]
  },
  {
   "cell_type": "code",
   "execution_count": 6,
   "metadata": {
    "collapsed": false
   },
   "outputs": [
    {
     "data": {
      "text/plain": [
       "Accusation Filed                             317\n",
       "Decision                                     123\n",
       "Surrendered                                   75\n",
       "Public Reprimand                              51\n",
       "First Amended Accusation Filed                47\n",
       "Revoked                                       37\n",
       "Public Letter of Reprimand                    36\n",
       "Suspended                                     28\n",
       "Restrictions                                  21\n",
       "Acc & Pet to Revoke Probation Filed           17\n",
       "Cease Practice Order                           9\n",
       "Second Amended Accusation Filed                8\n",
       "Petition to Revoke Probation Filed             6\n",
       "Amended Accusation Filed                       4\n",
       "Accusation Withdrawn                           4\n",
       "First Amnd Acc & Pet to Revoke Prob Filed      4\n",
       "Accusation Dismissed                           4\n",
       "Third Amended Accusation Filed                 3\n",
       "Cancelled                                      1\n",
       "First Amended Accusation Dismissed             1\n",
       "Second Amnd Accusation Dismissed               1\n",
       "Name: TYPE OF ACTION, dtype: int64"
      ]
     },
     "execution_count": 6,
     "metadata": {},
     "output_type": "execute_result"
    }
   ],
   "source": [
    "## types of action?\n",
    "alerts['TYPE OF ACTION'].value_counts()"
   ]
  },
  {
   "cell_type": "code",
   "execution_count": 61,
   "metadata": {
    "collapsed": false
   },
   "outputs": [],
   "source": [
    "## separate CITY/STATE column into individual columns\n",
    "alerts = (pd.concat([alerts.drop(['CITY/STATE','NAME'],1),\n",
    "                     (alerts['CITY/STATE'].str.split(',', expand=True, n=1).\n",
    "                      rename(columns={0:'city',1:'state'})),\n",
    "                    (alerts['NAME'].str.split(',', expand=True, n=1).\n",
    "                    rename(columns={0:'last_name',1:'first_name'}))],\n",
    "                    axis=1).\n",
    "         rename(columns={'ALERT ISSUE DATE':'alert_issue_date',\n",
    "                        'LICENSE NUMBER':'license_number',\n",
    "                        'TYPE OF ACTION':'type_of_action',\n",
    "                        'DATE OF ACTION':'date_of_action'}))\n",
    "\n",
    "alerts['city'] = alerts['city'].str.strip()\n",
    "alerts['state'] = alerts['state'].str.strip()\n",
    "alerts['last_name'] = alerts['last_name'].str.strip()\n",
    "alerts['first_name'] = alerts['first_name'].str.strip()"
   ]
  },
  {
   "cell_type": "code",
   "execution_count": 62,
   "metadata": {
    "collapsed": false
   },
   "outputs": [
    {
     "data": {
      "text/html": [
       "<div>\n",
       "<table border=\"1\" class=\"dataframe\">\n",
       "  <thead>\n",
       "    <tr style=\"text-align: right;\">\n",
       "      <th></th>\n",
       "      <th>alert_issue_date</th>\n",
       "      <th>license_number</th>\n",
       "      <th>type_of_action</th>\n",
       "      <th>date_of_action</th>\n",
       "      <th>city</th>\n",
       "      <th>state</th>\n",
       "      <th>last_name</th>\n",
       "      <th>first_name</th>\n",
       "    </tr>\n",
       "  </thead>\n",
       "  <tbody>\n",
       "    <tr>\n",
       "      <th>0</th>\n",
       "      <td>1/2/2015</td>\n",
       "      <td>A 40559</td>\n",
       "      <td>Revoked</td>\n",
       "      <td>1/2/2015</td>\n",
       "      <td>Los Angeles</td>\n",
       "      <td>CA</td>\n",
       "      <td>Heikali</td>\n",
       "      <td>Moosa</td>\n",
       "    </tr>\n",
       "    <tr>\n",
       "      <th>1</th>\n",
       "      <td>1/2/2015</td>\n",
       "      <td>G 40201</td>\n",
       "      <td>Public Reprimand</td>\n",
       "      <td>1/2/2015</td>\n",
       "      <td>Colusa</td>\n",
       "      <td>CA</td>\n",
       "      <td>Highman</td>\n",
       "      <td>Lawrence Marshall</td>\n",
       "    </tr>\n",
       "    <tr>\n",
       "      <th>2</th>\n",
       "      <td>1/5/2015</td>\n",
       "      <td>A 75590</td>\n",
       "      <td>Suspended</td>\n",
       "      <td>12/31/2014</td>\n",
       "      <td>Hobbs</td>\n",
       "      <td>NM</td>\n",
       "      <td>Driskill</td>\n",
       "      <td>Christopher Shay</td>\n",
       "    </tr>\n",
       "    <tr>\n",
       "      <th>3</th>\n",
       "      <td>1/6/2015</td>\n",
       "      <td>A 37049</td>\n",
       "      <td>Surrendered</td>\n",
       "      <td>12/31/2014</td>\n",
       "      <td>Indio</td>\n",
       "      <td>CA</td>\n",
       "      <td>Alegria</td>\n",
       "      <td>Rudolpho Jaramillo</td>\n",
       "    </tr>\n",
       "    <tr>\n",
       "      <th>4</th>\n",
       "      <td>1/6/2015</td>\n",
       "      <td>A 88304</td>\n",
       "      <td>Accusation Filed</td>\n",
       "      <td>12/19/2014</td>\n",
       "      <td>Los Angeles</td>\n",
       "      <td>CA</td>\n",
       "      <td>Armin</td>\n",
       "      <td>Sean Shahdad</td>\n",
       "    </tr>\n",
       "  </tbody>\n",
       "</table>\n",
       "</div>"
      ],
      "text/plain": [
       "  alert_issue_date license_number    type_of_action date_of_action  \\\n",
       "0         1/2/2015        A 40559           Revoked       1/2/2015   \n",
       "1         1/2/2015        G 40201  Public Reprimand       1/2/2015   \n",
       "2         1/5/2015        A 75590         Suspended     12/31/2014   \n",
       "3         1/6/2015        A 37049       Surrendered     12/31/2014   \n",
       "4         1/6/2015        A 88304  Accusation Filed     12/19/2014   \n",
       "\n",
       "          city state last_name          first_name  \n",
       "0  Los Angeles    CA   Heikali               Moosa  \n",
       "1       Colusa    CA   Highman   Lawrence Marshall  \n",
       "2        Hobbs    NM  Driskill    Christopher Shay  \n",
       "3        Indio    CA   Alegria  Rudolpho Jaramillo  \n",
       "4  Los Angeles    CA     Armin        Sean Shahdad  "
      ]
     },
     "execution_count": 62,
     "metadata": {},
     "output_type": "execute_result"
    }
   ],
   "source": [
    "alerts.head()"
   ]
  },
  {
   "cell_type": "markdown",
   "metadata": {},
   "source": [
    "## Create dictionary of doctor names in alerts database for searching"
   ]
  },
  {
   "cell_type": "code",
   "execution_count": 63,
   "metadata": {
    "collapsed": false
   },
   "outputs": [
    {
     "data": {
      "text/plain": [
       "(650, 8)"
      ]
     },
     "execution_count": 63,
     "metadata": {},
     "output_type": "execute_result"
    }
   ],
   "source": [
    "## How many distinct names (last, first pairs) are there out of the 797 rows?\n",
    "alerts.drop_duplicates(['last_name','first_name']).shape"
   ]
  },
  {
   "cell_type": "code",
   "execution_count": 111,
   "metadata": {
    "collapsed": false
   },
   "outputs": [],
   "source": [
    "## key: last name\n",
    "## value: list of strings, each string consisting of at least a first name \n",
    "## and (possibly including middle name)\n",
    "## example: alerts_names['JONES'] = ['MARY LYNN', 'HAROLD']\n",
    "\n",
    "fullnames2015 = (alerts.\n",
    "                 drop_duplicates(['last_name','first_name'])[['last_name','first_name']].\n",
    "                 reset_index().drop(['index'],1))\n",
    "\n",
    "alerts_names = {}\n",
    "irregular_names = []\n",
    "\n",
    "for i in range(len(fullnames2015)):\n",
    "    try:\n",
    "        if fullnames2015.loc[i,'last_name'].upper() not in alerts_names:\n",
    "            alerts_names[fullnames2015.loc[i,'last_name'].upper()] = [fullnames2015.loc[i,'first_name'].upper()]\n",
    "        else:\n",
    "            alerts_names[fullnames2015.loc[i,'last_name'].upper()].append(fullnames2015.loc[i,'first_name'].upper())\n",
    "    except:\n",
    "        irregular_names.append(fullnames2015.loc[i,'last_name'])"
   ]
  },
  {
   "cell_type": "code",
   "execution_count": 112,
   "metadata": {
    "collapsed": false
   },
   "outputs": [
    {
     "data": {
      "text/plain": [
       "['Habezghi Hagos']"
      ]
     },
     "execution_count": 112,
     "metadata": {},
     "output_type": "execute_result"
    }
   ],
   "source": [
    "irregular_names"
   ]
  },
  {
   "cell_type": "code",
   "execution_count": 114,
   "metadata": {
    "collapsed": false
   },
   "outputs": [
    {
     "data": {
      "text/plain": [
       "599"
      ]
     },
     "execution_count": 114,
     "metadata": {},
     "output_type": "execute_result"
    }
   ],
   "source": [
    "## so 50 doctors had last names in common\n",
    "len(alerts_names)"
   ]
  },
  {
   "cell_type": "markdown",
   "metadata": {},
   "source": [
    "## Read in medicare summary nppes table"
   ]
  },
  {
   "cell_type": "code",
   "execution_count": 99,
   "metadata": {
    "collapsed": true
   },
   "outputs": [],
   "source": [
    "## connect to database\n",
    "\n",
    "con = psycopg2.connect(\"dbname='doctordb' user='cathy'\")"
   ]
  },
  {
   "cell_type": "code",
   "execution_count": 100,
   "metadata": {
    "collapsed": true
   },
   "outputs": [],
   "source": [
    "q = \"\"\"SELECT * FROM summary WHERE provider_type = 'Orthopedic Surgery' \n",
    "     AND nppes_provider_state = 'CA';\"\"\"\n",
    "summary_df = pd.read_sql_query(q, con=con)"
   ]
  },
  {
   "cell_type": "code",
   "execution_count": 101,
   "metadata": {
    "collapsed": false
   },
   "outputs": [
    {
     "data": {
      "text/html": [
       "<div>\n",
       "<table border=\"1\" class=\"dataframe\">\n",
       "  <thead>\n",
       "    <tr style=\"text-align: right;\">\n",
       "      <th></th>\n",
       "      <th>npi</th>\n",
       "      <th>nppes_provider_last_org_name</th>\n",
       "      <th>nppes_provider_first_name</th>\n",
       "      <th>nppes_provider_mi</th>\n",
       "      <th>nppes_credentials</th>\n",
       "      <th>nppes_provider_gender</th>\n",
       "      <th>nppes_entity_code</th>\n",
       "      <th>nppes_provider_street1</th>\n",
       "      <th>nppes_provider_street2</th>\n",
       "      <th>nppes_provider_city</th>\n",
       "      <th>...</th>\n",
       "      <th>beneficiary_cc_depr_percent</th>\n",
       "      <th>beneficiary_cc_diab_percent</th>\n",
       "      <th>beneficiary_cc_hyperl_percent</th>\n",
       "      <th>beneficiary_cc_hypert_percent</th>\n",
       "      <th>beneficiary_cc_ihd_percent</th>\n",
       "      <th>beneficiary_cc_ost_percent</th>\n",
       "      <th>beneficiary_cc_raoa_percent</th>\n",
       "      <th>beneficiary_cc_schiot_percent</th>\n",
       "      <th>beneficiary_cc_strk_percent</th>\n",
       "      <th>beneficiary_average_risk_score</th>\n",
       "    </tr>\n",
       "  </thead>\n",
       "  <tbody>\n",
       "    <tr>\n",
       "      <th>0</th>\n",
       "      <td>1003017971</td>\n",
       "      <td>TWEET</td>\n",
       "      <td>MATTHEW</td>\n",
       "      <td>L</td>\n",
       "      <td>MD</td>\n",
       "      <td>M</td>\n",
       "      <td>I</td>\n",
       "      <td>2725 CAPITOL AVE</td>\n",
       "      <td>SUITE 302</td>\n",
       "      <td>SACRAMENTO</td>\n",
       "      <td>...</td>\n",
       "      <td>24.0</td>\n",
       "      <td>29.0</td>\n",
       "      <td>56.0</td>\n",
       "      <td>60.0</td>\n",
       "      <td>30.0</td>\n",
       "      <td>10.0</td>\n",
       "      <td>65.0</td>\n",
       "      <td>NaN</td>\n",
       "      <td>NaN</td>\n",
       "      <td>1.0698</td>\n",
       "    </tr>\n",
       "    <tr>\n",
       "      <th>1</th>\n",
       "      <td>1003126830</td>\n",
       "      <td>VAN DYK</td>\n",
       "      <td>GRIETJE</td>\n",
       "      <td>None</td>\n",
       "      <td>MD</td>\n",
       "      <td>F</td>\n",
       "      <td>I</td>\n",
       "      <td>3771 KATELLA AVE</td>\n",
       "      <td>SUITE 209</td>\n",
       "      <td>LOS ALAMITOS</td>\n",
       "      <td>...</td>\n",
       "      <td>30.0</td>\n",
       "      <td>33.0</td>\n",
       "      <td>65.0</td>\n",
       "      <td>73.0</td>\n",
       "      <td>39.0</td>\n",
       "      <td>28.0</td>\n",
       "      <td>75.0</td>\n",
       "      <td>NaN</td>\n",
       "      <td>NaN</td>\n",
       "      <td>1.4260</td>\n",
       "    </tr>\n",
       "    <tr>\n",
       "      <th>2</th>\n",
       "      <td>1003802646</td>\n",
       "      <td>PERCIVAL</td>\n",
       "      <td>HERBERT</td>\n",
       "      <td>W</td>\n",
       "      <td>M.D.</td>\n",
       "      <td>M</td>\n",
       "      <td>I</td>\n",
       "      <td>2486 N PONDEROSA DR</td>\n",
       "      <td>D-114</td>\n",
       "      <td>CAMARILLO</td>\n",
       "      <td>...</td>\n",
       "      <td>18.0</td>\n",
       "      <td>28.0</td>\n",
       "      <td>58.0</td>\n",
       "      <td>67.0</td>\n",
       "      <td>41.0</td>\n",
       "      <td>15.0</td>\n",
       "      <td>67.0</td>\n",
       "      <td>NaN</td>\n",
       "      <td>7.0</td>\n",
       "      <td>1.2052</td>\n",
       "    </tr>\n",
       "    <tr>\n",
       "      <th>3</th>\n",
       "      <td>1003817693</td>\n",
       "      <td>WEISSTEIN</td>\n",
       "      <td>JASON</td>\n",
       "      <td>S</td>\n",
       "      <td>M.D.,M.P.H.</td>\n",
       "      <td>M</td>\n",
       "      <td>I</td>\n",
       "      <td>39000 BOB HOPE DR</td>\n",
       "      <td>HARRY &amp; DIANE RINKER BUILDING</td>\n",
       "      <td>RANCHO MIRAGE</td>\n",
       "      <td>...</td>\n",
       "      <td>16.0</td>\n",
       "      <td>20.0</td>\n",
       "      <td>68.0</td>\n",
       "      <td>68.0</td>\n",
       "      <td>36.0</td>\n",
       "      <td>14.0</td>\n",
       "      <td>75.0</td>\n",
       "      <td>1.0</td>\n",
       "      <td>4.0</td>\n",
       "      <td>1.0605</td>\n",
       "    </tr>\n",
       "    <tr>\n",
       "      <th>4</th>\n",
       "      <td>1003828989</td>\n",
       "      <td>GAINOR</td>\n",
       "      <td>JOHN</td>\n",
       "      <td>None</td>\n",
       "      <td>M.D.</td>\n",
       "      <td>M</td>\n",
       "      <td>I</td>\n",
       "      <td>215 PESETAS LN</td>\n",
       "      <td>None</td>\n",
       "      <td>SANTA BARBARA</td>\n",
       "      <td>...</td>\n",
       "      <td>24.0</td>\n",
       "      <td>21.0</td>\n",
       "      <td>53.0</td>\n",
       "      <td>50.0</td>\n",
       "      <td>21.0</td>\n",
       "      <td>11.0</td>\n",
       "      <td>74.0</td>\n",
       "      <td>NaN</td>\n",
       "      <td>2.0</td>\n",
       "      <td>1.0040</td>\n",
       "    </tr>\n",
       "  </tbody>\n",
       "</table>\n",
       "<p>5 rows × 70 columns</p>\n",
       "</div>"
      ],
      "text/plain": [
       "          npi nppes_provider_last_org_name nppes_provider_first_name  \\\n",
       "0  1003017971                        TWEET                   MATTHEW   \n",
       "1  1003126830                      VAN DYK                   GRIETJE   \n",
       "2  1003802646                     PERCIVAL                   HERBERT   \n",
       "3  1003817693                    WEISSTEIN                     JASON   \n",
       "4  1003828989                       GAINOR                      JOHN   \n",
       "\n",
       "  nppes_provider_mi nppes_credentials nppes_provider_gender nppes_entity_code  \\\n",
       "0                 L                MD                     M                 I   \n",
       "1              None                MD                     F                 I   \n",
       "2                 W              M.D.                     M                 I   \n",
       "3                 S       M.D.,M.P.H.                     M                 I   \n",
       "4              None              M.D.                     M                 I   \n",
       "\n",
       "  nppes_provider_street1         nppes_provider_street2 nppes_provider_city  \\\n",
       "0       2725 CAPITOL AVE                      SUITE 302          SACRAMENTO   \n",
       "1       3771 KATELLA AVE                      SUITE 209        LOS ALAMITOS   \n",
       "2    2486 N PONDEROSA DR                          D-114           CAMARILLO   \n",
       "3      39000 BOB HOPE DR  HARRY & DIANE RINKER BUILDING       RANCHO MIRAGE   \n",
       "4         215 PESETAS LN                           None       SANTA BARBARA   \n",
       "\n",
       "                ...               beneficiary_cc_depr_percent  \\\n",
       "0               ...                                      24.0   \n",
       "1               ...                                      30.0   \n",
       "2               ...                                      18.0   \n",
       "3               ...                                      16.0   \n",
       "4               ...                                      24.0   \n",
       "\n",
       "  beneficiary_cc_diab_percent beneficiary_cc_hyperl_percent  \\\n",
       "0                        29.0                          56.0   \n",
       "1                        33.0                          65.0   \n",
       "2                        28.0                          58.0   \n",
       "3                        20.0                          68.0   \n",
       "4                        21.0                          53.0   \n",
       "\n",
       "  beneficiary_cc_hypert_percent beneficiary_cc_ihd_percent  \\\n",
       "0                          60.0                       30.0   \n",
       "1                          73.0                       39.0   \n",
       "2                          67.0                       41.0   \n",
       "3                          68.0                       36.0   \n",
       "4                          50.0                       21.0   \n",
       "\n",
       "   beneficiary_cc_ost_percent  beneficiary_cc_raoa_percent  \\\n",
       "0                        10.0                         65.0   \n",
       "1                        28.0                         75.0   \n",
       "2                        15.0                         67.0   \n",
       "3                        14.0                         75.0   \n",
       "4                        11.0                         74.0   \n",
       "\n",
       "   beneficiary_cc_schiot_percent  beneficiary_cc_strk_percent  \\\n",
       "0                            NaN                          NaN   \n",
       "1                            NaN                          NaN   \n",
       "2                            NaN                          7.0   \n",
       "3                            1.0                          4.0   \n",
       "4                            NaN                          2.0   \n",
       "\n",
       "   beneficiary_average_risk_score  \n",
       "0                          1.0698  \n",
       "1                          1.4260  \n",
       "2                          1.2052  \n",
       "3                          1.0605  \n",
       "4                          1.0040  \n",
       "\n",
       "[5 rows x 70 columns]"
      ]
     },
     "execution_count": 101,
     "metadata": {},
     "output_type": "execute_result"
    }
   ],
   "source": [
    "summary_df.head()"
   ]
  },
  {
   "cell_type": "code",
   "execution_count": 117,
   "metadata": {
    "collapsed": true
   },
   "outputs": [],
   "source": [
    "## loop through names in summary and check if any alerts exist per orthopedic surgeon\n",
    "\n",
    "## list of tuples matches\n",
    "alert_matches = []\n",
    "\n",
    "for i in range(len(summary_df)):\n",
    "    last = summary_df.loc[i, 'nppes_provider_last_org_name'].upper()\n",
    "    \n",
    "    ## last name exists in alerts list\n",
    "    if last in alerts_names:\n",
    "        first = summary_df.loc[i, 'nppes_provider_first_name'].upper()\n",
    "        \n",
    "        ## search for match of first name in alerts list\n",
    "        for n in alerts_names[last]:\n",
    "            if re.search(n, first):\n",
    "                alert_matches.append((summary_df.loc[i,'npi'], last, first))\n",
    "                break"
   ]
  },
  {
   "cell_type": "code",
   "execution_count": 118,
   "metadata": {
    "collapsed": false
   },
   "outputs": [
    {
     "data": {
      "text/plain": [
       "1"
      ]
     },
     "execution_count": 118,
     "metadata": {},
     "output_type": "execute_result"
    }
   ],
   "source": [
    "len(alert_matches)"
   ]
  },
  {
   "cell_type": "code",
   "execution_count": 119,
   "metadata": {
    "collapsed": false
   },
   "outputs": [
    {
     "data": {
      "text/plain": [
       "[('1487884607', 'LEE', 'JASON')]"
      ]
     },
     "execution_count": 119,
     "metadata": {},
     "output_type": "execute_result"
    }
   ],
   "source": [
    "alert_matches"
   ]
  },
  {
   "cell_type": "markdown",
   "metadata": {},
   "source": [
    "## check Jason Lee's entry in alerts (is it an actual match?)"
   ]
  },
  {
   "cell_type": "code",
   "execution_count": 134,
   "metadata": {
    "collapsed": false
   },
   "outputs": [
    {
     "data": {
      "text/html": [
       "<div>\n",
       "<table border=\"1\" class=\"dataframe\">\n",
       "  <thead>\n",
       "    <tr style=\"text-align: right;\">\n",
       "      <th></th>\n",
       "      <th>alert_issue_date</th>\n",
       "      <th>license_number</th>\n",
       "      <th>type_of_action</th>\n",
       "      <th>date_of_action</th>\n",
       "      <th>city</th>\n",
       "      <th>state</th>\n",
       "      <th>last_name</th>\n",
       "      <th>first_name</th>\n",
       "    </tr>\n",
       "  </thead>\n",
       "  <tbody>\n",
       "    <tr>\n",
       "      <th>639</th>\n",
       "      <td>10/21/2015</td>\n",
       "      <td>G 81729</td>\n",
       "      <td>Accusation Filed</td>\n",
       "      <td>10/2/2015</td>\n",
       "      <td>Bakersfield</td>\n",
       "      <td>CA</td>\n",
       "      <td>Lee</td>\n",
       "      <td>Jason</td>\n",
       "    </tr>\n",
       "  </tbody>\n",
       "</table>\n",
       "</div>"
      ],
      "text/plain": [
       "    alert_issue_date license_number    type_of_action date_of_action  \\\n",
       "639       10/21/2015        G 81729  Accusation Filed      10/2/2015   \n",
       "\n",
       "            city state last_name first_name  \n",
       "639  Bakersfield    CA       Lee      Jason  "
      ]
     },
     "execution_count": 134,
     "metadata": {},
     "output_type": "execute_result"
    }
   ],
   "source": [
    "(alerts.query('last_name.str.upper() == \"LEE\"').\n",
    "     query('first_name.str.upper()== \"JASON\"'))"
   ]
  },
  {
   "cell_type": "code",
   "execution_count": 141,
   "metadata": {
    "collapsed": false
   },
   "outputs": [
    {
     "data": {
      "text/html": [
       "<div>\n",
       "<table border=\"1\" class=\"dataframe\">\n",
       "  <thead>\n",
       "    <tr style=\"text-align: right;\">\n",
       "      <th></th>\n",
       "      <th>nppes_provider_city</th>\n",
       "      <th>nppes_provider_state</th>\n",
       "      <th>nppes_provider_mi</th>\n",
       "    </tr>\n",
       "  </thead>\n",
       "  <tbody>\n",
       "    <tr>\n",
       "      <th>980</th>\n",
       "      <td>ORANGE</td>\n",
       "      <td>CA</td>\n",
       "      <td>H</td>\n",
       "    </tr>\n",
       "  </tbody>\n",
       "</table>\n",
       "</div>"
      ],
      "text/plain": [
       "    nppes_provider_city nppes_provider_state nppes_provider_mi\n",
       "980              ORANGE                   CA                 H"
      ]
     },
     "execution_count": 141,
     "metadata": {},
     "output_type": "execute_result"
    }
   ],
   "source": [
    "summary_df.loc[summary_df.npi=='1487884607',\n",
    "               ['nppes_provider_city','nppes_provider_state','nppes_provider_mi']]"
   ]
  },
  {
   "cell_type": "markdown",
   "metadata": {},
   "source": [
    "This is not a real match.  Bakersfield Jason Lee is an anesthesiologist, while summary Jason Lee is Jason Chia Lee, an orthopedic surgeon without a record."
   ]
  }
 ],
 "metadata": {
  "anaconda-cloud": {},
  "kernelspec": {
   "display_name": "Python [conda env:medicare_provider_util_payment]",
   "language": "python",
   "name": "conda-env-medicare_provider_util_payment-py"
  },
  "language_info": {
   "codemirror_mode": {
    "name": "ipython",
    "version": 3
   },
   "file_extension": ".py",
   "mimetype": "text/x-python",
   "name": "python",
   "nbconvert_exporter": "python",
   "pygments_lexer": "ipython3",
   "version": "3.5.2"
  }
 },
 "nbformat": 4,
 "nbformat_minor": 1
}
