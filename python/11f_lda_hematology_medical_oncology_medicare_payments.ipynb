{
 "cells": [
  {
   "cell_type": "markdown",
   "metadata": {},
   "source": [
    "# LDA model on oncology\n",
    "\n",
    "provider_type: hematology, medical\n",
    "- filter out least and most common hcpcs_codes (compared to model 1, which does no filtering)\n",
    "- only consider in-facility claims\n",
    "- number of topics == ?"
   ]
  },
  {
   "cell_type": "code",
   "execution_count": 1,
   "metadata": {
    "collapsed": true
   },
   "outputs": [],
   "source": [
    "import psycopg2\n",
    "import pandas as pd\n",
    "import seaborn as sns\n",
    "import matplotlib.pyplot as plt\n",
    "import matplotlib.cm as cm\n",
    "import numpy as np\n",
    "import time\n",
    "\n",
    "from gensim import matutils, models, corpora\n",
    "\n",
    "%matplotlib inline\n",
    "sns.set(style=\"white\")"
   ]
  },
  {
   "cell_type": "code",
   "execution_count": 2,
   "metadata": {
    "collapsed": true
   },
   "outputs": [],
   "source": [
    "## connect to database\n",
    "con = psycopg2.connect(\"dbname='doctordb' user='cathy'\")"
   ]
  },
  {
   "cell_type": "code",
   "execution_count": 5,
   "metadata": {
    "collapsed": false
   },
   "outputs": [],
   "source": [
    "q = \"\"\"SELECT npi, provider_type, hcpcs_code, hcpcs_description, bene_day_srvc_cnt\n",
    "FROM payments \n",
    "WHERE (provider_type='Medical Oncology' OR provider_type='Hematology/Oncology')\n",
    "AND place_of_service='O'\n",
    "AND hcpcs_drug_indicator='Y'\"\"\"\n",
    "payments = pd.read_sql_query(q, con=con)"
   ]
  },
  {
   "cell_type": "code",
   "execution_count": 6,
   "metadata": {
    "collapsed": false
   },
   "outputs": [
    {
     "data": {
      "text/plain": [
       "(56147, 5)"
      ]
     },
     "execution_count": 6,
     "metadata": {},
     "output_type": "execute_result"
    }
   ],
   "source": [
    "payments.shape"
   ]
  },
  {
   "cell_type": "code",
   "execution_count": 7,
   "metadata": {
    "collapsed": false
   },
   "outputs": [
    {
     "data": {
      "text/plain": [
       "array(['Medical Oncology', 'Hematology/Oncology'], dtype=object)"
      ]
     },
     "execution_count": 7,
     "metadata": {},
     "output_type": "execute_result"
    }
   ],
   "source": [
    "payments['provider_type'].unique()"
   ]
  },
  {
   "cell_type": "code",
   "execution_count": 8,
   "metadata": {
    "collapsed": false
   },
   "outputs": [
    {
     "data": {
      "text/plain": [
       "provider_type\n",
       "Hematology/Oncology    3603\n",
       "Medical Oncology       1056\n",
       "Name: npi, dtype: int64"
      ]
     },
     "execution_count": 8,
     "metadata": {},
     "output_type": "execute_result"
    }
   ],
   "source": [
    "## how many of each provider type?\n",
    "payments.drop_duplicates('npi').groupby('provider_type')['npi'].count()"
   ]
  },
  {
   "cell_type": "markdown",
   "metadata": {},
   "source": [
    "## construct raw data frame"
   ]
  },
  {
   "cell_type": "code",
   "execution_count": 9,
   "metadata": {
    "collapsed": false
   },
   "outputs": [
    {
     "data": {
      "text/plain": [
       "(4659, 175)"
      ]
     },
     "execution_count": 9,
     "metadata": {},
     "output_type": "execute_result"
    }
   ],
   "source": [
    "by_npi = (payments[['npi','hcpcs_code','bene_day_srvc_cnt']].\n",
    "                pivot(index='npi', values = 'bene_day_srvc_cnt', columns='hcpcs_code').\n",
    "                fillna(value=0))\n",
    "by_npi.shape"
   ]
  },
  {
   "cell_type": "markdown",
   "metadata": {},
   "source": [
    "## preprocess data frame (drop top 3 codes, codes with only 1 claim, docs with < 1 claim)"
   ]
  },
  {
   "cell_type": "markdown",
   "metadata": {},
   "source": [
    "### filter out extreme hcpcs_code columns (top 15 claimed codes, codes with fewer than 5 claims)"
   ]
  },
  {
   "cell_type": "code",
   "execution_count": 11,
   "metadata": {
    "collapsed": false
   },
   "outputs": [
    {
     "data": {
      "text/html": [
       "<div>\n",
       "<table border=\"1\" class=\"dataframe\">\n",
       "  <thead>\n",
       "    <tr style=\"text-align: right;\">\n",
       "      <th></th>\n",
       "      <th>hcpcs_code</th>\n",
       "      <th>count</th>\n",
       "      <th>hcpcs_description</th>\n",
       "    </tr>\n",
       "  </thead>\n",
       "  <tbody>\n",
       "    <tr>\n",
       "      <th>0</th>\n",
       "      <td>J1100</td>\n",
       "      <td>4044</td>\n",
       "      <td>Injection, dexamethasone sodium phosphate, 1mg</td>\n",
       "    </tr>\n",
       "    <tr>\n",
       "      <th>4044</th>\n",
       "      <td>J1200</td>\n",
       "      <td>3494</td>\n",
       "      <td>Injection, diphenhydramine hcl, up to 50 mg</td>\n",
       "    </tr>\n",
       "    <tr>\n",
       "      <th>7538</th>\n",
       "      <td>J2469</td>\n",
       "      <td>3056</td>\n",
       "      <td>Injection, palonosetron hcl, 25 mcg</td>\n",
       "    </tr>\n",
       "    <tr>\n",
       "      <th>10594</th>\n",
       "      <td>J2505</td>\n",
       "      <td>2325</td>\n",
       "      <td>Injection, pegfilgrastim, 6 mg</td>\n",
       "    </tr>\n",
       "    <tr>\n",
       "      <th>12919</th>\n",
       "      <td>J3489</td>\n",
       "      <td>2146</td>\n",
       "      <td>Injection, zoledronic acid, 1 mg</td>\n",
       "    </tr>\n",
       "    <tr>\n",
       "      <th>15065</th>\n",
       "      <td>J9045</td>\n",
       "      <td>2116</td>\n",
       "      <td>Injection, carboplatin, 50 mg</td>\n",
       "    </tr>\n",
       "    <tr>\n",
       "      <th>17181</th>\n",
       "      <td>J7030</td>\n",
       "      <td>2097</td>\n",
       "      <td>Infusion, normal saline solution , 1000 cc</td>\n",
       "    </tr>\n",
       "    <tr>\n",
       "      <th>19278</th>\n",
       "      <td>J3420</td>\n",
       "      <td>1994</td>\n",
       "      <td>Injection, vitamin b-12 cyanocobalamin, up  to 1000 mcg</td>\n",
       "    </tr>\n",
       "    <tr>\n",
       "      <th>21272</th>\n",
       "      <td>J0897</td>\n",
       "      <td>1743</td>\n",
       "      <td>Injection, denosumab, 1 mg</td>\n",
       "    </tr>\n",
       "    <tr>\n",
       "      <th>23015</th>\n",
       "      <td>J2405</td>\n",
       "      <td>1656</td>\n",
       "      <td>Injection, ondansetron hydrochloride, per 1 mg</td>\n",
       "    </tr>\n",
       "    <tr>\n",
       "      <th>24671</th>\n",
       "      <td>J7040</td>\n",
       "      <td>1652</td>\n",
       "      <td>Infusion, normal saline solution, sterile (500 ml=1 unit)</td>\n",
       "    </tr>\n",
       "    <tr>\n",
       "      <th>26323</th>\n",
       "      <td>J0885</td>\n",
       "      <td>1577</td>\n",
       "      <td>Injection, epoetin alfa, (for non-esrd use), 1000 units</td>\n",
       "    </tr>\n",
       "    <tr>\n",
       "      <th>27900</th>\n",
       "      <td>J9310</td>\n",
       "      <td>1451</td>\n",
       "      <td>Injection, rituximab, 100 mg</td>\n",
       "    </tr>\n",
       "    <tr>\n",
       "      <th>29351</th>\n",
       "      <td>J9265</td>\n",
       "      <td>1449</td>\n",
       "      <td>Injection, paclitaxel, 30 mg</td>\n",
       "    </tr>\n",
       "    <tr>\n",
       "      <th>30800</th>\n",
       "      <td>J7050</td>\n",
       "      <td>1367</td>\n",
       "      <td>Infusion, normal saline solution , 250 cc</td>\n",
       "    </tr>\n",
       "  </tbody>\n",
       "</table>\n",
       "</div>"
      ],
      "text/plain": [
       "      hcpcs_code  count  \\\n",
       "0          J1100   4044   \n",
       "4044       J1200   3494   \n",
       "7538       J2469   3056   \n",
       "10594      J2505   2325   \n",
       "12919      J3489   2146   \n",
       "15065      J9045   2116   \n",
       "17181      J7030   2097   \n",
       "19278      J3420   1994   \n",
       "21272      J0897   1743   \n",
       "23015      J2405   1656   \n",
       "24671      J7040   1652   \n",
       "26323      J0885   1577   \n",
       "27900      J9310   1451   \n",
       "29351      J9265   1449   \n",
       "30800      J7050   1367   \n",
       "\n",
       "                                               hcpcs_description  \n",
       "0                 Injection, dexamethasone sodium phosphate, 1mg  \n",
       "4044                 Injection, diphenhydramine hcl, up to 50 mg  \n",
       "7538                         Injection, palonosetron hcl, 25 mcg  \n",
       "10594                             Injection, pegfilgrastim, 6 mg  \n",
       "12919                           Injection, zoledronic acid, 1 mg  \n",
       "15065                              Injection, carboplatin, 50 mg  \n",
       "17181                 Infusion, normal saline solution , 1000 cc  \n",
       "19278    Injection, vitamin b-12 cyanocobalamin, up  to 1000 mcg  \n",
       "21272                                 Injection, denosumab, 1 mg  \n",
       "23015             Injection, ondansetron hydrochloride, per 1 mg  \n",
       "24671  Infusion, normal saline solution, sterile (500 ml=1 unit)  \n",
       "26323    Injection, epoetin alfa, (for non-esrd use), 1000 units  \n",
       "27900                               Injection, rituximab, 100 mg  \n",
       "29351                               Injection, paclitaxel, 30 mg  \n",
       "30800                  Infusion, normal saline solution , 250 cc  "
      ]
     },
     "execution_count": 11,
     "metadata": {},
     "output_type": "execute_result"
    }
   ],
   "source": [
    "## What are the counts for the top claimed codes?\n",
    "counts_per_code = (payments['hcpcs_code'].value_counts().\n",
    "                   reset_index(name='count').\n",
    "                   rename(columns={'index': 'hcpcs_code'}))\n",
    "\n",
    "pd.set_option('max_colwidth', 80)\n",
    "counts_per_code = (counts_per_code.merge(payments[['hcpcs_code', 'hcpcs_description']],\n",
    "                                         on='hcpcs_code', sort=False)\n",
    "                   .drop_duplicates())\n",
    "\n",
    "top_codes_to_drop = list(counts_per_code['hcpcs_code'][:3])\n",
    "counts_per_code.head(15)"
   ]
  },
  {
   "cell_type": "code",
   "execution_count": 12,
   "metadata": {
    "collapsed": true
   },
   "outputs": [],
   "source": [
    "## How many codes have been claimed only once?\n",
    "bottom_codes_to_drop = list(counts_per_code.query('count == 1')['hcpcs_code'])"
   ]
  },
  {
   "cell_type": "code",
   "execution_count": 13,
   "metadata": {
    "collapsed": false
   },
   "outputs": [
    {
     "data": {
      "text/plain": [
       "22"
      ]
     },
     "execution_count": 13,
     "metadata": {},
     "output_type": "execute_result"
    }
   ],
   "source": [
    "len(bottom_codes_to_drop)"
   ]
  },
  {
   "cell_type": "code",
   "execution_count": 14,
   "metadata": {
    "collapsed": false
   },
   "outputs": [
    {
     "name": "stdout",
     "output_type": "stream",
     "text": [
      "number of cols to drop: 25\n"
     ]
    }
   ],
   "source": [
    "## so total columns dropped is:\n",
    "print('number of cols to drop: {0}'.format(len(bottom_codes_to_drop) + len(top_codes_to_drop)))"
   ]
  },
  {
   "cell_type": "code",
   "execution_count": 15,
   "metadata": {
    "collapsed": false
   },
   "outputs": [
    {
     "data": {
      "text/plain": [
       "(4659, 150)"
      ]
     },
     "execution_count": 15,
     "metadata": {},
     "output_type": "execute_result"
    }
   ],
   "source": [
    "by_npi.drop(labels=(top_codes_to_drop + bottom_codes_to_drop), axis=1, inplace=True)\n",
    "by_npi.shape"
   ]
  },
  {
   "cell_type": "code",
   "execution_count": 16,
   "metadata": {
    "collapsed": false
   },
   "outputs": [],
   "source": [
    "## write to file\n",
    "by_npi.to_csv(\"11f_by_npi_reduced_medical_hematology_oncolgists.csv\", index=True)"
   ]
  },
  {
   "cell_type": "markdown",
   "metadata": {},
   "source": [
    "## LDA on filtered data frame using 5 topics"
   ]
  },
  {
   "cell_type": "code",
   "execution_count": 17,
   "metadata": {
    "collapsed": true
   },
   "outputs": [],
   "source": [
    "corpus = matutils.Dense2Corpus(by_npi.as_matrix(), documents_columns=False)"
   ]
  },
  {
   "cell_type": "code",
   "execution_count": 18,
   "metadata": {
    "collapsed": true
   },
   "outputs": [],
   "source": [
    "tfidf = models.TfidfModel(corpus)\n",
    "corpus_tfidf = tfidf[corpus]"
   ]
  },
  {
   "cell_type": "code",
   "execution_count": 19,
   "metadata": {
    "collapsed": false
   },
   "outputs": [
    {
     "name": "stdout",
     "output_type": "stream",
     "text": [
      "calculated in 73.04549360275269s\n"
     ]
    }
   ],
   "source": [
    "time0 = time.time()\n",
    "ldamodel = models.ldamodel.LdaModel(corpus_tfidf, num_topics=5, passes=20)\n",
    "print('calculated in {0}s'.format(time.time()-time0))"
   ]
  },
  {
   "cell_type": "code",
   "execution_count": 20,
   "metadata": {
    "collapsed": true
   },
   "outputs": [],
   "source": [
    "## Save model\n",
    "ldamodel.save(\"11f_lda_5topics_colsDropped_docsDropped_hema_medi_oncology.model\", pickle_protocol=3)"
   ]
  },
  {
   "cell_type": "markdown",
   "metadata": {},
   "source": [
    "## Interpret the 5 topics in the model"
   ]
  },
  {
   "cell_type": "code",
   "execution_count": 21,
   "metadata": {
    "collapsed": true
   },
   "outputs": [],
   "source": [
    "## top 15 words in each topic\n",
    "topics_matrix = ldamodel.show_topics(formatted=False, num_words=15)"
   ]
  },
  {
   "cell_type": "code",
   "execution_count": 22,
   "metadata": {
    "collapsed": true
   },
   "outputs": [],
   "source": [
    "## for each topic, store indices of top 20 hcpcs_codes in a list\n",
    "topic_idx_dict = {}\n",
    "\n",
    "for i in topics_matrix:\n",
    "    topic_idx_dict[i[0]] = [int(word[0]) for word in i[1]]"
   ]
  },
  {
   "cell_type": "code",
   "execution_count": 23,
   "metadata": {
    "collapsed": true
   },
   "outputs": [],
   "source": [
    "## for each topic's list of indexes, get the list of hcpcs_codes\n",
    "topic_dict = {}\n",
    "\n",
    "for k, v in topic_idx_dict.items():\n",
    "    topic_dict[k] = [by_npi.columns.values[i] for i in v]"
   ]
  },
  {
   "cell_type": "code",
   "execution_count": 24,
   "metadata": {
    "collapsed": false
   },
   "outputs": [
    {
     "data": {
      "text/html": [
       "<div>\n",
       "<table border=\"1\" class=\"dataframe\">\n",
       "  <thead>\n",
       "    <tr style=\"text-align: right;\">\n",
       "      <th></th>\n",
       "      <th>hcpcs_code</th>\n",
       "      <th>hcpcs_description</th>\n",
       "    </tr>\n",
       "  </thead>\n",
       "  <tbody>\n",
       "    <tr>\n",
       "      <th>2</th>\n",
       "      <td>J1626</td>\n",
       "      <td>Injection, granisetron hydrochloride, 100 mcg</td>\n",
       "    </tr>\n",
       "    <tr>\n",
       "      <th>4</th>\n",
       "      <td>J0885</td>\n",
       "      <td>Injection, epoetin alfa, (for non-esrd use), 1000 units</td>\n",
       "    </tr>\n",
       "    <tr>\n",
       "      <th>5</th>\n",
       "      <td>J0897</td>\n",
       "      <td>Injection, denosumab, 1 mg</td>\n",
       "    </tr>\n",
       "    <tr>\n",
       "      <th>8</th>\n",
       "      <td>J1442</td>\n",
       "      <td>Injection, filgrastim (g-csf), 1 microgram</td>\n",
       "    </tr>\n",
       "    <tr>\n",
       "      <th>14</th>\n",
       "      <td>J3420</td>\n",
       "      <td>Injection, vitamin b-12 cyanocobalamin, up  to 1000 mcg</td>\n",
       "    </tr>\n",
       "    <tr>\n",
       "      <th>17</th>\n",
       "      <td>J3489</td>\n",
       "      <td>Injection, zoledronic acid, 1 mg</td>\n",
       "    </tr>\n",
       "    <tr>\n",
       "      <th>18</th>\n",
       "      <td>J7030</td>\n",
       "      <td>Infusion, normal saline solution , 1000 cc</td>\n",
       "    </tr>\n",
       "    <tr>\n",
       "      <th>31</th>\n",
       "      <td>J2780</td>\n",
       "      <td>Injection, ranitidine hydrochloride, 25 mg</td>\n",
       "    </tr>\n",
       "    <tr>\n",
       "      <th>33</th>\n",
       "      <td>J7040</td>\n",
       "      <td>Infusion, normal saline solution, sterile (500 ml=1 unit)</td>\n",
       "    </tr>\n",
       "    <tr>\n",
       "      <th>45</th>\n",
       "      <td>J7050</td>\n",
       "      <td>Infusion, normal saline solution , 250 cc</td>\n",
       "    </tr>\n",
       "    <tr>\n",
       "      <th>76</th>\n",
       "      <td>J2405</td>\n",
       "      <td>Injection, ondansetron hydrochloride, per 1 mg</td>\n",
       "    </tr>\n",
       "    <tr>\n",
       "      <th>79</th>\n",
       "      <td>J2916</td>\n",
       "      <td>Injection, sodium ferric gluconate complex in sucrose injection, 12.5 mg</td>\n",
       "    </tr>\n",
       "    <tr>\n",
       "      <th>290</th>\n",
       "      <td>J7060</td>\n",
       "      <td>5% dextrose/water (500 ml = 1 unit)</td>\n",
       "    </tr>\n",
       "    <tr>\n",
       "      <th>852</th>\n",
       "      <td>J7070</td>\n",
       "      <td>Infusion, d5w, 1000 cc</td>\n",
       "    </tr>\n",
       "    <tr>\n",
       "      <th>1005</th>\n",
       "      <td>J1644</td>\n",
       "      <td>Injection, heparin sodium, per 1000 units</td>\n",
       "    </tr>\n",
       "  </tbody>\n",
       "</table>\n",
       "</div>"
      ],
      "text/plain": [
       "     hcpcs_code  \\\n",
       "2         J1626   \n",
       "4         J0885   \n",
       "5         J0897   \n",
       "8         J1442   \n",
       "14        J3420   \n",
       "17        J3489   \n",
       "18        J7030   \n",
       "31        J2780   \n",
       "33        J7040   \n",
       "45        J7050   \n",
       "76        J2405   \n",
       "79        J2916   \n",
       "290       J7060   \n",
       "852       J7070   \n",
       "1005      J1644   \n",
       "\n",
       "                                                             hcpcs_description  \n",
       "2                                Injection, granisetron hydrochloride, 100 mcg  \n",
       "4                      Injection, epoetin alfa, (for non-esrd use), 1000 units  \n",
       "5                                                   Injection, denosumab, 1 mg  \n",
       "8                                   Injection, filgrastim (g-csf), 1 microgram  \n",
       "14                     Injection, vitamin b-12 cyanocobalamin, up  to 1000 mcg  \n",
       "17                                            Injection, zoledronic acid, 1 mg  \n",
       "18                                  Infusion, normal saline solution , 1000 cc  \n",
       "31                                  Injection, ranitidine hydrochloride, 25 mg  \n",
       "33                   Infusion, normal saline solution, sterile (500 ml=1 unit)  \n",
       "45                                   Infusion, normal saline solution , 250 cc  \n",
       "76                              Injection, ondansetron hydrochloride, per 1 mg  \n",
       "79    Injection, sodium ferric gluconate complex in sucrose injection, 12.5 mg  \n",
       "290                                        5% dextrose/water (500 ml = 1 unit)  \n",
       "852                                                     Infusion, d5w, 1000 cc  \n",
       "1005                                 Injection, heparin sodium, per 1000 units  "
      ]
     },
     "execution_count": 24,
     "metadata": {},
     "output_type": "execute_result"
    }
   ],
   "source": [
    "## Topic 0\n",
    "t = 0\n",
    "(payments.loc[payments.hcpcs_code.isin(topic_dict[t]), ['hcpcs_code','hcpcs_description']].\n",
    " drop_duplicates('hcpcs_code'))"
   ]
  },
  {
   "cell_type": "code",
   "execution_count": 25,
   "metadata": {
    "collapsed": false
   },
   "outputs": [
    {
     "data": {
      "text/html": [
       "<div>\n",
       "<table border=\"1\" class=\"dataframe\">\n",
       "  <thead>\n",
       "    <tr style=\"text-align: right;\">\n",
       "      <th></th>\n",
       "      <th>hcpcs_code</th>\n",
       "      <th>hcpcs_description</th>\n",
       "    </tr>\n",
       "  </thead>\n",
       "  <tbody>\n",
       "    <tr>\n",
       "      <th>4</th>\n",
       "      <td>J0885</td>\n",
       "      <td>Injection, epoetin alfa, (for non-esrd use), 1000 units</td>\n",
       "    </tr>\n",
       "    <tr>\n",
       "      <th>5</th>\n",
       "      <td>J0897</td>\n",
       "      <td>Injection, denosumab, 1 mg</td>\n",
       "    </tr>\n",
       "    <tr>\n",
       "      <th>11</th>\n",
       "      <td>J1756</td>\n",
       "      <td>Injection, iron sucrose, 1 mg</td>\n",
       "    </tr>\n",
       "    <tr>\n",
       "      <th>14</th>\n",
       "      <td>J3420</td>\n",
       "      <td>Injection, vitamin b-12 cyanocobalamin, up  to 1000 mcg</td>\n",
       "    </tr>\n",
       "    <tr>\n",
       "      <th>17</th>\n",
       "      <td>J3489</td>\n",
       "      <td>Injection, zoledronic acid, 1 mg</td>\n",
       "    </tr>\n",
       "    <tr>\n",
       "      <th>18</th>\n",
       "      <td>J7030</td>\n",
       "      <td>Infusion, normal saline solution , 1000 cc</td>\n",
       "    </tr>\n",
       "    <tr>\n",
       "      <th>55</th>\n",
       "      <td>J0881</td>\n",
       "      <td>Injection, darbepoetin alfa, 1 microgram (non-esrd use)</td>\n",
       "    </tr>\n",
       "    <tr>\n",
       "      <th>73</th>\n",
       "      <td>J1885</td>\n",
       "      <td>Injection, ketorolac tromethamine, per 15 mg</td>\n",
       "    </tr>\n",
       "    <tr>\n",
       "      <th>187</th>\n",
       "      <td>Q2036</td>\n",
       "      <td>Influenza virus vaccine, split virus, when administered to individuals 3 yea...</td>\n",
       "    </tr>\n",
       "    <tr>\n",
       "      <th>844</th>\n",
       "      <td>J2820</td>\n",
       "      <td>Injection, sargramostim (gm-csf), 50 mcg</td>\n",
       "    </tr>\n",
       "    <tr>\n",
       "      <th>1068</th>\n",
       "      <td>J1446</td>\n",
       "      <td>Injection, tbo-filgrastim, 5 micrograms</td>\n",
       "    </tr>\n",
       "    <tr>\n",
       "      <th>1719</th>\n",
       "      <td>Q2035</td>\n",
       "      <td>Influenza virus vaccine, split virus, when administered to individuals 3 yea...</td>\n",
       "    </tr>\n",
       "    <tr>\n",
       "      <th>2684</th>\n",
       "      <td>Q9965</td>\n",
       "      <td>Low osmolar contrast material, 100-199 mg/ml iodine concentration, per ml</td>\n",
       "    </tr>\n",
       "    <tr>\n",
       "      <th>3466</th>\n",
       "      <td>J1170</td>\n",
       "      <td>Injection, hydromorphone, up to 4 mg</td>\n",
       "    </tr>\n",
       "    <tr>\n",
       "      <th>5528</th>\n",
       "      <td>90670</td>\n",
       "      <td>Pneumococcal vaccine for injection into muscle</td>\n",
       "    </tr>\n",
       "  </tbody>\n",
       "</table>\n",
       "</div>"
      ],
      "text/plain": [
       "     hcpcs_code  \\\n",
       "4         J0885   \n",
       "5         J0897   \n",
       "11        J1756   \n",
       "14        J3420   \n",
       "17        J3489   \n",
       "18        J7030   \n",
       "55        J0881   \n",
       "73        J1885   \n",
       "187       Q2036   \n",
       "844       J2820   \n",
       "1068      J1446   \n",
       "1719      Q2035   \n",
       "2684      Q9965   \n",
       "3466      J1170   \n",
       "5528      90670   \n",
       "\n",
       "                                                                    hcpcs_description  \n",
       "4                             Injection, epoetin alfa, (for non-esrd use), 1000 units  \n",
       "5                                                          Injection, denosumab, 1 mg  \n",
       "11                                                      Injection, iron sucrose, 1 mg  \n",
       "14                            Injection, vitamin b-12 cyanocobalamin, up  to 1000 mcg  \n",
       "17                                                   Injection, zoledronic acid, 1 mg  \n",
       "18                                         Infusion, normal saline solution , 1000 cc  \n",
       "55                            Injection, darbepoetin alfa, 1 microgram (non-esrd use)  \n",
       "73                                       Injection, ketorolac tromethamine, per 15 mg  \n",
       "187   Influenza virus vaccine, split virus, when administered to individuals 3 yea...  \n",
       "844                                          Injection, sargramostim (gm-csf), 50 mcg  \n",
       "1068                                          Injection, tbo-filgrastim, 5 micrograms  \n",
       "1719  Influenza virus vaccine, split virus, when administered to individuals 3 yea...  \n",
       "2684        Low osmolar contrast material, 100-199 mg/ml iodine concentration, per ml  \n",
       "3466                                             Injection, hydromorphone, up to 4 mg  \n",
       "5528                                   Pneumococcal vaccine for injection into muscle  "
      ]
     },
     "execution_count": 25,
     "metadata": {},
     "output_type": "execute_result"
    }
   ],
   "source": [
    "## Topic 1\n",
    "t = 1\n",
    "(payments.loc[payments.hcpcs_code.isin(topic_dict[t]), ['hcpcs_code','hcpcs_description']].\n",
    " drop_duplicates('hcpcs_code'))"
   ]
  },
  {
   "cell_type": "code",
   "execution_count": 26,
   "metadata": {
    "collapsed": false
   },
   "outputs": [
    {
     "data": {
      "text/html": [
       "<div>\n",
       "<table border=\"1\" class=\"dataframe\">\n",
       "  <thead>\n",
       "    <tr style=\"text-align: right;\">\n",
       "      <th></th>\n",
       "      <th>hcpcs_code</th>\n",
       "      <th>hcpcs_description</th>\n",
       "    </tr>\n",
       "  </thead>\n",
       "  <tbody>\n",
       "    <tr>\n",
       "      <th>4</th>\n",
       "      <td>J0885</td>\n",
       "      <td>Injection, epoetin alfa, (for non-esrd use), 1000 units</td>\n",
       "    </tr>\n",
       "    <tr>\n",
       "      <th>5</th>\n",
       "      <td>J0897</td>\n",
       "      <td>Injection, denosumab, 1 mg</td>\n",
       "    </tr>\n",
       "    <tr>\n",
       "      <th>8</th>\n",
       "      <td>J1442</td>\n",
       "      <td>Injection, filgrastim (g-csf), 1 microgram</td>\n",
       "    </tr>\n",
       "    <tr>\n",
       "      <th>10</th>\n",
       "      <td>J1750</td>\n",
       "      <td>Injection, iron dextran, 50 mg</td>\n",
       "    </tr>\n",
       "    <tr>\n",
       "      <th>13</th>\n",
       "      <td>J2505</td>\n",
       "      <td>Injection, pegfilgrastim, 6 mg</td>\n",
       "    </tr>\n",
       "    <tr>\n",
       "      <th>14</th>\n",
       "      <td>J3420</td>\n",
       "      <td>Injection, vitamin b-12 cyanocobalamin, up  to 1000 mcg</td>\n",
       "    </tr>\n",
       "    <tr>\n",
       "      <th>17</th>\n",
       "      <td>J3489</td>\n",
       "      <td>Injection, zoledronic acid, 1 mg</td>\n",
       "    </tr>\n",
       "    <tr>\n",
       "      <th>18</th>\n",
       "      <td>J7030</td>\n",
       "      <td>Infusion, normal saline solution , 1000 cc</td>\n",
       "    </tr>\n",
       "    <tr>\n",
       "      <th>19</th>\n",
       "      <td>J9045</td>\n",
       "      <td>Injection, carboplatin, 50 mg</td>\n",
       "    </tr>\n",
       "    <tr>\n",
       "      <th>24</th>\n",
       "      <td>J9310</td>\n",
       "      <td>Injection, rituximab, 100 mg</td>\n",
       "    </tr>\n",
       "    <tr>\n",
       "      <th>25</th>\n",
       "      <td>Q0138</td>\n",
       "      <td>Injection, ferumoxytol, for treatment of iron deficiency anemia, 1 mg (non-e...</td>\n",
       "    </tr>\n",
       "    <tr>\n",
       "      <th>26</th>\n",
       "      <td>90662</td>\n",
       "      <td>Vaccine for influenza for injection into muscle</td>\n",
       "    </tr>\n",
       "    <tr>\n",
       "      <th>63</th>\n",
       "      <td>Q2037</td>\n",
       "      <td>Influenza virus vaccine, split virus, when administered to individuals 3 yea...</td>\n",
       "    </tr>\n",
       "    <tr>\n",
       "      <th>92</th>\n",
       "      <td>J1720</td>\n",
       "      <td>Injection, hydrocortisone sodium succinate, up to 100 mg</td>\n",
       "    </tr>\n",
       "    <tr>\n",
       "      <th>305</th>\n",
       "      <td>Q2038</td>\n",
       "      <td>Influenza virus vaccine, split virus, when administered to individuals 3 yea...</td>\n",
       "    </tr>\n",
       "  </tbody>\n",
       "</table>\n",
       "</div>"
      ],
      "text/plain": [
       "    hcpcs_code  \\\n",
       "4        J0885   \n",
       "5        J0897   \n",
       "8        J1442   \n",
       "10       J1750   \n",
       "13       J2505   \n",
       "14       J3420   \n",
       "17       J3489   \n",
       "18       J7030   \n",
       "19       J9045   \n",
       "24       J9310   \n",
       "25       Q0138   \n",
       "26       90662   \n",
       "63       Q2037   \n",
       "92       J1720   \n",
       "305      Q2038   \n",
       "\n",
       "                                                                   hcpcs_description  \n",
       "4                            Injection, epoetin alfa, (for non-esrd use), 1000 units  \n",
       "5                                                         Injection, denosumab, 1 mg  \n",
       "8                                         Injection, filgrastim (g-csf), 1 microgram  \n",
       "10                                                    Injection, iron dextran, 50 mg  \n",
       "13                                                    Injection, pegfilgrastim, 6 mg  \n",
       "14                           Injection, vitamin b-12 cyanocobalamin, up  to 1000 mcg  \n",
       "17                                                  Injection, zoledronic acid, 1 mg  \n",
       "18                                        Infusion, normal saline solution , 1000 cc  \n",
       "19                                                     Injection, carboplatin, 50 mg  \n",
       "24                                                      Injection, rituximab, 100 mg  \n",
       "25   Injection, ferumoxytol, for treatment of iron deficiency anemia, 1 mg (non-e...  \n",
       "26                                   Vaccine for influenza for injection into muscle  \n",
       "63   Influenza virus vaccine, split virus, when administered to individuals 3 yea...  \n",
       "92                          Injection, hydrocortisone sodium succinate, up to 100 mg  \n",
       "305  Influenza virus vaccine, split virus, when administered to individuals 3 yea...  "
      ]
     },
     "execution_count": 26,
     "metadata": {},
     "output_type": "execute_result"
    }
   ],
   "source": [
    "## Topic 2\n",
    "t = 2\n",
    "(payments.loc[payments.hcpcs_code.isin(topic_dict[t]), ['hcpcs_code','hcpcs_description']].\n",
    " drop_duplicates('hcpcs_code'))"
   ]
  },
  {
   "cell_type": "code",
   "execution_count": 27,
   "metadata": {
    "collapsed": false
   },
   "outputs": [
    {
     "data": {
      "text/html": [
       "<div>\n",
       "<table border=\"1\" class=\"dataframe\">\n",
       "  <thead>\n",
       "    <tr style=\"text-align: right;\">\n",
       "      <th></th>\n",
       "      <th>hcpcs_code</th>\n",
       "      <th>hcpcs_description</th>\n",
       "    </tr>\n",
       "  </thead>\n",
       "  <tbody>\n",
       "    <tr>\n",
       "      <th>2</th>\n",
       "      <td>J1626</td>\n",
       "      <td>Injection, granisetron hydrochloride, 100 mcg</td>\n",
       "    </tr>\n",
       "    <tr>\n",
       "      <th>5</th>\n",
       "      <td>J0897</td>\n",
       "      <td>Injection, denosumab, 1 mg</td>\n",
       "    </tr>\n",
       "    <tr>\n",
       "      <th>13</th>\n",
       "      <td>J2505</td>\n",
       "      <td>Injection, pegfilgrastim, 6 mg</td>\n",
       "    </tr>\n",
       "    <tr>\n",
       "      <th>17</th>\n",
       "      <td>J3489</td>\n",
       "      <td>Injection, zoledronic acid, 1 mg</td>\n",
       "    </tr>\n",
       "    <tr>\n",
       "      <th>18</th>\n",
       "      <td>J7030</td>\n",
       "      <td>Infusion, normal saline solution , 1000 cc</td>\n",
       "    </tr>\n",
       "    <tr>\n",
       "      <th>19</th>\n",
       "      <td>J9045</td>\n",
       "      <td>Injection, carboplatin, 50 mg</td>\n",
       "    </tr>\n",
       "    <tr>\n",
       "      <th>20</th>\n",
       "      <td>J9190</td>\n",
       "      <td>Injection, fluorouracil, 500 mg</td>\n",
       "    </tr>\n",
       "    <tr>\n",
       "      <th>21</th>\n",
       "      <td>J9201</td>\n",
       "      <td>Injection, gemcitabine hydrochloride, 200 mg</td>\n",
       "    </tr>\n",
       "    <tr>\n",
       "      <th>23</th>\n",
       "      <td>J9265</td>\n",
       "      <td>Injection, paclitaxel, 30 mg</td>\n",
       "    </tr>\n",
       "    <tr>\n",
       "      <th>31</th>\n",
       "      <td>J2780</td>\n",
       "      <td>Injection, ranitidine hydrochloride, 25 mg</td>\n",
       "    </tr>\n",
       "    <tr>\n",
       "      <th>54</th>\n",
       "      <td>Q9967</td>\n",
       "      <td>Low osmolar contrast material, 300-399 mg/ml iodine concentration, per ml</td>\n",
       "    </tr>\n",
       "    <tr>\n",
       "      <th>55</th>\n",
       "      <td>J0881</td>\n",
       "      <td>Injection, darbepoetin alfa, 1 microgram (non-esrd use)</td>\n",
       "    </tr>\n",
       "    <tr>\n",
       "      <th>133</th>\n",
       "      <td>J0640</td>\n",
       "      <td>Injection, leucovorin calcium, per 50 mg</td>\n",
       "    </tr>\n",
       "    <tr>\n",
       "      <th>145</th>\n",
       "      <td>J9041</td>\n",
       "      <td>Injection, bortezomib, 0.1 mg</td>\n",
       "    </tr>\n",
       "    <tr>\n",
       "      <th>200</th>\n",
       "      <td>J1453</td>\n",
       "      <td>Injection, fosaprepitant, 1 mg</td>\n",
       "    </tr>\n",
       "  </tbody>\n",
       "</table>\n",
       "</div>"
      ],
      "text/plain": [
       "    hcpcs_code  \\\n",
       "2        J1626   \n",
       "5        J0897   \n",
       "13       J2505   \n",
       "17       J3489   \n",
       "18       J7030   \n",
       "19       J9045   \n",
       "20       J9190   \n",
       "21       J9201   \n",
       "23       J9265   \n",
       "31       J2780   \n",
       "54       Q9967   \n",
       "55       J0881   \n",
       "133      J0640   \n",
       "145      J9041   \n",
       "200      J1453   \n",
       "\n",
       "                                                             hcpcs_description  \n",
       "2                                Injection, granisetron hydrochloride, 100 mcg  \n",
       "5                                                   Injection, denosumab, 1 mg  \n",
       "13                                              Injection, pegfilgrastim, 6 mg  \n",
       "17                                            Injection, zoledronic acid, 1 mg  \n",
       "18                                  Infusion, normal saline solution , 1000 cc  \n",
       "19                                               Injection, carboplatin, 50 mg  \n",
       "20                                             Injection, fluorouracil, 500 mg  \n",
       "21                                Injection, gemcitabine hydrochloride, 200 mg  \n",
       "23                                                Injection, paclitaxel, 30 mg  \n",
       "31                                  Injection, ranitidine hydrochloride, 25 mg  \n",
       "54   Low osmolar contrast material, 300-399 mg/ml iodine concentration, per ml  \n",
       "55                     Injection, darbepoetin alfa, 1 microgram (non-esrd use)  \n",
       "133                                   Injection, leucovorin calcium, per 50 mg  \n",
       "145                                              Injection, bortezomib, 0.1 mg  \n",
       "200                                             Injection, fosaprepitant, 1 mg  "
      ]
     },
     "execution_count": 27,
     "metadata": {},
     "output_type": "execute_result"
    }
   ],
   "source": [
    "## Topic 3\n",
    "t = 3\n",
    "(payments.loc[payments.hcpcs_code.isin(topic_dict[t]), ['hcpcs_code','hcpcs_description']].\n",
    " drop_duplicates('hcpcs_code'))"
   ]
  },
  {
   "cell_type": "code",
   "execution_count": 28,
   "metadata": {
    "collapsed": false
   },
   "outputs": [
    {
     "data": {
      "text/html": [
       "<div>\n",
       "<table border=\"1\" class=\"dataframe\">\n",
       "  <thead>\n",
       "    <tr style=\"text-align: right;\">\n",
       "      <th></th>\n",
       "      <th>hcpcs_code</th>\n",
       "      <th>hcpcs_description</th>\n",
       "    </tr>\n",
       "  </thead>\n",
       "  <tbody>\n",
       "    <tr>\n",
       "      <th>5</th>\n",
       "      <td>J0897</td>\n",
       "      <td>Injection, denosumab, 1 mg</td>\n",
       "    </tr>\n",
       "    <tr>\n",
       "      <th>10</th>\n",
       "      <td>J1750</td>\n",
       "      <td>Injection, iron dextran, 50 mg</td>\n",
       "    </tr>\n",
       "    <tr>\n",
       "      <th>13</th>\n",
       "      <td>J2505</td>\n",
       "      <td>Injection, pegfilgrastim, 6 mg</td>\n",
       "    </tr>\n",
       "    <tr>\n",
       "      <th>14</th>\n",
       "      <td>J3420</td>\n",
       "      <td>Injection, vitamin b-12 cyanocobalamin, up  to 1000 mcg</td>\n",
       "    </tr>\n",
       "    <tr>\n",
       "      <th>15</th>\n",
       "      <td>J3475</td>\n",
       "      <td>Injection, magnesium sulfate, per 500 mg</td>\n",
       "    </tr>\n",
       "    <tr>\n",
       "      <th>17</th>\n",
       "      <td>J3489</td>\n",
       "      <td>Injection, zoledronic acid, 1 mg</td>\n",
       "    </tr>\n",
       "    <tr>\n",
       "      <th>18</th>\n",
       "      <td>J7030</td>\n",
       "      <td>Infusion, normal saline solution , 1000 cc</td>\n",
       "    </tr>\n",
       "    <tr>\n",
       "      <th>19</th>\n",
       "      <td>J9045</td>\n",
       "      <td>Injection, carboplatin, 50 mg</td>\n",
       "    </tr>\n",
       "    <tr>\n",
       "      <th>23</th>\n",
       "      <td>J9265</td>\n",
       "      <td>Injection, paclitaxel, 30 mg</td>\n",
       "    </tr>\n",
       "    <tr>\n",
       "      <th>24</th>\n",
       "      <td>J9310</td>\n",
       "      <td>Injection, rituximab, 100 mg</td>\n",
       "    </tr>\n",
       "    <tr>\n",
       "      <th>31</th>\n",
       "      <td>J2780</td>\n",
       "      <td>Injection, ranitidine hydrochloride, 25 mg</td>\n",
       "    </tr>\n",
       "    <tr>\n",
       "      <th>33</th>\n",
       "      <td>J7040</td>\n",
       "      <td>Infusion, normal saline solution, sterile (500 ml=1 unit)</td>\n",
       "    </tr>\n",
       "    <tr>\n",
       "      <th>72</th>\n",
       "      <td>J1642</td>\n",
       "      <td>Injection, heparin sodium, (heparin lock flush), per 10 units</td>\n",
       "    </tr>\n",
       "    <tr>\n",
       "      <th>76</th>\n",
       "      <td>J2405</td>\n",
       "      <td>Injection, ondansetron hydrochloride, per 1 mg</td>\n",
       "    </tr>\n",
       "    <tr>\n",
       "      <th>1136</th>\n",
       "      <td>J1561</td>\n",
       "      <td>Injection, immune globulin, (gamunex-c/gammaked), non-lyophilized (e.g. liqu...</td>\n",
       "    </tr>\n",
       "  </tbody>\n",
       "</table>\n",
       "</div>"
      ],
      "text/plain": [
       "     hcpcs_code  \\\n",
       "5         J0897   \n",
       "10        J1750   \n",
       "13        J2505   \n",
       "14        J3420   \n",
       "15        J3475   \n",
       "17        J3489   \n",
       "18        J7030   \n",
       "19        J9045   \n",
       "23        J9265   \n",
       "24        J9310   \n",
       "31        J2780   \n",
       "33        J7040   \n",
       "72        J1642   \n",
       "76        J2405   \n",
       "1136      J1561   \n",
       "\n",
       "                                                                    hcpcs_description  \n",
       "5                                                          Injection, denosumab, 1 mg  \n",
       "10                                                     Injection, iron dextran, 50 mg  \n",
       "13                                                     Injection, pegfilgrastim, 6 mg  \n",
       "14                            Injection, vitamin b-12 cyanocobalamin, up  to 1000 mcg  \n",
       "15                                           Injection, magnesium sulfate, per 500 mg  \n",
       "17                                                   Injection, zoledronic acid, 1 mg  \n",
       "18                                         Infusion, normal saline solution , 1000 cc  \n",
       "19                                                      Injection, carboplatin, 50 mg  \n",
       "23                                                       Injection, paclitaxel, 30 mg  \n",
       "24                                                       Injection, rituximab, 100 mg  \n",
       "31                                         Injection, ranitidine hydrochloride, 25 mg  \n",
       "33                          Infusion, normal saline solution, sterile (500 ml=1 unit)  \n",
       "72                      Injection, heparin sodium, (heparin lock flush), per 10 units  \n",
       "76                                     Injection, ondansetron hydrochloride, per 1 mg  \n",
       "1136  Injection, immune globulin, (gamunex-c/gammaked), non-lyophilized (e.g. liqu...  "
      ]
     },
     "execution_count": 28,
     "metadata": {},
     "output_type": "execute_result"
    }
   ],
   "source": [
    "## Topic 4\n",
    "t = 4\n",
    "(payments.loc[payments.hcpcs_code.isin(topic_dict[t]), ['hcpcs_code','hcpcs_description']].\n",
    " drop_duplicates('hcpcs_code'))"
   ]
  },
  {
   "cell_type": "markdown",
   "metadata": {},
   "source": [
    "## Plot distribution of providers per topic"
   ]
  },
  {
   "cell_type": "code",
   "execution_count": 29,
   "metadata": {
    "collapsed": true
   },
   "outputs": [],
   "source": [
    "## per document (provider), assign topic based on highest-probability topic out of the 10\n",
    "topic_per_doc = []\n",
    "for i in corpus_tfidf:\n",
    "    topic_per_doc.append(np.argmax(np.array(ldamodel.get_document_topics(i))[:,1]))"
   ]
  },
  {
   "cell_type": "code",
   "execution_count": 30,
   "metadata": {
    "collapsed": false
   },
   "outputs": [
    {
     "data": {
      "image/png": "[encoded data removed]",
      "text/plain": [
       "<matplotlib.figure.Figure at 0x7f1c545dc2b0>"
      ]
     },
     "metadata": {},
     "output_type": "display_data"
    }
   ],
   "source": [
    "## distribution of providers among topics\n",
    "ax = sns.countplot(x='topic',data=pd.DataFrame(topic_per_doc).rename(columns={0:'topic'}))\n",
    "sns.despine()"
   ]
  },
  {
   "cell_type": "markdown",
   "metadata": {},
   "source": [
    "## Color code distribution over topics by provider_type"
   ]
  },
  {
   "cell_type": "code",
   "execution_count": 31,
   "metadata": {
    "collapsed": false
   },
   "outputs": [],
   "source": [
    "by_npi.index = by_npi.index.astype(str)"
   ]
  },
  {
   "cell_type": "code",
   "execution_count": 32,
   "metadata": {
    "collapsed": true
   },
   "outputs": [],
   "source": [
    "color_codes = (pd.DataFrame({'npi':by_npi.index}).\n",
    "               merge(payments.drop_duplicates('npi')[['npi', 'provider_type']]))"
   ]
  },
  {
   "cell_type": "code",
   "execution_count": 33,
   "metadata": {
    "collapsed": false
   },
   "outputs": [
    {
     "data": {
      "text/plain": [
       "4659"
      ]
     },
     "execution_count": 33,
     "metadata": {},
     "output_type": "execute_result"
    }
   ],
   "source": [
    "## color code for plotting\n",
    "len(color_codes)"
   ]
  },
  {
   "cell_type": "code",
   "execution_count": 34,
   "metadata": {
    "collapsed": false
   },
   "outputs": [
    {
     "data": {
      "text/html": [
       "<div>\n",
       "<table border=\"1\" class=\"dataframe\">\n",
       "  <thead>\n",
       "    <tr style=\"text-align: right;\">\n",
       "      <th></th>\n",
       "      <th>npi</th>\n",
       "      <th>provider_type</th>\n",
       "    </tr>\n",
       "  </thead>\n",
       "  <tbody>\n",
       "    <tr>\n",
       "      <th>0</th>\n",
       "      <td>1003019571</td>\n",
       "      <td>Medical Oncology</td>\n",
       "    </tr>\n",
       "    <tr>\n",
       "      <th>1</th>\n",
       "      <td>1003031212</td>\n",
       "      <td>Hematology/Oncology</td>\n",
       "    </tr>\n",
       "    <tr>\n",
       "      <th>2</th>\n",
       "      <td>1003079997</td>\n",
       "      <td>Hematology/Oncology</td>\n",
       "    </tr>\n",
       "    <tr>\n",
       "      <th>3</th>\n",
       "      <td>1003099813</td>\n",
       "      <td>Hematology/Oncology</td>\n",
       "    </tr>\n",
       "    <tr>\n",
       "      <th>4</th>\n",
       "      <td>1003801689</td>\n",
       "      <td>Hematology/Oncology</td>\n",
       "    </tr>\n",
       "  </tbody>\n",
       "</table>\n",
       "</div>"
      ],
      "text/plain": [
       "          npi        provider_type\n",
       "0  1003019571     Medical Oncology\n",
       "1  1003031212  Hematology/Oncology\n",
       "2  1003079997  Hematology/Oncology\n",
       "3  1003099813  Hematology/Oncology\n",
       "4  1003801689  Hematology/Oncology"
      ]
     },
     "execution_count": 34,
     "metadata": {},
     "output_type": "execute_result"
    }
   ],
   "source": [
    "color_codes.head()"
   ]
  },
  {
   "cell_type": "code",
   "execution_count": 35,
   "metadata": {
    "collapsed": false
   },
   "outputs": [
    {
     "data": {
      "text/html": [
       "<div>\n",
       "<table border=\"1\" class=\"dataframe\">\n",
       "  <thead>\n",
       "    <tr style=\"text-align: right;\">\n",
       "      <th></th>\n",
       "      <th>topic</th>\n",
       "      <th>npi</th>\n",
       "      <th>provider_type</th>\n",
       "    </tr>\n",
       "  </thead>\n",
       "  <tbody>\n",
       "    <tr>\n",
       "      <th>0</th>\n",
       "      <td>3</td>\n",
       "      <td>1003019571</td>\n",
       "      <td>Medical Oncology</td>\n",
       "    </tr>\n",
       "    <tr>\n",
       "      <th>1</th>\n",
       "      <td>2</td>\n",
       "      <td>1003031212</td>\n",
       "      <td>Hematology/Oncology</td>\n",
       "    </tr>\n",
       "    <tr>\n",
       "      <th>2</th>\n",
       "      <td>3</td>\n",
       "      <td>1003079997</td>\n",
       "      <td>Hematology/Oncology</td>\n",
       "    </tr>\n",
       "    <tr>\n",
       "      <th>3</th>\n",
       "      <td>0</td>\n",
       "      <td>1003099813</td>\n",
       "      <td>Hematology/Oncology</td>\n",
       "    </tr>\n",
       "    <tr>\n",
       "      <th>4</th>\n",
       "      <td>3</td>\n",
       "      <td>1003801689</td>\n",
       "      <td>Hematology/Oncology</td>\n",
       "    </tr>\n",
       "  </tbody>\n",
       "</table>\n",
       "</div>"
      ],
      "text/plain": [
       "   topic         npi        provider_type\n",
       "0      3  1003019571     Medical Oncology\n",
       "1      2  1003031212  Hematology/Oncology\n",
       "2      3  1003079997  Hematology/Oncology\n",
       "3      0  1003099813  Hematology/Oncology\n",
       "4      3  1003801689  Hematology/Oncology"
      ]
     },
     "execution_count": 35,
     "metadata": {},
     "output_type": "execute_result"
    }
   ],
   "source": [
    "topic_per_doc_df = (pd.concat([pd.DataFrame(topic_per_doc).rename(columns={0:'topic'}),\n",
    "                              color_codes], axis=1, ignore_index=True).\n",
    "                    rename(columns={0:'topic',1:'npi',2:'provider_type'}))\n",
    "\n",
    "topic_per_doc_df.head()\n",
    "#topic_per_doc_df = (pd.concat([pd.DataFrame(topic_per_doc), fraud_label], axis=1, ignore_index=True).\n",
    "#                        rename(columns={0:'topic',1:'fraud'}))"
   ]
  },
  {
   "cell_type": "code",
   "execution_count": 36,
   "metadata": {
    "collapsed": false
   },
   "outputs": [],
   "source": [
    "mydf = (topic_per_doc_df.\n",
    "        groupby(['topic','provider_type']).\n",
    "        count().\n",
    "        rename(columns={'npi':'counts'}).\n",
    "        reset_index())"
   ]
  },
  {
   "cell_type": "code",
   "execution_count": 37,
   "metadata": {
    "collapsed": false
   },
   "outputs": [
    {
     "data": {
      "text/html": [
       "<div>\n",
       "<table border=\"1\" class=\"dataframe\">\n",
       "  <thead>\n",
       "    <tr style=\"text-align: right;\">\n",
       "      <th></th>\n",
       "      <th>topic</th>\n",
       "      <th>provider_type</th>\n",
       "      <th>counts</th>\n",
       "    </tr>\n",
       "  </thead>\n",
       "  <tbody>\n",
       "    <tr>\n",
       "      <th>0</th>\n",
       "      <td>0</td>\n",
       "      <td>Hematology/Oncology</td>\n",
       "      <td>808</td>\n",
       "    </tr>\n",
       "    <tr>\n",
       "      <th>1</th>\n",
       "      <td>0</td>\n",
       "      <td>Medical Oncology</td>\n",
       "      <td>188</td>\n",
       "    </tr>\n",
       "    <tr>\n",
       "      <th>2</th>\n",
       "      <td>1</td>\n",
       "      <td>Hematology/Oncology</td>\n",
       "      <td>178</td>\n",
       "    </tr>\n",
       "    <tr>\n",
       "      <th>3</th>\n",
       "      <td>1</td>\n",
       "      <td>Medical Oncology</td>\n",
       "      <td>39</td>\n",
       "    </tr>\n",
       "    <tr>\n",
       "      <th>4</th>\n",
       "      <td>2</td>\n",
       "      <td>Hematology/Oncology</td>\n",
       "      <td>690</td>\n",
       "    </tr>\n",
       "    <tr>\n",
       "      <th>5</th>\n",
       "      <td>2</td>\n",
       "      <td>Medical Oncology</td>\n",
       "      <td>176</td>\n",
       "    </tr>\n",
       "    <tr>\n",
       "      <th>6</th>\n",
       "      <td>3</td>\n",
       "      <td>Hematology/Oncology</td>\n",
       "      <td>1467</td>\n",
       "    </tr>\n",
       "    <tr>\n",
       "      <th>7</th>\n",
       "      <td>3</td>\n",
       "      <td>Medical Oncology</td>\n",
       "      <td>557</td>\n",
       "    </tr>\n",
       "    <tr>\n",
       "      <th>8</th>\n",
       "      <td>4</td>\n",
       "      <td>Hematology/Oncology</td>\n",
       "      <td>460</td>\n",
       "    </tr>\n",
       "    <tr>\n",
       "      <th>9</th>\n",
       "      <td>4</td>\n",
       "      <td>Medical Oncology</td>\n",
       "      <td>96</td>\n",
       "    </tr>\n",
       "  </tbody>\n",
       "</table>\n",
       "</div>"
      ],
      "text/plain": [
       "   topic        provider_type  counts\n",
       "0      0  Hematology/Oncology     808\n",
       "1      0     Medical Oncology     188\n",
       "2      1  Hematology/Oncology     178\n",
       "3      1     Medical Oncology      39\n",
       "4      2  Hematology/Oncology     690\n",
       "5      2     Medical Oncology     176\n",
       "6      3  Hematology/Oncology    1467\n",
       "7      3     Medical Oncology     557\n",
       "8      4  Hematology/Oncology     460\n",
       "9      4     Medical Oncology      96"
      ]
     },
     "execution_count": 37,
     "metadata": {},
     "output_type": "execute_result"
    }
   ],
   "source": [
    "mydf.head(10)"
   ]
  },
  {
   "cell_type": "code",
   "execution_count": 38,
   "metadata": {
    "collapsed": false
   },
   "outputs": [
    {
     "data": {
      "image/png": "[encoded data removed]",
      "text/plain": [
       "<matplotlib.figure.Figure at 0x7f1c545bf128>"
      ]
     },
     "metadata": {},
     "output_type": "display_data"
    }
   ],
   "source": [
    "ax = sns.barplot(x='topic', y='counts', hue='provider_type', data=mydf)\n",
    "sns.despine()"
   ]
  },
  {
   "cell_type": "code",
   "execution_count": 39,
   "metadata": {
    "collapsed": false
   },
   "outputs": [
    {
     "data": {
      "text/html": [
       "<div>\n",
       "<table border=\"1\" class=\"dataframe\">\n",
       "  <thead>\n",
       "    <tr style=\"text-align: right;\">\n",
       "      <th></th>\n",
       "      <th>topic</th>\n",
       "      <th>provider_type</th>\n",
       "      <th>counts</th>\n",
       "    </tr>\n",
       "  </thead>\n",
       "  <tbody>\n",
       "    <tr>\n",
       "      <th>0</th>\n",
       "      <td>0</td>\n",
       "      <td>Hematology/Oncology</td>\n",
       "      <td>0.224258</td>\n",
       "    </tr>\n",
       "    <tr>\n",
       "      <th>1</th>\n",
       "      <td>0</td>\n",
       "      <td>Medical Oncology</td>\n",
       "      <td>0.178030</td>\n",
       "    </tr>\n",
       "    <tr>\n",
       "      <th>2</th>\n",
       "      <td>1</td>\n",
       "      <td>Hematology/Oncology</td>\n",
       "      <td>0.049403</td>\n",
       "    </tr>\n",
       "    <tr>\n",
       "      <th>3</th>\n",
       "      <td>1</td>\n",
       "      <td>Medical Oncology</td>\n",
       "      <td>0.036932</td>\n",
       "    </tr>\n",
       "    <tr>\n",
       "      <th>4</th>\n",
       "      <td>2</td>\n",
       "      <td>Hematology/Oncology</td>\n",
       "      <td>0.191507</td>\n",
       "    </tr>\n",
       "  </tbody>\n",
       "</table>\n",
       "</div>"
      ],
      "text/plain": [
       "   topic        provider_type    counts\n",
       "0      0  Hematology/Oncology  0.224258\n",
       "1      0     Medical Oncology  0.178030\n",
       "2      1  Hematology/Oncology  0.049403\n",
       "3      1     Medical Oncology  0.036932\n",
       "4      2  Hematology/Oncology  0.191507"
      ]
     },
     "execution_count": 39,
     "metadata": {},
     "output_type": "execute_result"
    }
   ],
   "source": [
    "## plot fractions per provider_type rather than absolute counts across topics\n",
    "\n",
    "## rescale each of the counts by overall total per fraud group\n",
    "#mydf.groupby(['provider_type']).transform(lambda x: x.sum()['counts'])\n",
    "types = list(payments['provider_type'].unique())\n",
    "\n",
    "for t in types:\n",
    "    mydf.loc[mydf.provider_type == t, 'counts']  = (mydf.loc[mydf.provider_type == t, 'counts'] / \n",
    "                                          float(sum(mydf.loc[mydf.provider_type == t, 'counts'])))\n",
    "\n",
    "mydf.head()"
   ]
  },
  {
   "cell_type": "code",
   "execution_count": 40,
   "metadata": {
    "collapsed": false
   },
   "outputs": [
    {
     "data": {
      "image/png": "[encoded data removed]",
      "text/plain": [
       "<matplotlib.figure.Figure at 0x7f1c5454bf98>"
      ]
     },
     "metadata": {},
     "output_type": "display_data"
    }
   ],
   "source": [
    "ax = sns.barplot(x='topic', y='counts', hue='provider_type', data=mydf)\n",
    "sns.despine()"
   ]
  },
  {
   "cell_type": "markdown",
   "metadata": {},
   "source": [
    "## Plot doctors in topic space"
   ]
  },
  {
   "cell_type": "code",
   "execution_count": 41,
   "metadata": {
    "collapsed": true
   },
   "outputs": [],
   "source": [
    "from sklearn.manifold import TSNE\n",
    "#from sklearn import preprocessing"
   ]
  },
  {
   "cell_type": "code",
   "execution_count": 42,
   "metadata": {
    "collapsed": false
   },
   "outputs": [
    {
     "data": {
      "text/plain": [
       "(4659, 5)"
      ]
     },
     "execution_count": 42,
     "metadata": {},
     "output_type": "execute_result"
    }
   ],
   "source": [
    "topics_per_doc = []\n",
    "\n",
    "## Get features per doc (probability scores over topics)\n",
    "for doc in corpus_tfidf:\n",
    "    topics_per_doc.append(np.array(ldamodel.get_document_topics(doc))[:,1])\n",
    "\n",
    "by_npi_topics = pd.DataFrame(topics_per_doc)\n",
    "by_npi_topics.shape"
   ]
  },
  {
   "cell_type": "code",
   "execution_count": 43,
   "metadata": {
    "collapsed": false
   },
   "outputs": [
    {
     "name": "stdout",
     "output_type": "stream",
     "text": [
      "[t-SNE] Computing pairwise distances...\n",
      "[t-SNE] Computing 121 nearest neighbors...\n",
      "[t-SNE] Computed conditional probabilities for sample 1000 / 4659\n",
      "[t-SNE] Computed conditional probabilities for sample 2000 / 4659\n",
      "[t-SNE] Computed conditional probabilities for sample 3000 / 4659\n",
      "[t-SNE] Computed conditional probabilities for sample 4000 / 4659\n",
      "[t-SNE] Computed conditional probabilities for sample 4659 / 4659\n",
      "[t-SNE] Mean sigma: 0.000000\n",
      "[t-SNE] Iteration 25: error = 1.7265815, gradient norm = 0.0100696\n",
      "[t-SNE] Iteration 50: error = 1.6283587, gradient norm = 0.0065855\n",
      "[t-SNE] Iteration 75: error = 1.2217159, gradient norm = 0.0027479\n",
      "[t-SNE] Iteration 100: error = 1.1329919, gradient norm = 0.0022627\n",
      "[t-SNE] Error after 100 iterations with early exaggeration: 1.132992\n",
      "[t-SNE] Iteration 125: error = 0.9929127, gradient norm = 0.0016254\n",
      "[t-SNE] Iteration 150: error = 0.9526306, gradient norm = 0.0014844\n",
      "[t-SNE] Iteration 175: error = 0.9424084, gradient norm = 0.0014529\n",
      "[t-SNE] Iteration 200: error = 0.9397072, gradient norm = 0.0014551\n",
      "[t-SNE] Iteration 225: error = 0.9390823, gradient norm = 0.0014414\n",
      "[t-SNE] Iteration 250: error = 0.9388842, gradient norm = 0.0014408\n",
      "[t-SNE] Iteration 275: error = 0.9388267, gradient norm = 0.0014406\n",
      "[t-SNE] Iteration 300: error = 0.9388109, gradient norm = 0.0014406\n",
      "[t-SNE] Iteration 300: error difference 0.000000. Finished.\n",
      "[t-SNE] Error after 300 iterations: 0.938811\n"
     ]
    }
   ],
   "source": [
    "X_embedded = TSNE(n_components=2, perplexity=40, verbose=2).fit_transform(by_npi_topics.as_matrix())"
   ]
  },
  {
   "cell_type": "code",
   "execution_count": 44,
   "metadata": {
    "collapsed": false
   },
   "outputs": [],
   "source": [
    "X_embedded_df = pd.DataFrame(X_embedded)\n",
    "X_embedded_df = (pd.concat([X_embedded_df, topic_per_doc_df['provider_type']], axis=1, ignore_index=True)).rename(columns={0:'x', 1:'y', 2:'provider_type'})"
   ]
  },
  {
   "cell_type": "code",
   "execution_count": 45,
   "metadata": {
    "collapsed": false
   },
   "outputs": [
    {
     "data": {
      "text/plain": [
       "<matplotlib.figure.Figure at 0x7f1c505b8c88>"
      ]
     },
     "metadata": {},
     "output_type": "display_data"
    },
    {
     "data": {
      "image/png": "[encoded data removed]",
      "text/plain": [
       "<matplotlib.figure.Figure at 0x7f1c505b8da0>"
      ]
     },
     "metadata": {},
     "output_type": "display_data"
    }
   ],
   "source": [
    "#plt.rcParams['figure.figsize'] = (20.0, 20.0)\n",
    "#plt.figure(figsize=(8, 6))\n",
    "plt.rcParams['figure.figsize']=(10,20)\n",
    "fig = plt.figure(figsize=(10,10))\n",
    "sns.lmplot(x='x', y='y', data=X_embedded_df, hue='provider_type', fit_reg=False)\n",
    "fig = plt.gcf()\n",
    "fig.set_figheight(10)\n",
    "fig.set_figwidth(15)\n",
    "#plt.rcParams['figure.figsize'] = (20.0, 20.0)"
   ]
  },
  {
   "cell_type": "markdown",
   "metadata": {},
   "source": [
    "## tsne on original space"
   ]
  },
  {
   "cell_type": "code",
   "execution_count": 46,
   "metadata": {
    "collapsed": false
   },
   "outputs": [
    {
     "name": "stdout",
     "output_type": "stream",
     "text": [
      "[t-SNE] Computing pairwise distances...\n",
      "[t-SNE] Computing 121 nearest neighbors...\n",
      "[t-SNE] Computed conditional probabilities for sample 1000 / 4659\n",
      "[t-SNE] Computed conditional probabilities for sample 2000 / 4659\n",
      "[t-SNE] Computed conditional probabilities for sample 3000 / 4659\n",
      "[t-SNE] Computed conditional probabilities for sample 4000 / 4659\n",
      "[t-SNE] Computed conditional probabilities for sample 4659 / 4659\n",
      "[t-SNE] Mean sigma: 0.000000\n",
      "[t-SNE] Iteration 25: error = 1.4693062, gradient norm = 0.0097312\n",
      "[t-SNE] Iteration 50: error = 1.4129063, gradient norm = 0.0065684\n",
      "[t-SNE] Iteration 75: error = 1.1812106, gradient norm = 0.0030059\n",
      "[t-SNE] Iteration 100: error = 1.1294881, gradient norm = 0.0029412\n",
      "[t-SNE] Error after 100 iterations with early exaggeration: 1.129488\n",
      "[t-SNE] Iteration 125: error = 1.0359526, gradient norm = 0.0024978\n",
      "[t-SNE] Iteration 150: error = 1.0046009, gradient norm = 0.0023488\n",
      "[t-SNE] Iteration 175: error = 0.9972574, gradient norm = 0.0023210\n",
      "[t-SNE] Iteration 200: error = 0.9952835, gradient norm = 0.0023152\n",
      "[t-SNE] Iteration 225: error = 0.9947335, gradient norm = 0.0023133\n",
      "[t-SNE] Iteration 250: error = 0.9945511, gradient norm = 0.0023131\n",
      "[t-SNE] Iteration 275: error = 0.9944901, gradient norm = 0.0023130\n",
      "[t-SNE] Iteration 300: error = 0.9945360, gradient norm = 0.0023128\n",
      "[t-SNE] Iteration 325: error = 0.9944613, gradient norm = 0.0023130\n",
      "[t-SNE] Iteration 350: error = 0.9944820, gradient norm = 0.0023129\n",
      "[t-SNE] Iteration 375: error = 0.9945314, gradient norm = 0.0023128\n",
      "[t-SNE] Iteration 375: did not make any progress during the last 30 episodes. Finished.\n",
      "[t-SNE] Error after 375 iterations: 0.994531\n"
     ]
    }
   ],
   "source": [
    "X_embedded0 = TSNE(n_components=2, perplexity=40, verbose=2).fit_transform(by_npi.as_matrix())"
   ]
  },
  {
   "cell_type": "code",
   "execution_count": 47,
   "metadata": {
    "collapsed": true
   },
   "outputs": [],
   "source": [
    "X_embedded_df0 = pd.DataFrame(X_embedded0)\n",
    "X_embedded_df0 = (pd.concat([X_embedded_df0, topic_per_doc_df['provider_type']], axis=1, ignore_index=True)).rename(columns={0:'x', 1:'y', 2:'provider_type'})"
   ]
  },
  {
   "cell_type": "code",
   "execution_count": 48,
   "metadata": {
    "collapsed": false
   },
   "outputs": [
    {
     "data": {
      "text/plain": [
       "<matplotlib.figure.Figure at 0x7f1c54547860>"
      ]
     },
     "metadata": {},
     "output_type": "display_data"
    },
    {
     "data": {
      "image/png": "[encoded data removed]",
      "text/plain": [
       "<matplotlib.figure.Figure at 0x7f1c4fc7eba8>"
      ]
     },
     "metadata": {},
     "output_type": "display_data"
    }
   ],
   "source": [
    "#plt.rcParams['figure.figsize'] = (20.0, 20.0)\n",
    "#plt.figure(figsize=(8, 6))\n",
    "plt.rcParams['figure.figsize']=(10,20)\n",
    "fig = plt.figure(figsize=(10,10))\n",
    "sns.lmplot(x='x', y='y', data=X_embedded_df0, hue='provider_type', fit_reg=False)\n",
    "fig = plt.gcf()\n",
    "fig.set_figheight(10)\n",
    "fig.set_figwidth(15)\n",
    "#plt.rcParams['figure.figsize'] = (20.0, 20.0)"
   ]
  },
  {
   "cell_type": "markdown",
   "metadata": {},
   "source": [
    "## quantify sharpness of probability distribution over topics per doctor"
   ]
  },
  {
   "cell_type": "code",
   "execution_count": 49,
   "metadata": {
    "collapsed": false
   },
   "outputs": [
    {
     "data": {
      "text/html": [
       "<div>\n",
       "<table border=\"1\" class=\"dataframe\">\n",
       "  <thead>\n",
       "    <tr style=\"text-align: right;\">\n",
       "      <th></th>\n",
       "      <th>0</th>\n",
       "      <th>1</th>\n",
       "      <th>2</th>\n",
       "      <th>3</th>\n",
       "      <th>4</th>\n",
       "    </tr>\n",
       "  </thead>\n",
       "  <tbody>\n",
       "    <tr>\n",
       "      <th>0</th>\n",
       "      <td>0.101397</td>\n",
       "      <td>0.100000</td>\n",
       "      <td>0.100000</td>\n",
       "      <td>0.598537</td>\n",
       "      <td>0.100066</td>\n",
       "    </tr>\n",
       "    <tr>\n",
       "      <th>1</th>\n",
       "      <td>0.041867</td>\n",
       "      <td>0.066635</td>\n",
       "      <td>0.801631</td>\n",
       "      <td>0.047498</td>\n",
       "      <td>0.042369</td>\n",
       "    </tr>\n",
       "    <tr>\n",
       "      <th>2</th>\n",
       "      <td>0.059775</td>\n",
       "      <td>0.058598</td>\n",
       "      <td>0.361965</td>\n",
       "      <td>0.459955</td>\n",
       "      <td>0.059707</td>\n",
       "    </tr>\n",
       "    <tr>\n",
       "      <th>3</th>\n",
       "      <td>0.728185</td>\n",
       "      <td>0.065120</td>\n",
       "      <td>0.069953</td>\n",
       "      <td>0.068638</td>\n",
       "      <td>0.068104</td>\n",
       "    </tr>\n",
       "    <tr>\n",
       "      <th>4</th>\n",
       "      <td>0.072550</td>\n",
       "      <td>0.352790</td>\n",
       "      <td>0.068747</td>\n",
       "      <td>0.435718</td>\n",
       "      <td>0.070196</td>\n",
       "    </tr>\n",
       "  </tbody>\n",
       "</table>\n",
       "</div>"
      ],
      "text/plain": [
       "          0         1         2         3         4\n",
       "0  0.101397  0.100000  0.100000  0.598537  0.100066\n",
       "1  0.041867  0.066635  0.801631  0.047498  0.042369\n",
       "2  0.059775  0.058598  0.361965  0.459955  0.059707\n",
       "3  0.728185  0.065120  0.069953  0.068638  0.068104\n",
       "4  0.072550  0.352790  0.068747  0.435718  0.070196"
      ]
     },
     "execution_count": 49,
     "metadata": {},
     "output_type": "execute_result"
    }
   ],
   "source": [
    "by_npi_topics.head()"
   ]
  },
  {
   "cell_type": "code",
   "execution_count": 62,
   "metadata": {
    "collapsed": false
   },
   "outputs": [],
   "source": [
    "entropy_per_npi = by_npi_topics.apply(np.log, axis=1).mul(by_npi_topics).sum(axis=1)"
   ]
  },
  {
   "cell_type": "code",
   "execution_count": 63,
   "metadata": {
    "collapsed": false
   },
   "outputs": [
    {
     "data": {
      "text/plain": [
       "4659"
      ]
     },
     "execution_count": 63,
     "metadata": {},
     "output_type": "execute_result"
    }
   ],
   "source": [
    "len(entropy_per_npi)"
   ]
  },
  {
   "cell_type": "code",
   "execution_count": 70,
   "metadata": {
    "collapsed": false
   },
   "outputs": [
    {
     "data": {
      "image/png": "[encoded data removed]",
      "text/plain": [
       "<matplotlib.figure.Figure at 0x7f1c4e39ea58>"
      ]
     },
     "metadata": {},
     "output_type": "display_data"
    }
   ],
   "source": [
    "plt.rcParams['figure.figsize']=(6,6)\n",
    "g = sns.distplot(entropy_per_npi, kde=False, bins=30)\n",
    "#g.set(xlim=(0,500), ylim=(0, 60), xlabel='claims per drug B code', ylabel='counts')\n",
    "sns.despine()   "
   ]
  },
  {
   "cell_type": "code",
   "execution_count": 67,
   "metadata": {
    "collapsed": false
   },
   "outputs": [
    {
     "data": {
      "text/plain": [
       "-1.6094379124341003"
      ]
     },
     "execution_count": 67,
     "metadata": {},
     "output_type": "execute_result"
    }
   ],
   "source": [
    "##  maximum entropy over 5 topics = 5 * (1/5)log(1/5)\n",
    "np.log(1/5)"
   ]
  },
  {
   "cell_type": "markdown",
   "metadata": {},
   "source": [
    "There appear to be about 120 providers who have completely uniform probability distributions over the 5 topics.  Why is there a spike at about -1.25?\n",
    "\n",
    "How is entropy distributed between provider_types?"
   ]
  },
  {
   "cell_type": "code",
   "execution_count": 75,
   "metadata": {
    "collapsed": false
   },
   "outputs": [],
   "source": [
    "entropy_df = pd.concat([color_codes, pd.DataFrame(entropy_per_npi)], axis=1).rename(columns={0:'entropy'})"
   ]
  },
  {
   "cell_type": "code",
   "execution_count": 85,
   "metadata": {
    "collapsed": false
   },
   "outputs": [
    {
     "data": {
      "text/html": [
       "<div>\n",
       "<table border=\"1\" class=\"dataframe\">\n",
       "  <thead>\n",
       "    <tr style=\"text-align: right;\">\n",
       "      <th></th>\n",
       "      <th>npi</th>\n",
       "      <th>provider_type</th>\n",
       "      <th>entropy</th>\n",
       "    </tr>\n",
       "  </thead>\n",
       "  <tbody>\n",
       "    <tr>\n",
       "      <th>0</th>\n",
       "      <td>1003019571</td>\n",
       "      <td>Medical Oncology</td>\n",
       "      <td>-1.230139</td>\n",
       "    </tr>\n",
       "    <tr>\n",
       "      <th>1</th>\n",
       "      <td>1003031212</td>\n",
       "      <td>Hematology/Oncology</td>\n",
       "      <td>-0.769256</td>\n",
       "    </tr>\n",
       "    <tr>\n",
       "      <th>2</th>\n",
       "      <td>1003079997</td>\n",
       "      <td>Hematology/Oncology</td>\n",
       "      <td>-1.227960</td>\n",
       "    </tr>\n",
       "    <tr>\n",
       "      <th>3</th>\n",
       "      <td>1003099813</td>\n",
       "      <td>Hematology/Oncology</td>\n",
       "      <td>-0.961779</td>\n",
       "    </tr>\n",
       "    <tr>\n",
       "      <th>4</th>\n",
       "      <td>1003801689</td>\n",
       "      <td>Hematology/Oncology</td>\n",
       "      <td>-1.290406</td>\n",
       "    </tr>\n",
       "  </tbody>\n",
       "</table>\n",
       "</div>"
      ],
      "text/plain": [
       "          npi        provider_type   entropy\n",
       "0  1003019571     Medical Oncology -1.230139\n",
       "1  1003031212  Hematology/Oncology -0.769256\n",
       "2  1003079997  Hematology/Oncology -1.227960\n",
       "3  1003099813  Hematology/Oncology -0.961779\n",
       "4  1003801689  Hematology/Oncology -1.290406"
      ]
     },
     "execution_count": 85,
     "metadata": {},
     "output_type": "execute_result"
    }
   ],
   "source": [
    "entropy_df.head()"
   ]
  },
  {
   "cell_type": "code",
   "execution_count": 88,
   "metadata": {
    "collapsed": false
   },
   "outputs": [
    {
     "data": {
      "image/png": "[encoded data removed]",
      "text/plain": [
       "<matplotlib.figure.Figure at 0x7f1c5457aac8>"
      ]
     },
     "metadata": {},
     "output_type": "display_data"
    }
   ],
   "source": [
    "plt.rcParams['figure.figsize']=(8,8)\n",
    "g = sns.distplot(entropy_df.query(\"provider_type=='Medical Oncology'\")['entropy'], kde=False, bins=30)\n",
    "g.set(xlabel='entropy', ylabel='counts', title='Medical Oncology')\n",
    "sns.despine()"
   ]
  },
  {
   "cell_type": "code",
   "execution_count": 89,
   "metadata": {
    "collapsed": false
   },
   "outputs": [
    {
     "data": {
      "image/png": "[encoded data removed]",
      "text/plain": [
       "<matplotlib.figure.Figure at 0x7f1c541c33c8>"
      ]
     },
     "metadata": {},
     "output_type": "display_data"
    }
   ],
   "source": [
    "plt.rcParams['figure.figsize']=(8,8)\n",
    "g = sns.distplot(entropy_df.query(\"provider_type=='Hematology/Oncology'\")['entropy'], kde=False, bins=30)\n",
    "g.set(xlabel='entropy', ylabel='counts', title='Hematology/Oncology')\n",
    "sns.despine()"
   ]
  },
  {
   "cell_type": "code",
   "execution_count": null,
   "metadata": {
    "collapsed": true
   },
   "outputs": [],
   "source": []
  }
 ],
 "metadata": {
  "anaconda-cloud": {},
  "kernelspec": {
   "display_name": "Python [conda env:medicare_provider_util_payment]",
   "language": "python",
   "name": "conda-env-medicare_provider_util_payment-py"
  },
  "language_info": {
   "codemirror_mode": {
    "name": "ipython",
    "version": 3
   },
   "file_extension": ".py",
   "mimetype": "text/x-python",
   "name": "python",
   "nbconvert_exporter": "python",
   "pygments_lexer": "ipython3",
   "version": "3.5.2"
  }
 },
 "nbformat": 4,
 "nbformat_minor": 1
}
