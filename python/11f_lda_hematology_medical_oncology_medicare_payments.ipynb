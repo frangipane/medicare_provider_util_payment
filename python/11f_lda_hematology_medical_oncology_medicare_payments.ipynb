{
 "cells": [
  {
   "cell_type": "markdown",
   "metadata": {},
   "source": [
    "# LDA model on oncology\n",
    "\n",
    "provider_type: hematology, medical\n",
    "- filter out least and most common hcpcs_codes (compared to model 1, which does no filtering)\n",
    "- only consider in-facility claims\n",
    "- number of topics = 6\n",
    "- bene_unique_cnt as value"
   ]
  },
  {
   "cell_type": "code",
   "execution_count": 1,
   "metadata": {
    "collapsed": true
   },
   "outputs": [],
   "source": [
    "import psycopg2\n",
    "import pandas as pd\n",
    "import seaborn as sns\n",
    "import matplotlib.pyplot as plt\n",
    "import matplotlib.cm as cm\n",
    "import numpy as np\n",
    "import time\n",
    "\n",
    "from gensim import matutils, models, corpora\n",
    "\n",
    "%matplotlib inline\n",
    "sns.set(style=\"white\")"
   ]
  },
  {
   "cell_type": "code",
   "execution_count": 2,
   "metadata": {
    "collapsed": true
   },
   "outputs": [],
   "source": [
    "## connect to database\n",
    "con = psycopg2.connect(\"dbname='doctordb' user='cathy'\")"
   ]
  },
  {
   "cell_type": "code",
   "execution_count": 3,
   "metadata": {
    "collapsed": false
   },
   "outputs": [],
   "source": [
    "q = \"\"\"SELECT npi, nppes_provider_last_org_name, nppes_provider_state, nppes_provider_first_name,\n",
    "provider_type, hcpcs_code, hcpcs_description, bene_unique_cnt\n",
    "FROM payments \n",
    "WHERE (provider_type='Medical Oncology' OR provider_type='Hematology/Oncology')\n",
    "AND place_of_service='O'\n",
    "AND hcpcs_drug_indicator='Y'\"\"\"\n",
    "payments = pd.read_sql_query(q, con=con)"
   ]
  },
  {
   "cell_type": "code",
   "execution_count": 4,
   "metadata": {
    "collapsed": false
   },
   "outputs": [
    {
     "data": {
      "text/plain": [
       "(56147, 8)"
      ]
     },
     "execution_count": 4,
     "metadata": {},
     "output_type": "execute_result"
    }
   ],
   "source": [
    "payments.shape"
   ]
  },
  {
   "cell_type": "code",
   "execution_count": 5,
   "metadata": {
    "collapsed": false
   },
   "outputs": [
    {
     "data": {
      "text/plain": [
       "array(['Medical Oncology', 'Hematology/Oncology'], dtype=object)"
      ]
     },
     "execution_count": 5,
     "metadata": {},
     "output_type": "execute_result"
    }
   ],
   "source": [
    "payments['provider_type'].unique()"
   ]
  },
  {
   "cell_type": "code",
   "execution_count": 6,
   "metadata": {
    "collapsed": false
   },
   "outputs": [
    {
     "data": {
      "text/plain": [
       "provider_type\n",
       "Hematology/Oncology    3603\n",
       "Medical Oncology       1056\n",
       "Name: npi, dtype: int64"
      ]
     },
     "execution_count": 6,
     "metadata": {},
     "output_type": "execute_result"
    }
   ],
   "source": [
    "## how many of each provider type?\n",
    "payments.drop_duplicates('npi').groupby('provider_type')['npi'].count()"
   ]
  },
  {
   "cell_type": "markdown",
   "metadata": {},
   "source": [
    "## construct raw data frame"
   ]
  },
  {
   "cell_type": "code",
   "execution_count": 7,
   "metadata": {
    "collapsed": false
   },
   "outputs": [
    {
     "data": {
      "text/plain": [
       "(4659, 175)"
      ]
     },
     "execution_count": 7,
     "metadata": {},
     "output_type": "execute_result"
    }
   ],
   "source": [
    "by_npi = (payments[['npi','hcpcs_code','bene_unique_cnt']].\n",
    "                pivot(index='npi', values = 'bene_unique_cnt', columns='hcpcs_code').\n",
    "                fillna(value=0))\n",
    "by_npi.shape"
   ]
  },
  {
   "cell_type": "markdown",
   "metadata": {},
   "source": [
    "## preprocess data frame (drop top 3 codes, codes with only 1 claim, docs with < 5 claims)"
   ]
  },
  {
   "cell_type": "markdown",
   "metadata": {},
   "source": [
    "### filter out extreme hcpcs_code columns (top 15 claimed codes, codes with fewer than 5 claims)"
   ]
  },
  {
   "cell_type": "code",
   "execution_count": 8,
   "metadata": {
    "collapsed": false
   },
   "outputs": [
    {
     "data": {
      "text/html": [
       "<div>\n",
       "<table border=\"1\" class=\"dataframe\">\n",
       "  <thead>\n",
       "    <tr style=\"text-align: right;\">\n",
       "      <th></th>\n",
       "      <th>hcpcs_code</th>\n",
       "      <th>count</th>\n",
       "      <th>hcpcs_description</th>\n",
       "    </tr>\n",
       "  </thead>\n",
       "  <tbody>\n",
       "    <tr>\n",
       "      <th>0</th>\n",
       "      <td>J1100</td>\n",
       "      <td>4044</td>\n",
       "      <td>Injection, dexamethasone sodium phosphate, 1mg</td>\n",
       "    </tr>\n",
       "    <tr>\n",
       "      <th>4044</th>\n",
       "      <td>J1200</td>\n",
       "      <td>3494</td>\n",
       "      <td>Injection, diphenhydramine hcl, up to 50 mg</td>\n",
       "    </tr>\n",
       "    <tr>\n",
       "      <th>7538</th>\n",
       "      <td>J2469</td>\n",
       "      <td>3056</td>\n",
       "      <td>Injection, palonosetron hcl, 25 mcg</td>\n",
       "    </tr>\n",
       "    <tr>\n",
       "      <th>10594</th>\n",
       "      <td>J2505</td>\n",
       "      <td>2325</td>\n",
       "      <td>Injection, pegfilgrastim, 6 mg</td>\n",
       "    </tr>\n",
       "    <tr>\n",
       "      <th>12919</th>\n",
       "      <td>J3489</td>\n",
       "      <td>2146</td>\n",
       "      <td>Injection, zoledronic acid, 1 mg</td>\n",
       "    </tr>\n",
       "    <tr>\n",
       "      <th>15065</th>\n",
       "      <td>J9045</td>\n",
       "      <td>2116</td>\n",
       "      <td>Injection, carboplatin, 50 mg</td>\n",
       "    </tr>\n",
       "    <tr>\n",
       "      <th>17181</th>\n",
       "      <td>J7030</td>\n",
       "      <td>2097</td>\n",
       "      <td>Infusion, normal saline solution , 1000 cc</td>\n",
       "    </tr>\n",
       "    <tr>\n",
       "      <th>19278</th>\n",
       "      <td>J3420</td>\n",
       "      <td>1994</td>\n",
       "      <td>Injection, vitamin b-12 cyanocobalamin, up  to 1000 mcg</td>\n",
       "    </tr>\n",
       "    <tr>\n",
       "      <th>21272</th>\n",
       "      <td>J0897</td>\n",
       "      <td>1743</td>\n",
       "      <td>Injection, denosumab, 1 mg</td>\n",
       "    </tr>\n",
       "    <tr>\n",
       "      <th>23015</th>\n",
       "      <td>J2405</td>\n",
       "      <td>1656</td>\n",
       "      <td>Injection, ondansetron hydrochloride, per 1 mg</td>\n",
       "    </tr>\n",
       "    <tr>\n",
       "      <th>24671</th>\n",
       "      <td>J7040</td>\n",
       "      <td>1652</td>\n",
       "      <td>Infusion, normal saline solution, sterile (500 ml=1 unit)</td>\n",
       "    </tr>\n",
       "    <tr>\n",
       "      <th>26323</th>\n",
       "      <td>J0885</td>\n",
       "      <td>1577</td>\n",
       "      <td>Injection, epoetin alfa, (for non-esrd use), 1000 units</td>\n",
       "    </tr>\n",
       "    <tr>\n",
       "      <th>27900</th>\n",
       "      <td>J9310</td>\n",
       "      <td>1451</td>\n",
       "      <td>Injection, rituximab, 100 mg</td>\n",
       "    </tr>\n",
       "    <tr>\n",
       "      <th>29351</th>\n",
       "      <td>J9265</td>\n",
       "      <td>1449</td>\n",
       "      <td>Injection, paclitaxel, 30 mg</td>\n",
       "    </tr>\n",
       "    <tr>\n",
       "      <th>30800</th>\n",
       "      <td>J7050</td>\n",
       "      <td>1367</td>\n",
       "      <td>Infusion, normal saline solution , 250 cc</td>\n",
       "    </tr>\n",
       "  </tbody>\n",
       "</table>\n",
       "</div>"
      ],
      "text/plain": [
       "      hcpcs_code  count  \\\n",
       "0          J1100   4044   \n",
       "4044       J1200   3494   \n",
       "7538       J2469   3056   \n",
       "10594      J2505   2325   \n",
       "12919      J3489   2146   \n",
       "15065      J9045   2116   \n",
       "17181      J7030   2097   \n",
       "19278      J3420   1994   \n",
       "21272      J0897   1743   \n",
       "23015      J2405   1656   \n",
       "24671      J7040   1652   \n",
       "26323      J0885   1577   \n",
       "27900      J9310   1451   \n",
       "29351      J9265   1449   \n",
       "30800      J7050   1367   \n",
       "\n",
       "                                               hcpcs_description  \n",
       "0                 Injection, dexamethasone sodium phosphate, 1mg  \n",
       "4044                 Injection, diphenhydramine hcl, up to 50 mg  \n",
       "7538                         Injection, palonosetron hcl, 25 mcg  \n",
       "10594                             Injection, pegfilgrastim, 6 mg  \n",
       "12919                           Injection, zoledronic acid, 1 mg  \n",
       "15065                              Injection, carboplatin, 50 mg  \n",
       "17181                 Infusion, normal saline solution , 1000 cc  \n",
       "19278    Injection, vitamin b-12 cyanocobalamin, up  to 1000 mcg  \n",
       "21272                                 Injection, denosumab, 1 mg  \n",
       "23015             Injection, ondansetron hydrochloride, per 1 mg  \n",
       "24671  Infusion, normal saline solution, sterile (500 ml=1 unit)  \n",
       "26323    Injection, epoetin alfa, (for non-esrd use), 1000 units  \n",
       "27900                               Injection, rituximab, 100 mg  \n",
       "29351                               Injection, paclitaxel, 30 mg  \n",
       "30800                  Infusion, normal saline solution , 250 cc  "
      ]
     },
     "execution_count": 8,
     "metadata": {},
     "output_type": "execute_result"
    }
   ],
   "source": [
    "## What are the counts for the top claimed codes?\n",
    "counts_per_code = (payments['hcpcs_code'].value_counts().\n",
    "                   reset_index(name='count').\n",
    "                   rename(columns={'index': 'hcpcs_code'}))\n",
    "\n",
    "pd.set_option('max_colwidth', 80)\n",
    "counts_per_code = (counts_per_code.merge(payments[['hcpcs_code', 'hcpcs_description']],\n",
    "                                         on='hcpcs_code', sort=False)\n",
    "                   .drop_duplicates())\n",
    "\n",
    "top_codes_to_drop = list(counts_per_code['hcpcs_code'][:3])\n",
    "counts_per_code.head(15)"
   ]
  },
  {
   "cell_type": "code",
   "execution_count": 9,
   "metadata": {
    "collapsed": true
   },
   "outputs": [],
   "source": [
    "## How many codes have been claimed only once?\n",
    "bottom_codes_to_drop = list(counts_per_code.query('count == 1')['hcpcs_code'])"
   ]
  },
  {
   "cell_type": "code",
   "execution_count": 10,
   "metadata": {
    "collapsed": false
   },
   "outputs": [
    {
     "data": {
      "text/plain": [
       "22"
      ]
     },
     "execution_count": 10,
     "metadata": {},
     "output_type": "execute_result"
    }
   ],
   "source": [
    "len(bottom_codes_to_drop)"
   ]
  },
  {
   "cell_type": "code",
   "execution_count": 11,
   "metadata": {
    "collapsed": false
   },
   "outputs": [
    {
     "name": "stdout",
     "output_type": "stream",
     "text": [
      "number of cols to drop: 25\n"
     ]
    }
   ],
   "source": [
    "## so total columns dropped is:\n",
    "print('number of cols to drop: {0}'.format(len(bottom_codes_to_drop) + len(top_codes_to_drop)))"
   ]
  },
  {
   "cell_type": "code",
   "execution_count": 12,
   "metadata": {
    "collapsed": false
   },
   "outputs": [
    {
     "data": {
      "text/plain": [
       "(4659, 150)"
      ]
     },
     "execution_count": 12,
     "metadata": {},
     "output_type": "execute_result"
    }
   ],
   "source": [
    "by_npi.drop(labels=(top_codes_to_drop + bottom_codes_to_drop), axis=1, inplace=True)\n",
    "by_npi.shape"
   ]
  },
  {
   "cell_type": "markdown",
   "metadata": {},
   "source": [
    "## drop doctors with less than 5 claims"
   ]
  },
  {
   "cell_type": "code",
   "execution_count": 14,
   "metadata": {
    "collapsed": false
   },
   "outputs": [
    {
     "data": {
      "image/png": "[encoded data removed]",
      "text/plain": [
       "<matplotlib.figure.Figure at 0x7f9956921160>"
      ]
     },
     "metadata": {},
     "output_type": "display_data"
    }
   ],
   "source": [
    "## How many different drug codes have been claimed per doctor?  Plot distribution\n",
    "\n",
    "#number_of_codes_per_doctor = (by_npi > 0.0).sum(axis = 1)\n",
    "g = sns.distplot((by_npi > 0.0).sum(axis = 1), kde=False, bins=50)\n",
    "g.set(xlim=(0,20), xlabel='claims per doctor', ylabel='counts')\n",
    "sns.despine()"
   ]
  },
  {
   "cell_type": "code",
   "execution_count": 15,
   "metadata": {
    "collapsed": false
   },
   "outputs": [
    {
     "data": {
      "text/plain": [
       "1537"
      ]
     },
     "execution_count": 15,
     "metadata": {},
     "output_type": "execute_result"
    }
   ],
   "source": [
    "# number of docs to drop (docs who have < 5 claims, based on the already column-filtered dataframe)\n",
    "sum((by_npi > 0.0).sum(axis = 1) < 5)"
   ]
  },
  {
   "cell_type": "code",
   "execution_count": 17,
   "metadata": {
    "collapsed": true
   },
   "outputs": [],
   "source": [
    "by_npi = by_npi[(by_npi > 0.0).sum(axis = 1) > 4]"
   ]
  },
  {
   "cell_type": "code",
   "execution_count": 18,
   "metadata": {
    "collapsed": false
   },
   "outputs": [
    {
     "data": {
      "text/plain": [
       "(3122, 150)"
      ]
     },
     "execution_count": 18,
     "metadata": {},
     "output_type": "execute_result"
    }
   ],
   "source": [
    "by_npi.shape"
   ]
  },
  {
   "cell_type": "code",
   "execution_count": 19,
   "metadata": {
    "collapsed": false
   },
   "outputs": [],
   "source": [
    "## write to file\n",
    "by_npi.to_csv(\"11f_by_npi_reduced_medical_hematology_oncolgists.csv\", index=True)"
   ]
  },
  {
   "cell_type": "markdown",
   "metadata": {},
   "source": [
    "## LDA on filtered data frame using 6 topics"
   ]
  },
  {
   "cell_type": "code",
   "execution_count": 20,
   "metadata": {
    "collapsed": true
   },
   "outputs": [],
   "source": [
    "corpus = matutils.Dense2Corpus(by_npi.as_matrix(), documents_columns=False)"
   ]
  },
  {
   "cell_type": "code",
   "execution_count": 21,
   "metadata": {
    "collapsed": true
   },
   "outputs": [],
   "source": [
    "tfidf = models.TfidfModel(corpus)\n",
    "corpus_tfidf = tfidf[corpus]"
   ]
  },
  {
   "cell_type": "code",
   "execution_count": 22,
   "metadata": {
    "collapsed": false
   },
   "outputs": [
    {
     "name": "stdout",
     "output_type": "stream",
     "text": [
      "calculated in 77.64521956443787s\n"
     ]
    }
   ],
   "source": [
    "time0 = time.time()\n",
    "ldamodel = models.ldamodel.LdaModel(corpus_tfidf, num_topics=6, passes=20)\n",
    "print('calculated in {0}s'.format(time.time()-time0))"
   ]
  },
  {
   "cell_type": "code",
   "execution_count": 23,
   "metadata": {
    "collapsed": true
   },
   "outputs": [],
   "source": [
    "## Save model\n",
    "ldamodel.save(\"11f_lda_6topics_colsDropped_docsDropped_hema_medi_oncology.model\", pickle_protocol=3)"
   ]
  },
  {
   "cell_type": "markdown",
   "metadata": {},
   "source": [
    "## Interpret the 6 topics in the model"
   ]
  },
  {
   "cell_type": "code",
   "execution_count": 182,
   "metadata": {
    "collapsed": true
   },
   "outputs": [],
   "source": [
    "## top 15 words in each topic\n",
    "topics_matrix = ldamodel.show_topics(formatted=False, num_words=20)"
   ]
  },
  {
   "cell_type": "code",
   "execution_count": 25,
   "metadata": {
    "collapsed": true
   },
   "outputs": [],
   "source": [
    "## for each topic, store indices of top 20 hcpcs_codes in a list\n",
    "topic_idx_dict = {}\n",
    "\n",
    "for i in topics_matrix:\n",
    "    topic_idx_dict[i[0]] = [int(word[0]) for word in i[1]]"
   ]
  },
  {
   "cell_type": "code",
   "execution_count": 26,
   "metadata": {
    "collapsed": true
   },
   "outputs": [],
   "source": [
    "## for each topic's list of indexes, get the list of hcpcs_codes\n",
    "topic_dict = {}\n",
    "\n",
    "for k, v in topic_idx_dict.items():\n",
    "    topic_dict[k] = [by_npi.columns.values[i] for i in v]"
   ]
  },
  {
   "cell_type": "code",
   "execution_count": 27,
   "metadata": {
    "collapsed": false
   },
   "outputs": [
    {
     "data": {
      "text/html": [
       "<div>\n",
       "<table border=\"1\" class=\"dataframe\">\n",
       "  <thead>\n",
       "    <tr style=\"text-align: right;\">\n",
       "      <th></th>\n",
       "      <th>hcpcs_code</th>\n",
       "      <th>hcpcs_description</th>\n",
       "    </tr>\n",
       "  </thead>\n",
       "  <tbody>\n",
       "    <tr>\n",
       "      <th>5</th>\n",
       "      <td>J1626</td>\n",
       "      <td>Injection, granisetron hydrochloride, 100 mcg</td>\n",
       "    </tr>\n",
       "    <tr>\n",
       "      <th>11</th>\n",
       "      <td>J3420</td>\n",
       "      <td>Injection, vitamin b-12 cyanocobalamin, up  to 1000 mcg</td>\n",
       "    </tr>\n",
       "    <tr>\n",
       "      <th>20</th>\n",
       "      <td>J0885</td>\n",
       "      <td>Injection, epoetin alfa, (for non-esrd use), 1000 units</td>\n",
       "    </tr>\n",
       "    <tr>\n",
       "      <th>25</th>\n",
       "      <td>J1756</td>\n",
       "      <td>Injection, iron sucrose, 1 mg</td>\n",
       "    </tr>\n",
       "    <tr>\n",
       "      <th>61</th>\n",
       "      <td>J2405</td>\n",
       "      <td>Injection, ondansetron hydrochloride, per 1 mg</td>\n",
       "    </tr>\n",
       "    <tr>\n",
       "      <th>72</th>\n",
       "      <td>Q9967</td>\n",
       "      <td>Low osmolar contrast material, 300-399 mg/ml iodine concentration, per ml</td>\n",
       "    </tr>\n",
       "    <tr>\n",
       "      <th>77</th>\n",
       "      <td>J0881</td>\n",
       "      <td>Injection, darbepoetin alfa, 1 microgram (non-esrd use)</td>\n",
       "    </tr>\n",
       "    <tr>\n",
       "      <th>100</th>\n",
       "      <td>J2916</td>\n",
       "      <td>Injection, sodium ferric gluconate complex in sucrose injection, 12.5 mg</td>\n",
       "    </tr>\n",
       "    <tr>\n",
       "      <th>195</th>\n",
       "      <td>J1446</td>\n",
       "      <td>Injection, tbo-filgrastim, 5 micrograms</td>\n",
       "    </tr>\n",
       "    <tr>\n",
       "      <th>218</th>\n",
       "      <td>Q2035</td>\n",
       "      <td>Influenza virus vaccine, split virus, when administered to individuals 3 yea...</td>\n",
       "    </tr>\n",
       "    <tr>\n",
       "      <th>739</th>\n",
       "      <td>Q2036</td>\n",
       "      <td>Influenza virus vaccine, split virus, when administered to individuals 3 yea...</td>\n",
       "    </tr>\n",
       "    <tr>\n",
       "      <th>1167</th>\n",
       "      <td>90686</td>\n",
       "      <td>Vaccine for influenza administered into muscle to individuals 3 years of age...</td>\n",
       "    </tr>\n",
       "    <tr>\n",
       "      <th>1547</th>\n",
       "      <td>J2250</td>\n",
       "      <td>Injection, midazolam hydrochloride, per 1 mg</td>\n",
       "    </tr>\n",
       "    <tr>\n",
       "      <th>2124</th>\n",
       "      <td>J2175</td>\n",
       "      <td>Injection, meperidine hydrochloride, per 100 mg</td>\n",
       "    </tr>\n",
       "    <tr>\n",
       "      <th>2562</th>\n",
       "      <td>Q9965</td>\n",
       "      <td>Low osmolar contrast material, 100-199 mg/ml iodine concentration, per ml</td>\n",
       "    </tr>\n",
       "  </tbody>\n",
       "</table>\n",
       "</div>"
      ],
      "text/plain": [
       "     hcpcs_code  \\\n",
       "5         J1626   \n",
       "11        J3420   \n",
       "20        J0885   \n",
       "25        J1756   \n",
       "61        J2405   \n",
       "72        Q9967   \n",
       "77        J0881   \n",
       "100       J2916   \n",
       "195       J1446   \n",
       "218       Q2035   \n",
       "739       Q2036   \n",
       "1167      90686   \n",
       "1547      J2250   \n",
       "2124      J2175   \n",
       "2562      Q9965   \n",
       "\n",
       "                                                                    hcpcs_description  \n",
       "5                                       Injection, granisetron hydrochloride, 100 mcg  \n",
       "11                            Injection, vitamin b-12 cyanocobalamin, up  to 1000 mcg  \n",
       "20                            Injection, epoetin alfa, (for non-esrd use), 1000 units  \n",
       "25                                                      Injection, iron sucrose, 1 mg  \n",
       "61                                     Injection, ondansetron hydrochloride, per 1 mg  \n",
       "72          Low osmolar contrast material, 300-399 mg/ml iodine concentration, per ml  \n",
       "77                            Injection, darbepoetin alfa, 1 microgram (non-esrd use)  \n",
       "100          Injection, sodium ferric gluconate complex in sucrose injection, 12.5 mg  \n",
       "195                                           Injection, tbo-filgrastim, 5 micrograms  \n",
       "218   Influenza virus vaccine, split virus, when administered to individuals 3 yea...  \n",
       "739   Influenza virus vaccine, split virus, when administered to individuals 3 yea...  \n",
       "1167  Vaccine for influenza administered into muscle to individuals 3 years of age...  \n",
       "1547                                     Injection, midazolam hydrochloride, per 1 mg  \n",
       "2124                                  Injection, meperidine hydrochloride, per 100 mg  \n",
       "2562        Low osmolar contrast material, 100-199 mg/ml iodine concentration, per ml  "
      ]
     },
     "execution_count": 27,
     "metadata": {},
     "output_type": "execute_result"
    }
   ],
   "source": [
    "## Topic 0\n",
    "t = 0\n",
    "(payments.loc[payments.hcpcs_code.isin(topic_dict[t]), ['hcpcs_code','hcpcs_description']].\n",
    " drop_duplicates('hcpcs_code'))"
   ]
  },
  {
   "cell_type": "code",
   "execution_count": 28,
   "metadata": {
    "collapsed": false
   },
   "outputs": [
    {
     "data": {
      "text/html": [
       "<div>\n",
       "<table border=\"1\" class=\"dataframe\">\n",
       "  <thead>\n",
       "    <tr style=\"text-align: right;\">\n",
       "      <th></th>\n",
       "      <th>hcpcs_code</th>\n",
       "      <th>hcpcs_description</th>\n",
       "    </tr>\n",
       "  </thead>\n",
       "  <tbody>\n",
       "    <tr>\n",
       "      <th>3</th>\n",
       "      <td>J1442</td>\n",
       "      <td>Injection, filgrastim (g-csf), 1 microgram</td>\n",
       "    </tr>\n",
       "    <tr>\n",
       "      <th>5</th>\n",
       "      <td>J1626</td>\n",
       "      <td>Injection, granisetron hydrochloride, 100 mcg</td>\n",
       "    </tr>\n",
       "    <tr>\n",
       "      <th>7</th>\n",
       "      <td>J1750</td>\n",
       "      <td>Injection, iron dextran, 50 mg</td>\n",
       "    </tr>\n",
       "    <tr>\n",
       "      <th>11</th>\n",
       "      <td>J3420</td>\n",
       "      <td>Injection, vitamin b-12 cyanocobalamin, up  to 1000 mcg</td>\n",
       "    </tr>\n",
       "    <tr>\n",
       "      <th>12</th>\n",
       "      <td>J7030</td>\n",
       "      <td>Infusion, normal saline solution , 1000 cc</td>\n",
       "    </tr>\n",
       "    <tr>\n",
       "      <th>13</th>\n",
       "      <td>J7040</td>\n",
       "      <td>Infusion, normal saline solution, sterile (500 ml=1 unit)</td>\n",
       "    </tr>\n",
       "    <tr>\n",
       "      <th>19</th>\n",
       "      <td>Q2037</td>\n",
       "      <td>Influenza virus vaccine, split virus, when administered to individuals 3 yea...</td>\n",
       "    </tr>\n",
       "    <tr>\n",
       "      <th>20</th>\n",
       "      <td>J0885</td>\n",
       "      <td>Injection, epoetin alfa, (for non-esrd use), 1000 units</td>\n",
       "    </tr>\n",
       "    <tr>\n",
       "      <th>21</th>\n",
       "      <td>J0897</td>\n",
       "      <td>Injection, denosumab, 1 mg</td>\n",
       "    </tr>\n",
       "    <tr>\n",
       "      <th>25</th>\n",
       "      <td>J1756</td>\n",
       "      <td>Injection, iron sucrose, 1 mg</td>\n",
       "    </tr>\n",
       "    <tr>\n",
       "      <th>28</th>\n",
       "      <td>J2780</td>\n",
       "      <td>Injection, ranitidine hydrochloride, 25 mg</td>\n",
       "    </tr>\n",
       "    <tr>\n",
       "      <th>46</th>\n",
       "      <td>J3489</td>\n",
       "      <td>Injection, zoledronic acid, 1 mg</td>\n",
       "    </tr>\n",
       "    <tr>\n",
       "      <th>61</th>\n",
       "      <td>J2405</td>\n",
       "      <td>Injection, ondansetron hydrochloride, per 1 mg</td>\n",
       "    </tr>\n",
       "    <tr>\n",
       "      <th>104</th>\n",
       "      <td>J7050</td>\n",
       "      <td>Infusion, normal saline solution , 250 cc</td>\n",
       "    </tr>\n",
       "    <tr>\n",
       "      <th>230</th>\n",
       "      <td>J7060</td>\n",
       "      <td>5% dextrose/water (500 ml = 1 unit)</td>\n",
       "    </tr>\n",
       "  </tbody>\n",
       "</table>\n",
       "</div>"
      ],
      "text/plain": [
       "    hcpcs_code  \\\n",
       "3        J1442   \n",
       "5        J1626   \n",
       "7        J1750   \n",
       "11       J3420   \n",
       "12       J7030   \n",
       "13       J7040   \n",
       "19       Q2037   \n",
       "20       J0885   \n",
       "21       J0897   \n",
       "25       J1756   \n",
       "28       J2780   \n",
       "46       J3489   \n",
       "61       J2405   \n",
       "104      J7050   \n",
       "230      J7060   \n",
       "\n",
       "                                                                   hcpcs_description  \n",
       "3                                         Injection, filgrastim (g-csf), 1 microgram  \n",
       "5                                      Injection, granisetron hydrochloride, 100 mcg  \n",
       "7                                                     Injection, iron dextran, 50 mg  \n",
       "11                           Injection, vitamin b-12 cyanocobalamin, up  to 1000 mcg  \n",
       "12                                        Infusion, normal saline solution , 1000 cc  \n",
       "13                         Infusion, normal saline solution, sterile (500 ml=1 unit)  \n",
       "19   Influenza virus vaccine, split virus, when administered to individuals 3 yea...  \n",
       "20                           Injection, epoetin alfa, (for non-esrd use), 1000 units  \n",
       "21                                                        Injection, denosumab, 1 mg  \n",
       "25                                                     Injection, iron sucrose, 1 mg  \n",
       "28                                        Injection, ranitidine hydrochloride, 25 mg  \n",
       "46                                                  Injection, zoledronic acid, 1 mg  \n",
       "61                                    Injection, ondansetron hydrochloride, per 1 mg  \n",
       "104                                        Infusion, normal saline solution , 250 cc  \n",
       "230                                              5% dextrose/water (500 ml = 1 unit)  "
      ]
     },
     "execution_count": 28,
     "metadata": {},
     "output_type": "execute_result"
    }
   ],
   "source": [
    "## Topic 1\n",
    "t = 1\n",
    "(payments.loc[payments.hcpcs_code.isin(topic_dict[t]), ['hcpcs_code','hcpcs_description']].\n",
    " drop_duplicates('hcpcs_code'))"
   ]
  },
  {
   "cell_type": "code",
   "execution_count": 29,
   "metadata": {
    "collapsed": false
   },
   "outputs": [
    {
     "data": {
      "text/html": [
       "<div>\n",
       "<table border=\"1\" class=\"dataframe\">\n",
       "  <thead>\n",
       "    <tr style=\"text-align: right;\">\n",
       "      <th></th>\n",
       "      <th>hcpcs_code</th>\n",
       "      <th>hcpcs_description</th>\n",
       "    </tr>\n",
       "  </thead>\n",
       "  <tbody>\n",
       "    <tr>\n",
       "      <th>4</th>\n",
       "      <td>J1453</td>\n",
       "      <td>Injection, fosaprepitant, 1 mg</td>\n",
       "    </tr>\n",
       "    <tr>\n",
       "      <th>5</th>\n",
       "      <td>J1626</td>\n",
       "      <td>Injection, granisetron hydrochloride, 100 mcg</td>\n",
       "    </tr>\n",
       "    <tr>\n",
       "      <th>7</th>\n",
       "      <td>J1750</td>\n",
       "      <td>Injection, iron dextran, 50 mg</td>\n",
       "    </tr>\n",
       "    <tr>\n",
       "      <th>9</th>\n",
       "      <td>J2505</td>\n",
       "      <td>Injection, pegfilgrastim, 6 mg</td>\n",
       "    </tr>\n",
       "    <tr>\n",
       "      <th>11</th>\n",
       "      <td>J3420</td>\n",
       "      <td>Injection, vitamin b-12 cyanocobalamin, up  to 1000 mcg</td>\n",
       "    </tr>\n",
       "    <tr>\n",
       "      <th>12</th>\n",
       "      <td>J7030</td>\n",
       "      <td>Infusion, normal saline solution , 1000 cc</td>\n",
       "    </tr>\n",
       "    <tr>\n",
       "      <th>18</th>\n",
       "      <td>J9265</td>\n",
       "      <td>Injection, paclitaxel, 30 mg</td>\n",
       "    </tr>\n",
       "    <tr>\n",
       "      <th>19</th>\n",
       "      <td>Q2037</td>\n",
       "      <td>Influenza virus vaccine, split virus, when administered to individuals 3 yea...</td>\n",
       "    </tr>\n",
       "    <tr>\n",
       "      <th>21</th>\n",
       "      <td>J0897</td>\n",
       "      <td>Injection, denosumab, 1 mg</td>\n",
       "    </tr>\n",
       "    <tr>\n",
       "      <th>28</th>\n",
       "      <td>J2780</td>\n",
       "      <td>Injection, ranitidine hydrochloride, 25 mg</td>\n",
       "    </tr>\n",
       "    <tr>\n",
       "      <th>46</th>\n",
       "      <td>J3489</td>\n",
       "      <td>Injection, zoledronic acid, 1 mg</td>\n",
       "    </tr>\n",
       "    <tr>\n",
       "      <th>51</th>\n",
       "      <td>J9310</td>\n",
       "      <td>Injection, rituximab, 100 mg</td>\n",
       "    </tr>\n",
       "    <tr>\n",
       "      <th>60</th>\n",
       "      <td>J2060</td>\n",
       "      <td>Injection, lorazepam, 2 mg</td>\n",
       "    </tr>\n",
       "    <tr>\n",
       "      <th>72</th>\n",
       "      <td>Q9967</td>\n",
       "      <td>Low osmolar contrast material, 300-399 mg/ml iodine concentration, per ml</td>\n",
       "    </tr>\n",
       "    <tr>\n",
       "      <th>77</th>\n",
       "      <td>J0881</td>\n",
       "      <td>Injection, darbepoetin alfa, 1 microgram (non-esrd use)</td>\n",
       "    </tr>\n",
       "  </tbody>\n",
       "</table>\n",
       "</div>"
      ],
      "text/plain": [
       "   hcpcs_code  \\\n",
       "4       J1453   \n",
       "5       J1626   \n",
       "7       J1750   \n",
       "9       J2505   \n",
       "11      J3420   \n",
       "12      J7030   \n",
       "18      J9265   \n",
       "19      Q2037   \n",
       "21      J0897   \n",
       "28      J2780   \n",
       "46      J3489   \n",
       "51      J9310   \n",
       "60      J2060   \n",
       "72      Q9967   \n",
       "77      J0881   \n",
       "\n",
       "                                                                  hcpcs_description  \n",
       "4                                                    Injection, fosaprepitant, 1 mg  \n",
       "5                                     Injection, granisetron hydrochloride, 100 mcg  \n",
       "7                                                    Injection, iron dextran, 50 mg  \n",
       "9                                                    Injection, pegfilgrastim, 6 mg  \n",
       "11                          Injection, vitamin b-12 cyanocobalamin, up  to 1000 mcg  \n",
       "12                                       Infusion, normal saline solution , 1000 cc  \n",
       "18                                                     Injection, paclitaxel, 30 mg  \n",
       "19  Influenza virus vaccine, split virus, when administered to individuals 3 yea...  \n",
       "21                                                       Injection, denosumab, 1 mg  \n",
       "28                                       Injection, ranitidine hydrochloride, 25 mg  \n",
       "46                                                 Injection, zoledronic acid, 1 mg  \n",
       "51                                                     Injection, rituximab, 100 mg  \n",
       "60                                                       Injection, lorazepam, 2 mg  \n",
       "72        Low osmolar contrast material, 300-399 mg/ml iodine concentration, per ml  \n",
       "77                          Injection, darbepoetin alfa, 1 microgram (non-esrd use)  "
      ]
     },
     "execution_count": 29,
     "metadata": {},
     "output_type": "execute_result"
    }
   ],
   "source": [
    "## Topic 2\n",
    "t = 2\n",
    "(payments.loc[payments.hcpcs_code.isin(topic_dict[t]), ['hcpcs_code','hcpcs_description']].\n",
    " drop_duplicates('hcpcs_code'))"
   ]
  },
  {
   "cell_type": "code",
   "execution_count": 30,
   "metadata": {
    "collapsed": false
   },
   "outputs": [
    {
     "data": {
      "text/html": [
       "<div>\n",
       "<table border=\"1\" class=\"dataframe\">\n",
       "  <thead>\n",
       "    <tr style=\"text-align: right;\">\n",
       "      <th></th>\n",
       "      <th>hcpcs_code</th>\n",
       "      <th>hcpcs_description</th>\n",
       "    </tr>\n",
       "  </thead>\n",
       "  <tbody>\n",
       "    <tr>\n",
       "      <th>6</th>\n",
       "      <td>J1642</td>\n",
       "      <td>Injection, heparin sodium, (heparin lock flush), per 10 units</td>\n",
       "    </tr>\n",
       "    <tr>\n",
       "      <th>11</th>\n",
       "      <td>J3420</td>\n",
       "      <td>Injection, vitamin b-12 cyanocobalamin, up  to 1000 mcg</td>\n",
       "    </tr>\n",
       "    <tr>\n",
       "      <th>12</th>\n",
       "      <td>J7030</td>\n",
       "      <td>Infusion, normal saline solution , 1000 cc</td>\n",
       "    </tr>\n",
       "    <tr>\n",
       "      <th>13</th>\n",
       "      <td>J7040</td>\n",
       "      <td>Infusion, normal saline solution, sterile (500 ml=1 unit)</td>\n",
       "    </tr>\n",
       "    <tr>\n",
       "      <th>20</th>\n",
       "      <td>J0885</td>\n",
       "      <td>Injection, epoetin alfa, (for non-esrd use), 1000 units</td>\n",
       "    </tr>\n",
       "    <tr>\n",
       "      <th>21</th>\n",
       "      <td>J0897</td>\n",
       "      <td>Injection, denosumab, 1 mg</td>\n",
       "    </tr>\n",
       "    <tr>\n",
       "      <th>25</th>\n",
       "      <td>J1756</td>\n",
       "      <td>Injection, iron sucrose, 1 mg</td>\n",
       "    </tr>\n",
       "    <tr>\n",
       "      <th>61</th>\n",
       "      <td>J2405</td>\n",
       "      <td>Injection, ondansetron hydrochloride, per 1 mg</td>\n",
       "    </tr>\n",
       "    <tr>\n",
       "      <th>77</th>\n",
       "      <td>J0881</td>\n",
       "      <td>Injection, darbepoetin alfa, 1 microgram (non-esrd use)</td>\n",
       "    </tr>\n",
       "    <tr>\n",
       "      <th>104</th>\n",
       "      <td>J7050</td>\n",
       "      <td>Infusion, normal saline solution , 250 cc</td>\n",
       "    </tr>\n",
       "    <tr>\n",
       "      <th>189</th>\n",
       "      <td>Q0138</td>\n",
       "      <td>Injection, ferumoxytol, for treatment of iron deficiency anemia, 1 mg (non-e...</td>\n",
       "    </tr>\n",
       "    <tr>\n",
       "      <th>218</th>\n",
       "      <td>Q2035</td>\n",
       "      <td>Influenza virus vaccine, split virus, when administered to individuals 3 yea...</td>\n",
       "    </tr>\n",
       "    <tr>\n",
       "      <th>435</th>\n",
       "      <td>Q9970</td>\n",
       "      <td>Injection, ferric carboxymaltose, 1 mg</td>\n",
       "    </tr>\n",
       "    <tr>\n",
       "      <th>942</th>\n",
       "      <td>90662</td>\n",
       "      <td>Vaccine for influenza for injection into muscle</td>\n",
       "    </tr>\n",
       "    <tr>\n",
       "      <th>1070</th>\n",
       "      <td>90688</td>\n",
       "      <td>Vaccine for influenza administered into muscle to individuals 3 years of age...</td>\n",
       "    </tr>\n",
       "  </tbody>\n",
       "</table>\n",
       "</div>"
      ],
      "text/plain": [
       "     hcpcs_code  \\\n",
       "6         J1642   \n",
       "11        J3420   \n",
       "12        J7030   \n",
       "13        J7040   \n",
       "20        J0885   \n",
       "21        J0897   \n",
       "25        J1756   \n",
       "61        J2405   \n",
       "77        J0881   \n",
       "104       J7050   \n",
       "189       Q0138   \n",
       "218       Q2035   \n",
       "435       Q9970   \n",
       "942       90662   \n",
       "1070      90688   \n",
       "\n",
       "                                                                    hcpcs_description  \n",
       "6                       Injection, heparin sodium, (heparin lock flush), per 10 units  \n",
       "11                            Injection, vitamin b-12 cyanocobalamin, up  to 1000 mcg  \n",
       "12                                         Infusion, normal saline solution , 1000 cc  \n",
       "13                          Infusion, normal saline solution, sterile (500 ml=1 unit)  \n",
       "20                            Injection, epoetin alfa, (for non-esrd use), 1000 units  \n",
       "21                                                         Injection, denosumab, 1 mg  \n",
       "25                                                      Injection, iron sucrose, 1 mg  \n",
       "61                                     Injection, ondansetron hydrochloride, per 1 mg  \n",
       "77                            Injection, darbepoetin alfa, 1 microgram (non-esrd use)  \n",
       "104                                         Infusion, normal saline solution , 250 cc  \n",
       "189   Injection, ferumoxytol, for treatment of iron deficiency anemia, 1 mg (non-e...  \n",
       "218   Influenza virus vaccine, split virus, when administered to individuals 3 yea...  \n",
       "435                                            Injection, ferric carboxymaltose, 1 mg  \n",
       "942                                   Vaccine for influenza for injection into muscle  \n",
       "1070  Vaccine for influenza administered into muscle to individuals 3 years of age...  "
      ]
     },
     "execution_count": 30,
     "metadata": {},
     "output_type": "execute_result"
    }
   ],
   "source": [
    "## Topic 3\n",
    "t = 3\n",
    "(payments.loc[payments.hcpcs_code.isin(topic_dict[t]), ['hcpcs_code','hcpcs_description']].\n",
    " drop_duplicates('hcpcs_code'))"
   ]
  },
  {
   "cell_type": "code",
   "execution_count": 31,
   "metadata": {
    "collapsed": false
   },
   "outputs": [
    {
     "data": {
      "text/html": [
       "<div>\n",
       "<table border=\"1\" class=\"dataframe\">\n",
       "  <thead>\n",
       "    <tr style=\"text-align: right;\">\n",
       "      <th></th>\n",
       "      <th>hcpcs_code</th>\n",
       "      <th>hcpcs_description</th>\n",
       "    </tr>\n",
       "  </thead>\n",
       "  <tbody>\n",
       "    <tr>\n",
       "      <th>3</th>\n",
       "      <td>J1442</td>\n",
       "      <td>Injection, filgrastim (g-csf), 1 microgram</td>\n",
       "    </tr>\n",
       "    <tr>\n",
       "      <th>7</th>\n",
       "      <td>J1750</td>\n",
       "      <td>Injection, iron dextran, 50 mg</td>\n",
       "    </tr>\n",
       "    <tr>\n",
       "      <th>9</th>\n",
       "      <td>J2505</td>\n",
       "      <td>Injection, pegfilgrastim, 6 mg</td>\n",
       "    </tr>\n",
       "    <tr>\n",
       "      <th>11</th>\n",
       "      <td>J3420</td>\n",
       "      <td>Injection, vitamin b-12 cyanocobalamin, up  to 1000 mcg</td>\n",
       "    </tr>\n",
       "    <tr>\n",
       "      <th>12</th>\n",
       "      <td>J7030</td>\n",
       "      <td>Infusion, normal saline solution , 1000 cc</td>\n",
       "    </tr>\n",
       "    <tr>\n",
       "      <th>15</th>\n",
       "      <td>J9045</td>\n",
       "      <td>Injection, carboplatin, 50 mg</td>\n",
       "    </tr>\n",
       "    <tr>\n",
       "      <th>17</th>\n",
       "      <td>J9190</td>\n",
       "      <td>Injection, fluorouracil, 500 mg</td>\n",
       "    </tr>\n",
       "    <tr>\n",
       "      <th>19</th>\n",
       "      <td>Q2037</td>\n",
       "      <td>Influenza virus vaccine, split virus, when administered to individuals 3 yea...</td>\n",
       "    </tr>\n",
       "    <tr>\n",
       "      <th>20</th>\n",
       "      <td>J0885</td>\n",
       "      <td>Injection, epoetin alfa, (for non-esrd use), 1000 units</td>\n",
       "    </tr>\n",
       "    <tr>\n",
       "      <th>21</th>\n",
       "      <td>J0897</td>\n",
       "      <td>Injection, denosumab, 1 mg</td>\n",
       "    </tr>\n",
       "    <tr>\n",
       "      <th>28</th>\n",
       "      <td>J2780</td>\n",
       "      <td>Injection, ranitidine hydrochloride, 25 mg</td>\n",
       "    </tr>\n",
       "    <tr>\n",
       "      <th>45</th>\n",
       "      <td>J3475</td>\n",
       "      <td>Injection, magnesium sulfate, per 500 mg</td>\n",
       "    </tr>\n",
       "    <tr>\n",
       "      <th>61</th>\n",
       "      <td>J2405</td>\n",
       "      <td>Injection, ondansetron hydrochloride, per 1 mg</td>\n",
       "    </tr>\n",
       "    <tr>\n",
       "      <th>189</th>\n",
       "      <td>Q0138</td>\n",
       "      <td>Injection, ferumoxytol, for treatment of iron deficiency anemia, 1 mg (non-e...</td>\n",
       "    </tr>\n",
       "    <tr>\n",
       "      <th>205</th>\n",
       "      <td>J3480</td>\n",
       "      <td>Injection, potassium chloride, per 2 meq</td>\n",
       "    </tr>\n",
       "  </tbody>\n",
       "</table>\n",
       "</div>"
      ],
      "text/plain": [
       "    hcpcs_code  \\\n",
       "3        J1442   \n",
       "7        J1750   \n",
       "9        J2505   \n",
       "11       J3420   \n",
       "12       J7030   \n",
       "15       J9045   \n",
       "17       J9190   \n",
       "19       Q2037   \n",
       "20       J0885   \n",
       "21       J0897   \n",
       "28       J2780   \n",
       "45       J3475   \n",
       "61       J2405   \n",
       "189      Q0138   \n",
       "205      J3480   \n",
       "\n",
       "                                                                   hcpcs_description  \n",
       "3                                         Injection, filgrastim (g-csf), 1 microgram  \n",
       "7                                                     Injection, iron dextran, 50 mg  \n",
       "9                                                     Injection, pegfilgrastim, 6 mg  \n",
       "11                           Injection, vitamin b-12 cyanocobalamin, up  to 1000 mcg  \n",
       "12                                        Infusion, normal saline solution , 1000 cc  \n",
       "15                                                     Injection, carboplatin, 50 mg  \n",
       "17                                                   Injection, fluorouracil, 500 mg  \n",
       "19   Influenza virus vaccine, split virus, when administered to individuals 3 yea...  \n",
       "20                           Injection, epoetin alfa, (for non-esrd use), 1000 units  \n",
       "21                                                        Injection, denosumab, 1 mg  \n",
       "28                                        Injection, ranitidine hydrochloride, 25 mg  \n",
       "45                                          Injection, magnesium sulfate, per 500 mg  \n",
       "61                                    Injection, ondansetron hydrochloride, per 1 mg  \n",
       "189  Injection, ferumoxytol, for treatment of iron deficiency anemia, 1 mg (non-e...  \n",
       "205                                         Injection, potassium chloride, per 2 meq  "
      ]
     },
     "execution_count": 31,
     "metadata": {},
     "output_type": "execute_result"
    }
   ],
   "source": [
    "## Topic 4\n",
    "t = 4\n",
    "(payments.loc[payments.hcpcs_code.isin(topic_dict[t]), ['hcpcs_code','hcpcs_description']].\n",
    " drop_duplicates('hcpcs_code'))"
   ]
  },
  {
   "cell_type": "code",
   "execution_count": 32,
   "metadata": {
    "collapsed": false
   },
   "outputs": [
    {
     "data": {
      "text/html": [
       "<div>\n",
       "<table border=\"1\" class=\"dataframe\">\n",
       "  <thead>\n",
       "    <tr style=\"text-align: right;\">\n",
       "      <th></th>\n",
       "      <th>hcpcs_code</th>\n",
       "      <th>hcpcs_description</th>\n",
       "    </tr>\n",
       "  </thead>\n",
       "  <tbody>\n",
       "    <tr>\n",
       "      <th>4</th>\n",
       "      <td>J1453</td>\n",
       "      <td>Injection, fosaprepitant, 1 mg</td>\n",
       "    </tr>\n",
       "    <tr>\n",
       "      <th>5</th>\n",
       "      <td>J1626</td>\n",
       "      <td>Injection, granisetron hydrochloride, 100 mcg</td>\n",
       "    </tr>\n",
       "    <tr>\n",
       "      <th>12</th>\n",
       "      <td>J7030</td>\n",
       "      <td>Infusion, normal saline solution , 1000 cc</td>\n",
       "    </tr>\n",
       "    <tr>\n",
       "      <th>13</th>\n",
       "      <td>J7040</td>\n",
       "      <td>Infusion, normal saline solution, sterile (500 ml=1 unit)</td>\n",
       "    </tr>\n",
       "    <tr>\n",
       "      <th>19</th>\n",
       "      <td>Q2037</td>\n",
       "      <td>Influenza virus vaccine, split virus, when administered to individuals 3 yea...</td>\n",
       "    </tr>\n",
       "    <tr>\n",
       "      <th>61</th>\n",
       "      <td>J2405</td>\n",
       "      <td>Injection, ondansetron hydrochloride, per 1 mg</td>\n",
       "    </tr>\n",
       "    <tr>\n",
       "      <th>77</th>\n",
       "      <td>J0881</td>\n",
       "      <td>Injection, darbepoetin alfa, 1 microgram (non-esrd use)</td>\n",
       "    </tr>\n",
       "    <tr>\n",
       "      <th>104</th>\n",
       "      <td>J7050</td>\n",
       "      <td>Infusion, normal saline solution , 250 cc</td>\n",
       "    </tr>\n",
       "    <tr>\n",
       "      <th>153</th>\n",
       "      <td>J7042</td>\n",
       "      <td>5% dextrose/normal saline (500 ml = 1 unit)</td>\n",
       "    </tr>\n",
       "    <tr>\n",
       "      <th>227</th>\n",
       "      <td>J1644</td>\n",
       "      <td>Injection, heparin sodium, per 1000 units</td>\n",
       "    </tr>\n",
       "    <tr>\n",
       "      <th>238</th>\n",
       "      <td>Q2038</td>\n",
       "      <td>Influenza virus vaccine, split virus, when administered to individuals 3 yea...</td>\n",
       "    </tr>\n",
       "    <tr>\n",
       "      <th>372</th>\n",
       "      <td>90732</td>\n",
       "      <td>Vaccine for pneumococcal polysaccharide for injection beneath the skin or in...</td>\n",
       "    </tr>\n",
       "    <tr>\n",
       "      <th>1989</th>\n",
       "      <td>90661</td>\n",
       "      <td>Vaccine for influenza for injection into muscle</td>\n",
       "    </tr>\n",
       "    <tr>\n",
       "      <th>2171</th>\n",
       "      <td>J7120</td>\n",
       "      <td>Ringers lactate infusion, up to 1000 cc</td>\n",
       "    </tr>\n",
       "    <tr>\n",
       "      <th>6145</th>\n",
       "      <td>J0894</td>\n",
       "      <td>Injection, decitabine, 1 mg</td>\n",
       "    </tr>\n",
       "  </tbody>\n",
       "</table>\n",
       "</div>"
      ],
      "text/plain": [
       "     hcpcs_code  \\\n",
       "4         J1453   \n",
       "5         J1626   \n",
       "12        J7030   \n",
       "13        J7040   \n",
       "19        Q2037   \n",
       "61        J2405   \n",
       "77        J0881   \n",
       "104       J7050   \n",
       "153       J7042   \n",
       "227       J1644   \n",
       "238       Q2038   \n",
       "372       90732   \n",
       "1989      90661   \n",
       "2171      J7120   \n",
       "6145      J0894   \n",
       "\n",
       "                                                                    hcpcs_description  \n",
       "4                                                      Injection, fosaprepitant, 1 mg  \n",
       "5                                       Injection, granisetron hydrochloride, 100 mcg  \n",
       "12                                         Infusion, normal saline solution , 1000 cc  \n",
       "13                          Infusion, normal saline solution, sterile (500 ml=1 unit)  \n",
       "19    Influenza virus vaccine, split virus, when administered to individuals 3 yea...  \n",
       "61                                     Injection, ondansetron hydrochloride, per 1 mg  \n",
       "77                            Injection, darbepoetin alfa, 1 microgram (non-esrd use)  \n",
       "104                                         Infusion, normal saline solution , 250 cc  \n",
       "153                                       5% dextrose/normal saline (500 ml = 1 unit)  \n",
       "227                                         Injection, heparin sodium, per 1000 units  \n",
       "238   Influenza virus vaccine, split virus, when administered to individuals 3 yea...  \n",
       "372   Vaccine for pneumococcal polysaccharide for injection beneath the skin or in...  \n",
       "1989                                  Vaccine for influenza for injection into muscle  \n",
       "2171                                          Ringers lactate infusion, up to 1000 cc  \n",
       "6145                                                      Injection, decitabine, 1 mg  "
      ]
     },
     "execution_count": 32,
     "metadata": {},
     "output_type": "execute_result"
    }
   ],
   "source": [
    "## Topic 5\n",
    "t = 5\n",
    "(payments.loc[payments.hcpcs_code.isin(topic_dict[t]), ['hcpcs_code','hcpcs_description']].\n",
    " drop_duplicates('hcpcs_code'))"
   ]
  },
  {
   "cell_type": "markdown",
   "metadata": {},
   "source": [
    "## Plot distribution of providers per topic"
   ]
  },
  {
   "cell_type": "code",
   "execution_count": 33,
   "metadata": {
    "collapsed": true
   },
   "outputs": [],
   "source": [
    "## per document (provider), assign topic based on highest-probability topic out of the 10\n",
    "topic_per_doc = []\n",
    "for i in corpus_tfidf:\n",
    "    topic_per_doc.append(np.argmax(np.array(ldamodel.get_document_topics(i))[:,1]))"
   ]
  },
  {
   "cell_type": "code",
   "execution_count": 34,
   "metadata": {
    "collapsed": false
   },
   "outputs": [
    {
     "data": {
      "image/png": "[encoded data removed]",
      "text/plain": [
       "<matplotlib.figure.Figure at 0x7f9954eb4780>"
      ]
     },
     "metadata": {},
     "output_type": "display_data"
    }
   ],
   "source": [
    "## distribution of providers among topics\n",
    "ax = sns.countplot(x='topic',data=pd.DataFrame(topic_per_doc).rename(columns={0:'topic'}))\n",
    "sns.despine()"
   ]
  },
  {
   "cell_type": "markdown",
   "metadata": {},
   "source": [
    "## Color code distribution over topics by provider_type"
   ]
  },
  {
   "cell_type": "code",
   "execution_count": 35,
   "metadata": {
    "collapsed": false
   },
   "outputs": [],
   "source": [
    "by_npi.index = by_npi.index.astype(str)"
   ]
  },
  {
   "cell_type": "code",
   "execution_count": 36,
   "metadata": {
    "collapsed": true
   },
   "outputs": [],
   "source": [
    "color_codes = (pd.DataFrame({'npi':by_npi.index}).\n",
    "               merge(payments.drop_duplicates('npi')[['npi', 'provider_type']]))"
   ]
  },
  {
   "cell_type": "code",
   "execution_count": 37,
   "metadata": {
    "collapsed": false
   },
   "outputs": [
    {
     "data": {
      "text/plain": [
       "3122"
      ]
     },
     "execution_count": 37,
     "metadata": {},
     "output_type": "execute_result"
    }
   ],
   "source": [
    "## color code for plotting\n",
    "len(color_codes)"
   ]
  },
  {
   "cell_type": "code",
   "execution_count": 38,
   "metadata": {
    "collapsed": false
   },
   "outputs": [
    {
     "data": {
      "text/html": [
       "<div>\n",
       "<table border=\"1\" class=\"dataframe\">\n",
       "  <thead>\n",
       "    <tr style=\"text-align: right;\">\n",
       "      <th></th>\n",
       "      <th>npi</th>\n",
       "      <th>provider_type</th>\n",
       "    </tr>\n",
       "  </thead>\n",
       "  <tbody>\n",
       "    <tr>\n",
       "      <th>0</th>\n",
       "      <td>1003031212</td>\n",
       "      <td>Hematology/Oncology</td>\n",
       "    </tr>\n",
       "    <tr>\n",
       "      <th>1</th>\n",
       "      <td>1003079997</td>\n",
       "      <td>Hematology/Oncology</td>\n",
       "    </tr>\n",
       "    <tr>\n",
       "      <th>2</th>\n",
       "      <td>1003099813</td>\n",
       "      <td>Hematology/Oncology</td>\n",
       "    </tr>\n",
       "    <tr>\n",
       "      <th>3</th>\n",
       "      <td>1003801689</td>\n",
       "      <td>Hematology/Oncology</td>\n",
       "    </tr>\n",
       "    <tr>\n",
       "      <th>4</th>\n",
       "      <td>1003805375</td>\n",
       "      <td>Hematology/Oncology</td>\n",
       "    </tr>\n",
       "  </tbody>\n",
       "</table>\n",
       "</div>"
      ],
      "text/plain": [
       "          npi        provider_type\n",
       "0  1003031212  Hematology/Oncology\n",
       "1  1003079997  Hematology/Oncology\n",
       "2  1003099813  Hematology/Oncology\n",
       "3  1003801689  Hematology/Oncology\n",
       "4  1003805375  Hematology/Oncology"
      ]
     },
     "execution_count": 38,
     "metadata": {},
     "output_type": "execute_result"
    }
   ],
   "source": [
    "color_codes.head()"
   ]
  },
  {
   "cell_type": "code",
   "execution_count": 39,
   "metadata": {
    "collapsed": false
   },
   "outputs": [
    {
     "data": {
      "text/html": [
       "<div>\n",
       "<table border=\"1\" class=\"dataframe\">\n",
       "  <thead>\n",
       "    <tr style=\"text-align: right;\">\n",
       "      <th></th>\n",
       "      <th>topic</th>\n",
       "      <th>npi</th>\n",
       "      <th>provider_type</th>\n",
       "    </tr>\n",
       "  </thead>\n",
       "  <tbody>\n",
       "    <tr>\n",
       "      <th>0</th>\n",
       "      <td>4</td>\n",
       "      <td>1003031212</td>\n",
       "      <td>Hematology/Oncology</td>\n",
       "    </tr>\n",
       "    <tr>\n",
       "      <th>1</th>\n",
       "      <td>3</td>\n",
       "      <td>1003079997</td>\n",
       "      <td>Hematology/Oncology</td>\n",
       "    </tr>\n",
       "    <tr>\n",
       "      <th>2</th>\n",
       "      <td>1</td>\n",
       "      <td>1003099813</td>\n",
       "      <td>Hematology/Oncology</td>\n",
       "    </tr>\n",
       "    <tr>\n",
       "      <th>3</th>\n",
       "      <td>1</td>\n",
       "      <td>1003801689</td>\n",
       "      <td>Hematology/Oncology</td>\n",
       "    </tr>\n",
       "    <tr>\n",
       "      <th>4</th>\n",
       "      <td>2</td>\n",
       "      <td>1003805375</td>\n",
       "      <td>Hematology/Oncology</td>\n",
       "    </tr>\n",
       "  </tbody>\n",
       "</table>\n",
       "</div>"
      ],
      "text/plain": [
       "   topic         npi        provider_type\n",
       "0      4  1003031212  Hematology/Oncology\n",
       "1      3  1003079997  Hematology/Oncology\n",
       "2      1  1003099813  Hematology/Oncology\n",
       "3      1  1003801689  Hematology/Oncology\n",
       "4      2  1003805375  Hematology/Oncology"
      ]
     },
     "execution_count": 39,
     "metadata": {},
     "output_type": "execute_result"
    }
   ],
   "source": [
    "topic_per_doc_df = (pd.concat([pd.DataFrame(topic_per_doc).rename(columns={0:'topic'}),\n",
    "                              color_codes], axis=1, ignore_index=True).\n",
    "                    rename(columns={0:'topic',1:'npi',2:'provider_type'}))\n",
    "\n",
    "topic_per_doc_df.head()\n",
    "#topic_per_doc_df = (pd.concat([pd.DataFrame(topic_per_doc), fraud_label], axis=1, ignore_index=True).\n",
    "#                        rename(columns={0:'topic',1:'fraud'}))"
   ]
  },
  {
   "cell_type": "code",
   "execution_count": 40,
   "metadata": {
    "collapsed": false
   },
   "outputs": [],
   "source": [
    "mydf = (topic_per_doc_df.\n",
    "        groupby(['topic','provider_type']).\n",
    "        count().\n",
    "        rename(columns={'npi':'counts'}).\n",
    "        reset_index())"
   ]
  },
  {
   "cell_type": "code",
   "execution_count": 41,
   "metadata": {
    "collapsed": false
   },
   "outputs": [
    {
     "data": {
      "text/html": [
       "<div>\n",
       "<table border=\"1\" class=\"dataframe\">\n",
       "  <thead>\n",
       "    <tr style=\"text-align: right;\">\n",
       "      <th></th>\n",
       "      <th>topic</th>\n",
       "      <th>provider_type</th>\n",
       "      <th>counts</th>\n",
       "    </tr>\n",
       "  </thead>\n",
       "  <tbody>\n",
       "    <tr>\n",
       "      <th>0</th>\n",
       "      <td>0</td>\n",
       "      <td>Hematology/Oncology</td>\n",
       "      <td>185</td>\n",
       "    </tr>\n",
       "    <tr>\n",
       "      <th>1</th>\n",
       "      <td>0</td>\n",
       "      <td>Medical Oncology</td>\n",
       "      <td>54</td>\n",
       "    </tr>\n",
       "    <tr>\n",
       "      <th>2</th>\n",
       "      <td>1</td>\n",
       "      <td>Hematology/Oncology</td>\n",
       "      <td>473</td>\n",
       "    </tr>\n",
       "    <tr>\n",
       "      <th>3</th>\n",
       "      <td>1</td>\n",
       "      <td>Medical Oncology</td>\n",
       "      <td>107</td>\n",
       "    </tr>\n",
       "    <tr>\n",
       "      <th>4</th>\n",
       "      <td>2</td>\n",
       "      <td>Hematology/Oncology</td>\n",
       "      <td>815</td>\n",
       "    </tr>\n",
       "    <tr>\n",
       "      <th>5</th>\n",
       "      <td>2</td>\n",
       "      <td>Medical Oncology</td>\n",
       "      <td>286</td>\n",
       "    </tr>\n",
       "    <tr>\n",
       "      <th>6</th>\n",
       "      <td>3</td>\n",
       "      <td>Hematology/Oncology</td>\n",
       "      <td>226</td>\n",
       "    </tr>\n",
       "    <tr>\n",
       "      <th>7</th>\n",
       "      <td>3</td>\n",
       "      <td>Medical Oncology</td>\n",
       "      <td>44</td>\n",
       "    </tr>\n",
       "    <tr>\n",
       "      <th>8</th>\n",
       "      <td>4</td>\n",
       "      <td>Hematology/Oncology</td>\n",
       "      <td>611</td>\n",
       "    </tr>\n",
       "    <tr>\n",
       "      <th>9</th>\n",
       "      <td>4</td>\n",
       "      <td>Medical Oncology</td>\n",
       "      <td>179</td>\n",
       "    </tr>\n",
       "  </tbody>\n",
       "</table>\n",
       "</div>"
      ],
      "text/plain": [
       "   topic        provider_type  counts\n",
       "0      0  Hematology/Oncology     185\n",
       "1      0     Medical Oncology      54\n",
       "2      1  Hematology/Oncology     473\n",
       "3      1     Medical Oncology     107\n",
       "4      2  Hematology/Oncology     815\n",
       "5      2     Medical Oncology     286\n",
       "6      3  Hematology/Oncology     226\n",
       "7      3     Medical Oncology      44\n",
       "8      4  Hematology/Oncology     611\n",
       "9      4     Medical Oncology     179"
      ]
     },
     "execution_count": 41,
     "metadata": {},
     "output_type": "execute_result"
    }
   ],
   "source": [
    "mydf.head(10)"
   ]
  },
  {
   "cell_type": "code",
   "execution_count": 42,
   "metadata": {
    "collapsed": false
   },
   "outputs": [
    {
     "data": {
      "image/png": "[encoded data removed]",
      "text/plain": [
       "<matplotlib.figure.Figure at 0x7f995577d7b8>"
      ]
     },
     "metadata": {},
     "output_type": "display_data"
    }
   ],
   "source": [
    "ax = sns.barplot(x='topic', y='counts', hue='provider_type', data=mydf)\n",
    "sns.despine()"
   ]
  },
  {
   "cell_type": "code",
   "execution_count": 43,
   "metadata": {
    "collapsed": false
   },
   "outputs": [
    {
     "data": {
      "text/html": [
       "<div>\n",
       "<table border=\"1\" class=\"dataframe\">\n",
       "  <thead>\n",
       "    <tr style=\"text-align: right;\">\n",
       "      <th></th>\n",
       "      <th>topic</th>\n",
       "      <th>provider_type</th>\n",
       "      <th>counts</th>\n",
       "    </tr>\n",
       "  </thead>\n",
       "  <tbody>\n",
       "    <tr>\n",
       "      <th>0</th>\n",
       "      <td>0</td>\n",
       "      <td>Hematology/Oncology</td>\n",
       "      <td>0.076383</td>\n",
       "    </tr>\n",
       "    <tr>\n",
       "      <th>1</th>\n",
       "      <td>0</td>\n",
       "      <td>Medical Oncology</td>\n",
       "      <td>0.077143</td>\n",
       "    </tr>\n",
       "    <tr>\n",
       "      <th>2</th>\n",
       "      <td>1</td>\n",
       "      <td>Hematology/Oncology</td>\n",
       "      <td>0.195293</td>\n",
       "    </tr>\n",
       "    <tr>\n",
       "      <th>3</th>\n",
       "      <td>1</td>\n",
       "      <td>Medical Oncology</td>\n",
       "      <td>0.152857</td>\n",
       "    </tr>\n",
       "    <tr>\n",
       "      <th>4</th>\n",
       "      <td>2</td>\n",
       "      <td>Hematology/Oncology</td>\n",
       "      <td>0.336499</td>\n",
       "    </tr>\n",
       "  </tbody>\n",
       "</table>\n",
       "</div>"
      ],
      "text/plain": [
       "   topic        provider_type    counts\n",
       "0      0  Hematology/Oncology  0.076383\n",
       "1      0     Medical Oncology  0.077143\n",
       "2      1  Hematology/Oncology  0.195293\n",
       "3      1     Medical Oncology  0.152857\n",
       "4      2  Hematology/Oncology  0.336499"
      ]
     },
     "execution_count": 43,
     "metadata": {},
     "output_type": "execute_result"
    }
   ],
   "source": [
    "## plot fractions per provider_type rather than absolute counts across topics\n",
    "\n",
    "## rescale each of the counts by overall total per fraud group\n",
    "#mydf.groupby(['provider_type']).transform(lambda x: x.sum()['counts'])\n",
    "types = list(payments['provider_type'].unique())\n",
    "\n",
    "for t in types:\n",
    "    mydf.loc[mydf.provider_type == t, 'counts']  = (mydf.loc[mydf.provider_type == t, 'counts'] / \n",
    "                                          float(sum(mydf.loc[mydf.provider_type == t, 'counts'])))\n",
    "\n",
    "mydf.head()"
   ]
  },
  {
   "cell_type": "code",
   "execution_count": 105,
   "metadata": {
    "collapsed": false
   },
   "outputs": [
    {
     "data": {
      "image/png": "[encoded data removed]",
      "text/plain": [
       "<matplotlib.figure.Figure at 0x7f994ebb5c50>"
      ]
     },
     "metadata": {},
     "output_type": "display_data"
    }
   ],
   "source": [
    "ax = sns.barplot(x='topic', y='counts', hue='provider_type', data=mydf)\n",
    "ax.set(ylabel = \"fraction of providers (within category)\")\n",
    "sns.despine()"
   ]
  },
  {
   "cell_type": "markdown",
   "metadata": {},
   "source": [
    "## Plot doctors in topic space"
   ]
  },
  {
   "cell_type": "code",
   "execution_count": 45,
   "metadata": {
    "collapsed": true
   },
   "outputs": [],
   "source": [
    "from sklearn.manifold import TSNE\n",
    "#from sklearn import preprocessing"
   ]
  },
  {
   "cell_type": "code",
   "execution_count": 46,
   "metadata": {
    "collapsed": false
   },
   "outputs": [
    {
     "data": {
      "text/plain": [
       "(3122, 6)"
      ]
     },
     "execution_count": 46,
     "metadata": {},
     "output_type": "execute_result"
    }
   ],
   "source": [
    "topics_per_doc = []\n",
    "\n",
    "## Get features per doc (probability scores over topics)\n",
    "for doc in corpus_tfidf:\n",
    "    topics_per_doc.append(np.array(ldamodel.get_document_topics(doc))[:,1])\n",
    "\n",
    "by_npi_topics = pd.DataFrame(topics_per_doc)\n",
    "by_npi_topics.shape"
   ]
  },
  {
   "cell_type": "code",
   "execution_count": 47,
   "metadata": {
    "collapsed": false
   },
   "outputs": [
    {
     "name": "stdout",
     "output_type": "stream",
     "text": [
      "[t-SNE] Computing pairwise distances...\n",
      "[t-SNE] Computing 121 nearest neighbors...\n",
      "[t-SNE] Computed conditional probabilities for sample 1000 / 3122\n",
      "[t-SNE] Computed conditional probabilities for sample 2000 / 3122\n",
      "[t-SNE] Computed conditional probabilities for sample 3000 / 3122\n",
      "[t-SNE] Computed conditional probabilities for sample 3122 / 3122\n",
      "[t-SNE] Mean sigma: 0.005392\n",
      "[t-SNE] Iteration 25: error = 1.7571929, gradient norm = 0.0078417\n",
      "[t-SNE] Iteration 50: error = 1.5677687, gradient norm = 0.0058445\n",
      "[t-SNE] Iteration 75: error = 0.9790765, gradient norm = 0.0022537\n",
      "[t-SNE] Iteration 100: error = 0.8856335, gradient norm = 0.0018526\n",
      "[t-SNE] Error after 100 iterations with early exaggeration: 0.885634\n",
      "[t-SNE] Iteration 125: error = 0.7498441, gradient norm = 0.0013426\n",
      "[t-SNE] Iteration 150: error = 0.7119430, gradient norm = 0.0012146\n",
      "[t-SNE] Iteration 175: error = 0.7028211, gradient norm = 0.0011860\n",
      "[t-SNE] Iteration 200: error = 0.7004034, gradient norm = 0.0011781\n",
      "[t-SNE] Iteration 225: error = 0.6997364, gradient norm = 0.0011758\n",
      "[t-SNE] Iteration 250: error = 0.6995552, gradient norm = 0.0011752\n",
      "[t-SNE] Iteration 275: error = 0.6995060, gradient norm = 0.0011750\n",
      "[t-SNE] Iteration 300: error = 0.6994910, gradient norm = 0.0011749\n",
      "[t-SNE] Iteration 325: error = 0.6994874, gradient norm = 0.0011749\n",
      "[t-SNE] Iteration 350: error = 0.6994863, gradient norm = 0.0011749\n",
      "[t-SNE] Iteration 375: error = 0.6994858, gradient norm = 0.0011749\n",
      "[t-SNE] Iteration 375: error difference 0.000000. Finished.\n",
      "[t-SNE] Error after 375 iterations: 0.699486\n"
     ]
    }
   ],
   "source": [
    "X_embedded = TSNE(n_components=2, perplexity=40, verbose=2).fit_transform(by_npi_topics.as_matrix())"
   ]
  },
  {
   "cell_type": "code",
   "execution_count": 48,
   "metadata": {
    "collapsed": false
   },
   "outputs": [],
   "source": [
    "X_embedded_df = pd.DataFrame(X_embedded)\n",
    "X_embedded_df = (pd.concat([X_embedded_df, topic_per_doc_df['provider_type']], \n",
    "                           axis=1, ignore_index=True).rename(columns={0:'x', 1:'y', 2:'provider_type'}))"
   ]
  },
  {
   "cell_type": "code",
   "execution_count": 49,
   "metadata": {
    "collapsed": false
   },
   "outputs": [
    {
     "data": {
      "text/plain": [
       "<matplotlib.figure.Figure at 0x7f99546ebda0>"
      ]
     },
     "metadata": {},
     "output_type": "display_data"
    },
    {
     "data": {
      "image/png": "[encoded data removed]",
      "text/plain": [
       "<matplotlib.figure.Figure at 0x7f9950642828>"
      ]
     },
     "metadata": {},
     "output_type": "display_data"
    }
   ],
   "source": [
    "#plt.rcParams['figure.figsize'] = (20.0, 20.0)\n",
    "#plt.figure(figsize=(8, 6))\n",
    "plt.rcParams['figure.figsize']=(10,20)\n",
    "fig = plt.figure(figsize=(10,10))\n",
    "sns.lmplot(x='x', y='y', data=X_embedded_df, hue='provider_type', fit_reg=False)\n",
    "fig = plt.gcf()\n",
    "fig.set_figheight(10)\n",
    "fig.set_figwidth(15)"
   ]
  },
  {
   "cell_type": "markdown",
   "metadata": {},
   "source": [
    "## tsne on original space"
   ]
  },
  {
   "cell_type": "code",
   "execution_count": 50,
   "metadata": {
    "collapsed": false
   },
   "outputs": [
    {
     "name": "stdout",
     "output_type": "stream",
     "text": [
      "[t-SNE] Computing pairwise distances...\n",
      "[t-SNE] Computing 121 nearest neighbors...\n",
      "[t-SNE] Computed conditional probabilities for sample 1000 / 3122\n",
      "[t-SNE] Computed conditional probabilities for sample 2000 / 3122\n",
      "[t-SNE] Computed conditional probabilities for sample 3000 / 3122\n",
      "[t-SNE] Computed conditional probabilities for sample 3122 / 3122\n",
      "[t-SNE] Mean sigma: 19.934726\n",
      "[t-SNE] Iteration 25: error = 1.6964095, gradient norm = 0.0064720\n",
      "[t-SNE] Iteration 50: error = 1.6115091, gradient norm = 0.0042120\n",
      "[t-SNE] Iteration 75: error = 1.3764027, gradient norm = 0.0014628\n",
      "[t-SNE] Iteration 100: error = 1.3340213, gradient norm = 0.0012166\n",
      "[t-SNE] Error after 100 iterations with early exaggeration: 1.334021\n",
      "[t-SNE] Iteration 125: error = 1.2682078, gradient norm = 0.0008613\n",
      "[t-SNE] Iteration 125: gradient norm 0.000861. Finished.\n",
      "[t-SNE] Error after 125 iterations: 1.268208\n"
     ]
    }
   ],
   "source": [
    "X_embedded0 = TSNE(n_components=2, perplexity=40, verbose=2).fit_transform(by_npi.as_matrix())"
   ]
  },
  {
   "cell_type": "code",
   "execution_count": 51,
   "metadata": {
    "collapsed": true
   },
   "outputs": [],
   "source": [
    "X_embedded_df0 = pd.DataFrame(X_embedded0)\n",
    "X_embedded_df0 = (pd.concat([X_embedded_df0, topic_per_doc_df['provider_type']], axis=1, ignore_index=True)).rename(columns={0:'x', 1:'y', 2:'provider_type'})"
   ]
  },
  {
   "cell_type": "code",
   "execution_count": 56,
   "metadata": {
    "collapsed": false
   },
   "outputs": [
    {
     "data": {
      "text/plain": [
       "<matplotlib.figure.Figure at 0x7f994ecc3f60>"
      ]
     },
     "metadata": {},
     "output_type": "display_data"
    },
    {
     "data": {
      "image/png": "[encoded data removed]",
      "text/plain": [
       "<matplotlib.figure.Figure at 0x7f994ecbbdd8>"
      ]
     },
     "metadata": {},
     "output_type": "display_data"
    }
   ],
   "source": [
    "#plt.rcParams['figure.figsize'] = (20.0, 20.0)\n",
    "#plt.figure(figsize=(8, 6))\n",
    "#plt.rcParams['figure.figsize']=(10,10)\n",
    "fig = plt.figure(figsize=(10,10))\n",
    "sns.lmplot(x='x', y='y', data=X_embedded_df0, hue='provider_type', fit_reg=False)\n",
    "fig = plt.gcf()\n",
    "fig.set_figheight(5)\n",
    "fig.set_figwidth(10)"
   ]
  },
  {
   "cell_type": "markdown",
   "metadata": {},
   "source": [
    "## quantify sharpness of probability distribution over topics per doctor"
   ]
  },
  {
   "cell_type": "code",
   "execution_count": 57,
   "metadata": {
    "collapsed": false
   },
   "outputs": [
    {
     "data": {
      "text/html": [
       "<div>\n",
       "<table border=\"1\" class=\"dataframe\">\n",
       "  <thead>\n",
       "    <tr style=\"text-align: right;\">\n",
       "      <th></th>\n",
       "      <th>0</th>\n",
       "      <th>1</th>\n",
       "      <th>2</th>\n",
       "      <th>3</th>\n",
       "      <th>4</th>\n",
       "      <th>5</th>\n",
       "    </tr>\n",
       "  </thead>\n",
       "  <tbody>\n",
       "    <tr>\n",
       "      <th>0</th>\n",
       "      <td>0.036175</td>\n",
       "      <td>0.036247</td>\n",
       "      <td>0.036324</td>\n",
       "      <td>0.036230</td>\n",
       "      <td>0.818888</td>\n",
       "      <td>0.036137</td>\n",
       "    </tr>\n",
       "    <tr>\n",
       "      <th>1</th>\n",
       "      <td>0.068807</td>\n",
       "      <td>0.069031</td>\n",
       "      <td>0.069402</td>\n",
       "      <td>0.654510</td>\n",
       "      <td>0.069423</td>\n",
       "      <td>0.068826</td>\n",
       "    </tr>\n",
       "    <tr>\n",
       "      <th>2</th>\n",
       "      <td>0.055753</td>\n",
       "      <td>0.720105</td>\n",
       "      <td>0.056203</td>\n",
       "      <td>0.055874</td>\n",
       "      <td>0.056239</td>\n",
       "      <td>0.055827</td>\n",
       "    </tr>\n",
       "    <tr>\n",
       "      <th>3</th>\n",
       "      <td>0.056647</td>\n",
       "      <td>0.715555</td>\n",
       "      <td>0.057700</td>\n",
       "      <td>0.056722</td>\n",
       "      <td>0.056671</td>\n",
       "      <td>0.056704</td>\n",
       "    </tr>\n",
       "    <tr>\n",
       "      <th>4</th>\n",
       "      <td>0.051523</td>\n",
       "      <td>0.051766</td>\n",
       "      <td>0.742060</td>\n",
       "      <td>0.051519</td>\n",
       "      <td>0.051594</td>\n",
       "      <td>0.051538</td>\n",
       "    </tr>\n",
       "  </tbody>\n",
       "</table>\n",
       "</div>"
      ],
      "text/plain": [
       "          0         1         2         3         4         5\n",
       "0  0.036175  0.036247  0.036324  0.036230  0.818888  0.036137\n",
       "1  0.068807  0.069031  0.069402  0.654510  0.069423  0.068826\n",
       "2  0.055753  0.720105  0.056203  0.055874  0.056239  0.055827\n",
       "3  0.056647  0.715555  0.057700  0.056722  0.056671  0.056704\n",
       "4  0.051523  0.051766  0.742060  0.051519  0.051594  0.051538"
      ]
     },
     "execution_count": 57,
     "metadata": {},
     "output_type": "execute_result"
    }
   ],
   "source": [
    "by_npi_topics.head()"
   ]
  },
  {
   "cell_type": "code",
   "execution_count": 106,
   "metadata": {
    "collapsed": false
   },
   "outputs": [],
   "source": [
    "entropy_per_npi = by_npi_topics.apply(np.log, axis=1).mul(by_npi_topics).sum(axis=1).multiply(-1)"
   ]
  },
  {
   "cell_type": "code",
   "execution_count": 107,
   "metadata": {
    "collapsed": false
   },
   "outputs": [
    {
     "data": {
      "text/plain": [
       "3122"
      ]
     },
     "execution_count": 107,
     "metadata": {},
     "output_type": "execute_result"
    }
   ],
   "source": [
    "len(entropy_per_npi)"
   ]
  },
  {
   "cell_type": "code",
   "execution_count": 108,
   "metadata": {
    "collapsed": false
   },
   "outputs": [
    {
     "data": {
      "image/png": "[encoded data removed]",
      "text/plain": [
       "<matplotlib.figure.Figure at 0x7f994eb8e828>"
      ]
     },
     "metadata": {},
     "output_type": "display_data"
    }
   ],
   "source": [
    "plt.rcParams['figure.figsize']=(6,6)\n",
    "g = sns.distplot(entropy_per_npi, kde=False, bins=30)\n",
    "#g.set(xlim=(0,500), ylim=(0, 60), xlabel='claims per drug B code', ylabel='counts')\n",
    "sns.despine()   "
   ]
  },
  {
   "cell_type": "code",
   "execution_count": 109,
   "metadata": {
    "collapsed": false
   },
   "outputs": [
    {
     "data": {
      "text/plain": [
       "1.791759469228055"
      ]
     },
     "execution_count": 109,
     "metadata": {},
     "output_type": "execute_result"
    }
   ],
   "source": [
    "##  maximum entropy over 6 topics = -6 * (1/6)log(1/6)\n",
    "-1*np.log(1/6)"
   ]
  },
  {
   "cell_type": "markdown",
   "metadata": {},
   "source": [
    "There used to be about 120 providers with completely uniform probability distributions (max entropy) when I kept any doctors with more than 1 claim.  That spike is erased by increasing the threshold number of claims when choosing which doctors to drop.\n",
    "\n",
    "How is entropy distributed between provider_types?"
   ]
  },
  {
   "cell_type": "code",
   "execution_count": 110,
   "metadata": {
    "collapsed": false
   },
   "outputs": [],
   "source": [
    "entropy_df = pd.concat([color_codes, pd.DataFrame(entropy_per_npi)], axis=1).rename(columns={0:'entropy'})"
   ]
  },
  {
   "cell_type": "code",
   "execution_count": 111,
   "metadata": {
    "collapsed": false
   },
   "outputs": [
    {
     "data": {
      "text/html": [
       "<div>\n",
       "<table border=\"1\" class=\"dataframe\">\n",
       "  <thead>\n",
       "    <tr style=\"text-align: right;\">\n",
       "      <th></th>\n",
       "      <th>npi</th>\n",
       "      <th>provider_type</th>\n",
       "      <th>entropy</th>\n",
       "    </tr>\n",
       "  </thead>\n",
       "  <tbody>\n",
       "    <tr>\n",
       "      <th>0</th>\n",
       "      <td>1003031212</td>\n",
       "      <td>Hematology/Oncology</td>\n",
       "      <td>0.764564</td>\n",
       "    </tr>\n",
       "    <tr>\n",
       "      <th>1</th>\n",
       "      <td>1003079997</td>\n",
       "      <td>Hematology/Oncology</td>\n",
       "      <td>1.200652</td>\n",
       "    </tr>\n",
       "    <tr>\n",
       "      <th>2</th>\n",
       "      <td>1003099813</td>\n",
       "      <td>Hematology/Oncology</td>\n",
       "      <td>1.043327</td>\n",
       "    </tr>\n",
       "    <tr>\n",
       "      <th>3</th>\n",
       "      <td>1003801689</td>\n",
       "      <td>Hematology/Oncology</td>\n",
       "      <td>1.054891</td>\n",
       "    </tr>\n",
       "    <tr>\n",
       "      <th>4</th>\n",
       "      <td>1003805375</td>\n",
       "      <td>Hematology/Oncology</td>\n",
       "      <td>0.986030</td>\n",
       "    </tr>\n",
       "  </tbody>\n",
       "</table>\n",
       "</div>"
      ],
      "text/plain": [
       "          npi        provider_type   entropy\n",
       "0  1003031212  Hematology/Oncology  0.764564\n",
       "1  1003079997  Hematology/Oncology  1.200652\n",
       "2  1003099813  Hematology/Oncology  1.043327\n",
       "3  1003801689  Hematology/Oncology  1.054891\n",
       "4  1003805375  Hematology/Oncology  0.986030"
      ]
     },
     "execution_count": 111,
     "metadata": {},
     "output_type": "execute_result"
    }
   ],
   "source": [
    "entropy_df.head()"
   ]
  },
  {
   "cell_type": "code",
   "execution_count": 112,
   "metadata": {
    "collapsed": false
   },
   "outputs": [
    {
     "data": {
      "image/png": "[encoded data removed]",
      "text/plain": [
       "<matplotlib.figure.Figure at 0x7f994ebb1390>"
      ]
     },
     "metadata": {},
     "output_type": "display_data"
    }
   ],
   "source": [
    "plt.rcParams['figure.figsize']=(8,8)\n",
    "g = sns.distplot(entropy_df.query(\"provider_type=='Medical Oncology'\")['entropy'], kde=False, bins=30)\n",
    "g.set(xlabel='entropy', ylabel='counts', title='Medical Oncology')\n",
    "sns.despine()"
   ]
  },
  {
   "cell_type": "code",
   "execution_count": 113,
   "metadata": {
    "collapsed": false
   },
   "outputs": [
    {
     "data": {
      "image/png": "[encoded data removed]",
      "text/plain": [
       "<matplotlib.figure.Figure at 0x7f9954a7e5c0>"
      ]
     },
     "metadata": {},
     "output_type": "display_data"
    }
   ],
   "source": [
    "plt.rcParams['figure.figsize']=(8,8)\n",
    "g = sns.distplot(entropy_df.query(\"provider_type=='Hematology/Oncology'\")['entropy'], kde=False, bins=30)\n",
    "g.set(xlabel='entropy', ylabel='counts', title='Hematology/Oncology')\n",
    "sns.despine()"
   ]
  },
  {
   "cell_type": "code",
   "execution_count": 117,
   "metadata": {
    "collapsed": false
   },
   "outputs": [
    {
     "data": {
      "text/html": [
       "<div>\n",
       "<table border=\"1\" class=\"dataframe\">\n",
       "  <thead>\n",
       "    <tr style=\"text-align: right;\">\n",
       "      <th></th>\n",
       "      <th>npi</th>\n",
       "      <th>provider_type</th>\n",
       "      <th>entropy</th>\n",
       "      <th>nppes_provider_last_org_name</th>\n",
       "      <th>nppes_provider_first_name</th>\n",
       "      <th>nppes_provider_state</th>\n",
       "      <th>topic</th>\n",
       "    </tr>\n",
       "  </thead>\n",
       "  <tbody>\n",
       "    <tr>\n",
       "      <th>0</th>\n",
       "      <td>1245221993</td>\n",
       "      <td>Hematology/Oncology</td>\n",
       "      <td>0.577749</td>\n",
       "      <td>HART</td>\n",
       "      <td>LOWELL</td>\n",
       "      <td>FL</td>\n",
       "      <td>4</td>\n",
       "    </tr>\n",
       "    <tr>\n",
       "      <th>1</th>\n",
       "      <td>1336130046</td>\n",
       "      <td>Hematology/Oncology</td>\n",
       "      <td>0.603775</td>\n",
       "      <td>CHU</td>\n",
       "      <td>LUIS</td>\n",
       "      <td>FL</td>\n",
       "      <td>4</td>\n",
       "    </tr>\n",
       "    <tr>\n",
       "      <th>2</th>\n",
       "      <td>1821058496</td>\n",
       "      <td>Hematology/Oncology</td>\n",
       "      <td>0.607288</td>\n",
       "      <td>MALHOTRA</td>\n",
       "      <td>VIKAS</td>\n",
       "      <td>FL</td>\n",
       "      <td>4</td>\n",
       "    </tr>\n",
       "    <tr>\n",
       "      <th>3</th>\n",
       "      <td>1659375145</td>\n",
       "      <td>Medical Oncology</td>\n",
       "      <td>0.610953</td>\n",
       "      <td>TABER</td>\n",
       "      <td>DAVID</td>\n",
       "      <td>IN</td>\n",
       "      <td>2</td>\n",
       "    </tr>\n",
       "    <tr>\n",
       "      <th>4</th>\n",
       "      <td>1780654889</td>\n",
       "      <td>Hematology/Oncology</td>\n",
       "      <td>0.621305</td>\n",
       "      <td>LIPMAN</td>\n",
       "      <td>ANDREW</td>\n",
       "      <td>FL</td>\n",
       "      <td>4</td>\n",
       "    </tr>\n",
       "    <tr>\n",
       "      <th>5</th>\n",
       "      <td>1033192570</td>\n",
       "      <td>Hematology/Oncology</td>\n",
       "      <td>0.625148</td>\n",
       "      <td>RUBIN</td>\n",
       "      <td>MARK</td>\n",
       "      <td>FL</td>\n",
       "      <td>4</td>\n",
       "    </tr>\n",
       "    <tr>\n",
       "      <th>6</th>\n",
       "      <td>1922001064</td>\n",
       "      <td>Hematology/Oncology</td>\n",
       "      <td>0.627440</td>\n",
       "      <td>ALBERICO</td>\n",
       "      <td>THOMAS</td>\n",
       "      <td>VA</td>\n",
       "      <td>2</td>\n",
       "    </tr>\n",
       "    <tr>\n",
       "      <th>7</th>\n",
       "      <td>1750372686</td>\n",
       "      <td>Hematology/Oncology</td>\n",
       "      <td>0.628255</td>\n",
       "      <td>SACHDEVA</td>\n",
       "      <td>KUSH</td>\n",
       "      <td>NJ</td>\n",
       "      <td>4</td>\n",
       "    </tr>\n",
       "    <tr>\n",
       "      <th>8</th>\n",
       "      <td>1568468544</td>\n",
       "      <td>Hematology/Oncology</td>\n",
       "      <td>0.635748</td>\n",
       "      <td>ROTHSCHILD</td>\n",
       "      <td>NEAL</td>\n",
       "      <td>FL</td>\n",
       "      <td>4</td>\n",
       "    </tr>\n",
       "    <tr>\n",
       "      <th>9</th>\n",
       "      <td>1467445999</td>\n",
       "      <td>Medical Oncology</td>\n",
       "      <td>0.636832</td>\n",
       "      <td>DANSO</td>\n",
       "      <td>MICHAEL</td>\n",
       "      <td>VA</td>\n",
       "      <td>2</td>\n",
       "    </tr>\n",
       "  </tbody>\n",
       "</table>\n",
       "</div>"
      ],
      "text/plain": [
       "          npi        provider_type   entropy nppes_provider_last_org_name  \\\n",
       "0  1245221993  Hematology/Oncology  0.577749                         HART   \n",
       "1  1336130046  Hematology/Oncology  0.603775                          CHU   \n",
       "2  1821058496  Hematology/Oncology  0.607288                     MALHOTRA   \n",
       "3  1659375145     Medical Oncology  0.610953                        TABER   \n",
       "4  1780654889  Hematology/Oncology  0.621305                       LIPMAN   \n",
       "5  1033192570  Hematology/Oncology  0.625148                        RUBIN   \n",
       "6  1922001064  Hematology/Oncology  0.627440                     ALBERICO   \n",
       "7  1750372686  Hematology/Oncology  0.628255                     SACHDEVA   \n",
       "8  1568468544  Hematology/Oncology  0.635748                   ROTHSCHILD   \n",
       "9  1467445999     Medical Oncology  0.636832                        DANSO   \n",
       "\n",
       "  nppes_provider_first_name nppes_provider_state  topic  \n",
       "0                    LOWELL                   FL      4  \n",
       "1                      LUIS                   FL      4  \n",
       "2                     VIKAS                   FL      4  \n",
       "3                     DAVID                   IN      2  \n",
       "4                    ANDREW                   FL      4  \n",
       "5                      MARK                   FL      4  \n",
       "6                    THOMAS                   VA      2  \n",
       "7                      KUSH                   NJ      4  \n",
       "8                      NEAL                   FL      4  \n",
       "9                   MICHAEL                   VA      2  "
      ]
     },
     "execution_count": 117,
     "metadata": {},
     "output_type": "execute_result"
    }
   ],
   "source": [
    "## Look at the lower entropy providers\n",
    "low_entropy_providers = (entropy_df.query('entropy < 0.8').\n",
    "                         sort_values('entropy', ascending=True).\n",
    "                         merge(payments.drop_duplicates('npi')[['npi','nppes_provider_last_org_name',\n",
    "                                        'nppes_provider_first_name',\n",
    "                                        'nppes_provider_state']], on='npi').\n",
    "                            merge(topic_per_doc_df[['npi','topic']], on='npi'))\n",
    "low_entropy_providers.head(10)"
   ]
  },
  {
   "cell_type": "code",
   "execution_count": 118,
   "metadata": {
    "collapsed": false
   },
   "outputs": [
    {
     "data": {
      "image/png": "[encoded data removed]",
      "text/plain": [
       "<matplotlib.figure.Figure at 0x7f99547ca550>"
      ]
     },
     "metadata": {},
     "output_type": "display_data"
    }
   ],
   "source": [
    "plt.rcParams['figure.figsize']=(4,4)\n",
    "g = sns.countplot(x = 'topic', data=low_entropy_providers)\n",
    "g.set(xlabel='topic', ylabel='counts', title='Topic distribution for low entropy providers')\n",
    "sns.despine()"
   ]
  },
  {
   "cell_type": "code",
   "execution_count": 119,
   "metadata": {
    "collapsed": false
   },
   "outputs": [
    {
     "data": {
      "text/html": [
       "<div>\n",
       "<table border=\"1\" class=\"dataframe\">\n",
       "  <thead>\n",
       "    <tr style=\"text-align: right;\">\n",
       "      <th></th>\n",
       "      <th>npi</th>\n",
       "      <th>provider_type</th>\n",
       "      <th>entropy</th>\n",
       "      <th>nppes_provider_last_org_name</th>\n",
       "      <th>nppes_provider_first_name</th>\n",
       "      <th>nppes_provider_state</th>\n",
       "      <th>topic</th>\n",
       "    </tr>\n",
       "  </thead>\n",
       "  <tbody>\n",
       "    <tr>\n",
       "      <th>75</th>\n",
       "      <td>1871535823</td>\n",
       "      <td>Medical Oncology</td>\n",
       "      <td>0.700190</td>\n",
       "      <td>BERRYMAN</td>\n",
       "      <td>ROBERT</td>\n",
       "      <td>TX</td>\n",
       "      <td>0</td>\n",
       "    </tr>\n",
       "    <tr>\n",
       "      <th>128</th>\n",
       "      <td>1063406163</td>\n",
       "      <td>Hematology/Oncology</td>\n",
       "      <td>0.725395</td>\n",
       "      <td>KOSTER</td>\n",
       "      <td>DAVID</td>\n",
       "      <td>CA</td>\n",
       "      <td>0</td>\n",
       "    </tr>\n",
       "  </tbody>\n",
       "</table>\n",
       "</div>"
      ],
      "text/plain": [
       "            npi        provider_type   entropy nppes_provider_last_org_name  \\\n",
       "75   1871535823     Medical Oncology  0.700190                     BERRYMAN   \n",
       "128  1063406163  Hematology/Oncology  0.725395                       KOSTER   \n",
       "\n",
       "    nppes_provider_first_name nppes_provider_state  topic  \n",
       "75                     ROBERT                   TX      0  \n",
       "128                     DAVID                   CA      0  "
      ]
     },
     "execution_count": 119,
     "metadata": {},
     "output_type": "execute_result"
    }
   ],
   "source": [
    "low_entropy_providers.query('topic == 0')"
   ]
  },
  {
   "cell_type": "markdown",
   "metadata": {},
   "source": [
    "- Robert Berryman - myeloma, lymphoma, leukemia specialist (http://www.vitals.com/doctors/Dr_Robert_Berryman/profile, http://tannersjourney.blogspot.com/2011/05/dr-robert-berryman.html).\n",
    "- David Koster - leukemia (http://www.vitals.com/doctors/Dr_David_Koster/profile -- although he is identified as orthopaedic surgeon under his profile photo on vitals.com)"
   ]
  },
  {
   "cell_type": "code",
   "execution_count": 120,
   "metadata": {
    "collapsed": false
   },
   "outputs": [
    {
     "data": {
      "text/html": [
       "<div>\n",
       "<table border=\"1\" class=\"dataframe\">\n",
       "  <thead>\n",
       "    <tr style=\"text-align: right;\">\n",
       "      <th></th>\n",
       "      <th>npi</th>\n",
       "      <th>provider_type</th>\n",
       "      <th>entropy</th>\n",
       "      <th>nppes_provider_last_org_name</th>\n",
       "      <th>nppes_provider_first_name</th>\n",
       "      <th>nppes_provider_state</th>\n",
       "      <th>topic</th>\n",
       "    </tr>\n",
       "  </thead>\n",
       "  <tbody>\n",
       "    <tr>\n",
       "      <th>276</th>\n",
       "      <td>1518165943</td>\n",
       "      <td>Hematology/Oncology</td>\n",
       "      <td>0.786738</td>\n",
       "      <td>RAHMAN</td>\n",
       "      <td>FAHD</td>\n",
       "      <td>NJ</td>\n",
       "      <td>1</td>\n",
       "    </tr>\n",
       "    <tr>\n",
       "      <th>280</th>\n",
       "      <td>1982670147</td>\n",
       "      <td>Hematology/Oncology</td>\n",
       "      <td>0.787005</td>\n",
       "      <td>DOSTER</td>\n",
       "      <td>JOHN</td>\n",
       "      <td>SC</td>\n",
       "      <td>1</td>\n",
       "    </tr>\n",
       "  </tbody>\n",
       "</table>\n",
       "</div>"
      ],
      "text/plain": [
       "            npi        provider_type   entropy nppes_provider_last_org_name  \\\n",
       "276  1518165943  Hematology/Oncology  0.786738                       RAHMAN   \n",
       "280  1982670147  Hematology/Oncology  0.787005                       DOSTER   \n",
       "\n",
       "    nppes_provider_first_name nppes_provider_state  topic  \n",
       "276                      FAHD                   NJ      1  \n",
       "280                      JOHN                   SC      1  "
      ]
     },
     "execution_count": 120,
     "metadata": {},
     "output_type": "execute_result"
    }
   ],
   "source": [
    "low_entropy_providers.query('topic == 1')"
   ]
  },
  {
   "cell_type": "markdown",
   "metadata": {},
   "source": [
    "- Fahd Rahman - lymphoma, leukemia (http://www.vitals.com/doctors/Dr_Fahd_Rahman/profile)\n",
    "- John Doster - specialties not listed on http://www.vitals.com/doctors/Dr_John_Doster/profile"
   ]
  },
  {
   "cell_type": "code",
   "execution_count": 121,
   "metadata": {
    "collapsed": false
   },
   "outputs": [
    {
     "data": {
      "text/html": [
       "<div>\n",
       "<table border=\"1\" class=\"dataframe\">\n",
       "  <thead>\n",
       "    <tr style=\"text-align: right;\">\n",
       "      <th></th>\n",
       "      <th>npi</th>\n",
       "      <th>provider_type</th>\n",
       "      <th>entropy</th>\n",
       "      <th>nppes_provider_last_org_name</th>\n",
       "      <th>nppes_provider_first_name</th>\n",
       "      <th>nppes_provider_state</th>\n",
       "      <th>topic</th>\n",
       "    </tr>\n",
       "  </thead>\n",
       "  <tbody>\n",
       "    <tr>\n",
       "      <th>0</th>\n",
       "      <td>1245221993</td>\n",
       "      <td>Hematology/Oncology</td>\n",
       "      <td>0.577749</td>\n",
       "      <td>HART</td>\n",
       "      <td>LOWELL</td>\n",
       "      <td>FL</td>\n",
       "      <td>4</td>\n",
       "    </tr>\n",
       "    <tr>\n",
       "      <th>1</th>\n",
       "      <td>1336130046</td>\n",
       "      <td>Hematology/Oncology</td>\n",
       "      <td>0.603775</td>\n",
       "      <td>CHU</td>\n",
       "      <td>LUIS</td>\n",
       "      <td>FL</td>\n",
       "      <td>4</td>\n",
       "    </tr>\n",
       "    <tr>\n",
       "      <th>2</th>\n",
       "      <td>1821058496</td>\n",
       "      <td>Hematology/Oncology</td>\n",
       "      <td>0.607288</td>\n",
       "      <td>MALHOTRA</td>\n",
       "      <td>VIKAS</td>\n",
       "      <td>FL</td>\n",
       "      <td>4</td>\n",
       "    </tr>\n",
       "    <tr>\n",
       "      <th>4</th>\n",
       "      <td>1780654889</td>\n",
       "      <td>Hematology/Oncology</td>\n",
       "      <td>0.621305</td>\n",
       "      <td>LIPMAN</td>\n",
       "      <td>ANDREW</td>\n",
       "      <td>FL</td>\n",
       "      <td>4</td>\n",
       "    </tr>\n",
       "    <tr>\n",
       "      <th>5</th>\n",
       "      <td>1033192570</td>\n",
       "      <td>Hematology/Oncology</td>\n",
       "      <td>0.625148</td>\n",
       "      <td>RUBIN</td>\n",
       "      <td>MARK</td>\n",
       "      <td>FL</td>\n",
       "      <td>4</td>\n",
       "    </tr>\n",
       "    <tr>\n",
       "      <th>7</th>\n",
       "      <td>1750372686</td>\n",
       "      <td>Hematology/Oncology</td>\n",
       "      <td>0.628255</td>\n",
       "      <td>SACHDEVA</td>\n",
       "      <td>KUSH</td>\n",
       "      <td>NJ</td>\n",
       "      <td>4</td>\n",
       "    </tr>\n",
       "    <tr>\n",
       "      <th>8</th>\n",
       "      <td>1568468544</td>\n",
       "      <td>Hematology/Oncology</td>\n",
       "      <td>0.635748</td>\n",
       "      <td>ROTHSCHILD</td>\n",
       "      <td>NEAL</td>\n",
       "      <td>FL</td>\n",
       "      <td>4</td>\n",
       "    </tr>\n",
       "    <tr>\n",
       "      <th>10</th>\n",
       "      <td>1164413076</td>\n",
       "      <td>Hematology/Oncology</td>\n",
       "      <td>0.639941</td>\n",
       "      <td>SUDHINDRA</td>\n",
       "      <td>RAMA</td>\n",
       "      <td>NJ</td>\n",
       "      <td>4</td>\n",
       "    </tr>\n",
       "    <tr>\n",
       "      <th>13</th>\n",
       "      <td>1003807645</td>\n",
       "      <td>Medical Oncology</td>\n",
       "      <td>0.644488</td>\n",
       "      <td>LUNIN</td>\n",
       "      <td>SCOTT</td>\n",
       "      <td>FL</td>\n",
       "      <td>4</td>\n",
       "    </tr>\n",
       "    <tr>\n",
       "      <th>14</th>\n",
       "      <td>1346214384</td>\n",
       "      <td>Hematology/Oncology</td>\n",
       "      <td>0.645108</td>\n",
       "      <td>KUKUNOOR</td>\n",
       "      <td>RAJESH</td>\n",
       "      <td>AZ</td>\n",
       "      <td>4</td>\n",
       "    </tr>\n",
       "  </tbody>\n",
       "</table>\n",
       "</div>"
      ],
      "text/plain": [
       "           npi        provider_type   entropy nppes_provider_last_org_name  \\\n",
       "0   1245221993  Hematology/Oncology  0.577749                         HART   \n",
       "1   1336130046  Hematology/Oncology  0.603775                          CHU   \n",
       "2   1821058496  Hematology/Oncology  0.607288                     MALHOTRA   \n",
       "4   1780654889  Hematology/Oncology  0.621305                       LIPMAN   \n",
       "5   1033192570  Hematology/Oncology  0.625148                        RUBIN   \n",
       "7   1750372686  Hematology/Oncology  0.628255                     SACHDEVA   \n",
       "8   1568468544  Hematology/Oncology  0.635748                   ROTHSCHILD   \n",
       "10  1164413076  Hematology/Oncology  0.639941                    SUDHINDRA   \n",
       "13  1003807645     Medical Oncology  0.644488                        LUNIN   \n",
       "14  1346214384  Hematology/Oncology  0.645108                     KUKUNOOR   \n",
       "\n",
       "   nppes_provider_first_name nppes_provider_state  topic  \n",
       "0                     LOWELL                   FL      4  \n",
       "1                       LUIS                   FL      4  \n",
       "2                      VIKAS                   FL      4  \n",
       "4                     ANDREW                   FL      4  \n",
       "5                       MARK                   FL      4  \n",
       "7                       KUSH                   NJ      4  \n",
       "8                       NEAL                   FL      4  \n",
       "10                      RAMA                   NJ      4  \n",
       "13                     SCOTT                   FL      4  \n",
       "14                    RAJESH                   AZ      4  "
      ]
     },
     "execution_count": 121,
     "metadata": {},
     "output_type": "execute_result"
    }
   ],
   "source": [
    "low_entropy_providers.query('topic == 4').head(10)"
   ]
  },
  {
   "cell_type": "code",
   "execution_count": 122,
   "metadata": {
    "collapsed": false
   },
   "outputs": [],
   "source": [
    "entropy_df_claimcnt = (pd.concat([entropy_df, pd.DataFrame((by_npi > 0).sum(axis = 1)).reset_index()], \n",
    "                                 axis=1).rename(columns={0:'num_claims'}))"
   ]
  },
  {
   "cell_type": "code",
   "execution_count": 123,
   "metadata": {
    "collapsed": false
   },
   "outputs": [
    {
     "data": {
      "image/png": "[encoded data removed]",
      "text/plain": [
       "<matplotlib.figure.Figure at 0x7f994eac7438>"
      ]
     },
     "metadata": {},
     "output_type": "display_data"
    }
   ],
   "source": [
    "plt.rcParams['figure.figsize']=(7,7)\n",
    "ax = sns.regplot(x=\"num_claims\", y=\"entropy\", data=entropy_df_claimcnt, fit_reg=False)\n",
    "ax.set(xlabel='number of distinct claims by a doctor', ylabel='entropy')\n",
    "sns.despine()"
   ]
  },
  {
   "cell_type": "markdown",
   "metadata": {},
   "source": [
    "## Read in map between indications and hcpcs_codes"
   ]
  },
  {
   "cell_type": "code",
   "execution_count": 124,
   "metadata": {
    "collapsed": false
   },
   "outputs": [
    {
     "data": {
      "text/html": [
       "<div>\n",
       "<table border=\"1\" class=\"dataframe\">\n",
       "  <thead>\n",
       "    <tr style=\"text-align: right;\">\n",
       "      <th></th>\n",
       "      <th>rxcui_in</th>\n",
       "      <th>drug_name</th>\n",
       "      <th>keywords_indication_desc</th>\n",
       "      <th>hcpcs_code</th>\n",
       "      <th>hcpcs_description</th>\n",
       "    </tr>\n",
       "  </thead>\n",
       "  <tbody>\n",
       "    <tr>\n",
       "      <th>0</th>\n",
       "      <td>12574</td>\n",
       "      <td>gemcitabine</td>\n",
       "      <td>genitourinary</td>\n",
       "      <td>J9201</td>\n",
       "      <td>injection, gemcitabine hydrochloride, 200 mg</td>\n",
       "    </tr>\n",
       "    <tr>\n",
       "      <th>1</th>\n",
       "      <td>993449</td>\n",
       "      <td>denosumab</td>\n",
       "      <td>genitourinary</td>\n",
       "      <td>J0897</td>\n",
       "      <td>injection, denosumab, 1 mg</td>\n",
       "    </tr>\n",
       "    <tr>\n",
       "      <th>2</th>\n",
       "      <td>38782</td>\n",
       "      <td>triptorelin</td>\n",
       "      <td>genitourinary</td>\n",
       "      <td>J3315</td>\n",
       "      <td>injection, triptorelin pamoate, 3.75 mg</td>\n",
       "    </tr>\n",
       "    <tr>\n",
       "      <th>3</th>\n",
       "      <td>50610</td>\n",
       "      <td>goserelin</td>\n",
       "      <td>genitourinary</td>\n",
       "      <td>J9202</td>\n",
       "      <td>goserelin acetate implant, per 3.6 mg</td>\n",
       "    </tr>\n",
       "    <tr>\n",
       "      <th>4</th>\n",
       "      <td>996051</td>\n",
       "      <td>cabazitaxel</td>\n",
       "      <td>genitourinary</td>\n",
       "      <td>J9043</td>\n",
       "      <td>injection, cabazitaxel, 1 mg</td>\n",
       "    </tr>\n",
       "  </tbody>\n",
       "</table>\n",
       "</div>"
      ],
      "text/plain": [
       "   rxcui_in    drug_name keywords_indication_desc hcpcs_code  \\\n",
       "0     12574  gemcitabine            genitourinary      J9201   \n",
       "1    993449    denosumab            genitourinary      J0897   \n",
       "2     38782  triptorelin            genitourinary      J3315   \n",
       "3     50610    goserelin            genitourinary      J9202   \n",
       "4    996051  cabazitaxel            genitourinary      J9043   \n",
       "\n",
       "                              hcpcs_description  \n",
       "0  injection, gemcitabine hydrochloride, 200 mg  \n",
       "1                    injection, denosumab, 1 mg  \n",
       "2       injection, triptorelin pamoate, 3.75 mg  \n",
       "3         goserelin acetate implant, per 3.6 mg  \n",
       "4                  injection, cabazitaxel, 1 mg  "
      ]
     },
     "execution_count": 124,
     "metadata": {},
     "output_type": "execute_result"
    }
   ],
   "source": [
    "icd9_hcpcs_map = pd.read_csv(\"15_rxcui_hcpcs_map_6categories.csv\")\n",
    "icd9_hcpcs_map.head()"
   ]
  },
  {
   "cell_type": "code",
   "execution_count": 183,
   "metadata": {
    "collapsed": false
   },
   "outputs": [],
   "source": [
    "topics_hcpcs = {}\n",
    "\n",
    "## convert topic word indices to hcpcs_codes => value is a list of tuples of (hcpcs_code, probability)\n",
    "for i in topics_matrix:\n",
    "    topics_hcpcs[i[0]] = [(by_npi.columns.values[int(word[0])], word[1]) for word in i[1]]"
   ]
  },
  {
   "cell_type": "code",
   "execution_count": 173,
   "metadata": {
    "collapsed": true
   },
   "outputs": [],
   "source": [
    "def converter(t):\n",
    "    topic_t_df = (pd.DataFrame(topics_hcpcs[t]).\n",
    "                  rename(columns={0:'hcpcs_code',1:'probability'}).\n",
    "                  merge(icd9_hcpcs_map[['hcpcs_code','keywords_indication_desc']], on='hcpcs_code'))\n",
    "    print(len(topic_t_df))              \n",
    "    return topic_t_df"
   ]
  },
  {
   "cell_type": "code",
   "execution_count": 174,
   "metadata": {
    "collapsed": false
   },
   "outputs": [],
   "source": [
    "def get_likely_indication(t):\n",
    "    df = converter(t)\n",
    "    if len(df) > 0:\n",
    "        summed_probs = df.groupby('keywords_indication_desc')['probability'].sum().reset_index()\n",
    "        print(summed_probs)\n",
    "        idx = summed_probs['probability'].idxmax\n",
    "        return summed_probs.loc[idx, 'keywords_indication_desc']\n",
    "    else:\n",
    "        print('no matches to medi_indications')"
   ]
  },
  {
   "cell_type": "code",
   "execution_count": 184,
   "metadata": {
    "collapsed": false
   },
   "outputs": [
    {
     "name": "stdout",
     "output_type": "stream",
     "text": [
      "0\n",
      "no matches to medi_indications\n",
      "topic  0 None \n",
      "\n",
      "5\n",
      "  keywords_indication_desc  probability\n",
      "0              breast_skin     0.016607\n",
      "1                eye_brain     0.016607\n",
      "2            genitourinary     0.034813\n",
      "3              lymph_blood     0.016607\n",
      "topic  1 genitourinary \n",
      "\n",
      "21\n",
      "  keywords_indication_desc  probability\n",
      "0              breast_skin     0.109851\n",
      "1                digestive     0.037341\n",
      "2                eye_brain     0.072510\n",
      "3            genitourinary     0.115079\n",
      "4              lymph_blood     0.068569\n",
      "5              respiratory     0.067166\n",
      "topic  2 genitourinary \n",
      "\n",
      "5\n",
      "  keywords_indication_desc  probability\n",
      "0              breast_skin     0.015922\n",
      "1                eye_brain     0.015922\n",
      "2            genitourinary     0.040096\n",
      "3              lymph_blood     0.015922\n",
      "topic  3 genitourinary \n",
      "\n",
      "17\n",
      "  keywords_indication_desc  probability\n",
      "0              breast_skin     0.090409\n",
      "1                digestive     0.046650\n",
      "2                eye_brain     0.043759\n",
      "3            genitourinary     0.098407\n",
      "4              lymph_blood     0.041649\n",
      "5              respiratory     0.064661\n",
      "topic  4 genitourinary \n",
      "\n",
      "2\n",
      "  keywords_indication_desc  probability\n",
      "0            genitourinary     0.014890\n",
      "1              lymph_blood     0.028648\n",
      "topic  5 lymph_blood \n",
      "\n"
     ]
    }
   ],
   "source": [
    "for i in range(6):\n",
    "    print('topic ', i, get_likely_indication(i),'\\n')"
   ]
  },
  {
   "cell_type": "code",
   "execution_count": null,
   "metadata": {
    "collapsed": true
   },
   "outputs": [],
   "source": []
  }
 ],
 "metadata": {
  "anaconda-cloud": {},
  "kernelspec": {
   "display_name": "Python [conda env:medicare_provider_util_payment]",
   "language": "python",
   "name": "conda-env-medicare_provider_util_payment-py"
  },
  "language_info": {
   "codemirror_mode": {
    "name": "ipython",
    "version": 3
   },
   "file_extension": ".py",
   "mimetype": "text/x-python",
   "name": "python",
   "nbconvert_exporter": "python",
   "pygments_lexer": "ipython3",
   "version": "3.5.2"
  }
 },
 "nbformat": 4,
 "nbformat_minor": 1
}
