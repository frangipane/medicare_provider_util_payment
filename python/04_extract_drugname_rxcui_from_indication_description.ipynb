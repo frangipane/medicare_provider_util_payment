{
 "cells": [
  {
   "cell_type": "code",
   "execution_count": 1,
   "metadata": {
    "collapsed": true
   },
   "outputs": [],
   "source": [
    "import psycopg2\n",
    "import pandas as pd\n",
    "import seaborn as sns\n",
    "import matplotlib.pyplot as plt\n",
    "import matplotlib.cm as cm\n",
    "import numpy as np\n",
    "from sklearn.manifold import TSNE\n",
    "import re\n",
    "\n",
    "%matplotlib inline\n",
    "sns.set(style=\"white\")"
   ]
  },
  {
   "cell_type": "code",
   "execution_count": 4,
   "metadata": {
    "collapsed": true
   },
   "outputs": [],
   "source": [
    "## connect to database\n",
    "con = None\n",
    "con = psycopg2.connect(\"dbname='doctordb' user='cathy'\")"
   ]
  },
  {
   "cell_type": "code",
   "execution_count": 7,
   "metadata": {
    "collapsed": false
   },
   "outputs": [],
   "source": [
    "q = \"SELECT * FROM medi_indication WHERE indication_description ILIKE '%breast%'\"\n",
    "medi_ind = pd.read_sql_query(q, con=con)"
   ]
  },
  {
   "cell_type": "code",
   "execution_count": 8,
   "metadata": {
    "collapsed": false
   },
   "outputs": [
    {
     "data": {
      "text/plain": [
       "248"
      ]
     },
     "execution_count": 8,
     "metadata": {},
     "output_type": "execute_result"
    }
   ],
   "source": [
    "## number of rows with description that contains 'breast'\n",
    "len(medi_ind)"
   ]
  },
  {
   "cell_type": "code",
   "execution_count": 9,
   "metadata": {
    "collapsed": false
   },
   "outputs": [
    {
     "data": {
      "text/html": [
       "<div>\n",
       "<table border=\"1\" class=\"dataframe\">\n",
       "  <thead>\n",
       "    <tr style=\"text-align: right;\">\n",
       "      <th></th>\n",
       "      <th>rxcui_in</th>\n",
       "      <th>drug_desc</th>\n",
       "      <th>icd9</th>\n",
       "      <th>indication_description</th>\n",
       "      <th>mentionedbyresources</th>\n",
       "      <th>highprecisionsubset</th>\n",
       "      <th>possible_label_use</th>\n",
       "    </tr>\n",
       "  </thead>\n",
       "  <tbody>\n",
       "    <tr>\n",
       "      <th>0</th>\n",
       "      <td>448</td>\n",
       "      <td>Ethanol</td>\n",
       "      <td>760.71</td>\n",
       "      <td>Alcohol affecting fetus or newborn via placent...</td>\n",
       "      <td>1</td>\n",
       "      <td>0</td>\n",
       "      <td>0</td>\n",
       "    </tr>\n",
       "    <tr>\n",
       "      <th>1</th>\n",
       "      <td>632</td>\n",
       "      <td>Mitomycin</td>\n",
       "      <td>174.9</td>\n",
       "      <td>Malignant neoplasm of breast (female); unspeci...</td>\n",
       "      <td>1</td>\n",
       "      <td>0</td>\n",
       "      <td>0</td>\n",
       "    </tr>\n",
       "    <tr>\n",
       "      <th>2</th>\n",
       "      <td>677</td>\n",
       "      <td>Aminoglutethimide</td>\n",
       "      <td>239.3</td>\n",
       "      <td>Neoplasm of unspecified nature of breast</td>\n",
       "      <td>1</td>\n",
       "      <td>1</td>\n",
       "      <td>0</td>\n",
       "    </tr>\n",
       "    <tr>\n",
       "      <th>3</th>\n",
       "      <td>1437</td>\n",
       "      <td>Berberine</td>\n",
       "      <td>174.9</td>\n",
       "      <td>Malignant neoplasm of breast (female); unspeci...</td>\n",
       "      <td>1</td>\n",
       "      <td>0</td>\n",
       "      <td>0</td>\n",
       "    </tr>\n",
       "    <tr>\n",
       "      <th>4</th>\n",
       "      <td>1562</td>\n",
       "      <td>Bioflavonoids</td>\n",
       "      <td>174.9</td>\n",
       "      <td>Malignant neoplasm of breast (female); unspeci...</td>\n",
       "      <td>1</td>\n",
       "      <td>0</td>\n",
       "      <td>0</td>\n",
       "    </tr>\n",
       "  </tbody>\n",
       "</table>\n",
       "</div>"
      ],
      "text/plain": [
       "   rxcui_in          drug_desc    icd9  \\\n",
       "0       448            Ethanol  760.71   \n",
       "1       632          Mitomycin   174.9   \n",
       "2       677  Aminoglutethimide   239.3   \n",
       "3      1437          Berberine   174.9   \n",
       "4      1562      Bioflavonoids   174.9   \n",
       "\n",
       "                              indication_description mentionedbyresources  \\\n",
       "0  Alcohol affecting fetus or newborn via placent...                    1   \n",
       "1  Malignant neoplasm of breast (female); unspeci...                    1   \n",
       "2           Neoplasm of unspecified nature of breast                    1   \n",
       "3  Malignant neoplasm of breast (female); unspeci...                    1   \n",
       "4  Malignant neoplasm of breast (female); unspeci...                    1   \n",
       "\n",
       "  highprecisionsubset possible_label_use  \n",
       "0                   0                  0  \n",
       "1                   0                  0  \n",
       "2                   1                  0  \n",
       "3                   0                  0  \n",
       "4                   0                  0  "
      ]
     },
     "execution_count": 9,
     "metadata": {},
     "output_type": "execute_result"
    }
   ],
   "source": [
    "medi_ind.head()"
   ]
  },
  {
   "cell_type": "code",
   "execution_count": 35,
   "metadata": {
    "collapsed": false
   },
   "outputs": [],
   "source": [
    "## get unique drugs (rxcui_in, drug_desc)\n",
    "medi_ind_drugs = medi_ind.drop_duplicates('rxcui_in')[['rxcui_in','drug_desc']]"
   ]
  },
  {
   "cell_type": "code",
   "execution_count": 36,
   "metadata": {
    "collapsed": false
   },
   "outputs": [
    {
     "data": {
      "text/plain": [
       "182"
      ]
     },
     "execution_count": 36,
     "metadata": {},
     "output_type": "execute_result"
    }
   ],
   "source": [
    "## number of unique drugs:\n",
    "len(medi_ind_drugs)"
   ]
  },
  {
   "cell_type": "code",
   "execution_count": 38,
   "metadata": {
    "collapsed": false
   },
   "outputs": [
    {
     "data": {
      "text/html": [
       "<div>\n",
       "<table border=\"1\" class=\"dataframe\">\n",
       "  <thead>\n",
       "    <tr style=\"text-align: right;\">\n",
       "      <th></th>\n",
       "      <th>rxcui_in</th>\n",
       "      <th>drug_desc</th>\n",
       "    </tr>\n",
       "  </thead>\n",
       "  <tbody>\n",
       "    <tr>\n",
       "      <th>0</th>\n",
       "      <td>448</td>\n",
       "      <td>Ethanol</td>\n",
       "    </tr>\n",
       "    <tr>\n",
       "      <th>1</th>\n",
       "      <td>632</td>\n",
       "      <td>Mitomycin</td>\n",
       "    </tr>\n",
       "    <tr>\n",
       "      <th>2</th>\n",
       "      <td>677</td>\n",
       "      <td>Aminoglutethimide</td>\n",
       "    </tr>\n",
       "    <tr>\n",
       "      <th>3</th>\n",
       "      <td>1437</td>\n",
       "      <td>Berberine</td>\n",
       "    </tr>\n",
       "    <tr>\n",
       "      <th>4</th>\n",
       "      <td>1562</td>\n",
       "      <td>Bioflavonoids</td>\n",
       "    </tr>\n",
       "  </tbody>\n",
       "</table>\n",
       "</div>"
      ],
      "text/plain": [
       "   rxcui_in          drug_desc\n",
       "0       448            Ethanol\n",
       "1       632          Mitomycin\n",
       "2       677  Aminoglutethimide\n",
       "3      1437          Berberine\n",
       "4      1562      Bioflavonoids"
      ]
     },
     "execution_count": 38,
     "metadata": {},
     "output_type": "execute_result"
    }
   ],
   "source": [
    "medi_ind_drugs.head()"
   ]
  },
  {
   "cell_type": "code",
   "execution_count": 39,
   "metadata": {
    "collapsed": false
   },
   "outputs": [
    {
     "data": {
      "text/plain": [
       "0                                 Ethanol\n",
       "1                               Mitomycin\n",
       "2                       Aminoglutethimide\n",
       "3                               Berberine\n",
       "4                           Bioflavonoids\n",
       "5                           Bromocriptine\n",
       "6                                Busulfan\n",
       "7                            Chlorambucil\n",
       "8                                 Choline\n",
       "9                      Choline Bitartrate\n",
       "10                              Cisplatin\n",
       "12                             Clomiphene\n",
       "13                               Curcumin\n",
       "14                       Cyclophosphamide\n",
       "16                                Danazol\n",
       "19                            Desipramine\n",
       "20                          Dicloxacillin\n",
       "21                     Diethylstilbestrol\n",
       "23                               Dopamine\n",
       "24                            Doxorubicin\n",
       "26                             Epirubicin\n",
       "28                              Estradiol\n",
       "31                                Estriol\n",
       "32            Estrogens  Conjugated (USP)\n",
       "34                                Estrone\n",
       "36                      Ethinyl Estradiol\n",
       "37                            Floxacillin\n",
       "38                           Fluorouracil\n",
       "40                             Fluoxetine\n",
       "41                        Fluoxymesterone\n",
       "                      ...                \n",
       "215                    Olive Leaf Extract\n",
       "216    doxorubicin hydrochloride liposome\n",
       "217                             lapatinib\n",
       "218                          Tocotrienols\n",
       "219               Fluoxetine / olanzapine\n",
       "220     estrogens  conjugated synthetic B\n",
       "222                     Green Tea Extract\n",
       "223                testosterone cypionate\n",
       "225          goat milk allergenic extract\n",
       "226                            romidepsin\n",
       "227         brazil nut allergenic extract\n",
       "228            soybean allergenic extract\n",
       "229             banana allergenic extract\n",
       "230             tomato allergenic extract\n",
       "231           cow milk allergenic extract\n",
       "232            cabbage allergenic extract\n",
       "233           flaxseed allergenic extract\n",
       "234                             denosumab\n",
       "235           medroxyprogesterone acetate\n",
       "237                           resveratrol\n",
       "238         watercress allergenic extract\n",
       "239                      Levomefolic Acid\n",
       "240                  levomefolate calcium\n",
       "241                     eribulin mesylate\n",
       "242                              eribulin\n",
       "243                   abiraterone acetate\n",
       "244                           abiraterone\n",
       "245                  gabapentin enacarbil\n",
       "246                              axitinib\n",
       "247             POMEGRANATE FRUIT EXTRACT\n",
       "Name: drug_desc, dtype: object"
      ]
     },
     "execution_count": 39,
     "metadata": {},
     "output_type": "execute_result"
    }
   ],
   "source": [
    "## print all of the unique drugs that were used to treat conditions mentioning 'breast'\n",
    "medi_ind_drugs.drug_desc"
   ]
  },
  {
   "cell_type": "markdown",
   "metadata": {},
   "source": [
    "## drug names processing\n",
    "- lower case\n",
    "- convert multiple spaces to single space\n",
    "- remove (USP)\n",
    "- compounds with slashes should check for both version names"
   ]
  },
  {
   "cell_type": "code",
   "execution_count": 27,
   "metadata": {
    "collapsed": true
   },
   "outputs": [],
   "source": [
    "def preprocess_drug_name(drug):\n",
    "    \"\"\"Given a drug name, pre-process before searching for it in Medicare database by:\n",
    "    converting to all lowercase, convert multiple spaces to single space, separate strings denoting\n",
    "    alternative compound names with slash into individual strings, remove the characters '(USP)'\n",
    "    \n",
    "    INPUT:\n",
    "    drug - a string\n",
    "    \n",
    "    OUTPUT:\n",
    "    druglist - list of strings (most often a list of length 1)\n",
    "    \"\"\"\n",
    "    \n",
    "    # split strings separated by slash into list\n",
    "    drug_list = drug.split('/')\n",
    "    \n",
    "    processed_drug_list = []\n",
    "    # process each item in the list\n",
    "    for d in drug_list:      \n",
    "        # lower case\n",
    "        d = d.lower()\n",
    "\n",
    "        # substitute (USP) with empty string\n",
    "        d = d.replace('(usp)', '')\n",
    "        \n",
    "        # convert multiple spaces to single space\n",
    "        d = re.sub(r'\\s\\s+', r' ', d)\n",
    "        \n",
    "        # strip leading/trailing whitespace\n",
    "        d = d.strip()\n",
    "        \n",
    "        processed_drug_list.append(d)\n",
    "        \n",
    "    return processed_drug_list"
   ]
  },
  {
   "cell_type": "code",
   "execution_count": 42,
   "metadata": {
    "collapsed": false
   },
   "outputs": [
    {
     "name": "stdout",
     "output_type": "stream",
     "text": [
      "There are 185 tuples\n"
     ]
    }
   ],
   "source": [
    "## create list of tuple pairs (rxcui_in, processed_drug_name)\n",
    "processed_drug_list = []\n",
    "\n",
    "for (rxcui, drug) in medi_ind_drugs.itertuples(index=False):\n",
    "    drugs_list = preprocess_drug_name(drug)\n",
    "    \n",
    "    for d in drugs_list:\n",
    "        processed_drug_list.append((rxcui, d))\n",
    "\n",
    "print('There are {0} tuples'.format(len(processed_drug_list)))"
   ]
  },
  {
   "cell_type": "code",
   "execution_count": 43,
   "metadata": {
    "collapsed": false
   },
   "outputs": [],
   "source": [
    "## Create data frame from list of tuples\n",
    "rxcui_drugs_df = pd.DataFrame(processed_drug_list, index=None, columns=['rxcui_in','drug_name'])"
   ]
  },
  {
   "cell_type": "code",
   "execution_count": 44,
   "metadata": {
    "collapsed": false
   },
   "outputs": [
    {
     "data": {
      "text/html": [
       "<div>\n",
       "<table border=\"1\" class=\"dataframe\">\n",
       "  <thead>\n",
       "    <tr style=\"text-align: right;\">\n",
       "      <th></th>\n",
       "      <th>rxcui_in</th>\n",
       "      <th>drug_name</th>\n",
       "    </tr>\n",
       "  </thead>\n",
       "  <tbody>\n",
       "    <tr>\n",
       "      <th>0</th>\n",
       "      <td>448</td>\n",
       "      <td>ethanol</td>\n",
       "    </tr>\n",
       "    <tr>\n",
       "      <th>1</th>\n",
       "      <td>632</td>\n",
       "      <td>mitomycin</td>\n",
       "    </tr>\n",
       "    <tr>\n",
       "      <th>2</th>\n",
       "      <td>677</td>\n",
       "      <td>aminoglutethimide</td>\n",
       "    </tr>\n",
       "    <tr>\n",
       "      <th>3</th>\n",
       "      <td>1437</td>\n",
       "      <td>berberine</td>\n",
       "    </tr>\n",
       "    <tr>\n",
       "      <th>4</th>\n",
       "      <td>1562</td>\n",
       "      <td>bioflavonoids</td>\n",
       "    </tr>\n",
       "  </tbody>\n",
       "</table>\n",
       "</div>"
      ],
      "text/plain": [
       "   rxcui_in          drug_name\n",
       "0       448            ethanol\n",
       "1       632          mitomycin\n",
       "2       677  aminoglutethimide\n",
       "3      1437          berberine\n",
       "4      1562      bioflavonoids"
      ]
     },
     "execution_count": 44,
     "metadata": {},
     "output_type": "execute_result"
    }
   ],
   "source": [
    "rxcui_drugs_df.head()"
   ]
  },
  {
   "cell_type": "code",
   "execution_count": 64,
   "metadata": {
    "collapsed": false
   },
   "outputs": [
    {
     "data": {
      "text/html": [
       "<div>\n",
       "<table border=\"1\" class=\"dataframe\">\n",
       "  <thead>\n",
       "    <tr style=\"text-align: right;\">\n",
       "      <th></th>\n",
       "      <th>rxcui_in</th>\n",
       "      <th>drug_name</th>\n",
       "      <th>keywords_indication_desc</th>\n",
       "    </tr>\n",
       "  </thead>\n",
       "  <tbody>\n",
       "    <tr>\n",
       "      <th>0</th>\n",
       "      <td>448</td>\n",
       "      <td>ethanol</td>\n",
       "      <td>breast</td>\n",
       "    </tr>\n",
       "    <tr>\n",
       "      <th>1</th>\n",
       "      <td>632</td>\n",
       "      <td>mitomycin</td>\n",
       "      <td>breast</td>\n",
       "    </tr>\n",
       "    <tr>\n",
       "      <th>2</th>\n",
       "      <td>677</td>\n",
       "      <td>aminoglutethimide</td>\n",
       "      <td>breast</td>\n",
       "    </tr>\n",
       "    <tr>\n",
       "      <th>3</th>\n",
       "      <td>1437</td>\n",
       "      <td>berberine</td>\n",
       "      <td>breast</td>\n",
       "    </tr>\n",
       "    <tr>\n",
       "      <th>4</th>\n",
       "      <td>1562</td>\n",
       "      <td>bioflavonoids</td>\n",
       "      <td>breast</td>\n",
       "    </tr>\n",
       "  </tbody>\n",
       "</table>\n",
       "</div>"
      ],
      "text/plain": [
       "   rxcui_in          drug_name keywords_indication_desc\n",
       "0       448            ethanol                   breast\n",
       "1       632          mitomycin                   breast\n",
       "2       677  aminoglutethimide                   breast\n",
       "3      1437          berberine                   breast\n",
       "4      1562      bioflavonoids                   breast"
      ]
     },
     "execution_count": 64,
     "metadata": {},
     "output_type": "execute_result"
    }
   ],
   "source": [
    "## Add column to indicate keyword(s)/descriptor from 'indication_description' used to select the drug\n",
    "query_from_indication_descr = 'breast'\n",
    "\n",
    "df = (pd.concat([rxcui_drugs_df, \n",
    "           pd.DataFrame({'keywords_indication_desc':[query_from_indication_descr]*len(rxcui_drugs_df)})], \n",
    "          axis=1, join='outer', ignore_index=True).\n",
    "      rename(columns={0:'rxcui_in', 1:'drug_name', 2:'keywords_indication_desc'}))\n",
    "\n",
    "df.head()"
   ]
  },
  {
   "cell_type": "code",
   "execution_count": 68,
   "metadata": {
    "collapsed": true
   },
   "outputs": [],
   "source": [
    "## write processed drug name data frame to csv\n",
    "\n",
    "df.to_csv(\"03_rxcui_drug_name.csv\", index=False)"
   ]
  },
  {
   "cell_type": "code",
   "execution_count": 67,
   "metadata": {
    "collapsed": false
   },
   "outputs": [],
   "source": [
    "## close connection\n",
    "if con:\n",
    "    con.close()"
   ]
  }
 ],
 "metadata": {
  "anaconda-cloud": {},
  "kernelspec": {
   "display_name": "Python [conda env:medicare_provider_util_payment]",
   "language": "python",
   "name": "conda-env-medicare_provider_util_payment-py"
  },
  "language_info": {
   "codemirror_mode": {
    "name": "ipython",
    "version": 3
   },
   "file_extension": ".py",
   "mimetype": "text/x-python",
   "name": "python",
   "nbconvert_exporter": "python",
   "pygments_lexer": "ipython3",
   "version": "3.5.2"
  }
 },
 "nbformat": 4,
 "nbformat_minor": 1
}
