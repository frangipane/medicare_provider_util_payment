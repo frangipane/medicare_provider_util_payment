{
 "cells": [
  {
   "cell_type": "markdown",
   "metadata": {},
   "source": [
    "# LDA model on orthopedic surgery\n",
    "\n",
    "- dropped top 15 cols\n",
    "- dropped cols with < 4 claims\n",
    "- dropped npi 1376541979\n",
    "- dropped npi's with < 10 claims\n",
    "- number of topics = 10\n",
    "- bene_unique_cnt as value"
   ]
  },
  {
   "cell_type": "code",
   "execution_count": 1,
   "metadata": {
    "collapsed": true
   },
   "outputs": [],
   "source": [
    "import psycopg2\n",
    "import pandas as pd\n",
    "import seaborn as sns\n",
    "import matplotlib.pyplot as plt\n",
    "import matplotlib.cm as cm\n",
    "import matplotlib.patches as mpatches\n",
    "import numpy as np\n",
    "import time\n",
    "import re\n",
    "\n",
    "from gensim import matutils, models, corpora\n",
    "\n",
    "%matplotlib inline\n",
    "sns.set(style=\"white\")"
   ]
  },
  {
   "cell_type": "code",
   "execution_count": 2,
   "metadata": {
    "collapsed": true
   },
   "outputs": [],
   "source": [
    "## connect to database\n",
    "con = psycopg2.connect(\"dbname='doctordb' user='cathy'\")"
   ]
  },
  {
   "cell_type": "code",
   "execution_count": 64,
   "metadata": {
    "collapsed": false
   },
   "outputs": [],
   "source": [
    "q = \"\"\"SELECT npi,\n",
    "        hcpcs_code, \n",
    "        hcpcs_description, \n",
    "        bene_unique_cnt,\n",
    "        nppes_provider_last_org_name, \n",
    "        nppes_provider_first_name, \n",
    "        nppes_provider_state,\n",
    "        place_of_service\n",
    "FROM payments \n",
    "WHERE provider_type='Orthopedic Surgery'\"\"\"\n",
    "payments = pd.read_sql_query(q, con=con)"
   ]
  },
  {
   "cell_type": "code",
   "execution_count": 65,
   "metadata": {
    "collapsed": false
   },
   "outputs": [
    {
     "data": {
      "text/plain": [
       "(312006, 8)"
      ]
     },
     "execution_count": 65,
     "metadata": {},
     "output_type": "execute_result"
    }
   ],
   "source": [
    "payments.shape"
   ]
  },
  {
   "cell_type": "markdown",
   "metadata": {},
   "source": [
    "## Read in data matrix generated in ipynb 17"
   ]
  },
  {
   "cell_type": "code",
   "execution_count": 5,
   "metadata": {
    "collapsed": false
   },
   "outputs": [
    {
     "data": {
      "text/plain": [
       "(11242, 795)"
      ]
     },
     "execution_count": 5,
     "metadata": {},
     "output_type": "execute_result"
    }
   ],
   "source": [
    "## read in reduced data set\n",
    "by_npi = pd.read_csv(\"17_by_npi_reduced_ortho.csv\", index_col=0)\n",
    "by_npi.index = by_npi.index.astype(str)\n",
    "by_npi.shape"
   ]
  },
  {
   "cell_type": "markdown",
   "metadata": {},
   "source": [
    "## Load LDA model (on filtered data frame using 10 topics)"
   ]
  },
  {
   "cell_type": "code",
   "execution_count": 6,
   "metadata": {
    "collapsed": true
   },
   "outputs": [],
   "source": [
    "## Load lda model\n",
    "model_fname = \"18_lda_10topics_ortho.model\"\n",
    "ldamodel = models.LdaModel.load(model_fname)"
   ]
  },
  {
   "cell_type": "markdown",
   "metadata": {},
   "source": [
    "## Interpret the 10 topics in the model"
   ]
  },
  {
   "cell_type": "code",
   "execution_count": 7,
   "metadata": {
    "collapsed": true
   },
   "outputs": [],
   "source": [
    "corpus = matutils.Dense2Corpus(by_npi.as_matrix(), documents_columns=False)"
   ]
  },
  {
   "cell_type": "code",
   "execution_count": 8,
   "metadata": {
    "collapsed": true
   },
   "outputs": [],
   "source": [
    "tfidf = models.TfidfModel(corpus)\n",
    "corpus_tfidf = tfidf[corpus]"
   ]
  },
  {
   "cell_type": "code",
   "execution_count": 9,
   "metadata": {
    "collapsed": true
   },
   "outputs": [],
   "source": [
    "## top 30 words in each topic\n",
    "topics_matrix = ldamodel.show_topics(formatted=False, num_words=30)"
   ]
  },
  {
   "cell_type": "code",
   "execution_count": 10,
   "metadata": {
    "collapsed": false
   },
   "outputs": [],
   "source": [
    "## for each topic, store indices of top 30 hcpcs_codes in a list\n",
    "topic_idx_dict = {}\n",
    "\n",
    "for i in topics_matrix:\n",
    "    topic_idx_dict[i[0]] = [int(word[0]) for word in i[1]]"
   ]
  },
  {
   "cell_type": "code",
   "execution_count": 11,
   "metadata": {
    "collapsed": true
   },
   "outputs": [],
   "source": [
    "## for each topic's list of indexes, get the list of hcpcs_codes\n",
    "topic_dict = {}\n",
    "\n",
    "for k, v in topic_idx_dict.items():\n",
    "    topic_dict[k] = [by_npi.columns.values[i] for i in v]"
   ]
  },
  {
   "cell_type": "code",
   "execution_count": 12,
   "metadata": {
    "collapsed": true
   },
   "outputs": [],
   "source": [
    "## some words / hcpcs_codes are appended with '_O' or '_F'.\n",
    "## remove these suffixes so we can map them back to the hcpcs descriptions\n",
    "\n",
    "def remove_suffix(s):\n",
    "    code = re.search(r'([a-zA-Z0-9]+)(_O)*(_F)*', s)\n",
    "    if code.group(2) is not None:\n",
    "        return code.group(1), 'O'\n",
    "    elif code.group(3) is not None:\n",
    "        return code.group(1), 'F'\n",
    "    else:\n",
    "        return code.group(1), None"
   ]
  },
  {
   "cell_type": "code",
   "execution_count": 13,
   "metadata": {
    "collapsed": false
   },
   "outputs": [],
   "source": [
    "topic_dict_nosuffix = {}\n",
    "place_of_service_cnt = {}\n",
    "\n",
    "for t, hcpcs_list in topic_dict.items():\n",
    "    t_list = []\n",
    "    O_cnt = 0\n",
    "    F_cnt = 0\n",
    "    for i in hcpcs_list:\n",
    "        code, facility = remove_suffix(i)\n",
    "        t_list.append(code)\n",
    "        if facility == 'O':\n",
    "            O_cnt += 1\n",
    "        elif facility == 'F':\n",
    "            F_cnt += 1        \n",
    "\n",
    "    topic_dict_nosuffix[t] = t_list\n",
    "    place_of_service_cnt[t] = [O_cnt, F_cnt]"
   ]
  },
  {
   "cell_type": "code",
   "execution_count": 129,
   "metadata": {
    "collapsed": false
   },
   "outputs": [
    {
     "data": {
      "text/html": [
       "<div>\n",
       "<table border=\"1\" class=\"dataframe\">\n",
       "  <thead>\n",
       "    <tr style=\"text-align: right;\">\n",
       "      <th></th>\n",
       "      <th>rank</th>\n",
       "      <th>topic</th>\n",
       "      <th>hcpcs_code</th>\n",
       "    </tr>\n",
       "  </thead>\n",
       "  <tbody>\n",
       "    <tr>\n",
       "      <th>0</th>\n",
       "      <td>0</td>\n",
       "      <td>0</td>\n",
       "      <td>72120</td>\n",
       "    </tr>\n",
       "    <tr>\n",
       "      <th>1</th>\n",
       "      <td>1</td>\n",
       "      <td>0</td>\n",
       "      <td>77003</td>\n",
       "    </tr>\n",
       "    <tr>\n",
       "      <th>2</th>\n",
       "      <td>2</td>\n",
       "      <td>0</td>\n",
       "      <td>62311</td>\n",
       "    </tr>\n",
       "    <tr>\n",
       "      <th>3</th>\n",
       "      <td>3</td>\n",
       "      <td>0</td>\n",
       "      <td>62311</td>\n",
       "    </tr>\n",
       "    <tr>\n",
       "      <th>4</th>\n",
       "      <td>4</td>\n",
       "      <td>0</td>\n",
       "      <td>64483</td>\n",
       "    </tr>\n",
       "  </tbody>\n",
       "</table>\n",
       "</div>"
      ],
      "text/plain": [
       "   rank topic hcpcs_code\n",
       "0     0     0      72120\n",
       "1     1     0      77003\n",
       "2     2     0      62311\n",
       "3     3     0      62311\n",
       "4     4     0      64483"
      ]
     },
     "execution_count": 129,
     "metadata": {},
     "output_type": "execute_result"
    }
   ],
   "source": [
    "## this could be improved by including a place_of_service column as a modifier to the hcpcs_code\n",
    "codes_per_topic = (pd.melt(pd.DataFrame(topic_dict_nosuffix).reset_index(), \n",
    "                     id_vars='index', var_name='topic', value_name='hcpcs_code').\n",
    "                     rename(columns={'index':'rank'}))\n",
    "codes_per_topic.head()"
   ]
  },
  {
   "cell_type": "code",
   "execution_count": 14,
   "metadata": {
    "collapsed": false
   },
   "outputs": [
    {
     "data": {
      "text/html": [
       "<div>\n",
       "<table border=\"1\" class=\"dataframe\">\n",
       "  <thead>\n",
       "    <tr style=\"text-align: right;\">\n",
       "      <th></th>\n",
       "      <th>out_of_facility_cnt</th>\n",
       "      <th>in_facility_cnt</th>\n",
       "    </tr>\n",
       "  </thead>\n",
       "  <tbody>\n",
       "    <tr>\n",
       "      <th>0</th>\n",
       "      <td>16</td>\n",
       "      <td>8</td>\n",
       "    </tr>\n",
       "    <tr>\n",
       "      <th>1</th>\n",
       "      <td>18</td>\n",
       "      <td>5</td>\n",
       "    </tr>\n",
       "    <tr>\n",
       "      <th>2</th>\n",
       "      <td>12</td>\n",
       "      <td>2</td>\n",
       "    </tr>\n",
       "    <tr>\n",
       "      <th>3</th>\n",
       "      <td>7</td>\n",
       "      <td>2</td>\n",
       "    </tr>\n",
       "    <tr>\n",
       "      <th>4</th>\n",
       "      <td>20</td>\n",
       "      <td>2</td>\n",
       "    </tr>\n",
       "    <tr>\n",
       "      <th>5</th>\n",
       "      <td>20</td>\n",
       "      <td>4</td>\n",
       "    </tr>\n",
       "    <tr>\n",
       "      <th>6</th>\n",
       "      <td>17</td>\n",
       "      <td>3</td>\n",
       "    </tr>\n",
       "    <tr>\n",
       "      <th>7</th>\n",
       "      <td>0</td>\n",
       "      <td>27</td>\n",
       "    </tr>\n",
       "    <tr>\n",
       "      <th>8</th>\n",
       "      <td>16</td>\n",
       "      <td>0</td>\n",
       "    </tr>\n",
       "    <tr>\n",
       "      <th>9</th>\n",
       "      <td>20</td>\n",
       "      <td>0</td>\n",
       "    </tr>\n",
       "  </tbody>\n",
       "</table>\n",
       "</div>"
      ],
      "text/plain": [
       "   out_of_facility_cnt  in_facility_cnt\n",
       "0                   16                8\n",
       "1                   18                5\n",
       "2                   12                2\n",
       "3                    7                2\n",
       "4                   20                2\n",
       "5                   20                4\n",
       "6                   17                3\n",
       "7                    0               27\n",
       "8                   16                0\n",
       "9                   20                0"
      ]
     },
     "execution_count": 14,
     "metadata": {},
     "output_type": "execute_result"
    }
   ],
   "source": [
    "pd.DataFrame([v for k,v in place_of_service_cnt.items()]).rename(columns={0:'out_of_facility_cnt', 1:'in_facility_cnt'})"
   ]
  },
  {
   "cell_type": "code",
   "execution_count": 15,
   "metadata": {
    "collapsed": false
   },
   "outputs": [
    {
     "name": "stdout",
     "output_type": "stream",
     "text": [
      "0 :  [16, 8]\n",
      "1 :  [18, 5]\n",
      "2 :  [12, 2]\n",
      "3 :  [7, 2]\n",
      "4 :  [20, 2]\n",
      "5 :  [20, 4]\n",
      "6 :  [17, 3]\n",
      "7 :  [0, 27]\n",
      "8 :  [16, 0]\n",
      "9 :  [20, 0]\n"
     ]
    }
   ],
   "source": [
    "for t in range(len(place_of_service_cnt)):\n",
    "    print(t, ': ', place_of_service_cnt[t])"
   ]
  },
  {
   "cell_type": "markdown",
   "metadata": {},
   "source": [
    "### Most of the topics consist of top codes that take place out of facility, except for topic 7."
   ]
  },
  {
   "cell_type": "code",
   "execution_count": 30,
   "metadata": {
    "collapsed": false
   },
   "outputs": [
    {
     "data": {
      "text/html": [
       "<div>\n",
       "<table border=\"1\" class=\"dataframe\">\n",
       "  <thead>\n",
       "    <tr style=\"text-align: right;\">\n",
       "      <th></th>\n",
       "      <th>hcpcs_code</th>\n",
       "      <th>hcpcs_description</th>\n",
       "    </tr>\n",
       "  </thead>\n",
       "  <tbody>\n",
       "    <tr>\n",
       "      <th>5</th>\n",
       "      <td>99204</td>\n",
       "      <td>New patient office or other outpatient visit, typically 45 minutes</td>\n",
       "    </tr>\n",
       "    <tr>\n",
       "      <th>79</th>\n",
       "      <td>99215</td>\n",
       "      <td>Established patient office or other outpatient, visit typically 40 minutes</td>\n",
       "    </tr>\n",
       "    <tr>\n",
       "      <th>129</th>\n",
       "      <td>72100</td>\n",
       "      <td>X-ray of lower and sacral spine, 2 or 3 views</td>\n",
       "    </tr>\n",
       "    <tr>\n",
       "      <th>276</th>\n",
       "      <td>22214</td>\n",
       "      <td>Incision of spine to correct deformity at lower spinal column</td>\n",
       "    </tr>\n",
       "    <tr>\n",
       "      <th>303</th>\n",
       "      <td>72040</td>\n",
       "      <td>X-ray of spine of neck, 2 or 3 views</td>\n",
       "    </tr>\n",
       "  </tbody>\n",
       "</table>\n",
       "</div>"
      ],
      "text/plain": [
       "    hcpcs_code  \\\n",
       "5        99204   \n",
       "79       99215   \n",
       "129      72100   \n",
       "276      22214   \n",
       "303      72040   \n",
       "\n",
       "                                                              hcpcs_description  \n",
       "5            New patient office or other outpatient visit, typically 45 minutes  \n",
       "79   Established patient office or other outpatient, visit typically 40 minutes  \n",
       "129                               X-ray of lower and sacral spine, 2 or 3 views  \n",
       "276               Incision of spine to correct deformity at lower spinal column  \n",
       "303                                        X-ray of spine of neck, 2 or 3 views  "
      ]
     },
     "execution_count": 30,
     "metadata": {},
     "output_type": "execute_result"
    }
   ],
   "source": [
    "pd.set_option('max_colwidth',100)\n",
    "## Topic 0 - spine, lower back\n",
    "t = 0\n",
    "(payments.loc[payments.hcpcs_code.isin(topic_dict_nosuffix[t]), ['hcpcs_code','hcpcs_description']].\n",
    " drop_duplicates('hcpcs_code')).head()"
   ]
  },
  {
   "cell_type": "code",
   "execution_count": 31,
   "metadata": {
    "collapsed": false
   },
   "outputs": [
    {
     "data": {
      "text/html": [
       "<div>\n",
       "<table border=\"1\" class=\"dataframe\">\n",
       "  <thead>\n",
       "    <tr style=\"text-align: right;\">\n",
       "      <th></th>\n",
       "      <th>hcpcs_code</th>\n",
       "      <th>hcpcs_description</th>\n",
       "    </tr>\n",
       "  </thead>\n",
       "  <tbody>\n",
       "    <tr>\n",
       "      <th>5</th>\n",
       "      <td>99204</td>\n",
       "      <td>New patient office or other outpatient visit, typically 45 minutes</td>\n",
       "    </tr>\n",
       "    <tr>\n",
       "      <th>8</th>\n",
       "      <td>J3301</td>\n",
       "      <td>Injection, triamcinolone  acetonide, not otherwise specified, 10 mg</td>\n",
       "    </tr>\n",
       "    <tr>\n",
       "      <th>24</th>\n",
       "      <td>73610</td>\n",
       "      <td>X-ray of ankle, minimum of 3 views</td>\n",
       "    </tr>\n",
       "    <tr>\n",
       "      <th>25</th>\n",
       "      <td>99212</td>\n",
       "      <td>Established patient office or other outpatient visit, typically 10 minutes</td>\n",
       "    </tr>\n",
       "    <tr>\n",
       "      <th>27</th>\n",
       "      <td>99222</td>\n",
       "      <td>Initial hospital inpatient care, typically 50 minutes per day</td>\n",
       "    </tr>\n",
       "  </tbody>\n",
       "</table>\n",
       "</div>"
      ],
      "text/plain": [
       "   hcpcs_code  \\\n",
       "5       99204   \n",
       "8       J3301   \n",
       "24      73610   \n",
       "25      99212   \n",
       "27      99222   \n",
       "\n",
       "                                                             hcpcs_description  \n",
       "5           New patient office or other outpatient visit, typically 45 minutes  \n",
       "8          Injection, triamcinolone  acetonide, not otherwise specified, 10 mg  \n",
       "24                                          X-ray of ankle, minimum of 3 views  \n",
       "25  Established patient office or other outpatient visit, typically 10 minutes  \n",
       "27               Initial hospital inpatient care, typically 50 minutes per day  "
      ]
     },
     "execution_count": 31,
     "metadata": {},
     "output_type": "execute_result"
    }
   ],
   "source": [
    "## Topic 1 - lower leg/foot, ankle\n",
    "t = 1\n",
    "(payments.loc[payments.hcpcs_code.isin(topic_dict_nosuffix[t]), ['hcpcs_code','hcpcs_description']].\n",
    " drop_duplicates('hcpcs_code')).head()"
   ]
  },
  {
   "cell_type": "code",
   "execution_count": 32,
   "metadata": {
    "collapsed": false
   },
   "outputs": [
    {
     "data": {
      "text/html": [
       "<div>\n",
       "<table border=\"1\" class=\"dataframe\">\n",
       "  <thead>\n",
       "    <tr style=\"text-align: right;\">\n",
       "      <th></th>\n",
       "      <th>hcpcs_code</th>\n",
       "      <th>hcpcs_description</th>\n",
       "    </tr>\n",
       "  </thead>\n",
       "  <tbody>\n",
       "    <tr>\n",
       "      <th>5</th>\n",
       "      <td>99204</td>\n",
       "      <td>New patient office or other outpatient visit, typically 45 minutes</td>\n",
       "    </tr>\n",
       "    <tr>\n",
       "      <th>25</th>\n",
       "      <td>99212</td>\n",
       "      <td>Established patient office or other outpatient visit, typically 10 minutes</td>\n",
       "    </tr>\n",
       "    <tr>\n",
       "      <th>79</th>\n",
       "      <td>99215</td>\n",
       "      <td>Established patient office or other outpatient, visit typically 40 minutes</td>\n",
       "    </tr>\n",
       "    <tr>\n",
       "      <th>129</th>\n",
       "      <td>72100</td>\n",
       "      <td>X-ray of lower and sacral spine, 2 or 3 views</td>\n",
       "    </tr>\n",
       "    <tr>\n",
       "      <th>248</th>\n",
       "      <td>22851</td>\n",
       "      <td>Insertion of spinal instrumentation for spinal stabilization</td>\n",
       "    </tr>\n",
       "  </tbody>\n",
       "</table>\n",
       "</div>"
      ],
      "text/plain": [
       "    hcpcs_code  \\\n",
       "5        99204   \n",
       "25       99212   \n",
       "79       99215   \n",
       "129      72100   \n",
       "248      22851   \n",
       "\n",
       "                                                              hcpcs_description  \n",
       "5            New patient office or other outpatient visit, typically 45 minutes  \n",
       "25   Established patient office or other outpatient visit, typically 10 minutes  \n",
       "79   Established patient office or other outpatient, visit typically 40 minutes  \n",
       "129                               X-ray of lower and sacral spine, 2 or 3 views  \n",
       "248                Insertion of spinal instrumentation for spinal stabilization  "
      ]
     },
     "execution_count": 32,
     "metadata": {},
     "output_type": "execute_result"
    }
   ],
   "source": [
    "## Topic 2 - spine bones\n",
    "t = 2\n",
    "(payments.loc[payments.hcpcs_code.isin(topic_dict_nosuffix[t]), ['hcpcs_code','hcpcs_description']].\n",
    " drop_duplicates('hcpcs_code')).head()"
   ]
  },
  {
   "cell_type": "code",
   "execution_count": 33,
   "metadata": {
    "collapsed": false
   },
   "outputs": [
    {
     "data": {
      "text/html": [
       "<div>\n",
       "<table border=\"1\" class=\"dataframe\">\n",
       "  <thead>\n",
       "    <tr style=\"text-align: right;\">\n",
       "      <th></th>\n",
       "      <th>hcpcs_code</th>\n",
       "      <th>hcpcs_description</th>\n",
       "    </tr>\n",
       "  </thead>\n",
       "  <tbody>\n",
       "    <tr>\n",
       "      <th>594</th>\n",
       "      <td>99283</td>\n",
       "      <td>Emergency department visit, moderately severe problem</td>\n",
       "    </tr>\n",
       "    <tr>\n",
       "      <th>595</th>\n",
       "      <td>J1100</td>\n",
       "      <td>Injection, dexamethasone sodium phosphate, 1mg</td>\n",
       "    </tr>\n",
       "    <tr>\n",
       "      <th>719</th>\n",
       "      <td>29085</td>\n",
       "      <td>Application of cast to hand and lower forearm</td>\n",
       "    </tr>\n",
       "    <tr>\n",
       "      <th>820</th>\n",
       "      <td>99211</td>\n",
       "      <td>Established patient office or other outpatient visit, typically 5 minutes</td>\n",
       "    </tr>\n",
       "    <tr>\n",
       "      <th>1161</th>\n",
       "      <td>36415</td>\n",
       "      <td>Insertion of needle into vein for collection of blood sample</td>\n",
       "    </tr>\n",
       "  </tbody>\n",
       "</table>\n",
       "</div>"
      ],
      "text/plain": [
       "     hcpcs_code  \\\n",
       "594       99283   \n",
       "595       J1100   \n",
       "719       29085   \n",
       "820       99211   \n",
       "1161      36415   \n",
       "\n",
       "                                                              hcpcs_description  \n",
       "594                       Emergency department visit, moderately severe problem  \n",
       "595                              Injection, dexamethasone sodium phosphate, 1mg  \n",
       "719                               Application of cast to hand and lower forearm  \n",
       "820   Established patient office or other outpatient visit, typically 5 minutes  \n",
       "1161               Insertion of needle into vein for collection of blood sample  "
      ]
     },
     "execution_count": 33,
     "metadata": {},
     "output_type": "execute_result"
    }
   ],
   "source": [
    "## Topic 3 - ER visits, general trauma, more random\n",
    "t = 3\n",
    "(payments.loc[payments.hcpcs_code.isin(topic_dict_nosuffix[t]), ['hcpcs_code','hcpcs_description']].\n",
    " drop_duplicates('hcpcs_code')).head()"
   ]
  },
  {
   "cell_type": "code",
   "execution_count": 34,
   "metadata": {
    "collapsed": false
   },
   "outputs": [
    {
     "data": {
      "text/html": [
       "<div>\n",
       "<table border=\"1\" class=\"dataframe\">\n",
       "  <thead>\n",
       "    <tr style=\"text-align: right;\">\n",
       "      <th></th>\n",
       "      <th>hcpcs_code</th>\n",
       "      <th>hcpcs_description</th>\n",
       "    </tr>\n",
       "  </thead>\n",
       "  <tbody>\n",
       "    <tr>\n",
       "      <th>2</th>\n",
       "      <td>73510</td>\n",
       "      <td>X-ray of ribs of one side of body, minimum of 2 views</td>\n",
       "    </tr>\n",
       "    <tr>\n",
       "      <th>3</th>\n",
       "      <td>73562</td>\n",
       "      <td>X-ray of knee, 3 views</td>\n",
       "    </tr>\n",
       "    <tr>\n",
       "      <th>4</th>\n",
       "      <td>73564</td>\n",
       "      <td>X-ray of knee, 4 or more views</td>\n",
       "    </tr>\n",
       "    <tr>\n",
       "      <th>5</th>\n",
       "      <td>99204</td>\n",
       "      <td>New patient office or other outpatient visit, typically 45 minutes</td>\n",
       "    </tr>\n",
       "    <tr>\n",
       "      <th>8</th>\n",
       "      <td>J3301</td>\n",
       "      <td>Injection, triamcinolone  acetonide, not otherwise specified, 10 mg</td>\n",
       "    </tr>\n",
       "  </tbody>\n",
       "</table>\n",
       "</div>"
      ],
      "text/plain": [
       "  hcpcs_code  \\\n",
       "2      73510   \n",
       "3      73562   \n",
       "4      73564   \n",
       "5      99204   \n",
       "8      J3301   \n",
       "\n",
       "                                                     hcpcs_description  \n",
       "2                X-ray of ribs of one side of body, minimum of 2 views  \n",
       "3                                               X-ray of knee, 3 views  \n",
       "4                                       X-ray of knee, 4 or more views  \n",
       "5   New patient office or other outpatient visit, typically 45 minutes  \n",
       "8  Injection, triamcinolone  acetonide, not otherwise specified, 10 mg  "
      ]
     },
     "execution_count": 34,
     "metadata": {},
     "output_type": "execute_result"
    }
   ],
   "source": [
    "## Topic 4 - upper leg: knee, pelvis, hip\n",
    "t = 4\n",
    "(payments.loc[payments.hcpcs_code.isin(topic_dict_nosuffix[t]), ['hcpcs_code','hcpcs_description']].\n",
    " drop_duplicates('hcpcs_code')).head()"
   ]
  },
  {
   "cell_type": "code",
   "execution_count": 35,
   "metadata": {
    "collapsed": false
   },
   "outputs": [
    {
     "data": {
      "text/html": [
       "<div>\n",
       "<table border=\"1\" class=\"dataframe\">\n",
       "  <thead>\n",
       "    <tr style=\"text-align: right;\">\n",
       "      <th></th>\n",
       "      <th>hcpcs_code</th>\n",
       "      <th>hcpcs_description</th>\n",
       "    </tr>\n",
       "  </thead>\n",
       "  <tbody>\n",
       "    <tr>\n",
       "      <th>5</th>\n",
       "      <td>99204</td>\n",
       "      <td>New patient office or other outpatient visit, typically 45 minutes</td>\n",
       "    </tr>\n",
       "    <tr>\n",
       "      <th>8</th>\n",
       "      <td>J3301</td>\n",
       "      <td>Injection, triamcinolone  acetonide, not otherwise specified, 10 mg</td>\n",
       "    </tr>\n",
       "    <tr>\n",
       "      <th>25</th>\n",
       "      <td>99212</td>\n",
       "      <td>Established patient office or other outpatient visit, typically 10 minutes</td>\n",
       "    </tr>\n",
       "    <tr>\n",
       "      <th>44</th>\n",
       "      <td>J1030</td>\n",
       "      <td>Injection, methylprednisolone acetate, 40 mg</td>\n",
       "    </tr>\n",
       "    <tr>\n",
       "      <th>81</th>\n",
       "      <td>J0702</td>\n",
       "      <td>Injection, betamethasone acetate 3mg and betamethasone sodium phosphate 3mg</td>\n",
       "    </tr>\n",
       "  </tbody>\n",
       "</table>\n",
       "</div>"
      ],
      "text/plain": [
       "   hcpcs_code  \\\n",
       "5       99204   \n",
       "8       J3301   \n",
       "25      99212   \n",
       "44      J1030   \n",
       "81      J0702   \n",
       "\n",
       "                                                              hcpcs_description  \n",
       "5            New patient office or other outpatient visit, typically 45 minutes  \n",
       "8           Injection, triamcinolone  acetonide, not otherwise specified, 10 mg  \n",
       "25   Established patient office or other outpatient visit, typically 10 minutes  \n",
       "44                                 Injection, methylprednisolone acetate, 40 mg  \n",
       "81  Injection, betamethasone acetate 3mg and betamethasone sodium phosphate 3mg  "
      ]
     },
     "execution_count": 35,
     "metadata": {},
     "output_type": "execute_result"
    }
   ],
   "source": [
    "## Topic 5 - arthritis/carpal tunnel/hand, wrist, fingers\n",
    "## in office joint pain meds - triamcinolone acetonide, methylprednisolone, betamethasone acetate\n",
    "t = 5\n",
    "(payments.loc[payments.hcpcs_code.isin(topic_dict_nosuffix[t]), ['hcpcs_code','hcpcs_description']].\n",
    " drop_duplicates('hcpcs_code')).head()"
   ]
  },
  {
   "cell_type": "code",
   "execution_count": 36,
   "metadata": {
    "collapsed": false
   },
   "outputs": [
    {
     "data": {
      "text/html": [
       "<div>\n",
       "<table border=\"1\" class=\"dataframe\">\n",
       "  <thead>\n",
       "    <tr style=\"text-align: right;\">\n",
       "      <th></th>\n",
       "      <th>hcpcs_code</th>\n",
       "      <th>hcpcs_description</th>\n",
       "    </tr>\n",
       "  </thead>\n",
       "  <tbody>\n",
       "    <tr>\n",
       "      <th>2</th>\n",
       "      <td>73510</td>\n",
       "      <td>X-ray of ribs of one side of body, minimum of 2 views</td>\n",
       "    </tr>\n",
       "    <tr>\n",
       "      <th>3</th>\n",
       "      <td>73562</td>\n",
       "      <td>X-ray of knee, 3 views</td>\n",
       "    </tr>\n",
       "    <tr>\n",
       "      <th>4</th>\n",
       "      <td>73564</td>\n",
       "      <td>X-ray of knee, 4 or more views</td>\n",
       "    </tr>\n",
       "    <tr>\n",
       "      <th>5</th>\n",
       "      <td>99204</td>\n",
       "      <td>New patient office or other outpatient visit, typically 45 minutes</td>\n",
       "    </tr>\n",
       "    <tr>\n",
       "      <th>8</th>\n",
       "      <td>J3301</td>\n",
       "      <td>Injection, triamcinolone  acetonide, not otherwise specified, 10 mg</td>\n",
       "    </tr>\n",
       "  </tbody>\n",
       "</table>\n",
       "</div>"
      ],
      "text/plain": [
       "  hcpcs_code  \\\n",
       "2      73510   \n",
       "3      73562   \n",
       "4      73564   \n",
       "5      99204   \n",
       "8      J3301   \n",
       "\n",
       "                                                     hcpcs_description  \n",
       "2                X-ray of ribs of one side of body, minimum of 2 views  \n",
       "3                                               X-ray of knee, 3 views  \n",
       "4                                       X-ray of knee, 4 or more views  \n",
       "5   New patient office or other outpatient visit, typically 45 minutes  \n",
       "8  Injection, triamcinolone  acetonide, not otherwise specified, 10 mg  "
      ]
     },
     "execution_count": 36,
     "metadata": {},
     "output_type": "execute_result"
    }
   ],
   "source": [
    "## Topic 6 - knee and shoulder\n",
    "t = 6\n",
    "(payments.loc[payments.hcpcs_code.isin(topic_dict_nosuffix[t]), ['hcpcs_code','hcpcs_description']].\n",
    " drop_duplicates('hcpcs_code')).head()"
   ]
  },
  {
   "cell_type": "code",
   "execution_count": 37,
   "metadata": {
    "collapsed": false
   },
   "outputs": [
    {
     "data": {
      "text/html": [
       "<div>\n",
       "<table border=\"1\" class=\"dataframe\">\n",
       "  <thead>\n",
       "    <tr style=\"text-align: right;\">\n",
       "      <th></th>\n",
       "      <th>hcpcs_code</th>\n",
       "      <th>hcpcs_description</th>\n",
       "    </tr>\n",
       "  </thead>\n",
       "  <tbody>\n",
       "    <tr>\n",
       "      <th>0</th>\n",
       "      <td>20610</td>\n",
       "      <td>Aspiration and/or injection of large joint or joint capsule</td>\n",
       "    </tr>\n",
       "    <tr>\n",
       "      <th>1</th>\n",
       "      <td>73030</td>\n",
       "      <td>X-ray of shoulder, minimum of 2 views</td>\n",
       "    </tr>\n",
       "    <tr>\n",
       "      <th>2</th>\n",
       "      <td>73510</td>\n",
       "      <td>X-ray of ribs of one side of body, minimum of 2 views</td>\n",
       "    </tr>\n",
       "    <tr>\n",
       "      <th>3</th>\n",
       "      <td>73562</td>\n",
       "      <td>X-ray of knee, 3 views</td>\n",
       "    </tr>\n",
       "    <tr>\n",
       "      <th>4</th>\n",
       "      <td>73564</td>\n",
       "      <td>X-ray of knee, 4 or more views</td>\n",
       "    </tr>\n",
       "  </tbody>\n",
       "</table>\n",
       "</div>"
      ],
      "text/plain": [
       "  hcpcs_code                                            hcpcs_description\n",
       "0      20610  Aspiration and/or injection of large joint or joint capsule\n",
       "1      73030                        X-ray of shoulder, minimum of 2 views\n",
       "2      73510        X-ray of ribs of one side of body, minimum of 2 views\n",
       "3      73562                                       X-ray of knee, 3 views\n",
       "4      73564                               X-ray of knee, 4 or more views"
      ]
     },
     "execution_count": 37,
     "metadata": {},
     "output_type": "execute_result"
    }
   ],
   "source": [
    "## Topic 7 - Hospital\n",
    "t = 7\n",
    "(payments.loc[payments.hcpcs_code.isin(topic_dict_nosuffix[t]), ['hcpcs_code','hcpcs_description']].\n",
    " drop_duplicates('hcpcs_code')).head()"
   ]
  },
  {
   "cell_type": "code",
   "execution_count": 38,
   "metadata": {
    "collapsed": false
   },
   "outputs": [
    {
     "data": {
      "text/html": [
       "<div>\n",
       "<table border=\"1\" class=\"dataframe\">\n",
       "  <thead>\n",
       "    <tr style=\"text-align: right;\">\n",
       "      <th></th>\n",
       "      <th>hcpcs_code</th>\n",
       "      <th>hcpcs_description</th>\n",
       "    </tr>\n",
       "  </thead>\n",
       "  <tbody>\n",
       "    <tr>\n",
       "      <th>2</th>\n",
       "      <td>73510</td>\n",
       "      <td>X-ray of ribs of one side of body, minimum of 2 views</td>\n",
       "    </tr>\n",
       "    <tr>\n",
       "      <th>3</th>\n",
       "      <td>73562</td>\n",
       "      <td>X-ray of knee, 3 views</td>\n",
       "    </tr>\n",
       "    <tr>\n",
       "      <th>4</th>\n",
       "      <td>73564</td>\n",
       "      <td>X-ray of knee, 4 or more views</td>\n",
       "    </tr>\n",
       "    <tr>\n",
       "      <th>5</th>\n",
       "      <td>99204</td>\n",
       "      <td>New patient office or other outpatient visit, typically 45 minutes</td>\n",
       "    </tr>\n",
       "    <tr>\n",
       "      <th>8</th>\n",
       "      <td>J3301</td>\n",
       "      <td>Injection, triamcinolone  acetonide, not otherwise specified, 10 mg</td>\n",
       "    </tr>\n",
       "  </tbody>\n",
       "</table>\n",
       "</div>"
      ],
      "text/plain": [
       "  hcpcs_code  \\\n",
       "2      73510   \n",
       "3      73562   \n",
       "4      73564   \n",
       "5      99204   \n",
       "8      J3301   \n",
       "\n",
       "                                                     hcpcs_description  \n",
       "2                X-ray of ribs of one side of body, minimum of 2 views  \n",
       "3                                               X-ray of knee, 3 views  \n",
       "4                                       X-ray of knee, 4 or more views  \n",
       "5   New patient office or other outpatient visit, typically 45 minutes  \n",
       "8  Injection, triamcinolone  acetonide, not otherwise specified, 10 mg  "
      ]
     },
     "execution_count": 38,
     "metadata": {},
     "output_type": "execute_result"
    }
   ],
   "source": [
    "## Topic 8 - therapy\n",
    "t = 8\n",
    "(payments.loc[payments.hcpcs_code.isin(topic_dict_nosuffix[t]), ['hcpcs_code','hcpcs_description']].\n",
    " drop_duplicates('hcpcs_code')).head()"
   ]
  },
  {
   "cell_type": "code",
   "execution_count": 39,
   "metadata": {
    "collapsed": false
   },
   "outputs": [
    {
     "data": {
      "text/html": [
       "<div>\n",
       "<table border=\"1\" class=\"dataframe\">\n",
       "  <thead>\n",
       "    <tr style=\"text-align: right;\">\n",
       "      <th></th>\n",
       "      <th>hcpcs_code</th>\n",
       "      <th>hcpcs_description</th>\n",
       "    </tr>\n",
       "  </thead>\n",
       "  <tbody>\n",
       "    <tr>\n",
       "      <th>2</th>\n",
       "      <td>73510</td>\n",
       "      <td>X-ray of ribs of one side of body, minimum of 2 views</td>\n",
       "    </tr>\n",
       "    <tr>\n",
       "      <th>3</th>\n",
       "      <td>73562</td>\n",
       "      <td>X-ray of knee, 3 views</td>\n",
       "    </tr>\n",
       "    <tr>\n",
       "      <th>4</th>\n",
       "      <td>73564</td>\n",
       "      <td>X-ray of knee, 4 or more views</td>\n",
       "    </tr>\n",
       "    <tr>\n",
       "      <th>5</th>\n",
       "      <td>99204</td>\n",
       "      <td>New patient office or other outpatient visit, typically 45 minutes</td>\n",
       "    </tr>\n",
       "    <tr>\n",
       "      <th>8</th>\n",
       "      <td>J3301</td>\n",
       "      <td>Injection, triamcinolone  acetonide, not otherwise specified, 10 mg</td>\n",
       "    </tr>\n",
       "  </tbody>\n",
       "</table>\n",
       "</div>"
      ],
      "text/plain": [
       "  hcpcs_code  \\\n",
       "2      73510   \n",
       "3      73562   \n",
       "4      73564   \n",
       "5      99204   \n",
       "8      J3301   \n",
       "\n",
       "                                                     hcpcs_description  \n",
       "2                X-ray of ribs of one side of body, minimum of 2 views  \n",
       "3                                               X-ray of knee, 3 views  \n",
       "4                                       X-ray of knee, 4 or more views  \n",
       "5   New patient office or other outpatient visit, typically 45 minutes  \n",
       "8  Injection, triamcinolone  acetonide, not otherwise specified, 10 mg  "
      ]
     },
     "execution_count": 39,
     "metadata": {},
     "output_type": "execute_result"
    }
   ],
   "source": [
    "## Topic 9 - hospital, xray\n",
    "t = 9\n",
    "(payments.loc[payments.hcpcs_code.isin(topic_dict_nosuffix[t]), ['hcpcs_code','hcpcs_description']].\n",
    " drop_duplicates('hcpcs_code')).head()"
   ]
  },
  {
   "cell_type": "markdown",
   "metadata": {},
   "source": [
    "## Plot distribution of providers per topic"
   ]
  },
  {
   "cell_type": "code",
   "execution_count": 16,
   "metadata": {
    "collapsed": true
   },
   "outputs": [],
   "source": [
    "## per document (provider), assign topic based on highest-probability topic out of the 10\n",
    "topic_per_doc = []\n",
    "for i in corpus_tfidf:\n",
    "    topic_per_doc.append(np.argmax(np.array(ldamodel.get_document_topics(i))[:,1]))"
   ]
  },
  {
   "cell_type": "code",
   "execution_count": 17,
   "metadata": {
    "collapsed": false
   },
   "outputs": [],
   "source": [
    "topic_per_doc_df = pd.DataFrame(topic_per_doc).rename(columns={0:'topic'})\n",
    "topic_per_doc_df.index = by_npi.index"
   ]
  },
  {
   "cell_type": "markdown",
   "metadata": {},
   "source": [
    "## For each doctor, match the claims by the doctor that are relevant to his/her assigned topic"
   ]
  },
  {
   "cell_type": "code",
   "execution_count": 131,
   "metadata": {
    "collapsed": false
   },
   "outputs": [
    {
     "data": {
      "text/html": [
       "<div>\n",
       "<table border=\"1\" class=\"dataframe\">\n",
       "  <thead>\n",
       "    <tr style=\"text-align: right;\">\n",
       "      <th></th>\n",
       "      <th>topic</th>\n",
       "    </tr>\n",
       "    <tr>\n",
       "      <th>npi</th>\n",
       "      <th></th>\n",
       "    </tr>\n",
       "  </thead>\n",
       "  <tbody>\n",
       "    <tr>\n",
       "      <th>1003010919</th>\n",
       "      <td>9</td>\n",
       "    </tr>\n",
       "    <tr>\n",
       "      <th>1003017682</th>\n",
       "      <td>4</td>\n",
       "    </tr>\n",
       "    <tr>\n",
       "      <th>1003018086</th>\n",
       "      <td>9</td>\n",
       "    </tr>\n",
       "    <tr>\n",
       "      <th>1003023276</th>\n",
       "      <td>4</td>\n",
       "    </tr>\n",
       "    <tr>\n",
       "      <th>1003024894</th>\n",
       "      <td>4</td>\n",
       "    </tr>\n",
       "  </tbody>\n",
       "</table>\n",
       "</div>"
      ],
      "text/plain": [
       "            topic\n",
       "npi              \n",
       "1003010919      9\n",
       "1003017682      4\n",
       "1003018086      9\n",
       "1003023276      4\n",
       "1003024894      4"
      ]
     },
     "execution_count": 131,
     "metadata": {},
     "output_type": "execute_result"
    }
   ],
   "source": [
    "topic_per_doc_df.head()"
   ]
  },
  {
   "cell_type": "code",
   "execution_count": 130,
   "metadata": {
    "collapsed": false
   },
   "outputs": [
    {
     "data": {
      "text/html": [
       "<div>\n",
       "<table border=\"1\" class=\"dataframe\">\n",
       "  <thead>\n",
       "    <tr style=\"text-align: right;\">\n",
       "      <th></th>\n",
       "      <th>rank</th>\n",
       "      <th>topic</th>\n",
       "      <th>hcpcs_code</th>\n",
       "    </tr>\n",
       "  </thead>\n",
       "  <tbody>\n",
       "    <tr>\n",
       "      <th>0</th>\n",
       "      <td>0</td>\n",
       "      <td>0</td>\n",
       "      <td>72120</td>\n",
       "    </tr>\n",
       "    <tr>\n",
       "      <th>1</th>\n",
       "      <td>1</td>\n",
       "      <td>0</td>\n",
       "      <td>77003</td>\n",
       "    </tr>\n",
       "    <tr>\n",
       "      <th>2</th>\n",
       "      <td>2</td>\n",
       "      <td>0</td>\n",
       "      <td>62311</td>\n",
       "    </tr>\n",
       "    <tr>\n",
       "      <th>3</th>\n",
       "      <td>3</td>\n",
       "      <td>0</td>\n",
       "      <td>62311</td>\n",
       "    </tr>\n",
       "    <tr>\n",
       "      <th>4</th>\n",
       "      <td>4</td>\n",
       "      <td>0</td>\n",
       "      <td>64483</td>\n",
       "    </tr>\n",
       "  </tbody>\n",
       "</table>\n",
       "</div>"
      ],
      "text/plain": [
       "   rank topic hcpcs_code\n",
       "0     0     0      72120\n",
       "1     1     0      77003\n",
       "2     2     0      62311\n",
       "3     3     0      62311\n",
       "4     4     0      64483"
      ]
     },
     "execution_count": 130,
     "metadata": {},
     "output_type": "execute_result"
    }
   ],
   "source": [
    "codes_per_topic.head()"
   ]
  },
  {
   "cell_type": "code",
   "execution_count": 149,
   "metadata": {
    "collapsed": false
   },
   "outputs": [
    {
     "data": {
      "text/html": [
       "<div>\n",
       "<table border=\"1\" class=\"dataframe\">\n",
       "  <thead>\n",
       "    <tr style=\"text-align: right;\">\n",
       "      <th></th>\n",
       "      <th>npi</th>\n",
       "      <th>hcpcs_code</th>\n",
       "      <th>hcpcs_description</th>\n",
       "      <th>bene_unique_cnt</th>\n",
       "      <th>place_of_service</th>\n",
       "    </tr>\n",
       "  </thead>\n",
       "  <tbody>\n",
       "    <tr>\n",
       "      <th>0</th>\n",
       "      <td>1003001785</td>\n",
       "      <td>20610</td>\n",
       "      <td>Aspiration and/or injection of large joint or joint capsule</td>\n",
       "      <td>81.0</td>\n",
       "      <td>O</td>\n",
       "    </tr>\n",
       "    <tr>\n",
       "      <th>1</th>\n",
       "      <td>1003001785</td>\n",
       "      <td>73030</td>\n",
       "      <td>X-ray of shoulder, minimum of 2 views</td>\n",
       "      <td>47.0</td>\n",
       "      <td>O</td>\n",
       "    </tr>\n",
       "    <tr>\n",
       "      <th>2</th>\n",
       "      <td>1003001785</td>\n",
       "      <td>73510</td>\n",
       "      <td>X-ray of ribs of one side of body, minimum of 2 views</td>\n",
       "      <td>32.0</td>\n",
       "      <td>O</td>\n",
       "    </tr>\n",
       "    <tr>\n",
       "      <th>3</th>\n",
       "      <td>1003001785</td>\n",
       "      <td>73562</td>\n",
       "      <td>X-ray of knee, 3 views</td>\n",
       "      <td>40.0</td>\n",
       "      <td>O</td>\n",
       "    </tr>\n",
       "    <tr>\n",
       "      <th>4</th>\n",
       "      <td>1003001785</td>\n",
       "      <td>73564</td>\n",
       "      <td>X-ray of knee, 4 or more views</td>\n",
       "      <td>43.0</td>\n",
       "      <td>O</td>\n",
       "    </tr>\n",
       "  </tbody>\n",
       "</table>\n",
       "</div>"
      ],
      "text/plain": [
       "          npi hcpcs_code  \\\n",
       "0  1003001785      20610   \n",
       "1  1003001785      73030   \n",
       "2  1003001785      73510   \n",
       "3  1003001785      73562   \n",
       "4  1003001785      73564   \n",
       "\n",
       "                                             hcpcs_description  \\\n",
       "0  Aspiration and/or injection of large joint or joint capsule   \n",
       "1                        X-ray of shoulder, minimum of 2 views   \n",
       "2        X-ray of ribs of one side of body, minimum of 2 views   \n",
       "3                                       X-ray of knee, 3 views   \n",
       "4                               X-ray of knee, 4 or more views   \n",
       "\n",
       "   bene_unique_cnt place_of_service  \n",
       "0             81.0                O  \n",
       "1             47.0                O  \n",
       "2             32.0                O  \n",
       "3             40.0                O  \n",
       "4             43.0                O  "
      ]
     },
     "execution_count": 149,
     "metadata": {},
     "output_type": "execute_result"
    }
   ],
   "source": [
    "payments[['npi','hcpcs_code','hcpcs_description','bene_unique_cnt','place_of_service']].head()"
   ]
  },
  {
   "cell_type": "code",
   "execution_count": 152,
   "metadata": {
    "collapsed": false
   },
   "outputs": [
    {
     "data": {
      "text/html": [
       "<div>\n",
       "<table border=\"1\" class=\"dataframe\">\n",
       "  <thead>\n",
       "    <tr style=\"text-align: right;\">\n",
       "      <th></th>\n",
       "      <th>npi</th>\n",
       "      <th>topic</th>\n",
       "      <th>rank</th>\n",
       "      <th>hcpcs_code</th>\n",
       "    </tr>\n",
       "  </thead>\n",
       "  <tbody>\n",
       "    <tr>\n",
       "      <th>0</th>\n",
       "      <td>1003010919</td>\n",
       "      <td>9</td>\n",
       "      <td>0</td>\n",
       "      <td>J0702</td>\n",
       "    </tr>\n",
       "    <tr>\n",
       "      <th>1</th>\n",
       "      <td>1003010919</td>\n",
       "      <td>9</td>\n",
       "      <td>1</td>\n",
       "      <td>73562</td>\n",
       "    </tr>\n",
       "    <tr>\n",
       "      <th>2</th>\n",
       "      <td>1003010919</td>\n",
       "      <td>9</td>\n",
       "      <td>2</td>\n",
       "      <td>73564</td>\n",
       "    </tr>\n",
       "    <tr>\n",
       "      <th>3</th>\n",
       "      <td>1003010919</td>\n",
       "      <td>9</td>\n",
       "      <td>3</td>\n",
       "      <td>73560</td>\n",
       "    </tr>\n",
       "    <tr>\n",
       "      <th>4</th>\n",
       "      <td>1003010919</td>\n",
       "      <td>9</td>\n",
       "      <td>4</td>\n",
       "      <td>99212</td>\n",
       "    </tr>\n",
       "  </tbody>\n",
       "</table>\n",
       "</div>"
      ],
      "text/plain": [
       "          npi  topic  rank hcpcs_code\n",
       "0  1003010919      9     0      J0702\n",
       "1  1003010919      9     1      73562\n",
       "2  1003010919      9     2      73564\n",
       "3  1003010919      9     3      73560\n",
       "4  1003010919      9     4      99212"
      ]
     },
     "execution_count": 152,
     "metadata": {},
     "output_type": "execute_result"
    }
   ],
   "source": [
    "topic_per_doc_df.reset_index().merge(codes_per_topic, on='topic').head()"
   ]
  },
  {
   "cell_type": "code",
   "execution_count": 154,
   "metadata": {
    "collapsed": false
   },
   "outputs": [],
   "source": [
    "top_claims_df = (topic_per_doc_df.reset_index().\n",
    "                 merge(codes_per_topic, on='topic').\n",
    "                 merge(payments[['npi','hcpcs_code','hcpcs_description','bene_unique_cnt','place_of_service']],\n",
    "                    on=['npi','hcpcs_code'], how='inner'))"
   ]
  },
  {
   "cell_type": "code",
   "execution_count": 155,
   "metadata": {
    "collapsed": false
   },
   "outputs": [
    {
     "data": {
      "text/plain": [
       "(123097, 7)"
      ]
     },
     "execution_count": 155,
     "metadata": {},
     "output_type": "execute_result"
    }
   ],
   "source": [
    "top_claims_df.shape"
   ]
  },
  {
   "cell_type": "code",
   "execution_count": 156,
   "metadata": {
    "collapsed": false
   },
   "outputs": [
    {
     "data": {
      "text/html": [
       "<div>\n",
       "<table border=\"1\" class=\"dataframe\">\n",
       "  <thead>\n",
       "    <tr style=\"text-align: right;\">\n",
       "      <th></th>\n",
       "      <th>npi</th>\n",
       "      <th>topic</th>\n",
       "      <th>rank</th>\n",
       "      <th>hcpcs_code</th>\n",
       "      <th>hcpcs_description</th>\n",
       "      <th>bene_unique_cnt</th>\n",
       "      <th>place_of_service</th>\n",
       "    </tr>\n",
       "  </thead>\n",
       "  <tbody>\n",
       "    <tr>\n",
       "      <th>0</th>\n",
       "      <td>1003010919</td>\n",
       "      <td>9</td>\n",
       "      <td>3</td>\n",
       "      <td>73560</td>\n",
       "      <td>X-ray of knee, 1 or 2 views</td>\n",
       "      <td>11.0</td>\n",
       "      <td>O</td>\n",
       "    </tr>\n",
       "    <tr>\n",
       "      <th>1</th>\n",
       "      <td>1003010919</td>\n",
       "      <td>9</td>\n",
       "      <td>4</td>\n",
       "      <td>99212</td>\n",
       "      <td>Established patient office or other outpatient visit, typically 10 minutes</td>\n",
       "      <td>32.0</td>\n",
       "      <td>O</td>\n",
       "    </tr>\n",
       "  </tbody>\n",
       "</table>\n",
       "</div>"
      ],
      "text/plain": [
       "          npi  topic  rank hcpcs_code  \\\n",
       "0  1003010919      9     3      73560   \n",
       "1  1003010919      9     4      99212   \n",
       "\n",
       "                                                            hcpcs_description  \\\n",
       "0                                                 X-ray of knee, 1 or 2 views   \n",
       "1  Established patient office or other outpatient visit, typically 10 minutes   \n",
       "\n",
       "   bene_unique_cnt place_of_service  \n",
       "0             11.0                O  \n",
       "1             32.0                O  "
      ]
     },
     "execution_count": 156,
     "metadata": {},
     "output_type": "execute_result"
    }
   ],
   "source": [
    "top_claims_df.head(2)"
   ]
  },
  {
   "cell_type": "markdown",
   "metadata": {},
   "source": [
    "### Send table to postgres database"
   ]
  },
  {
   "cell_type": "code",
   "execution_count": 157,
   "metadata": {
    "collapsed": true
   },
   "outputs": [],
   "source": [
    "from sqlalchemy import create_engine\n",
    "engine = create_engine('postgresql://%s@localhost/%s'%('cathy','doctordb'))\n",
    "top_claims_df.to_sql(\"doctor_claims_for_topic\", engine)"
   ]
  },
  {
   "cell_type": "code",
   "execution_count": 158,
   "metadata": {
    "collapsed": true
   },
   "outputs": [],
   "source": [
    "engine.dispose()"
   ]
  }
 ],
 "metadata": {
  "anaconda-cloud": {},
  "kernelspec": {
   "display_name": "Python [conda env:medicare_provider_util_payment]",
   "language": "python",
   "name": "conda-env-medicare_provider_util_payment-py"
  },
  "language_info": {
   "codemirror_mode": {
    "name": "ipython",
    "version": 3
   },
   "file_extension": ".py",
   "mimetype": "text/x-python",
   "name": "python",
   "nbconvert_exporter": "python",
   "pygments_lexer": "ipython3",
   "version": "3.5.2"
  }
 },
 "nbformat": 4,
 "nbformat_minor": 1
}
